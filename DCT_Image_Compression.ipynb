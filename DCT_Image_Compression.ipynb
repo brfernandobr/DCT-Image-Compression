{
 "cells": [
  {
   "cell_type": "markdown",
   "metadata": {
    "id": "MQUkMFsf9QCl"
   },
   "source": [
    "Projeto Final da disciplina EA979 da Unicamp\n",
    "\n",
    "Aluno: Fernando Brasil Sales\n",
    "\n",
    "Professora: Paula Costa"
   ]
  },
  {
   "cell_type": "markdown",
   "metadata": {
    "id": "ae8P6CrwepeY"
   },
   "source": [
    "O objetivo deste notebook é explorar, com exemplos, o algoritmo de compressão de imagens DCT com quantização e RLE.\n",
    "\n",
    "Ele não objetiva transformar uma imagem em um arquivo JPEG no final.\n",
    "\n",
    "Todos os cálculos intermediários forma executados usando float64. Numa implementação prática do algoritmo seria usada uma precisão menor, para maior rapidez e menor uso de recursos de hardware.\n",
    "\n",
    "As funções criadas aqui não foram implementadas buscando máxima eficiência.\n",
    "\n",
    "Todas as linhas de código aqui são de minha autoria.\n",
    "\n",
    "Algumas simplificações foram adotadas:\n",
    "\n",
    "* Não foi implementada a Codificação de Huffman após o RLE;\n",
    "\n",
    "* Não foi implementado Chroma Subsampling, pois queríamos ver o resultado obtido apenas com a quantização;\n",
    "\n",
    "* Imagens com resolução não múltiplas de 8x8 sofrem corte nos pixels excedentes à direita e em baixo;\n",
    "\n",
    "* A função teste_img() não aceita imagens com Alpha Channel.\n"
   ]
  },
  {
   "cell_type": "markdown",
   "metadata": {
    "id": "M4DJ3eep9HSM"
   },
   "source": [
    "Inicialmente importamos alguns pacotes, funções e constantes.\n",
    "\n",
    "Também definimos a precisão e o modo com que valores float de objetos NumPy serão impressos."
   ]
  },
  {
   "cell_type": "code",
   "execution_count": null,
   "metadata": {
    "id": "ZSbLVlcOFWjE"
   },
   "outputs": [],
   "source": [
    "# importa alguns pacotes, funções e constantes\n",
    "import numpy as np\n",
    "from numpy import abs, cos, sqrt, pi\n",
    "from PIL import Image\n",
    "\n",
    "# configura a precisão (quantidade de casas decimais) e o modo de exibição de valores float de objetos NumPy\n",
    "np.set_printoptions(precision=3, floatmode='maxprec')"
   ]
  },
  {
   "cell_type": "markdown",
   "metadata": {
    "id": "Tr2Kfh8mxDNC"
   },
   "source": [
    "A seguinte função será usada para redimensionar imagens, em particular para ampliá-las sem interpolação."
   ]
  },
  {
   "cell_type": "code",
   "execution_count": null,
   "metadata": {
    "id": "znECfA2qxJVb"
   },
   "outputs": [],
   "source": [
    "# redimensiona a imagem da matriz 'b' (origem) para a matriz 'a' (destino)\n",
    "def redimensiona_imagem(a, b):\n",
    "    escala_vertical   = a.shape[0] / b.shape[0]\n",
    "    escala_horizontal = a.shape[1] / b.shape[1]\n",
    "    for linha in range(a.shape[0]):\n",
    "        for coluna in range(a.shape[1]):\n",
    "            a[linha, coluna] = b[int(linha/escala_vertical), int(coluna/escala_horizontal)]"
   ]
  },
  {
   "cell_type": "markdown",
   "metadata": {
    "id": "cqtEFVd2rdZt"
   },
   "source": [
    "No bloco de código abaixo, criamos as funções que executam DCT e IDCT em um bloco 8x8. A função 'dct8x8(p)' recebe uma matriz 'p' 8x8 de pixels monocromáticos (preferencialmente no intervalo de -128 a +127) e retorna uma matriz 'dct' 8x8 com os coeficientes DCT. A função 'idct8x8(dct)' realiza a operação inversa. Cada uma dessas funções corresponde a quatro laços 'for' aninhados. As coordenadas 'x' e 'y' são as coordenadas espaciais na matriz 'p', enquanto que 'u' e 'v' são as coordenadas na matriz 'dct'.\n",
    "\n",
    "Examinando a fórmula do DCT no código abaixo, verificamos que o coeficiente DCT na posição (u, v), com u e v inteiros de 0 a 7, corresponde a um cosseno de frequência fu = u / 16 na direção u, e um cosseno de frequência fv = v / 16 na direção v.\n",
    "\n",
    "Essas frequências 'f' são em unidades de ciclos/pixel.\n",
    "\n",
    "Portanto, na posição (u, v) = (0, 0), no canto superior esquerdo da matriz de DCTs, temos fu = fv = 0, ou seja, frequências nulas em ambas as direções u e v. Sabemos que o valor médio dos 64 pixels do bloco 8x8 é o somatório dos 64 valores de p[x, y] dividido por 64. E examinando a fórmula do DCT, verificamos que dct[u=0, v=0] é o somatório de todos os 64 valores de p[x, y] dividido por 8. Portanto, concluimos que dct[u=0, v=0] é 8 vezes o valor médio dos 64 pixels do bloco 8x8.\n",
    "\n",
    "Como em geral o valor médio dos 64 pixels de um bloco 8x8 é um valor intermediário entre os valors mínimo e máximo possíveis, para diminuirmos o valor de dct[u=0, v=0] usamos valores de pixel na faixa de -128 a +127. Portanto se os pixels estiverem inicialmente na faixa de 0 a 255, subtraimos 128 de todos os valores antes de aplicar o DCT. Essa operação em geral diminuirá os requisitos de faixa dinâmica ('dynamic range requirements'). E após realizarmos o IDCT, se quisermos obter de volta pixels na faixa de 0 a 255, devemos somar 128.\n",
    "\n",
    "Na linha superior da matriz de DCTs, isto é com u = 0, só temos frequências na direção v horizontal: fv = 0 na coluna 0 (primeira coluna), fv = 1/16 na coluna 1 (segunda coluna), até fv = 7/16 na coluna 7 (oitava coluna).\n",
    "\n",
    "Analogamente, na coluna à esquerda da matriz de DCTs, isto é com v = 0, só temos frequências na direção u vertical: fu = 0 na linha 0 (primeira linha), fu = 1/16 na linha 1 (segunda linha), até fu = 7/16 na linha 7 (oitava linha).\n",
    "\n",
    "Nas posições da matriz de DCTs fora da linha superior e fora da coluna esquerda, ou seja com u e v ambos diferentes de 0, temos simultaneamente frequências nas direções vertical e horizontal.\n",
    "\n",
    "Em um cosseno de frequência igual a 1/2 ciclo/pixel teríamos um semi-período (um salto de um vale, em -1, para o próximo pico, em +1) entre dois pixels adjacentes. Com uma amplitude de 127.5 nessa frequência, seria possível saltar de -127.5 a +127.5 (ou de -128 a +127, ou de 0 a 255) entre dois pixels adjacentes. Isso seria suficiente para codificar qualquer salto entre dois pixels vizinhos. Porém, como já dito anteriormente, a máxima frequência possível no DCT, que ocorre na oitava coluna ou na oitava linha, é uma frequência de 7/16 ciclos/pixel, que é ligeiramente inferior a 8/16 = 1/2 ciclo/pixel. Porém veremos na prática que, com frequências de até 7/16 ciclos/pixel conseguimos codificar sem perdas saltos de 0 a 255 entre dois pixels adjacentes."
   ]
  },
  {
   "cell_type": "code",
   "execution_count": null,
   "metadata": {
    "id": "e0IMkYZDJOZR"
   },
   "outputs": [],
   "source": [
    "# (x, y): coordenadas espaciais no domínio dos pixels\n",
    "# (u, v): coordenadas no domínio da frequência\n",
    "# p: matriz 8x8 de pixels monocromáticos, preferencialmente no intervalo [-128, +127]\n",
    "# dct: matriz 8x8 de coeficientes DCT\n",
    "\n",
    "# 2D 8x8 Discrete Cosine Transform\n",
    "def dct8x8(p):\n",
    "    dct = np.zeros((8, 8), 'float64')\n",
    "    alpha = np.array( [1/sqrt(2), 1, 1, 1, 1, 1, 1, 1], 'float64' )\n",
    "    for u in range(8):\n",
    "        for v in range(8):\n",
    "            for x in range(8):\n",
    "                for y in range(8):\n",
    "                    dct[u, v] += 0.25 * alpha[u] * alpha[v] * p[x, y] * cos(u*pi*(2*x + 1) / 16.0) * cos(v*pi*(2*y + 1) / 16.0)\n",
    "    return dct\n",
    "\n",
    "# 2D 8x8 Inverse Discrete Cosine Transform\n",
    "def idct8x8(dct):\n",
    "    p = np.zeros((8, 8), 'float64')\n",
    "    alpha = np.array( [1/sqrt(2), 1, 1, 1, 1, 1, 1, 1], 'float64' )\n",
    "    for x in range(8):\n",
    "        for y in range(8):\n",
    "            for u in range(8):\n",
    "                for v in range(8):\n",
    "                    p[x, y] += 0.25 * alpha[u] * alpha[v] * dct[u, v] * cos(u*pi*(2*x + 1) / 16.0) * cos(v*pi*(2*y + 1) / 16.0)\n",
    "    return p"
   ]
  },
  {
   "cell_type": "markdown",
   "metadata": {
    "id": "d44tESm9unDs"
   },
   "source": [
    "A seguir criamos uma matriz 'p1' 8x8 de pixels monocromáticos com valores aleatórios na faixa de -127 a +127 em ponto flutuante de 64 bits ('float64'). Então executamos DCT em 'p1' e logo em seguida aplicamos IDCT no resultado anterior para testar se conseguimos obter de volta a matriz 'p1' original."
   ]
  },
  {
   "cell_type": "code",
   "execution_count": null,
   "metadata": {
    "colab": {
     "base_uri": "https://localhost:8080/"
    },
    "id": "2lzzh_ywWGcd",
    "outputId": "69258e10-0a79-4264-e7d9-313572367ec7"
   },
   "outputs": [],
   "source": [
    "# ruído aleatório 8x8 no intervalo de -128 a +127\n",
    "p1 = 256.0 * np.random.random((8, 8)) - 128.0\n",
    "p1 = p1.astype('int8')\n",
    "print('Ruído aleatório 8x8 no intervalo de -128 a +127:')\n",
    "print('\\np1.dtype =', p1.dtype)\n",
    "print('p1 =')\n",
    "print(p1)\n",
    "\n",
    "# aplicamos dct em p1 e logo em seguida idct\n",
    "p1_dct_idct = idct8x8(dct8x8(p1))\n",
    "print('\\nAplicando dct em p1, e em seguida aplicando idct:')\n",
    "print('\\np1_dct_idct.dtype =', p1_dct_idct.dtype)\n",
    "print('p1_dct_idct =')\n",
    "print(p1_dct_idct)\n",
    "\n",
    "# comparamos o resultado com p1\n",
    "print('\\nMáximo erro absoluto entre p1 e p1_dct_idct:')\n",
    "print('\\nabs(p1_dct_idct - p1).max() =', abs(p1_dct_idct - p1).max())"
   ]
  },
  {
   "cell_type": "markdown",
   "metadata": {
    "id": "2CeUwn36vuyW"
   },
   "source": [
    "Vamos agora testar se o DCT consegue codificar perfeitamente, sem perdas, saltos de -128 a +127 (ou de 0 a 255) entre dois pixels vizinhos.\n",
    "\n",
    "Primeiramente, saltos na horizontal."
   ]
  },
  {
   "cell_type": "code",
   "execution_count": null,
   "metadata": {
    "colab": {
     "base_uri": "https://localhost:8080/"
    },
    "id": "qt3amTeuvvZI",
    "outputId": "f77ef62d-270d-4beb-d675-919647ac2525"
   },
   "outputs": [],
   "source": [
    "# matriz 8x8 com saltos de 0 a 255 entre pixels vizinhos de uma mesma linha\n",
    "p2_uint8 = np.array( [[0, 255, 0, 255, 0, 255, 0, 255],\n",
    "                      [0, 255, 0, 255, 0, 255, 0, 255],\n",
    "                      [0, 255, 0, 255, 0, 255, 0, 255],\n",
    "                      [0, 255, 0, 255, 0, 255, 0, 255],\n",
    "                      [0, 255, 0, 255, 0, 255, 0, 255],\n",
    "                      [0, 255, 0, 255, 0, 255, 0, 255],\n",
    "                      [0, 255, 0, 255, 0, 255, 0, 255],\n",
    "                      [0, 255, 0, 255, 0, 255, 0, 255]], 'float64' )\n",
    "\n",
    "# matriz 8x8 com saltos de -128 a +127 entre pixels vizinhos de uma mesma linha\n",
    "p2 = p2_uint8 - 128\n",
    "print('p2.dtype =', p2.dtype)\n",
    "print('p2 =')\n",
    "print(p2)\n",
    "\n",
    "# aplicamos dct em p2 e logo em seguida idct\n",
    "p2_dct = dct8x8(p2)\n",
    "p2_dct_idct = idct8x8(p2_dct)\n",
    "print('\\nAplicando dct em p2, e em seguida aplicando idct:')\n",
    "print('\\np2_dct_idct.dtype =', p2_dct_idct.dtype)\n",
    "print('p2_dct_idct =')\n",
    "print(p2_dct_idct)\n",
    "\n",
    "# comparamos o resultado com p2\n",
    "print('\\nMáximo erro absoluto entre p2 e p2_dct_idct:')\n",
    "print('\\nabs(p2_dct_idct - p2).max() =', abs(p2_dct_idct - p2).max())\n",
    "\n",
    "# matriz de coeficientes DCT de p2 com valores arredondados\n",
    "p2_dct = np.around(p2_dct).astype('int32')\n",
    "print('\\nMatriz de DCTs de p2 (com valores arredondados para melhor visualização):')\n",
    "print('\\np2_dct =')\n",
    "print(p2_dct)"
   ]
  },
  {
   "cell_type": "markdown",
   "metadata": {
    "id": "-Sn5qqC825U-"
   },
   "source": [
    "Na matriz de DCTs de p2 acima verificamos que:\n",
    "\n",
    "- dct[0, 0] = -4, que é 8 vezes o valor médio -0.5 da matriz de pixels, como esperado\n",
    "\n",
    "- Só temos frequências horizontais (linha superior da matriz de DCTs), e apenas nas frequências das colunas ímpares (1, 3, 5 e 7), correspondentes respectivamente a 1/16 ciclo/pixel, 3/16 ciclos/pixel, 5/16 ciclos/pixel e 7/16 ciclos/pixel\n",
    "\n",
    "- Os coeficientes DCT podem assumir valores que fogem da faixa dos inteiros de 8 bits; a representação típica para eles é de inteiros de 16 bits"
   ]
  },
  {
   "cell_type": "markdown",
   "metadata": {
    "id": "xTghFIsRQe9J"
   },
   "source": [
    "Vamos agora aplicar DCT diretamente em p2_uint8 e comparar com o resultado anterior."
   ]
  },
  {
   "cell_type": "code",
   "execution_count": null,
   "metadata": {
    "colab": {
     "base_uri": "https://localhost:8080/"
    },
    "id": "XrFkt6XeQ1aH",
    "outputId": "87b3d182-49b9-406d-e6a1-a14be974e2f9"
   },
   "outputs": [],
   "source": [
    "print('p2_uint8.dtype =', p2_uint8.dtype)\n",
    "print('p2_uint8 =')\n",
    "print(p2_uint8)\n",
    "\n",
    "# aplicamos dct em p2_uint8 e logo em seguida idct\n",
    "p2_uint8_dct = dct8x8(p2_uint8)\n",
    "p2_uint8_dct_idct = idct8x8(p2_uint8_dct)\n",
    "\n",
    "# matriz de coeficientes DCT de p2_uint8 com valores arredondados\n",
    "p2_uint8_dct = np.around(p2_uint8_dct).astype('int32')\n",
    "print('\\nMatriz de DCTs de p2_uint8 (com valores arredondados para melhor visualização):')\n",
    "print('\\np2_uint8_dct =')\n",
    "print(p2_uint8_dct)"
   ]
  },
  {
   "cell_type": "markdown",
   "metadata": {
    "id": "Ewz6ep89PJBr"
   },
   "source": [
    "Vemos que a matriz de DCTs continua quase a mesma quando usamos pixels na faixa de 0 a 255, exceto dct[0, 0] que mudou para 1020, que é 8 vezes o valor médio 127.5 da matriz de pixels, como esperado.\n",
    "\n",
    "Abaixo, saltos de -128 a +127 (ou de 0 a 255) entre dois pixels vizinhos na vertical."
   ]
  },
  {
   "cell_type": "code",
   "execution_count": null,
   "metadata": {
    "colab": {
     "base_uri": "https://localhost:8080/"
    },
    "id": "6UeE6S-M27lO",
    "outputId": "1630caf4-0d16-4106-f8c0-5c0654bbbb69"
   },
   "outputs": [],
   "source": [
    "# matriz 8x8 com saltos de -128 a +127 entre pixels vizinhos de uma mesma coluna\n",
    "p3 = p2.transpose()\n",
    "print('p3.dtype =', p3.dtype)\n",
    "print('p3 =')\n",
    "print(p3)\n",
    "\n",
    "# aplicamos dct em p3 e logo em seguida idct\n",
    "p3_dct = dct8x8(p3)\n",
    "p3_dct_idct = idct8x8(p3_dct)\n",
    "print('\\nAplicando dct em p3, e em seguida aplicando idct:')\n",
    "print('\\np3_dct_idct.dtype =', p3_dct_idct.dtype)\n",
    "print('p3_dct_idct =')\n",
    "print(p3_dct_idct)\n",
    "\n",
    "# comparamos o resultado com p3\n",
    "print('\\nMáximo erro absoluto entre p3 e p3_dct_idct:')\n",
    "print('\\nabs(p3_dct_idct - p3).max() =', abs(p3_dct_idct - p3).max())\n",
    "\n",
    "# matriz de coeficientes DCT de p3 com valores arredondados\n",
    "p3_dct = np.around(p3_dct).astype('int32')\n",
    "print('\\nMatriz de DCTs de p3 (com valores arredondados para melhor visualização):')\n",
    "print('\\np3_dct =')\n",
    "print(p3_dct)"
   ]
  },
  {
   "cell_type": "markdown",
   "metadata": {
    "id": "A0jyissYNfK9"
   },
   "source": [
    "Verificamos que a matriz de coeficientes DCT de p3 é a transposta da matriz de coeficientes DCT de p2."
   ]
  },
  {
   "cell_type": "markdown",
   "metadata": {
    "id": "kFIzfixoBrzn"
   },
   "source": [
    "A maneira como foram codificadas as funções de DCT e IDCT é bastante ineficiente. No caso de blocos 8x8, temos 2 * 8^4 = 8192 cálculos de cosseno por bloco, e pior, muitos deles são repetidos.\n",
    "\n",
    "Em uma imagem com 3072x4096 pixels (12 megapixels) temos 196.608 blocos 8x8 por canal de cor, portanto 196.608 * 8192 = 1.610.612.736 cálculos de cosseno por canal de cor. Quase 5 bilhões de cossenos se contabilizarmos três canais de cores (RGB)! Isso para uma única imagem com 12 megapixels!\n",
    "\n",
    "Existe uma maneira mais eficiente de codificar as funções de DCT e IDCT, usando duplo produto matricial. Primeiro precisamos calcular a matriz de transformação T."
   ]
  },
  {
   "cell_type": "code",
   "execution_count": null,
   "metadata": {
    "colab": {
     "base_uri": "https://localhost:8080/"
    },
    "id": "gP8JdlkEFBo5",
    "outputId": "ed1cd932-9829-40f9-b5b9-4fff4b594ed1"
   },
   "outputs": [],
   "source": [
    "# matriz de transformação 8x8 para calcularmos DCT e IDCT de forma eficiente com duplo produto matricial\n",
    "T8x8 = np.zeros((8, 8), 'float64')\n",
    "\n",
    "for i in range(8):\n",
    "    for j in range(8):\n",
    "        if (i == 0):\n",
    "            T8x8[i, j] = 1 / sqrt(8)\n",
    "        else:\n",
    "            T8x8[i, j] = 0.5 * cos(i*pi*(2*j + 1) / 16.0)\n",
    "\n",
    "print('T8x8.dtype =', T8x8.dtype)\n",
    "print('T8x8 =')\n",
    "print(T8x8)"
   ]
  },
  {
   "cell_type": "markdown",
   "metadata": {
    "id": "vSUc72hoNTmg"
   },
   "source": [
    "Os vetores-coluna dessa matriz de transformação formam um conjunto ortonormal, portanto trata-se de uma matriz ortogonal. Então sua inversa é a sua própria transposta, e o produto matricial dela por sua transposta deve resultar na matriz identidade."
   ]
  },
  {
   "cell_type": "code",
   "execution_count": null,
   "metadata": {
    "colab": {
     "base_uri": "https://localhost:8080/"
    },
    "id": "E7pPNFPeOGvc",
    "outputId": "90d8a623-1fa7-4bf7-def9-58c97e35403f"
   },
   "outputs": [],
   "source": [
    "T8x8_transp = T8x8.transpose()\n",
    "I8 = np.array( [[1, 0, 0, 0, 0, 0, 0, 0],\n",
    "                [0, 1, 0, 0, 0, 0, 0, 0],\n",
    "                [0, 0, 1, 0, 0, 0, 0, 0],\n",
    "                [0, 0, 0, 1, 0, 0, 0, 0],\n",
    "                [0, 0, 0, 0, 1, 0, 0, 0],\n",
    "                [0, 0, 0, 0, 0, 1, 0, 0],\n",
    "                [0, 0, 0, 0, 0, 0, 1, 0],\n",
    "                [0, 0, 0, 0, 0, 0, 0, 1]], 'float64' )\n",
    "\n",
    "# o produto matricial entre T8x8 e sua transposta deve resultar na matriz identidade I8\n",
    "print('O produto matricial entre T8x8 e sua transposta deve resultar na matriz identidade I8.')\n",
    "print('\\nMáximo erro absoluto entre I8 e o produto matricial entre T8x8 e T8x8.transpose() =', \\\n",
    "      abs(I8 - np.matmul(T8x8, T8x8_transp)).max())"
   ]
  },
  {
   "cell_type": "markdown",
   "metadata": {
    "id": "nAS3YFMlTLEA"
   },
   "source": [
    "A maneira de calcular DCT e IDCT usando essa matriz de transformação é muito simples:\n",
    "\n",
    "- DCT:  D = T P T'\n",
    "\n",
    "- IDCT: P = T' D T\n",
    "\n",
    "onde D é a matriz de coeficientes DCT, T é a matriz de transformação e P é a matriz de pixels."
   ]
  },
  {
   "cell_type": "code",
   "execution_count": null,
   "metadata": {
    "id": "C-MG7lT5UNZX"
   },
   "outputs": [],
   "source": [
    "# 2D 8x8 Discrete Cosine Transform\n",
    "# versão otimizada usando duplo produto matricial com matriz de transformação T\n",
    "def dct8x8T(p):\n",
    "    return np.matmul(np.matmul(T8x8, p), T8x8_transp)\n",
    "\n",
    "# 2D 8x8 Inverse Discrete Cosine Transform\n",
    "# versão otimizada usando duplo produto matricial com matriz de transformação T\n",
    "def idct8x8T(dct):\n",
    "    return np.matmul(np.matmul(T8x8_transp, dct), T8x8)"
   ]
  },
  {
   "cell_type": "markdown",
   "metadata": {
    "id": "4rVpcUBnVtc_"
   },
   "source": [
    "Vamos comparar os dois métodos de DCT, usando a mesma matriz 'p1' do primeiro exemplo."
   ]
  },
  {
   "cell_type": "code",
   "execution_count": null,
   "metadata": {
    "colab": {
     "base_uri": "https://localhost:8080/"
    },
    "id": "uLIuwcsAWDmr",
    "outputId": "36f96799-2950-4f93-fe0a-ced0a8a1a61c"
   },
   "outputs": [],
   "source": [
    "# aplicamos DCT em p1 usando o primeiro método (8192 cálculos de cosseno)\n",
    "p1_dct1 = dct8x8(p1)\n",
    "\n",
    "# aplicamos DCT em p1 usando o segundo método (duplo produto matricial)\n",
    "p1_dct2 = dct8x8T(p1)\n",
    "\n",
    "# comparamos os dois resultados\n",
    "print('Máximo erro absoluto entre p1_dct1 e p1_dct2:')\n",
    "print('\\nabs(p1_dct1 - p1_dct2).max() =', abs(p1_dct1 - p1_dct2).max())"
   ]
  },
  {
   "cell_type": "markdown",
   "metadata": {
    "id": "FZXfBQsdaFIF"
   },
   "source": [
    "Agora vamos comparar os dois métodos de IDCT, usando a mesma matriz 'p1_dct1' do exemplo anterior."
   ]
  },
  {
   "cell_type": "code",
   "execution_count": null,
   "metadata": {
    "colab": {
     "base_uri": "https://localhost:8080/"
    },
    "id": "-SwjvMZFaUXG",
    "outputId": "2024f284-e331-487d-c648-78f9f354f1dc"
   },
   "outputs": [],
   "source": [
    "# aplicamos IDCT em p1_dct1 usando o primeiro método (8192 cálculos de cosseno)\n",
    "p1_dct1_idct1 = idct8x8(p1_dct1)\n",
    "\n",
    "# aplicamos IDCT em p1_dct1 usando o segundo método (duplo produto matricial)\n",
    "p1_dct1_idct2 = idct8x8T(p1_dct1)\n",
    "\n",
    "# comparamos os dois resultados\n",
    "print('Máximo erro absoluto entre p1_dct1_idct1 e p1_dct1_idct2:')\n",
    "print('\\nabs(p1_dct1_idct1 - p1_dct1_idct2).max() =', abs(p1_dct1_idct1 - p1_dct1_idct2).max())"
   ]
  },
  {
   "cell_type": "markdown",
   "metadata": {
    "id": "ev7ZQ-KTcJWl"
   },
   "source": [
    "Agora que já sabemos calcular o DCT e o IDCT em um bloco 8x8 de forma eficiente com um duplo produto matricial, vamos investigar o significado dos coeficientes obtidos com a aplicação do DCT.\n",
    "\n",
    "Na Wikipedia (https://en.wikipedia.org/wiki/JPEG) é dito que: \"o DCT transforma um bloco 8x8 de valores de entrada em uma combinação linear desses 64 padrões. Esses padrões são chamados de funções-base, e os valores de saída do DCT são chamados de coeficientes da transformação.\"\n",
    "\n",
    "Os 64 padrões, ou 64 funções-base, ou ainda 64 imagens-base, a que o texto se refere são as 64 imagens menores (delimitadas por traços vermelhos) que compõem a imagem grande abaixo.\n",
    "\n",
    "Portanto, o algoritmo DCT 8x8 decompõe um bloco 8x8 de pixels em uma combinação linear dessas 64 imagens-base, fornecendo os coeficientes dessa combinação linear.\n",
    "\n",
    "O IDCT 8x8, por sua vez, recupera a imagem original 8x8 por meio da aplicação da combinação linear dessas 64 imagens-base usando os respectivos coeficientes DCT.\n",
    "\n",
    "64 imagens-base do DCT 8x8 (fonte: Wikipedia):\n",
    "\n",
    "![Dctjpeg.png](data:image/png;base64,iVBORw0KGgoAAAANSUhEUgAAAkgAAAJICAMAAACtwOudAAAA2FBMVEX/AAD////8/Pzp6enGxsaYmJhmZmY4ODgVFRUCAgL19fWwsLBOTk4JCQnZ2dklJSX6+vrn5+fExMSXl5dnZ2c6OjoXFxcEBATz8/Ovr69PT08LCwvX19cnJye6urqUlJRqampERETh4eGoqKhWVlYdHR3Kyso0NDSmpqaNjY1xcXFYWFjAwMCamppkZGQ+Pj6xsbFNTU2EhIR6enqWlpaJiYl1dXVoaGiRkZFtbW3s7OysrKxSUlISEhLS0tIsLCySkpJsbGyioqJcXFy/v78/Pz9dXV2hoaErP3j1AAAPX0lEQVR42uzSNbobYQDAwD9rLxrCfP9zBuU22L1vplWrAQAAAAB/49l/GplyyjlzlqzZsmfkyCXX3PJwzSVHRk5ZsmfNOVPmbBm553ke7vldHzlnz5xTtiyZsmbkkluOXPNw5JZLRuasOWXPlC3nLBmZBvwHI2EkjMQTYiSMhJEwEhgJI2EkjARGwkgYCSOBkTASRgIjYSSMhJHASBgJI2EkMBJGwkhgJIyEkTASGAkjYSSMBEbCSBgJI4GRMBJGAiNhJIyEkcBIGAkjYSQwEkbCSBgJjISRMBIYCSNhJAAAAACA6T+NvMjLvMrrvMnbvMv7jHzIx3zK56/t3YVyG9m6QOHdaskQh80hO8zMjPf9X2EyBzLheGKWWn1p+cJf1bXnVMsF8foOzMgt+GOv6l21rbSCY1jEAhKOYAbzmMVRHMY05pBwAieDE8gdTziKeUzjCOYwg8OYRcIijmMBx4IFHMciEqYxiyOYx2HM4ShmsPd2tuWvSGRIMiTJkGRIMiQZUtFSQoEp7M8YR42EfS0lxDlq7A8KxLlGPU/THFMYR9Nco58HmEKNAnGuHW3PSJJLmwxJhiRDkgxJhiT3kTrYl9HFbu0jxTlq7AsKxLlGPU/THB100TTX6OcBOqhRIM61o+0ZSXJpkyHJkGRIkiHJkOQ+UjQZ1IgSJlqK8zS9btOcuz1PjUnkvr5b80yiRoHc7UmEkKQWDEmGJEOSIUmGJEOS+0hAnZFQIj6uCmoUKJGQe93cnLnnKZA7nlAg+3jk5qlQog5KVMjOg+xtjOyMJBGSZEgyJBmSZEgyJLmPtBHUiBI2W4rzNL1u05y7PU+NDeS+vlvzbOAv7yNhA23PSJJLmwxJhiRDkgxJhiT3kQZYzxiiRsJ6SwlxjhrrQYE416jnaZpjgCGa5hr9PMAANQrEuXa0PSNJLm0yJBmSDEkyJBmS3EfawmrGGnZrHynOUWM1KBDnGvU8TXNsYQ1Nc41+HmALNQrEuXaEkCSXNhmSDEkyJBmSDEmSJEmSJEmSRvo58gs4g2u4h4e4ifM4joQneIpneB48w1M8QcIZPMRx3MQ1LOAeziPhBV4GL5A7nnANx3EPZ3AeD7GAm0h4iud4gmfBEzzHUyTcw02cwXEs4Dyu4SFGsrMttQhJMiQZkgxJhiQZkvy8tgK9oA56QYFRf15bt6VRf15bD/F+vSA+vodf5/Pa5NImGZIMSYYkQ5IMSe4jAXVGEeyVz/2vkX08ftXP/ZdLm2RIMiQZkgxJMiS5j9QP6qAf7NY+0qClUe8j9RHv1w/i4/vYzX0kyaVNhiRDkgxJhiRDkiFJhiRDkiHJkCRDkiHJkGRIdUsJdUaRkdB8/SOgFzTNUyDKzTnq6yPl/x4a0DRP7vpHuesnZebJ38ZIzkhSq5AkQ5IhyZBkSJIhyX0koMiosVv7SLl9ntzxdvtI+Xmyj0eNX20fSS5tkiHJkGRIMiTJkOQ+Uj8ogn6wW/tIg5ZGvY+Uu/5R7vpJu7mPJLm0yZBkSJIhyZBkSJIkSZIkSZJUtpRwBCdwCktYxmmcxBwSzuAszuF8cA5ncQYJJ7CMOZzGKRzBEk4i4QIuBheQO55wCnNYwgmcxDKO4DQSzuI8zuBccAbncRYJSziNE5jDEZzEKSzDnW3tvV+RyJBkSJIhyZBkSDKksqWEEl3sxwyOYgIdVEiYxTSO4FBwBNOYRUIXR1FhAvtRYgYdJMQ5dkwjdzxhPyrMoIsOjqLEBOI8hzCLI8EsDiHOM4MJdFGhRAf7cRRtz0iSS5sMSYYkQ5IMSYYk95HW8Rnvg4/4ExUS/t5Swjreo8JHfEaJ9/gTo57nMyq8xzr+xHuU+IhRzxN/HuuoUOJPxJ/n3jsjyaVNhiRDkgxJhiRDkiENW0oYYgpzGQfQQcJMSwlxjg7mgiHiXKOep2mOKRxA01yjnweYQgdDxLl27L0zklzaZEgyJMmQZEgyJBlS1VLueWoUKBElZB+HAjWa5ml6fNOcJUb9uf8VSsS5SxSo0DRPiQpF0PR6uefJ3R7V57VJLm0yJBmSDEkyJBmSfD/ST3zKWEMHCV9aSohzdBDnGCLONep5mub4iTU0zTX6eYCf6GCIONeOtmckyaVNhiRDkiFJhiRDktdHOoh5LAWz2IcKCSdaSjiIJVSYxTxKLGEfRj3PPCos4SD2YQklZjHqeZYwi4OoUGIf4s+z7RlJcmmTIcmQZEiSIcmQ5D7SEJv4hi9YxQAVElbwHV/xOfiK71hBwhBfUGEVmyjxDQMkxDni6+aOJ2yiwjcMMcAXlFhFnOczVvA1WMFnxHm+YRVDVCgxwCa+4P+FJMGlTYYkQ5IMSYYkQ5IkSZIkSZKkgy0lnMAF3MIjPMZtXMRJJLzAG7zFy+At3uAFEi7gMU7iNm7hBB7hIhLe4d+Cd8gdT7iFk3iEC7iIxziB20h4g5d4gbfBC7zEGyQ8wm1cwEmcwEXcwmPsmZ1t+SsSGZIMSTIkGZIMSeomFGk0isw/68w/kXkcuB3uj+zr5udE/uvgOPLz5P+c+Xn+xft1M8f/8u1f+owklzYZkmRIMiQZkgxJMiRVMCQBWZ6RZEgyJMmQZEgyJKmbUKfRqDP/LDL/ROZxaPF+pSI/J/JfRzyenyf/58zP8y/er5s5/pdv/9JnJLm0yZAkQ5IhyZBkSJIhqY9fJSR5RpIMSYYkQ5IhSYYkr4/k9ZG8PpJc2iRDkiHJkCRDkiHJkOT1kSRDkiHJkGRIkiHJkOT1kbw+ktdHklzaZEgyJMmQZEgyJEmSJEmSJEnqtpRwFKdwCZdxBVdxGrNIuIbruIGbwQ1cxzUknMIVzOIqLuEoLuM0Em7hdnALueMJlzCLyziF07iCo7iKhOu4iWu4EVzDTVxHwmVcxSnM4ihO4xKuYO/tbMtfkciQZEiSIcmQZEgypF5LCT1s4is+4yM+4Af6SPiOpsfv+Iyv+I6ETXxEHx/wFT18xg8kxDni6+aOx+fp4zM28QMf0cMHxOf5iO/4HHzHR8R5PuMDNtFHDz8QX3fvnZHk0iZDkiFJhiRDkiHJkAYtJQwwiRmcwjIWcAhdJCziOE5iKTiJ41hEwiSW0cUCZjDAKRxCQpwjvm7ueMIMujiFSRzCMgZYQJxnCYs4GSxiCXGeU1jAJLoY4BBmsIy9d0aSS5sMSYYkGZIMSYYkQxq2lDBEhTV8DTZQoYOEby0lVPiKDjawhiG+osKo51lDB/H14rxDbGDU8+R+HrmfZ9szkuTSJkOSIcmQJEOSIcm/11agRIEaFWr0kdD8OKBGfL2E+Pg+KpSIc9doep4dBXLHE0r0kXt8DxXiPBVK1EGJCgWanqdAHz3E56vR9owkubTJkGRIMiTJkGRI8v1IJSYxHUyhRAcJR1tKKDGNDqYwiSGmUWLU80yig2mUwTSGmMKo58n9PHI/z7ZnJMmlTYYkQ5IhSYYkQ5LXR1rBH/gNv+MLNtBFwnv8Df/Ah+Af+BveI2EFv6OLL/gDA/yGDSTEOeLr5o4n/IEufsMKNvA7BviCOM8HvMc/gvf4gDjPb/iCFXQxwAb+wO9oe0aSXNpkSDIkGZJkSDIk+ffaDmMR85jFNCbQR0LT/Y8E05jFPBIOYxZ9TGMRPcxjAglxjh2zyB1PWEQf8ziMCcyih2nEeY5gHtPBPI4gzhMfdxh99DCBRczi/4UkwaVNhiRDkgxJhiRDkiRJkiRJkqSplhIWcRbXcR8PcAPncAwJT/EKr/EseI1XeIqEs3iAY7iB61jEfZxDwhu8Dd4gdzzhOo7hPs7iHB5gETeQ8ArP8BSvg6d4hldIuI8bOItjWMQ5XMcD7L2dbfkrEhmSDEkyJBmSDEmG1Gkn/zwYZiR0MMA2hsE2BmiaZ4goN2dChX5QIXe8aZ7c96dpngHi/baD+PgBMvPkb2PvnZHk0iZDkiFJhiRDkiHJkKqWss+DMiOh+XP9gQI1muYpEeXmTMh9zn/ueNM8ue9Pbp54vyKIj8/Og+xthJCkFtqFJBmSDEmGJEOSDEm+H2kMXQyDLsawW+9H6qEMesgdH/X7kcYQ79cN4uPHsJvvR5Jc2mRIMiTJkGRIMiQZkmRIMiQZkgxJMiQZkgxJhjRsKfs86GQk5K5/lLt+UkLudXNzJuSuh5Q73jRP7vvTNE/u+ke56ydl5snfxt47I8mlTYYkQ5IMSYYkQ5IhlS1lnwdVRkLu+ke56ycl5F43N2dC7npIueNN8+S+P7l54v3qID4+Ow+ytzGSM5LUIiTJkGRIMiQZkmRI8v1IuesfZa6fNPL3I5WYQA8TyB0f9fuRctc/yl0/aTffjyS5tMmQZEiSIcmQZEiSJEmSJEmS1GspYRpLuIw7uIsrWMYMEu7hPh7gYfAA93EPCUu4ixlcwWVM4w6WkfAIj4NHyB1PuIwZ3MESlnEX07iChPt4iHt4ENzDQ9xHwh1cwRJmMI1lXMZdjGxnWyIkyZBkSDIkyZBkSPJz/zexjiGihD62sIG1YANb6CPO0/S6TXPGeeIc8XVzx+M8Q2wifn0dHTTNs4Y+NoI+1hDniX/eDnK317H3zkhyaZMhyZAkQ5IhyZBkSIOWEgbo4yea9n1qdJGQe1zT/tJPJPSxgS628BMDrKFGQpxjxxpyxxN+oos19FFjAwNsIc4T/xwbwU9sYQ1Nz9NHFwPUiK+z985IcmmTIcmQJEOSIcmQZEhjLcXn2UbTPs8KVrGNhNw+UW6fKWEbP7GNFWxgDGtYRUJu3yh3PD7PNtawjVX8xBhWkJDbJ8rtMyWsYQXbwRhWEV93752R5NImQ5IhSYYkQ5IhyZC2WorP00fu8/l7GEdC8+OAAjUqJPRRYBwlKmyhRg8Juc/5zx1PqDCOGn30UGALJRKaP9cfqFCiRtPz9DGOLfQQX6ftGUlyaZMhyZBkSJIhyZDk+5H24xAOYAqTGMM2EpruPx5MYgoHkLAfU9jGJA5hDAcwhoQ4x44p5I4nHMI2DmA/xjCFMUwizjOOA5gMDmAccZ74uP3YxlhwCFNoe0aSXNpkSDIkGZJkSDIkeX2kArn9nh66SMg9LrfPlFBgCl0cwDgGmEQPCbl9o9zxhHF0MYkCPUxhgANIyO0T5faZmp6nQBcD9DCOke8jSYQkGZIMSYYkGZIMSX5e2z5MYIgooWl/qBc07TfFeZpet2nOOE/u/VC543GeIfYhfn0CHTTN08MUxoMp9BDn2Ye//HltmMD/CUlyaZMhyZAkQ5IhyZAkSZIkSZIk6d8Bl5uc2GQXY68AAAAASUVORK5CYII=)"
   ]
  },
  {
   "cell_type": "markdown",
   "metadata": {
    "id": "_iIwJNP7nV72"
   },
   "source": [
    "Vamos tentar construir a imagem acima. Para obtermos a imagem-base da linha i, coluna j, vamos aplicar IDCT usando uma matriz de coeficientes onde todos os 64 valores são zero exceto o coeficiente da linha i, coluna j. Faremos isso para todas as 64 posicões.\n",
    "\n",
    "Vamos primeiro fazer alguns testes."
   ]
  },
  {
   "cell_type": "code",
   "execution_count": null,
   "metadata": {
    "colab": {
     "base_uri": "https://localhost:8080/"
    },
    "id": "QK0snpU1pgjj",
    "outputId": "5a8a263f-2aa3-4d13-89d9-fc9cc0016b30"
   },
   "outputs": [],
   "source": [
    "# obtendo a imagem-base da linha 0, coluna 0\n",
    "dct = np.zeros((8, 8), 'float64')\n",
    "dct[0, 0] = 1.0\n",
    "imagem_base00 = idct8x8T(dct)\n",
    "print('imagem_base[0, 0] =')\n",
    "print(imagem_base00)\n",
    "\n",
    "# obtendo a imagem-base da linha 0, coluna 7\n",
    "dct = np.zeros((8, 8), 'float64')\n",
    "dct[0, 7] = 1.0\n",
    "imagem_base07 = idct8x8T(dct)\n",
    "print('\\nimagem_base[0, 7] =')\n",
    "print(imagem_base07)\n",
    "\n",
    "# obtendo a imagem-base da linha 7, coluna 7\n",
    "dct = np.zeros((8, 8), 'float64')\n",
    "dct[7, 7] = 1.0\n",
    "imagem_base77 = idct8x8T(dct)\n",
    "print('\\nimagem_base[7, 7] =')\n",
    "print(imagem_base77)"
   ]
  },
  {
   "cell_type": "markdown",
   "metadata": {
    "id": "ea4mpUANtefI"
   },
   "source": [
    "Pelos resultados acima, vemos que as imagens-base possuem valores com módulo próximo a zero e portanto não poderiam ser visualizadas.\n",
    "\n",
    "Portanto, vamos exibir não as imagens-base, mas múltiplos delas, normalizando-as para a faixa de 0 a 255."
   ]
  },
  {
   "cell_type": "code",
   "execution_count": null,
   "metadata": {
    "colab": {
     "base_uri": "https://localhost:8080/"
    },
    "id": "i7n3RXm1vINj",
    "outputId": "ef28f262-5657-4dd2-c205-f88463c33099"
   },
   "outputs": [],
   "source": [
    "# retorna o array 'a' normalizado para a faixa de 0 a 255 e retorna também o fator de amplificação\n",
    "def converte_para_uint8(a):\n",
    "    a -= a.min()\n",
    "    fator_amplificacao = 255.0 / a.max()\n",
    "    a *= fator_amplificacao\n",
    "    return (np.around(a).astype('uint8'), fator_amplificacao)\n",
    "\n",
    "print('Imagens-base normalizadas para a faixa de 0 a 255:')\n",
    "\n",
    "# a imagem-base da linha 0, coluna 0, é a única com valor constante\n",
    "# vamos adotar 255 constante\n",
    "imagem_base00 = 255 * np.ones((8, 8), 'uint8')\n",
    "print('\\nimagem_base[0, 0] =')\n",
    "print(imagem_base00)\n",
    "\n",
    "# para as demais imagens-base, transformaremos a variação interna para a faixa de 0 a 255\n",
    "dct = np.zeros((8, 8), 'float64')\n",
    "dct[0, 7] = 1.0\n",
    "imagem_base07 = converte_para_uint8(idct8x8T(dct))[0]\n",
    "print('\\nimagem_base[0, 7].min() =', imagem_base07.min())\n",
    "print('imagem_base[0, 7].max() =', imagem_base07.max())\n",
    "print('imagem_base[0, 7] =')\n",
    "print(imagem_base07)\n",
    "\n",
    "dct = np.zeros((8, 8), 'float64')\n",
    "dct[7, 7] = 1.0\n",
    "imagem_base77 = converte_para_uint8(idct8x8T(dct))[0]\n",
    "print('\\nimagem_base[7, 7].min() =', imagem_base77.min())\n",
    "print('imagem_base[7, 7].max() =', imagem_base77.max())\n",
    "print('imagem_base[7, 7] =')\n",
    "print(imagem_base77)"
   ]
  },
  {
   "cell_type": "markdown",
   "metadata": {
    "id": "oL0QbeWr25qN"
   },
   "source": [
    "Vamos agora construir as 64 imagens-base amplificadas para a faixa de 0 a 255. Cada imagem-base possui tamanho 8x8, portanto precisaríamos de uma matriz 64x64. Mas como usaremos 9 linhas delimitadoras na vertical e 9 na horizontal, precisamos então de uma matriz 73x73. No final, ampliaremos a imagem por um fator de 8, obtendo então uma imagem 584x584, que é exatamente o tamanho da imagem da Wikipedia."
   ]
  },
  {
   "cell_type": "code",
   "execution_count": null,
   "metadata": {
    "colab": {
     "base_uri": "https://localhost:8080/",
     "height": 822
    },
    "id": "E9_-3T9F4n5L",
    "outputId": "a9f812ca-3d42-4b21-f529-8d4001e86eae"
   },
   "outputs": [],
   "source": [
    "# fatores de amplificação das imagens-base para a faixa de 0 a 255\n",
    "# imagem_base[0, 0] é formada por valores iguais a 1/8, portanto o seu fator de amplificação é 8*255\n",
    "fatores_amplificacao = np.zeros((8, 8), 'float64')\n",
    "fatores_amplificacao[0, 0] = 8 * 255\n",
    "\n",
    "imagens_base_73x73   = np.zeros((73, 73), 'uint8')\n",
    "imagens_base_584x584 = np.zeros((584, 584), 'uint8')\n",
    "\n",
    "for i in range(8):\n",
    "    for j in range(8):\n",
    "        if (i + j == 0):\n",
    "            imagem_base_ij = 255 * np.ones((8, 8), 'uint8')\n",
    "        else:\n",
    "            dct = np.zeros((8, 8), 'float64')\n",
    "            dct[i, j] = 1.0\n",
    "            imagem_base_ij, fatores_amplificacao[i, j] = converte_para_uint8(idct8x8T(dct))\n",
    "        imagens_base_73x73[1+i*9:9+i*9, 1+j*9:9+j*9] = imagem_base_ij\n",
    "\n",
    "# obtém uma imagem 584x584 a partir da imagem 73x73 construída acima (corresponde a um zoom de 8x)\n",
    "redimensiona_imagem(imagens_base_584x584, imagens_base_73x73)\n",
    "\n",
    "print('64 imagens-base do DCT 8x8 amplificadas para a faixa de 0 a 255:')\n",
    "display(Image.fromarray(imagens_base_584x584))\n",
    "\n",
    "fatores_amplificacao = np.around(fatores_amplificacao).astype('int32')\n",
    "print('\\n\\nFatores de amplificação (com valores arredondados para melhor visualização):')\n",
    "print('\\nfatores_amplificacao =')\n",
    "print(fatores_amplificacao)"
   ]
  },
  {
   "cell_type": "markdown",
   "metadata": {},
   "source": [
    "Os valores dos fatores de amplificação estão na faixa de -1024 a +1023 (11 bits com sinal), exceto o valor 2040 na posição (0, 0) pois este foi computado como um inteiro sem sinal de 0 a 2047, portanto ele também cabe em 11 bits.\n",
    "\n",
    "Se tivéssemos usado pixels de -128 a +127 no lugar de pixels de 0 a 255, o valor na posição (0, 0) seria um valor de -1024 a +1023 (11 bits com sinal)."
   ]
  },
  {
   "cell_type": "markdown",
   "metadata": {
    "id": "jy78IyCKZCkT"
   },
   "source": [
    "Agora já sabemos o que o DCT 8x8 significa e como calculá-lo.\n",
    "\n",
    "Porém da maneira como fizemos até agora não estamos comprimindo a informação, muito pelo contrário: estamos transformando uma matriz 8x8 de pixels com valores de 8 bits (inteiros de -128 a +127 ou de 0 a 255) em uma matriz 8x8 de coeficientes DCT com valores float de 64 bits. Estamos multiplicando por 8 a quantidade de bytes necessária para armazenar a mesma informação! Isso é exatamente o contrário do que gostaríamos de fazer!\n",
    "\n",
    "Se usarmos inteiros de 16 bits para armazenar os coeficientes DCT, ainda assim estaremos usando 2 vezes a quantidade de bytes para armazenar a informação e ainda incorreremos em erros de arredondamento.\n",
    "\n",
    "Está claro que o DCT sozinho não consegue comprimir a informação, é preciso algo mais."
   ]
  },
  {
   "cell_type": "markdown",
   "metadata": {
    "id": "p8f8wUjyOPtn"
   },
   "source": [
    "QUANTIZAÇÃO! Esta é a etapa em que realmente ocorre a compressão! Basicamente, ela consiste em dividir cada componente da matriz de DCTs por uma constante. Temos aqui duas questões a serem analisadas:\n",
    "\n",
    "1. Erro gerado pela quantização: vamos supor que os coeficientes DCT estejam representados como inteiros e resolvemos dividi-los por uma mesma constante arbitrária, digamos 32 (que é 2^5). Assim, precisaremos de 5 bits a menos para armazenar cada coeficiente DCT. Só tem um problema: na etapa de descompressão, ao multiplicarmos todos os valores de volta por 32 para tentarmos recuperar os valores que tínhamos antes da divisão por 32, obteremos apenas valores múltiplos de 32. Todos os coeficientes DCT que originalmente não eram múltiplos de 32 serão arredondados para o múltiplo de 32 mais próximo, gerando um erro entre -16 e +16 para cada coeficiente. Podemos pensar que fazemos quantização o tempo todo: por exemplo, ao arredondarmos um número float para int estamos fazendo uma quantização, com erro entre -0.5 e +0.5. A própria representação dos pixels usando apenas 256 valores distintos (representação de 8 bits) já é uma quantização. Quantização significa apenas \"não permitir qualquer valor\".\n",
    "\n",
    "2. Características da visão humana: aproveitando-se do fato de que a visão humana não é muito boa em reconhecer diferenças abruptas de cor e brilho entre pixels muito próximos entre si, dividiremos cada coeficiente DCT não por uma mesma constante como foi exemplificado acima, mas por uma constante diferente, cujo valor dependerá da posição na matriz de DCTs. Usaremos constantes divisoras maiores quanto mais nos afastamos do canto superior esquerdo da matriz. Assim, reduziremos drasticamente a precisão das frequências mais altas, pouco perceptíveis à visão humana, e reduziremos menos a precisão das frequências mais baixas. É preciso deixar bem claro que a quantização empregada desta forma não elimina as altas frequências, apenas reduz drasticamente a sua precisão! Por exemplo, se aplicarmos o valor máximo de quantização possível, que é 255, a um coeficiente DCT de alta frequência (digamos, na coluna 7 ou na linha 7), isso significa que estamos dividindo o valor dele (de -1024 a +1023) por 255, obtendo um coeficiente inteiro quantizado entre -4 e +4. Ao tentarmos recuperar o coeficiente não quantizado de volta, multiplicamos de volta por 255, obtendo os possíveis valores -1020, -765, -510, -255, 0, +255, +510, +765 ou +1020. Ou seja, o que fizemos foi arredondar o coeficiente (de -1024 a +1023) para o múltiplo de 255 mais próximo.\n",
    "\n",
    "O processo de quantização consiste então em dividir, elemento a elemento, a matriz 8x8 de coeficientes DCT (formada por valores de -1024 a +1023) por uma matriz 8x8 denominada matriz de quantização Q (formada por valores de 1 a 255). A partir de uma matriz de quantização padrão, denominada Q50, com qualidade igual a 50, pode-se calcular outras matrizes de quantização com a qualidade variando de 1 a 100, onde 1 corresponde à máxima compressão possível (a matriz de quantização é formada apenas por valores iguais a 255), enquanto que qualidade igual a 100 corresponde a nenhuma quantização (a matriz de quantização é formada apenas por 1's, o que equivale a não realizarmos quantização). A princípio, o uso de Q100 corresponderia a uma compressão totalmente \"lossless\" (sem perdas), mas na prática, como os coeficientes DCT em ponto flutuante são arredondados para inteiros de 16 bits (mas só 11 desses bits são de fato usados), ocorrerá algum pequeno erro na recuperação da imagem original devido a erros de arredondamento."
   ]
  },
  {
   "cell_type": "code",
   "execution_count": null,
   "metadata": {
    "id": "y_qa0cEhOei0"
   },
   "outputs": [],
   "source": [
    "# matriz de quantização padrão (qualidade igual a 50)\n",
    "Q50 = np.array( [[ 16,  11,  10,  16,  24,  40,  51,  61],\n",
    "                 [ 12,  12,  14,  19,  26,  58,  60,  55],\n",
    "                 [ 14,  13,  16,  24,  40,  57,  69,  56],\n",
    "                 [ 14,  17,  22,  29,  51,  87,  80,  62],\n",
    "                 [ 18,  22,  37,  56,  68, 109, 103,  77],\n",
    "                 [ 24,  35,  55,  64,  81, 104, 113,  92],\n",
    "                 [ 49,  64,  78,  87, 103, 121, 120, 101],\n",
    "                 [ 72,  92,  95,  98, 112, 100, 103,  99]], 'float64' )\n",
    "\n",
    "# retorna a matriz de quantização Q para uma dada qualidade (de 1 a 100)\n",
    "# valores de qualidade fora da faixa permitida serão assumidos como sendo igual a 50\n",
    "def matriz_quantização(qualidade):\n",
    "    if qualidade < 1.0 or qualidade == 50.0 or qualidade > 100.0:\n",
    "        Q = Q50\n",
    "    elif qualidade < 50.0:\n",
    "        Q = (50.0 / qualidade) * Q50\n",
    "    elif qualidade > 50.0:\n",
    "        Q = ((100.0 - qualidade) / 50.0) * Q50\n",
    "\n",
    "    # a matriz de quantização deve ter valores na faixa de 1 a 255\n",
    "    Q = np.clip(Q, a_min=1.0, a_max=255.0)\n",
    "    return np.around(Q).astype('uint8')"
   ]
  },
  {
   "cell_type": "markdown",
   "metadata": {
    "id": "t2kf4VDDZpfs"
   },
   "source": [
    "As duas funções abaixo implementam DCT e IDCT com quantização."
   ]
  },
  {
   "cell_type": "code",
   "execution_count": null,
   "metadata": {
    "id": "MsiXJ9_RZr1K"
   },
   "outputs": [],
   "source": [
    "# 2D 8x8 DCT, em seguida quantização\n",
    "def dct8x8T_quant(p, Q):\n",
    "    # aplica DCT na matriz 8x8 de pixels originais\n",
    "    dct = dct8x8T(p)\n",
    "    # DCTs quantizados = DCTs não quantizados / matriz de quantização\n",
    "    dctq = dct / Q\n",
    "    return np.around(dctq).astype('int16')\n",
    "\n",
    "# Desquantização, em seguida 2D 8x8 IDCT\n",
    "def idct8x8T_quant(dctq, Q):\n",
    "    # DCTs não quantizados = DCTs quantizados * matriz de quantização\n",
    "    dct = dctq * Q\n",
    "    # aplica IDCT na matriz 8x8 de DCTs não quantizados\n",
    "    p = idct8x8T(dct)\n",
    "    # pixels abaixo de -128 viram -128, pixels acima de +127 viram +127\n",
    "    p = np.clip(p, a_min=-128.0, a_max=127.0)\n",
    "    return np.around(p).astype('int8')"
   ]
  },
  {
   "cell_type": "markdown",
   "metadata": {
    "id": "6XDArqU5cAlK"
   },
   "source": [
    "A função de teste abaixo executa DCT seguido de quantização, depois desquantização seguido de IDCT, na matriz de pixels 'p' para cada uma das qualidades de quantização passadas como argumento."
   ]
  },
  {
   "cell_type": "code",
   "execution_count": null,
   "metadata": {
    "id": "WxLjGVYqluQx"
   },
   "outputs": [],
   "source": [
    "def teste1(p, qualidades):\n",
    "    print(f'\\nFaremos DCT e em seguida IDCT em p com {len(qualidades)} distintos valores de qualidade na quantização:', qualidades)\n",
    "    for qualidade in qualidades:\n",
    "        # obtemos a matriz de quantização para a qualidade escolhida\n",
    "        Q = matriz_quantização(qualidade)\n",
    "        print(f'\\nMatriz de quantização com qualidade = {qualidade}:')\n",
    "        print('\\nQ.dtype =', Q.dtype)\n",
    "        print('Q =')\n",
    "        print(Q)\n",
    "\n",
    "        # aplicamos dct e em seguida quantização em p\n",
    "        p_dctq = dct8x8T_quant(p, Q)\n",
    "        print(f'\\nAplicando DCT e em seguida quantização com qualidade = {qualidade}:')\n",
    "        print('\\np_dctq.dtype =', p_dctq.dtype)\n",
    "        print('p_dctq.min() =', p_dctq.min())\n",
    "        print('p_dctq.max() =', p_dctq.max())\n",
    "        print('p_dctq =')\n",
    "        print(p_dctq)\n",
    "\n",
    "        # obtemos p de volta\n",
    "        p_dctq_idctq = idct8x8T_quant(p_dctq, Q)\n",
    "        print(f'\\nAplicando desquantização com qualidade = {qualidade} e em seguida IDCT:')\n",
    "        print('\\np_dctq_idctq.dtype =', p_dctq_idctq.dtype)\n",
    "        print('p_dctq_idctq =')\n",
    "        print(p_dctq_idctq)\n",
    "\n",
    "        # erro entre p e p_dctq_idctq\n",
    "        print(f'\\nErro entre os pixels de p e de p_dctq_idctq quando usamos qualidade = {qualidade}:')\n",
    "        print('\\np_dctq_idctq - p =')\n",
    "        print(p_dctq_idctq.astype('int16') - p.astype('int16'))"
   ]
  },
  {
   "cell_type": "markdown",
   "metadata": {
    "id": "S-68U42E_YF6"
   },
   "source": [
    "Abaixo testamos a matriz 'p1' do primeiro exemplo com alguns diferentes valores de qualidade de quantização."
   ]
  },
  {
   "cell_type": "code",
   "execution_count": null,
   "metadata": {
    "colab": {
     "base_uri": "https://localhost:8080/"
    },
    "id": "lUwC5aAd_cSJ",
    "outputId": "6a292353-0247-4988-ef87-67972fb315d0"
   },
   "outputs": [],
   "source": [
    "# mesma matriz 'p1' usada no primeiro exemplo\n",
    "print('Ruído aleatório 8x8 no intervalo de -128 a +127:')\n",
    "print('\\np1.dtype =', p1.dtype)\n",
    "print('p1 =')\n",
    "print(p1)\n",
    "\n",
    "# qualidades usadas na matriz de quantização\n",
    "qualidades = [10, 50, 90, 100]\n",
    "print('\\np = p1')\n",
    "teste1(p1, qualidades)"
   ]
  },
  {
   "cell_type": "markdown",
   "metadata": {
    "id": "KlEYoSKY1KgD"
   },
   "source": [
    "O algoritmo DCT seguido de quantização tem como meta principal obter uma matriz de coeficientes DCT quantizados com bastante zeros na região inferior direita (altas frequências). Isso é obtido quando usamos imagens sem grandes variações aleatórias entre pixels vizinhos.\n",
    "\n",
    "A matriz aleatória 'p1' acima não é adequada e não representa uma imagem típica. Vemos que, exceto quando empregamos uma qualidade de quantização extremamente baixa, a matriz 'p_dctq' possui poucos zeros na região de alta frequência.\n",
    "\n",
    "Vamos repetir o procedimento anterior, mas agora com uma matriz de pixels mais realista e representativa do uso prático do DCT."
   ]
  },
  {
   "cell_type": "code",
   "execution_count": null,
   "metadata": {
    "colab": {
     "base_uri": "https://localhost:8080/"
    },
    "id": "WmqWiMSk1LMD",
    "outputId": "6034def6-9380-4d62-c4fe-5b4e3ca3efe0"
   },
   "outputs": [],
   "source": [
    "# suavizando a matriz 'p1' usada no primeiro exemplo\n",
    "print('Ruído aleatório 8x8 no intervalo de -32 a +31, acrescido da constante 50:')\n",
    "p1_suavizada = (50 + p1 / 4).astype('int8')\n",
    "print('\\np1_suavizada.dtype =', p1_suavizada.dtype)\n",
    "print('p1_suavizada =')\n",
    "print(p1_suavizada)\n",
    "\n",
    "# qualidades usadas na matriz de quantização\n",
    "qualidades = [10, 50, 90, 100]\n",
    "print('\\np = p1_suavizada')\n",
    "teste1(p1_suavizada, qualidades)"
   ]
  },
  {
   "cell_type": "markdown",
   "metadata": {
    "id": "TWMW2xDeGGSy"
   },
   "source": [
    "Vimos no último exemplo acima que, usando quantização com qualidade padrão 50, obtivemos uma matriz de coeficientes DCT quantizados formada quase totalmente por zeros!"
   ]
  },
  {
   "cell_type": "markdown",
   "metadata": {
    "id": "bWxKFrW8ZL1M"
   },
   "source": [
    "Chegamos finalmente à etapa final do algoritmo, onde faremos uma compressão \"lossless\" (sem perdas) na matriz de coeficientes DCT quantizados 'dctq'.\n",
    "\n",
    "Vamos usar aqui uma versão do algoritmo RLE (Run-Length Encoding), da seguinte forma:\n",
    "\n",
    "* Como o elemento dctq[0, 0] é sempre igual a 8 vezes o valor médio da matriz de pixels (e este valor médio dos pixels pode estar de -128 a +127), usaremos 11 bits (valores indo de -1024 a +1023) para sua codificação;\n",
    "\n",
    "* Os demais 63 elementos dctq[i, j] serão percorridos em zigue-zague, começando do canto superior esquerdo, seguindo a orientação da figura abaixo. Para cada elemento dctq[i, j] não nulo armazenaremos: 4 bits denominados RUNLENGTH indicando quantos zeros vieram em sequência imediatamente antes dele, mais 4 bits denominados SIZE indicando quantos bits são necessários para o armazenamento do valor de dctq[i, j] sem contar o bit de sinal (que sempre é necessário, portanto o valor de dctq[i, j] requer SIZE + 1 bits no total), e por fim os SIZE + 1 bits, denominados VALUE, com o valor de dctq[i, j]. Usaremos duas combinações especiais de RUNLENGTH e SIZE para controle: (RUNLENGTH = 0, SIZE = 0) indica EOB (End of Block), enquanto que (RUNLENGTH = 15, SIZE = 0) indica que existem mais que 15 zeros em sequência e em seguida vem outra sequência de 8 bits de (RUNLENGTH, SIZE)."
   ]
  },
  {
   "cell_type": "markdown",
   "metadata": {
    "id": "HeBIHMheayXh"
   },
   "source": [
    "Ordem em zigue-zague do algoritmo RLE (fonte: Wikipedia):\n",
    "\n",
    "![IMG0.jpeg](data:image/jpeg;base64,/9j/4AAQSkZJRgABAQAAkACQAAD/4QCARXhpZgAATU0AKgAAAAgABQESAAMAAAABAAEAAAEaAAUAAAABAAAASgEbAAUAAAABAAAAUgEoAAMAAAABAAIAAIdpAAQAAAABAAAAWgAAAAAAAACQAAAAAQAAAJAAAAABAAKgAgAEAAAAAQAAA0KgAwAEAAAAAQAAA0IAAAAA/+0AOFBob3Rvc2hvcCAzLjAAOEJJTQQEAAAAAAAAOEJJTQQlAAAAAAAQ1B2M2Y8AsgTpgAmY7PhCfv/iAihJQ0NfUFJPRklMRQABAQAAAhhhcHBsBAAAAG1udHJSR0IgWFlaIAfmAAEAAQAAAAAAAGFjc3BBUFBMAAAAAEFQUEwAAAAAAAAAAAAAAAAAAAAAAAD21gABAAAAANMtYXBwbOz9o444hUfDbbS9T3raGC8AAAAAAAAAAAAAAAAAAAAAAAAAAAAAAAAAAAAAAAAACmRlc2MAAAD8AAAAMGNwcnQAAAEsAAAAUHd0cHQAAAF8AAAAFHJYWVoAAAGQAAAAFGdYWVoAAAGkAAAAFGJYWVoAAAG4AAAAFHJUUkMAAAHMAAAAIGNoYWQAAAHsAAAALGJUUkMAAAHMAAAAIGdUUkMAAAHMAAAAIG1sdWMAAAAAAAAAAQAAAAxlblVTAAAAFAAAABwARABpAHMAcABsAGEAeQAgAFAAM21sdWMAAAAAAAAAAQAAAAxlblVTAAAANAAAABwAQwBvAHAAeQByAGkAZwBoAHQAIABBAHAAcABsAGUAIABJAG4AYwAuACwAIAAyADAAMgAyWFlaIAAAAAAAAPbVAAEAAAAA0yxYWVogAAAAAAAAg98AAD2/////u1hZWiAAAAAAAABKvwAAsTcAAAq5WFlaIAAAAAAAACg4AAARCwAAyLlwYXJhAAAAAAADAAAAAmZmAADypwAADVkAABPQAAAKW3NmMzIAAAAAAAEMQgAABd7///MmAAAHkwAA/ZD///ui///9owAAA9wAAMBu/8AAEQgDQgNCAwEiAAIRAQMRAf/EAB8AAAEFAQEBAQEBAAAAAAAAAAABAgMEBQYHCAkKC//EALUQAAIBAwMCBAMFBQQEAAABfQECAwAEEQUSITFBBhNRYQcicRQygZGhCCNCscEVUtHwJDNicoIJChYXGBkaJSYnKCkqNDU2Nzg5OkNERUZHSElKU1RVVldYWVpjZGVmZ2hpanN0dXZ3eHl6g4SFhoeIiYqSk5SVlpeYmZqio6Slpqeoqaqys7S1tre4ubrCw8TFxsfIycrS09TV1tfY2drh4uPk5ebn6Onq8fLz9PX29/j5+v/EAB8BAAMBAQEBAQEBAQEAAAAAAAABAgMEBQYHCAkKC//EALURAAIBAgQEAwQHBQQEAAECdwABAgMRBAUhMQYSQVEHYXETIjKBCBRCkaGxwQkjM1LwFWJy0QoWJDThJfEXGBkaJicoKSo1Njc4OTpDREVGR0hJSlNUVVZXWFlaY2RlZmdoaWpzdHV2d3h5eoKDhIWGh4iJipKTlJWWl5iZmqKjpKWmp6ipqrKztLW2t7i5usLDxMXGx8jJytLT1NXW19jZ2uLj5OXm5+jp6vLz9PX29/j5+v/bAEMABgYGBgYGCgYGCg8KCgoPFA8PDw8UGRQUFBQUGR8ZGRkZGRkfHx8fHx8fHyUlJSUlJSsrKysrMDAwMDAwMDAwMP/bAEMBBwgIDAsMFQsLFTIiHCIyMjIyMjIyMjIyMjIyMjIyMjIyMjIyMjIyMjIyMjIyMjIyMjIyMjIyMjIyMjIyMjIyMv/dAAQANf/aAAwDAQACEQMRAD8A+lV+8PrWkx+U/Shvun6Vmr1H1oAF6itJj8p+lDdDWavUfWgAXqK0mPBoboazV6j60AC9RWmTwaRuhrNXqPrQAL1FabHg0h6Gs1eooAF6itNjwaQ9DWaM5FAAvUVpseDSHoazR1H1oAF6itNjwaQ9DWaM5H1oAF6itMng0h6Gs0dR9aABeorTJ4NIehrNHUUAC9RWmTwaQ9DWaOooAB1FaZPBoPQ1mDqKAAdRWmehoPQ1mDqKAAdRWmehoPQ1mDqKAAdRWmTwaD0NZg6igAHUVpk8Gg9DWYOooAB1FaZPBoPQ1mDqKAAdRWmTwaD0NZg6igAHUVpk8Gg9DWYOooAB1FaZPBoPQ1mDqKAAdRWmTwaD0NZg6igAHUVpk8UHoazB1oAB1FaZPFB6GswdaAAdRWmTxQehrMGc0AA6itMnig9DWYM5oAB1FaZPFI2dpx1rMGaAFHUVpk8VGC2w5HNUBnNAAOorTJ4oPQ1mDrQADqK0yeKD0NZg60AA6itPPFB6VmDrQADqK088UHpWZ3oAB1FaZ6UHpWZzmgAHUVpnpQelZnOaAAdRWnnig9KzO9AAOorTzxQelZnOaAAdRWnnig9KzO9AAOtaeeKD0rM70AA61p54oPSsznNAAOtaeeKD0rM5zQAg61qZ4oPSszvQAg61qZ4oPSszvQAg61qZ4oNZnegBB1rUzQazO9ACDrWpnig1mc0AIOtameKKzOaAEHWtTPFFZnegAHWtPPFFZnegBK1M8UVmd6AE71qZ4oNZnegA71p54orM70AHetPPFFZnOaADvWnmjjFZnOaAEorV4o4oA//Q+lV+8PrWk33T9KG+6fpWavUfWgAXqK0m6Ghvun6VxRkkz94/nXLiMQqNrq9zlxGIVK11e50ig5FaJ6GuK82X++35mk8yT+8fzNcn9or+U5v7QX8p0qg5FaJ6GuK82X++35mk8yT+8fzNH9or+UP7QX8p0ig5FaR6GuK82X++35mk8yT+8fzNH9or+UX9oL+U6RQcitI9DXFebL/fb8zSeZJ/eP5mj+0V/KH9oL+U6RQcitI9DXFebL/fb8zSeZJ/eP5mj+0V/KH9oL+U6Rc5FaR6GvONF8b2uqXD2qMCUZkP1UkH+VbNzK5lJDEcDvXbXr+yjzNHbWrezjzNG4oORWmehrifNl/vt+ZpPMk/vH8zXF/aK/lOP+0F/KdIoORWmehrifNl/vt+ZpPMk/vH8zR/aK/lD+0F/KdIoORWmehrifNl/vt+ZpPMk/vH8zR/aK/lD+0F/KdIoORWmehrifNl/vt+ZpPMk/vH8zR/aK/lD+0F/KdIoORWmehrifNl/vt+ZpPMk/vH8zR/aK/lD+0F/KdIM5FaZ6GvMZvGUGm6n/Y8rZk2h+Tzhs4/lXQyXRnt45UJGfSu117Uva2Ox1rUva2NoA5FaZ6GuJ82X++35mk8yT+8fzNcX9or+U4/7QX8p0gByK0z0NcT5sv99vzNJ5kn94/maP7RX8of2gv5TpADkVpnoa4nzZf77fmaTzJP7x/M0f2iv5Q/tBfynSAHIrTPQ1xPmy/32/M0nmSf3j+Zo/tFfyh/aC/lOkAORWmelcT5sv8Afb8zSeZJ/eP5mj+0V/KH9oL+U6QA5FaZ6V5tqniRPD8UdxcMcTN5Yye+M/0rU07Vl1OxaaM/w1206/PT9pY7Kdbnp+0sdEM5FaZ6VxPmy/32/M0nmSf3j+dcf9or+U4/7QX8p0gByK0z0rifNl/vt+ZpPMk/vH86X9or+UP7QX8p0gByK0z0rifNl/vt+ZpPMk/vH86P7RX8of2gv5TpADkVpnpXE+bL/fb8zSeZJ/eP50f2iv5Q/tBfynSAHIrTPSuJ82X++35mk8yT+8fzo/tFfyh/aC/lOkAORWmelcDd6g1hay30jnbAhkPPZRmq3h7xVDrRBjOeldmHrqqm0rHXQrqqm0rHaAHIrTPSuOnlk86QBjjce59ah8yT+8fzrkeYJO3KcjzBJ25TpADkVpnpXE+bL/fb8zSeZJ/eP5ml/aK/lD+0F/KdIM5FaZ6VxPmy/wB9vzNJ5kn94/maP7RX8of2gv5TpADkVpnpXE+bL/fb8zSeZJ/eP5mj+0V/KH9oL+U6QA5FafauJ82X++35mk8yT+8fzNH9or+UP7QX8p0gByK0zjFcT5sv99vzNc9ZeM4JtSl03d80MhjP1BxXTh8UqraSsdFDEqq2krHogB4rTOMVzWpTMZlZGIBQdD9azfMk/vH8zWVTHKEnHl2MqmNUJOPLsdIAc1pnpXE+bL/fb8zSeZJ/eP5ms/7RX8pH9oL+U6QA5FaZ6VxPmy/32/M0nmSf3j+Zo/tFfyh/aC/lOkAOa064nzZf77fmaTzJP7x/M0f2iv5Q/tBfynSDORWnXE+bL/fb8zSeZJ/eP5mj+0V/KH9oL+U6QZzWn2rifNl/vt+ZrA1LxXFo1/DYTN80y7xk+hxW9HGKpPkSNaOMVSXJY9CGc1p1zs179r05Z4zjLDpWV5kn94/nRXxipS5Wh1sWqcuWx0gBzWnXE+bL/fb8zSeZJ/eP5msP7RX8pj/aC/lOkAOa064nzZf77fmaTzJP7x/M0f2iv5Q/tBfynSAHNadcT5sv99vzNJ5kn94/maP7RX8of2gv5TpADmtOuJ82X++35mk8yT+8fzNH9or+UP7QX8p0gBzWnXE+bL/fb8zWVrOuroVl9vnY7Q6pye7nArSnjlOSjy7l08cpyUeXc7gZzWnXL6RrsWr2bSxH+E/yqh5kn94/nW2IxKotJq9zXEYlUmk1c6TBrTrifNl/vt+ZpPMk/vH8zXL/AGiv5Tn/ALQX8p0mDWnXE+bL/fb8zSeZJ/eP5mj+0V/KH9oL+U6TBzWnXE+bL/fb8zSeZJ/eP5mj+0V/KH9oL+U6TBrTrifNl/vt+ZpPMk/vH8zR/aK/lD+0F/KdJg1p8VxPmy/32/M0x53jRpCx+UE9fTmmsxX8oLMF/KdNzmtPtXn3hzxra67gwsCGGR+NdaCTzXqHpi960+KOMVmc5oATmjmtXijigD//0fpVfvD61pN90/Shvun6Vmr1H1oABnIrmm+8frXbt90/SuHPWvJzH7PzPKzH7PzCiiivJPKCiiigAooooAKKKKACgdaKB1oA+bfAUj/8JNdLnj7TL/6Mavpy9/1//AV/lXzN8Pv+RmvP+vmb/wBGNX0pN94fQfyr2sd/BR7ON/hIiooorxTxgooooAKKKKACiiigAooooA+ePHDsvxJTacZt4P5vX0TbHOkWxP8Anivnbxv/AMlJT/r2h/m9e/6d/wAgqD/Pavbl/uvyR7Mv91+SLFFFFeIeMFFFFABRRRQAUUUUAFFFFAHj3xlZl0fTSpx/pv8A7Seu+8AMW8PtuOf3dcB8Zv8AkD6b/wBfv/tJ67H4ff8AIEP+5Xt4b/d38z2sN/u7+Z2NFFFeIeKFFFFABRRRQAUUUUAFFFFAHM+MyR4Q1gjgiyn/APQDXn/wekdgNxzXf+Nf+RP1n/ryn/8AQDXmfwg6r9RXs5d8LPYy/wCFnusn+sb6mm1JP/rpP94/zqOvIn8TPJl8TCiiipJCiiigAooooAKKKKADvXzdoMsn/CwNVXccC8k/9Cr6R718y6L/AMlB1X/r9k/9Cr08u+KR6WX/ABSPp5/uR5/uCo6tXX/LL/rmP61VrkxX8WRy4n+LIKKKK5znCiiigAooooAKKKKACvBfie7J4w0nacf6O/8A6GK96rwH4p/8jdpP/Xu3/oYrswX8VHZgv4qPbdCJOixk+1aNQaP/AMi/F9RU9Vj/AOKPHfxQooorhOIKKKKACiiigAooooAK81+LBI8HyEf8/EH/AKMFelV5p8Wf+ROk/wCviD/0YK2ofxI+ptQ/iR9S18MnZtM+Y5+X+legVxPwt/5BB/3D/Ku27V3Zj8UTtzD4oi0UUV5Z5gUUUUAFFFFABRRRQAVWvP8Aj0m/65t/6Cas1WvP+PSb/rm3/oJoW41ufP3widzJGueAF/kK+wU+4PpXyJ8G/wDWJ/ur/IV9Tp90V9YfUj+9afFHGKzOc0AJzRzWrxRxQB//0vpVfvD61pN90/Shvun6Vmr1H1oABnIrmm+8frXbt90/SuHPWvJzH7PzPKzH7PzCiiivJPKCiiigAooooAKKKKACgdaKB1oA+avAX/Iz3f8A18y/+jGr6fvOZ+P7q/yr5m+H3/IzXn/XzN/6MavpOb74+gr2sb/BR7ON/hIjIIODxRXkvjqbxL4XmHiDQblvscrATQMPMRZD/EA3RX9iMN9eMvRvjJay7YtctDG3AMkB3D3JRuR+BNejT4WxWIw0cXgWqkX20afVNP8ARs832LavFnt1FYWkeJdC11c6XeRyt3jztkH1RsN+lbvtXzVfD1aE/Z1ouL7NWMXFrcKKKKxEFFFFABRRRQB86+Of+Skx/wDXvB/N6+i7X/kD23+e1fO/jf8A5KSn/XtD/N69/wBO/wCQVB/ntXty/wB1+SPZl/uvyRYooorxDxgooooAKKKKACiiigAooooA8c+M3/IG03/r9/8AaT133w+/5F9v+udcF8Zv+QPpv/X7/wC0nrsfh9/yBD/uV7eG/wB3fzPaw3+7v5nY0UUV4h4oUUUUAFFFFABRRRQAUUUUAcx41/5E/Wf+vKf/ANANeefBzoK9D8a/8ifrP/XlP/6Aa8z+EHVfqK9nLvhZ7GX/AAs91k/1jfU02pJ/9dJ/vH+dR15E/iZ5MviYUUUVJIUUUUAFFFFABRRRQAd6+atB/wCSg6r/ANfkn/oVfSvevmXRf+Sg6r/1+yf+hV6eXfFI9LL/AIpH06/3I/8AcFMq1df8sv8ArmP61VrkxX8WRy4n+LIKKKK5znCiiigAooooAKKKKACvA/ij/wAjhpP/AF7t/wChivfK8B+Kf/I3aT/17t/6GK7MF/FR2YL+Kj2zQf8AkCR/hWlUGj/8i/F9RU9Vj/4o8d/FCiiiuE4gooooAKKKKACiiigArzT4s/8AInSf9fEH/owV6XXmnxZ/5E6T/r4g/wDRgrah/Ej6m1D+JH1LHww/5Bn/AAH+lehVxPwt/wCQQf8AcP8AKu27V3Zj8UTtzD4oi0UUV5Z5gUUUUAFFFFABRRRQAVWvP+PSb/rm3/oJqzVa8/49Jv8Arm3/AKCaa3Gtz58+EP8ArY/ov8hX2Gn3B9K+RPg3/rE/3V/kK+p0+6K+rPqR/etPijjFZnOaAE5o5rV4o4oA/9P6VX7w+taTfdP0ob7p+lZq9R9aAAZyK5pvvH6127fdP0rhz1rycx+z8zysx+z8woooryTygooooA5fxdq+qaJpIvNItftc5lVNm13+UgknCc9utea/8LC8d/8AQEH/AH5uP8K9yyR0qtdXBgjL5NfR5fmuEw9FUq2EjN92/wDgG8KiStyni3/CwvHf/QEH/fm4/wAKP+FheO/+gIP+/Nx/hXpDeIWBI5pv/CRN7/nXpf23gf8AoXx+/wD4Btzr+X8jzn/hYXjv/oCD/vzcf4Uf8LC8d/8AQEH/AH5uP8K9G/4SJvf86UeIm96P7bwP/Qvj9/8AwA5l/L+R4Ppep6jpt9JfadoTieRyzZ+0MNxJJ+XoOTXaSfEbx9I259EGcAf6i4/wri/BOqSQa/dPuYgzynGT3c175L4jYsOvQV34jOMEoJvBRfzf+R3V01BN6nlt1468aXltLaXWhLJFKhR1MFxgqRz2rwZiScnrX0j458b3Flpo0ywZlu71cAqfmSM8ZHfc/Rcc4yfSvHrLwRr98BLLELZGz8058v8AJcF//Ha+74cxdCjg3iqtKNCEttd/PW3y7/cc8dtrHIrLIhBU4K8j2+npXoGgePvGGnyJbW0z3St92GYGbP0/j/I1t2ngzRrL5rp3u3Hp+6T9MufzFXtS15PDMX9naJFHDfSgAJCgHl56M3Us542qScdT2BVfPcFmNT6nhqPtX5q0V5ttfp6DsjtrT4mQR3Ftp+u2bWl1MwDqjF/KDcKXUgMCxP3eSByfSvUSMcV4F4V0iLQ7j+09THn6ixLfMd3lE9eecyHue3Trk16pB4hjOA9flPEVLARrqnl0dt3fRvyvfb1/zfLWgvso6mioIJlnQOvep6+XOUKKKKAPnXxz/wAlJj/694P5vX0Xa/8AIHtv89q+d/G//JSU/wCvaH+b17/p3/IKg/z2r25f7r8kezL/AHX5IsUUUV4h4wUVzWveLtB8OKRqVwPOxkQx/NIf+AjoOOrYFeHeIfi3rF+Xg0ZRYwnjcPmlI553dF+ij8a+myrhfH5haVOHLHu9F8ur+RtCjKWrPedb8S6L4ei8zVblY2wSsY+aRseiDn8TgV5zqnj3xdBqE0WnaOZLYEGNmimLFSoPJXKk89q8s8EaNP4q8SRreEyQqfOuGY5LKp6EnJO44XntmvrCS4SIZZsY7V7mY4TAZDUjQnT9tNq7vol2stfM1fLT0tdnif8AwsLx3/0BB/35uP8ACj/hYXjv/oCD/vzcf4V6bca+I32pk1B/wkTe/wCdcX9t4H/oXx+//gFc6/lPOf8AhYXjv/oCD/vzcf4Uf8LC8d/9AQf9+bj/AAr0b/hIm9/zo/4SJvf86P7bwP8A0L4/f/wA51/L+R4z4i8SeIPEFtFba5oRaOKTzE2LcRENgjqPYmtTSvG/jDS7Q2mm6HiIjB3RXDnH1xS/FXWHutKsFUsu27zwSP8Alm1dT4J12SHSShLH5fU16FLOMG6TawUVvpd/5HdSTdNtaeRg/wDCwvHf/QEH/fm4/wAKP+FheO/+gIP+/Nx/hXo//CRN70n/AAkTe/515/8AbeB/6F8fv/4Bw8y/lPOf+FheO/8AoCD/AL83H+FH/CwvHf8A0BB/35uP8K9G/wCEib3/ADpk3ieO2hkubl/KhiG53YnCj/E9AByTwKqGcYOclCGXRbfm/wDIFK+0TzS6+JvjKyhM91pEcUYIG5451GT05bArufAPjK58Ww3X22BYZbcoR5YO0q4PqT8wIP4EV5dqOp6v8R9T8lWa20q2OcHkKD/E46NI38K9APxJ9S0m607QbBNO02LyoUyeeWZj1Zj3J/8ArDivU4hp4DD4NUHh4xrys7Rd+Veb7+X/AA7qpFctranoFFc7Za2lzJsroQcjNfmrTW5wuLW4tFFFIRzHjX/kT9Z/68p//QDXnnwc6CvQ/Gv/ACJ+s/8AXlP/AOgGvM/hB1X6ivZy74Wexl/ws91k/wBY31NNqSf/AF0n+8f51HXkT+Jnky+JhRRRUkhXkPiD4nSW+p/2T4Ztlv3UkM53sGYZyEVOSB3b8uOay/GvjS61q6/4RPwoDN55MUjx9ZD3RD2Qc7m6EdwMmu68F+C7XwpaebIVlv5lxLKOij+4noo7nqx56YA+4w2W4bK8MsZmseacvhp/rLt/XXbqUFTXNPc4X/hYXjv/AKAg/wC/Nx/hR/wsLx3/ANAQf9+bj/CvXL3VkteN2T9ayv8AhIm96zWeYF/8y+P3/wDAKU0/snnH/CwvHf8A0BB/35uP8KP+FheO/wDoCD/vzcf4V6N/wkTe/wCdH/CRN7/nT/tvA/8AQvj9/wDwB86/l/I85/4WF47/AOgIP+/Nx/hXHWuqalbatNqsGhP9rmkZ3J+0kbmOT8p6c9q94/4SJvevANK1OVfG+ozb2wbqQgbj/errwuc4KTaWBivm/wDI6sNeTdtDuT8Q/HhAH9iDAGB+5uOn5Un/AAsLx3/0BB/35uP8K9QufEbHy+v3BVX/AISJvf8AOsaudYFTaeAi/m/8jGq7TacbnnP/AAsLx3/0BB/35uP8KP8AhYXjv/oCD/vzcf4V6N/wkTe/50f8JE3vWX9t4H/oXx+//gGfOv5fyPOf+FheO/8AoCD/AL83H+FZk3xd8R2lwbe706CN0PzowkVsdSME5BI6ZHvXaeKfiD/YdmY4PmvZVzGp5CA/xsP/AEEd+vSuS8LaC0N5/wAJH4mDT3sh8xI5OSpPIeTPVvRf4ep5wB9JhpZcsG8djsFGEX8Kvdyfltp5mita7ij3qKRZokmQELIoYBhg4IyMg9DUlcifEa55710FldrdJvFflM46tpWRwyi1qXqKKKggK8D+KP8AyOGk/wDXu3/oYr3yvAfin/yN2k/9e7f+hiuzBfxUdmC/io9s0H/kCR/hWlUGj/8AIvxfUVPVY/8Aijx38UKKKK4TiCsXXte0/wAOae2o6i2FHCIPvSN/dX+p6AcmjXte0/w5p7ajqLYUcIg+9I3Xav8AU9AOTXjOkaRq/wASdXOua4Wi06JtqquQCAf9XH/7M3r74C/T5Nk0K0Hjsc+WhHd9ZPsjenTv70ti1H8TPF94puLHR0eEk7Ssc7jjtuUYJHepP+FheO/+gIP+/Nx/hXs6Lb6fbJb26iKGJQqIvAUDoAKxJvEAR9qEmu555l3M1TwEbeb/AOAaKontE8z/AOFheO/+gIP+/Nx/hR/wsLx3/wBAQf8Afm4/wr0b/hIm9/zo/wCEib3/ADo/tvA/9C+P3/8AAK51/L+R5z/wsLx3/wBAQf8Afm4/wrG17xX4m1vTm0/WdDJt2ZWIVLiM7lOV+b616/8A8JE3v+dcD8S9ae58KyRDIPnwnqezitKedYFzS+oR+9/5F05XklymDonizxPotuINJ0MhAMfOlxIcfXFa3/CwvHf/AEBB/wB+bj/Ctr4d649vphQlj8p6k+ldYPETY710YrOMFFq+Bi/m/wDI3xN4tX1POf8AhYXjv/oCD/vzcf4Uf8LC8d/9AQf9+bj/AAr0b/hIm9/zo/4SJvf864/7bwP/AEL4/f8A8A5edfy/kec/8LC8d/8AQEH/AH5uP8KhuPiX40tIWuLnR0jjTqzRTqBnjknAr0w+Itqs7nYqAszMcBVHUk9gK8i13xBqnxAv/wCxtLZotNhIZ3bIDYP3374z9xOuff7vuZRUweOm5SwMI046yk3ovw3Ljr9lHeeAvHd34suLm1vrdImiQSIYg2CM4IYknB6Y9efSvTa850NtN8OWIsNNj2r1d2+87f3m/oOgHArobTXUuJAlfEZzPDVsXOeBhy0+i/Xyuc1WN3eKOlopqnKg06vFMAqtef8AHpN/1zb/ANBNWarXn/HpN/1zb/0E01uNbnz58If9bH9F/kK+w0+4PpXyJ8G/9Yn+6v8AIV9Tp90V9WfUj+9afFHGKzOc0AJzRzWrxRxQB//U+lV+8PrWk33T9KG+6fpWavUfWgAGciuab7x+tdu33T9K4c9a8nMfs/M8rMfs/MKKKK8k8oKKKKACopYllXa1S0UAZB0e2JyRSf2Na/3RWxRVczK5mY/9jWv90Uo0a1z0Fa9A60czDmZ8v+B7OKXxJdIw4FzKP/Ihr6Su9GtBP90EbV/lXz98Pv8AkZrz/r5m/wDRjV9KTfeH0H8q9nGu1FHsYx2pI55NA06K5kvIYUSeU/NIB859tx5wOgGeBVLUbO0to2c9TXUV5H498Wx6XL/ZWlnztRbg4G4Q56cd3OeB26nnAM4DC4vM8RGjBuT7vovPsl/wx5kHKb1ZzHiPXV0qT7JZDzNQkxtXGfKz0JHOXP8ACvbqecA6XhfwXc2I/tC+Be/lyxLHJi3dee8hzye3Qc5Nb3gbwEdKA1rXAX1CTLKrHJi3dSTzlznk9vrk1315dQWUZ24zX0OZZpRwVF5Zlbv/ADz6yfZeX9d29p1be7E5N9Lhs0zJ1qra2DXc4KjCirirPqc+T93NdjZWUdsgAHNfGudkZylZElpALeIJVuiiudnM2FFFFAHzr45/5KTH/wBe8H83r6Ltf+QPbf57V87+N/8AkpKf9e0P83r3/Tv+QVB/ntXty/3X5I9mX+6/JE5zgkckDgep9K8n8VN8Trwtb6XbJb2xBGbaVWlP1ZtpH/AQPrXrNcx4p8U2Hhaw+03X7yaTIhhB+aRh/JR3P4DnAq8ixFSniYxoUI1Jva6b/Wy9eh5lKVnZI+SNX03V9NuDFq8EsEj5bEqkFs9Tk9frk1lAZOBXsFj4f1PxtNL4h8RyuFnVlgC8ZODtCg5CxqfzPfqTwXhnSU1TVo4ZhmCNfNl/3FwSOv8AESF/Gv3+hmtH2dT2slzU179tk7bL7jusezeBoI/DWhCVxi6vsSN6rH/yzX8juPua2JdTuLyUICcGsaSV5nMj9WOa39CsjNMHI4Ffz7mWMli8RUxdTeT/AOGXyRjO3xHTWGkRPCHlGSavf2Na/wB0VqxoEUKO1PrxnNnG5sx/7Gtf7oo/sa1/uitiijmYczPDfi9p8NtpGnMgwWvMf+Q3ruPAmlW02gs7AZ2Vy/xm/wCQPpv/AF+/+0nrsfh9/wAgQ/7lezhn/s7+Z7GHf7hv1Nr+xrX+6KT+xrX+6K2Kp39/Z6XZy3+oSrDBCNzu3Qf4kngAck15MFOclCCu3sjx05N2RkX9rpOl2cuoag6wwQjc7nsP5knoAOSeK8OP9q/ErWfsOmp9k023If5hnYOQHkx96Rudqg4H5k2bm51z4qa4traq1tpls2eeRGD/ABv2aRh91e30yT7rpGk6d4e06PTtPTZFHySeWZj1Zj3Y/wD1hxX30VS4epc87SxUlot1BP8AX+tt+u/slruULLw3pek2KWVomyKP16sT1Zj3Y9z+HSsHUkt93lQDJrW1TVCx8mA5Jpul6Wzt583Wvh6lWdSTrVpXbMk38UmJoulGPEr114GBimqoQbVp9c0pXdzGUrsKKKKkk5jxr/yJ+s/9eU//AKAa88+DnQV6H41/5E/Wf+vKf/0A15n8IOq/UV7OXfCz2Mv+Fnusn+sb6mm1JP8A66T/AHj/ADqOvIl8TPJl8TCvDfGvjS71m7/4RPwnulaVvLkkj6ynHKIeyD+JuOnXGTSeNPGt1rd0PCnhPM4nPlySRHmU90Q9AgH3mzzz0AJPdeC/Bdp4UtDLLtmv5lxLKOij+4noo7nqx5PGAPusFgqOTUY5hmMb1X8EP/bpf1+O3TGKprmluHgvwXaeFLQyylZr+ZcSyjoo/uJ6KO56seemAN3U9TS3Uoh+ak1PU1t0KIfmrAs7Oa/m82XOK+TxeLrYytLE4mV2/wCrLyM9ZPmkJaWc2oS+ZL92ukXRrYDBFaNvbpAgVRViuKU29iJTb2Mf+xrX+6KP7Gtf7orYopczJ5mZH9jWufuivnfRLSJ/HuqREfKt3IB+dfT/AHr5l0X/AJKDqv8A1+yf+hV6WXtuUrno5e25O59DNo1rsj4/hFR/2Na/3RXRXX/LL/rmP61VrkxMn7WRy4mT9rIx/wCxrX+6K4Lxr4g0zwvF9ltlWbUHGVQ8rGD0Z/6L36nitTxx44t/DMBtLQrJqEi5VTyIwf4m9/Qd+p4rnvA/ged5x4p8Ugy3UjeZFFJyQTz5kmf4vRe3U84A+qyrLKWHof2pmnwfZj1m/wDL+tt3Bcq55jPBXgW4llHifxPl7qU+ZFFJyVJ5Ejg/xf3R26kZwB6Be2dlbIWbrWveXiWyFmPNca7z6nPgfdrxsyzSvmNZ16zsui6JdkTzOTu9ijHZm8uf3Y+XNd9YWgtYgtMsLBLVBxzWlXkznfQic76C0UUVmZBXgfxR/wCRw0n/AK92/wDQxXvleA/FP/kbtJ/692/9DFdmC/io7MF/FR7ZoP8AyBI/wrSqDR/+Rfi+oqeqx/8AFHjv4oVi69r2n+HNPbUdRbCjhEH3nb+6v9T0A5NGva9p/hzT21DUWwo4RB96Rv7q/wBT0A5NeM6RpGr/ABK1c65rhaLTojtVVyAQD/q48/8Ajzdc+/3fZybJoVoPHY58tCO76yfZGNOnf3pbBpGk6v8AErVzrmuExadE21VXIBAOfLj/APZm6598BfdVW20+2SCBFiiiUKiKMBQOgAoVbawtkggRYoolCoijAUDoAK5LUNQku5fJh6Vjm+bzzCahBctKOkYrZL/McpObstg1DUJLuXyYelX7DRUKb5hkmptK0tYlEko+auiAAGBXhylbSJEpW0Rkf2Na+go/sa1/uitiio5mRzMx/wCxrX+6K87+KWmwW/hKSRBg+fAPzcV65XmnxZ/5E6T/AK+IP/RgrahJ+0j6mtCT9pH1Kvw20yCfTdzD+H+ld7/Y1r/dFYHwt/5BB/3D/Ku27V25g2nGx25g2nGxkf2Na/3RUc+m6fbQvc3LLHFGpZ3Y4VVHUk+la888NtC9zcusUUalndjgKB1JNeCazrOrfEnVhoOggxadE25mbIBAP+sk9h/CvXPv93rybKKmPm5zly046yk9kv8AM4qcXLroU9QvL/x9q39g+HUMWnoQzuwI3AH/AFknoB/Cvr7/AHfYtK8KaXomnpY2w+VeXc/edv7zf0HQDgVd0HQdO8NacthYLgDl3b70jf3m/oOgHSqmqaptzDCea684zmNeKwOAXLQjt3k+7KlNyfLHYyNTS1Q+VCMmrGjaS24TOMU/TNNed/PnrsI41jUKo6V81KdlZEynZWQ5RtGKdRRWJgFVrz/j0m/65t/6Cas1WvP+PSb/AK5t/wCgmmtxrc+fPhD/AK2P6L/IV9hp9wfSvkT4N/6xP91f5CvqdPuivqz6kf3rT4o4xWZzmgBOaOa1eKOKAP/V+lV+8PrWk33T9KG+6fpWavUfWgAGciuab7x+tdu33T9K4c9a8nMfs/M8rMfs/MKKMH0owfSvJPKCijB9KMH0oAKKMH0owfSgAoowfSjB9KACgdaMH0pQDmkB80+Av+Rnu/8Ar5l/9GNX0/e/6/8A4Cv8q+Zvh9/yM15/18zf+jGr0X4geOxo7HRdEPm6jIArMvzeTnoMc5c54HbvzgH6ynltbHuGHw61f3Jd2e5ioOVNJEXjrx1/YudF0Y+ZqMnDMvPk56cc5c54HbqecAs8C+BDpJGua4PM1GT5lVufKz1JznMhzye31yaXwJ4EOk41zXFMmoyZZVbnys9STzmQ55Pb65Nd/f3yWsZz1rrzHMaOBovK8rd7/HPrJ9l5f13b82UlFckAv76O1jPPNciq3GqT5P3c0Klxqc+SDtzXZWdklsgAHNfH6QXmZ6QXmJZ2UdtGABzV+jB9KMH0rFu5i3cKKMH0owfSgAoowfSjB9KAPnXxz/yUmP8A694P5vX0Xa/8ge2/z2r538b/APJSU/69of5vXrGseKtP8LeHILi6/eTyAiGAH5nOP0Udz+AycCvo6GGq4mlGhQjeTtZHtNN4ay7IseKfFNh4WsPtV1+8mkyIYQfmkb+ijufwGTgV5X4Z8Maj431E+KvFRLWzH5E6CQDoqjtGP1/Mk8MeGNS8b6i3irxUS1sx+ROgkA6Ko7Rj9fzJ9ylkitIgAAioMAAYAA6AD0r28TiaWRUng8G+avL45/y/3Y/1+NkvPbVNcsdyCdLSBFZlCqmMADAAHQAeleQ6V4eOlfbE24lubh26fdiV28sfjkt+I9K7O8u5r+Xyos4rcsdM8uMyS5ZyOp5NfLUMfVoUKtBPSdr/ACv/AJhGXInfqecm3YTCM9a9H0WzEEAYjk1kjTWe/wB23gGuxjj8tAoHSuGpO6sRUndWH0UYPpRg+lYGAUUYPpRg+lAHjnxm/wCQNpv/AF+/+0nrvvh9/wAi+3/XOuC+M3/IH03/AK/f/aT10vg7ULLSvDEuoajKIYIY8s7dB6AepJ4AHJNe7g4SnR5IK7dz2sN/u7+Z2OoX9npdnLqGoSiGCEbndu3+JJ4AHJPSvn+5udb+KmuC1tAbbTbUhsN0jU8b3x96RhnavQfTJLrm51z4qa4LW1DW2mWzbhkZVB/ffHDSMPur2+mSfdNJ0jT/AA/psenaemyKMck/eZu7Me7Hv+nFfSRjS4epc87SxUlot1BP9f6234UlSV3uJpGkab4e05NP06Py4k5JPLOx6sx7k/8A1hxWRqmqFiYYTzS6pqbMTDByaTS9KZz584PNfEVKk6k3WrO8nrdmX96Qml6Wzt50/WusRFQbVpVQIu0CnYPpXPKVzKUrhRRg+lGD6VJIUUYPpRg+lAHMeNf+RP1n/ryn/wDQDXnnwc6CvRPGuf8AhD9Z/wCvKf8A9ANeZfCDqv1r2cu+FnsZf8LPdZP9Y31NeF+NPGt3rN3/AMIp4T3TGVjHJJH1lPdEPZB/E39Mku8deNrrXdQfwp4S3T+e5R5YjzKcnKIeyD+Js4Iz2yT3HgvwVa+FLQyy4mv5lxLKBwo/uJ6KPXq3U8YA+lwmCo5NSWY5hG9V/BD/ANul/X47cfKqd5S3E8F+C7TwpaGWUrNfzLiWUDhR/cT0Udz1Y8njAG5qeppbqUU/NS6nqS26lE+9XP2dnPfzebKDivkcXi62MrSxOJldv+rLyMvifNILOzmv5vNl6V2lvbpAgVRii3t1gQKoqxg+lcUpXM5SuFFGD6UYPpUEBRRg+lGD6UAHevmrQf8AkoOq/wDX5J/6FX0qAc18y6L/AMlC1X/r9k/9Cr08u+KR6WX/ABSPp1/uR/7grzvxx44g8MQG0tCsmoSLlVPIjB6M/v8A3R36nirPxC8dW3hqBLOyZZdReIYXqIgf4n9/Re/U8VyvgfwNcPOPFHihWkupW8yKKTkgnnzJM/xei9up5wB9Ng8qoYeLzTNPgv7ses3/AJf1tvNWCVSU5B4H8DzvOPFHikNJdSt5sUUnJBPPmSZ/i9F7dTzgD1S8vEtkLMeaLy8S2Qs3WuOdrjU58AHbmvn8zzOtmNd16706Lol2RzNubu9hHefU58D7ua62wsEtYxxzS2GnpaoOOa0se1eVKXRESl0QlLRg+lGD6VmZhRRg+lGD6UAFeB/FH/kcNJ/692/9DFe+YPpXgPxT/wCRu0n/AK92/wDQxXZgv4qOzBfxUe2aD/yBI/wqvr2vaf4c09tR1BsAcIg+9I391f6noByarzeINN8OeEY77UHxyBHGMbpGA6L/AFPQDk15DpGj6v8AErVzrmuFotOiO1VXIBAP+rj/APZm659+F+pwmTQrSljsc+WhHd9ZPsjoxVNOpzS2DSNI1f4k6udc1wmLTom2qq5AIBz5cf8A7M3X8cbfdVW20+2SCBFiiiUKiKMBQOgAoVLfT7ZIIEWKKJQqIowFA6ACuS1C/lu5fJhzivLzfN55hNQguWlHSMVsl/mccpObstg1DUJLuTyIelaul6WsQEsgyxpdL0oRASyj5q6ELgYArw5StoiJStogAAGBS0YPpRg+lZGQUUYPpRg+lABXmnxZ/wCROk/6+IP/AEYK9LwfSvNPi1n/AIQ6T/r4g/8ARgrah/Ej6m1D+JH1LHww/wCQZ/wH+ld7NPDbQPc3LrHFGpZ3Y4VVHUk1xHw1uLe00GS6u5FiiijLO7nCqAOpNeeaxrGr/EjVhoOgho9OiO52YEAgH/WSe391euff7v1mHyaePqqU3y046yk9kv8AM9LGU+aUewaxrOrfEjVhoOghotOiIZmbIBAP+skx0A/hX19/u+x6DoOneGtOWwsFwOskh+9I395v6DoB0pdB0DT/AA1py2FguAOXcj5pG/vN/QdAOlU9V1Qr+5h5JrnzjOI14rA4BctCOy6yfd/1/wADglLm9yGwarqu3MMJyap6bpjzv589LpumSTv584PrXYRxiNQqjpXzTairIhtR0QkcaxrtUdKkowfSjB9KyMQoowfSjB9KACq15/x6Tf8AXNv/AEE1ZwfSq94D9km/65t/6CaFuNbnz38If9bH9F/kK+w0+4PpXyJ8G/8AWJ/ur/IV9Tp90V9YfUj+9afFHGKzOc0AJzRzWrxRxQB//9b6VX7w+taTfdP0ob7p+lZq9R9aABeo+tefeOtI1G7gYabK8J9Y2Kn9K9Tb7p+lci93Ix+YKce1c9etCnbnOetWhTtzny43hbxsWONSvcZ/57y//FVJ/wAIj43/AOgle/8AgRL/APFV9Pm7Y/wJ/wB81CJcfwL+Vc31yh2/A5/rlHt+B8wjwt43/wCgle/9/wCX/wCKqX/hEfG//QSvf/AiX/4qvp83b/3E/wC+ahEuP4F/Kj65Q7fgH1yj2/A+YR4W8b/9BK9/7/y//FVL/wAIj43/AOgle/8AgRL/APFV9Pm7f+4n/fNQiXH8C/lR9codvwD65R7fgfMI8LeN/wDoJXv/AH/l/wDiql/4RHxv/wBBK9/8CJf/AIqvp83b/wBxP++ah83/AGF/Kj65Q7fgH1yj2/A+YR4W8b/9BK9/7/y//FVL/wAIj43HP9pXv/gRL/8AFV9P/a2P8Cf9815V478ff2OG0TRQr6lJhSyjPk7umOuXOeB269cA+jl1H6/WWHw8bv00S7sqOJpS0S/A8jRpfBhe2tnMurTf8CMW7+JuuZDngc4zk5JAr1Xwt8NLzTNNfXdXydUnBaNSctDu5LE/89Dnr/D9STU3wz8H6fps/wDbWusJ9TYllRju8onqWPOZP5fXJr0vV9Y+x5UEHjjNfQ5jmNDA0XgsE9H8Uusn2Xl/XrcpKP7yofNGr6H4siuHZdSvFUnoJ5AP/Qqx08NeL7xv+P27b3M0h/rXvPn3WrXG5lXbn0rrLK3jtUACLn6V8e8XRXQh4qiuh81ReEPGUY+S/vF+k0g/rVv/AIRHxv8A9BK9/wDAiX/4qvp/7W39xP8AvmofNxzsX8qn65Q7fgT9co9vwPmEeFvG/wD0Er3/AL/y/wDxVS/8Ij43/wCgle/+BEv/AMVX0/8Aa2P8Cf8AfNQ+bjnYv5UfXKHb8A+uUe34HzCPC3jf/oJXv/f+X/4qpf8AhEfG/wD0Er3/AMCJf/iq+n/tbH+BP++ah83/AGF/Kj65Q7fgH1yj2/A+YR4W8b/9BK9/7/y//FVL/wAIj43/AOgle/8AgRL/APFV9Pm7f+4n/fNcn4p8Xaf4VsPtVyiyTyZEMI+9Iw/ko7n8ByQK6cLKOJqxoUINyeysOOKot2S/A+e5dIn8PTrrfiOeW4lPyxI7lpZSvRQWyQozy3QduTXZeD/Beq+Ort/FniYk2g/1adBJt6Ig7RL3Pfn1JNXwzoc3jXW/+El8ZzfuJDlIvu+Yo6Ko/hiH6+/JP0Tc30VjaRm3CpGBtVQOAAOAB2FfY4nE0snoyoYd3qv4pLp5L9X/AEtZNW55bI+ffFeheJWui9pe3MEY4CxSuigegCkAAdhXCvoXi6d/LGoXj/WeQ/8As1fQF/rFzqcxiRVwfQVr6XYJbqHdFLe4r4iWLpbtGbxVJatHznB4O8YDDLe3an2mkH9a0f8AhEPG+P8AkJXv/gRL/wDFV9PfamxjZH/3zUXm/wCwv5VH1yj2/An65R7fgfLw8J+NM5Go3n/f+T/4qrH/AAiPjf8A6CV7/wCBEv8A8VX0/wDa2/uJ/wB81D5v+wv5UfXKHb8A+uUe34HzCPC3jf8A6CV7/wB/5f8A4qpf+ER8b/8AQSvf/AiX/wCKr6f+1t/cT/vmofN/2F/Kj65Q7fgH1yj2/A+Yf+EW8b/9BK9/7/y//FVL/wAIj43/AOgle/8AgRL/APFV9P8A2tv7if8AfNZ1/qlnpdnLqF+0cMEI3O7Dp+HUk9AByTV08RSnJQhFtvZWBYui3ZL8D5iuvCeu+WLrX7+Y2lufMZriV3RO2QGJ5OcADk5wKv6dp+s/ETUYdD0oGHTLI7izZwg6GR+xkYZ2r2HHTJq1qep6v8UNaEakWOlWzZXcPlTP8bgcNKw+6ueB7ZJ+hfD1lo+gaILPRUCRRjcWPLO3dnPcn/6w4r7pKlktLnkk67W3SC/z/rbfdvmV9oo8r8SeEr3TrKPTvD801rBEP+WbsrMT1ZipGWPc/gOK8tuNF8XK3l/2leMf+u8h/wDZq+jNY8RzzkwRhSTxwKqaXp5dvPnRT35FfEVcdCpJ1KmrfczeJpWu0fP1v4Q8Xy/P9suh7+a/+Naw8H+NlGBqV6P+28n/AMVX06lwUXaI4x/wGmeb/sL+VY/XaPb8CPrlHt+B8w/8It43/wCgle/9/wCX/wCKqX/hEfG//QSvf/AiX/4qvp/7W/8AcT/vmofN/wBhfyo+uUO34B9co9vwPmH/AIRbxv8A9BK9/wC/8v8A8VUv/CI+N/8AoJXv/gRL/wDFV9P/AGtv7if981D5n+wv5UfXKHb8A+uUe34HzD/wi3jf/oJXv/f+X/4qpf8AhEfG/wD0Er3/AMCJf/iq+n/tbf3E/wC+ah8z/YX8qPrlHt+AfW6Pb8D5efwf4yuUa3mv7yWOQbWRppGVgeoIJwQfeoBc3VpGvg/wuWubq6bypXi/iPeND/d/vv0x7Zrt/HXj+81yc+FPCy7xIxSWWLgynuqNnhB/E3AOPTk938NvDGj+HLbzg6XOozACWYdFH9yP0Udz1bqeMAfc4PC0supRxuLj771jD9Zf1+O26fPpBWRzlr8Op/DeilbeUnUp1HnTxkrtH/POMjBCjuf4jyeMAeZ3+heLoJGH9p3nXp58n/xVfS+t+I5ITJCu04JA4965Czt5tQm86VRjPpXyWLzT6zUlWru7Zl9YpJbHg0Phjxfdtu+2XR9zLJ/jW0ng3xog+TUbwfSeQf8As1fTNuwgQIscf/fNP8z/AGF/KuP67R7fgT9co9vwPmH/AIRbxv8A9BK9/wC/8v8A8VUv/CI+N/8AoJXv/gRL/wDFV9P/AGt/7if981D5n+wv5UfXKHb8A+uUe34HzD/wi3jf/oJXv/f+X/4qpf8AhEfG/wD0Er3/AMCJf/iq+n/tb/3E/wC+ah8z/YX8qPrlDt+AfXKPb8D5h/4Rbxv/ANBK9/7/AMv/AMVUv/CI+N/+gle/+BEv/wAVX0/9rb+5H/3zUPm/7C/lR9codvwD63R7fgfMP/CLeN/+gle/9/5f/iqhETeBpHurqTz9Um+ZUc7ipP8Ay0lJ5+gPJ6nivaPHXxDi8NWzWdmsT6hIvyjbkRA/xt7/AN0d+p4rkPh94Wgk1EeIfFbedes3mRwSHJVjyHlz/F3C9up5wB9flmCo06KzHGq0Psx6y/4H9eu0ain/AA0SeEvh7qEsTeK/Ee5r2b95BHJyyk8+bID/ABf3R26nnAHNa/4f8VpdvLHqV2i5PCzyAfkGr6Y1vWjY/Km3BXPIzXmck9xqtx90bc+leLmWbvF1nOv00S6JdkR7anC8WtjwVdB8XXb7RfXb/WaQ/wBa2ovBXjJBlL+7X6TSD+tfSVhEtrGB5aZ/3aveZ/sL+VeV9co9vwI+uUe34HzB/wAIt43/AOgle/8Af+X/AOKqf/hEfG//AEEr3/wIl/8Aiq+nvtb/ANxP++ah83/YX8qPrlDt+AfW6Pb8D5h/4Rbxv/0Er3/v/L/8VU3/AAiPjf8A6CV7/wCBEv8A8VX099rf+4n/AHzUPm/7C/lR9codvwD65R7fgfMP/CLeN/8AoJXv/f8Al/8Aiqm/4RHxv/0Er3/wIl/+Kr6e+1v/AHE/75qHzf8AYX8qPrlDt+AfXKPb8D5h/wCEW8b/APQSvf8Av/L/APFUybw3eaTImteKbyWSOH5U82QvIx67I9xPXv2HU19G6/4psfDuntqGohAvREAG52/urz+Z6AcmvCNOtb34ha4uteJZPs+nq2EjU7cgHmOIdh/eb19/u/TZPgKWIg8ZX92lHr3fZGsK0Zfw1qT+HPDWrfEbUP7W1UNBpVt8iKuQCB/yzj/H77dc+/3dvxh4a11JBHpV1NaQRgKkcEjRqqjoAFIGK98eez0nSYo9NRIYYgERFHyhR2ArzbUtWmvpfJiAPPpXPm2crETVO1oR2j0S/wAxOpCm+WW58+SaP4ukfyhqN4/1nkP/ALNWnB4K8YEbxe3Sn2mkH9a+h9Ks/JUSSIhJ9RW8HC8BF/KvC+uUV0/Ah4uitLHzCPCvjYcDUr3/AL/y/wDxVT/8Ij43/wCgle/+BEv/AMVX099rb+4n/fNQ+Z/sL+VL65Q7fgL65R7fgfMP/CLeN/8AoJXv/f8Al/8Aiqm/4RHxv/0Er3/wIl/+Kr6e+1v/AHE/75qHzP8AYX8qPrlDt+AfXKPb8D5h/wCEW8b/APQSvf8Av/L/APFVN/wiPjf/AKCV7/4ES/8AxVfT32t/7if981D5n+wv5UfXKHb8A+uUe34HzD/wi3jf/oJXv/f+X/4qifwX4nmiP9q3872yfO/nzOY1C87m3Ejj1r6fn1KO2he5ufKiijUs7sMKoHUk187+IfEWo/ELUho+k/6NpcLAu7fKDz/rJPx+6vXPv933cnwSx8nJe7CPxSey/wCCaQr05fAjHsodU8YXEXhLw5uWxiIaSRgVDY/5aP6KD9xeuff7vqGt+Bp9E0hNM8PzSwhRl5I2KPI+OWYrj8B0A6V6V4P0jQ/DeifZNIAY7d0krY3SMB1Pt6DoBWBq+vO2Yk2kn2rpzfOKbUcHh1aktl382OU403+83Z84XOkeLo28v+0rw+3nyf8AxVTW/g7xhcfvPtl19fNf/GvfdMtZZ38+dFP1FdZHtjUKqLx7V808XRXQzeLorofMa+FPGqjC6jej6Tyf/FVY/wCER8b/APQSvf8AwIl/+Kr6e+1v/cT/AL5qHzP9hfypfXKHb8BfXKPb8D5h/wCEW8b/APQSvf8Av/L/APFVN/wiPjf/AKCV7/4ES/8AxVfT32t/7if981D5v+wv5UfXKHb8A+uUe34HzD/wi3jf/oJXv/f+X/4qpv8AhEfG/wD0Er3/AMCJf/iq+nvtb/3E/wC+ah83/YX8qPrlDt+AfXKPb8D5h/4Rbxv/ANBK9/7/AMv/AMVUp8IeNmBVtSvSDwR58n/xVfT/ANrb+4n/AHzUJmVfmZFwOTxR9codvwD63R7fgeS/D3wjdaPIplUjFfRq8KB7Vg6dq+m3n/Hrt/CrnWvRPQF71p8UcYrM5zQAnNHNavFHFAH/1/pVfvD61pN90/Shvun6Vmr1H1oABnIrmm+8frXbt90/SuHPWvJzH7PzPKzH7PzCiiivJPKCiiigAoopCQBljgDkk9hQlfRAV2vLZbxNPZ/38kbSqv8AsIVUn82FWa8D8O+KjrXxPN4MmGeOS1h9owu5PT7xUt/wKut8deOxo2dF0U+ZqMmFLLz5WenHOXOeB269cA/X4nhbExxVHBUl70oqT7LV3v5LY6JUXdJB468d/wBjZ0XRT5moyfKzAZ8nPTju5zwO3U84Bb4E8Cf2QV1vXB5moyfMqsc+VnuTzmQ55Pb65NJ4E8C/2TjXNbHmahJ8yqxz5WepJ5zIc8nt9cmvQL6/jtUPPNb5jmNHA0XleVv/ABz6yfZeX9d26lJRXJA+f/COtXEOuXaO5IW4mxk/9NGr1u4Fxqt7uOduBXhPgyJ7zxDcKOhnlP5ua+o4LKO1VQBztFeNjJWpJnpYuVqSZFZ2cdsgAHNX6KK8Ju54bdwooooAKKKKACiiuY8U+KbDwtYfarr95NJkQwg4aRv6KO5/AZOBXRhcLVxNWNChG8nshxi27IPFPimw8LWH2m5/eTyZEMIOGkYfyUdz+A5wK8r8MeGNS8baifFXiolrZj8idBIB0VR2iH6/mSeGPDGo+NtRPirxUS1sx+ROgkA6Ko7Rj9fzJ9xllitYgAAqqMADgADoAPSvtsTiaWRUng8G+avL45/y/wB2P9fjZLpbVNcsdzwjxnfy2HxASCA7IhbQAKOAAC/QV6TPf3GpWcESHIz/AErxXxrcG88fBk7wRD8i1e/+H9NSHS4ZHHJ/wr56Un9Wu+x6UnbD3fYl0zTFgUO4+at3GOKMY4pa8Nu54jdwooopCCiiigAooqnqF/Z6XZy6hqEohghG53bt/iSeAByTxV06cqklCCu3sgSvog1C/s9Ls5dQ1CUQwQjc7t2/qSTwAOSeleAXFxrnxU1sW1srW2mWzZGeRGD/ABv2aRh91e30ySlzca58VNb+y2gNtptsdwDciMHje+PvSMPurnA+mSfdtK0nTvD+npYadGI4k5J/iZu7Me7H1/DpX30Y0uHqXPO0sVJaLdQT/X+tt+tJUld7nlHxEs7bwr4Z0qx0dfKjW7+Y/wATny3yzHuxxyfw6V0mga3PNohhByzJXIfGG/WfT7CFP4brP/kNhXS/DnTvO00zS8/LXz9OrOrTlVqu7d22z0aDfsW5eZ0ul6Wzt50/U11aqEG0UqoEG1adXgSldniylcKKKKkkKKKKACiiigArwrxp41udduf+EU8JZnE5MUkkfWU90Q9kH8TdCO+OSvjTxrda3djwn4T3SmVjHJJH1lPdEPZB/E3GcemSe78F+C7TwpaGWUrNfzLiWUDgD+4noo792PJ4wB97gsFRyajHMMwjeq/gh/7dL+vx264xVNc0tznofCFv4O8FatdkrLqL2UpkmHRcITsT0UHr3Y8njAGN8O/EFx9n/eNkmu48e6gieF9UgU8vayj80NeUfC2za8nQN90EV5EMZWxdSeIxEryb/pLyPQwTbTbPWLazm1C4M0vTJrsre3SBAqipFt0t3ZFHRj/OpK+dqSvJnk1JXbCiiiszIKKKKACiiigArz3xx44g8MwGzsysmoSLlVPIjB/ib39F79TxR448cW/hm3NnZlZNQkXKqeRED/E3v/dXv1PFc94G8DztOPFHigNJdSHzIopeSCefMkz/ABegPTqecAfZZVlVHD0VmmaL3Psx6zf+X9bb9EIKK55i+BvA873A8UeKQZLqRvNiik5IJ58yTP8AF3A7dTzgDltM1y5i8a6pE7nal3IAP+BV77eXqWyFmPNfLGnB7zxvqO3+O7kP5tXNUzSvmGIlXrbW0XRLsjuwUnKbbPeZpLjVZUHO3ArqbCwS1jHHNWobCO1jiwOdgqxXgYqX7ySOPFS/eNBS0UVynKFFFFABRRRQAVia/r+n+HNPbUNQbjoiD70jddq/1PQDk0a/r+n+HNPbUNQbjoiD70jf3V/qegHJrxrSNI1f4k6udd10mLTom2qqkgEA58uP2/vN1/H7v1GTZNCtB47HPloR3fWT7I3p07+9LYNI0jV/iTq51zXC0WnRHaqrkAgH/Vx57f3m659/u2fiFdHSPEukWdiBDAtsyhEGFADgAAe1e2KttYWyQQIsUUShURRgKB0AFfOXxOu/tninT9n8MLAf99itMZnE8fiIxguWlHSMVsl/mdeGm5VVbY9Tg1K4vdOSFCTnFdFpeliICWQZY1H4X0tU0SOeQZJIrpgAOBXh46VqlicbK1SwAY4FLRRXnnnhRRRQAUUUUAFRTzw2sD3Ny6xRRKWd2OAoHUk0Tzw2sL3Ny6xxRqWd2OAoHUk14JrGsav8SdWGg6CGi06I7mZsgEA/6yTHb+6vXPv933smyaePm5zfLSjrKT2S/wAzWnT5t9g1jWNX+JOrjQtBBi06I7mZsgEA48yT2/ur1z7/AHeg8Z6PZ+E/ARtdJBUi4ty8h+/I28ZLY/IDoBwK9D0HQdO8NacthYLgDl3P3pG/vN/QdAOK87+LOoLJ4Ze3Q/8ALeE/k4r0cxzmNaUMDgFy0IvRdZPu/wCv+B0053qRjDa47wlrc76X5e4lmWur0zTHncTz1zHwu077TZGWXoFP8q9XjjWNQqivGzCVnE6MfKzQRxrGoVe1SUUV5J5IUUUUAFFFFABRRRQAVXuyRazEdo2/kasVWvP+PSb/AK5t/wCgmhbjW54V8J9Rup2jSVy2FXr9BX1qh+QfSvkT4Of6xP8AdX+Qr6nT7or6w+pH960+KOMVmc5oATmjmtXijigD/9D6VX7w+taTfdP0ob7p+lZq9R9aAAZyK5pvvH6127fdP0rhz1rycx+z8zysx+z8woooryTygooooAK81+KGvjSPDrWMTYn1DMYx1EY/1h/EfL+NelV8hePvEP8AwkPiGa4ibdbxfuofTYvf/gRy30Ir7XgzKfruPVWa92nq/Xov1+R0UI3fN2OVsNQu9NvI7+ykMU0TblZcZB9uo716V4K1Dw1YN/ampXX/ABMHdsGVHKxj+8GwQWbnk8j6kmvMrWyur2Zbe1jaWR/uqoJJ+gHNd7p3gRkYPrM3lf8ATKIhpO/BblV7f3jX7Bn1TBRw8oYurycytp8TXbZux2H0Ha+JtHvEW3068guJ2HCRyKWP0XOaylS41O4y2dua53R7Ows/3FhCturfeIyXb/ec/Mfp09q9J08WkKKEIzX8/Y1YaFRrB83L/etf8Dlmox+E+ffh9GE8S3K+lxIPykNfUl5/r/8AgK/yr5m+H3PiW8/6+Zv/AEY1fSk33h9B/Ktsd/BR343+EiKiiivFPGCiiigAoormPFPimw8LWH2q5/eTyZEMIPzSN/RR3P4DJIrowuFq4mrGhQjeT2Q4xbdkHinxTYeFrD7TdfvJpMiGEHDSMP5KO5/Ac8V5Z4Y8Maj421E+KvFRLWzH5E6CQDoqjtGP1/MlPDHhjUfG2onxV4qJa2Y/InQSAdFUdox+v5k+5SyxWsQAAVVGABwAB0AHpX22JxNLIqTweDfNXl8c/wCX+7H+vxsl0tqmuWO4SyxWsQAAVVGABwAB0AHpXGXl5NfzeVF0ovLya/m8qLpmt/TNMWBQ7j5q+H296W5mly6vc+f/ABNafZ/H0Ubdfs8J/MtX09a4/se2x/nivnbxvx8SUH/TtD/N6+gNO/5BUH+e1erN3wt/JHqTd8NfyLFFFFeIeKFFFFABRRVO/v7PS7OXUNQlEMEI3O7dvYdySeAByTxVU6cqklCCu3sgSvog1DULPSrKXUNQlEMEI3O7dvp6kngAck14BcXGt/FTXFtrZWttLtmzzyIwf437NIw4Ve30ySXFxrfxU1wW1qDbaZasGw3RFPG9/wC9IwztXoPpkn3XStK07w/pyafp6eXDHzzyzMerMe5P+eK+/jGlw9S552lipLRbqCf6/wBbb9aSpLXcNJ0rT/D+nR6dYJsijHJP3mbuzHux7/4Vj6pqhY+TB1o1TVCx8mHrRpels7efP1r4ipUnUm61Z3k9TP8AvSPJfiXZPHo+nzy9XuwP/IbGvYvh6APDzAf8864H4xqqaLpiqOPtn/tJ67P4ff8AIEP+5XpYd3oN+p6lB3oN+p2NFFFeGeIFFFFABRRRQAV4X408a3Wu3X/CJ+EwZxOfLeSM8ynuiHoEH8TZwRntyTxp41utcux4T8J7pvOYxSPH1lPQoh7IP4m7jvtyT3fgvwXaeFLQyylZr+ZcSyjoB/cT0Udz1Y8nsB97gsFRyajHMMwjeq/gh/7dL+vx264xVJc0txfBfgu08KWhllKzX8ygSyjoB/cT0UevVjyeMAbep6mtupRD81Gp6mtupRD81YFnZzX83my9K+SxeLrYytLE4mV2/wCrLyM9ZPmkc94it5rrw3q11JnC2kx/JDVD4NKAAa77xbAkHgzWFUf8uU//AKAa86+EHVfqK68BK8WengZXTPdZP9Y31NNqSf8A10n+8f51HXjT+Jnjy+JhRRRUkhRRRQAV57448c2/hmA2dmVk1CRcqp5EQP8AE3v/AHV79TxR458cQeGbc2dmVk1CRcqp5EQPRm9/7q9+p4rn/A3gadpx4o8UBpLqRvMiil5Kk8+ZJn+L0B6dTzgD7LKsqo4eis0zRe59mPWb/wAv6236IQUVzzDwN4GnaceKPFAMl1I3mxRSclSefMkz/F6Dt1POAPVLy8jtoyzHmi8vUtkLMea413n1OfA+7mvGzPM6+Y13XrvTouiXZCbc3dgzz6pcYGdua8i8NQiPx5qUf9y7kH619FWFhHaoOOa+eNF/5KDqv/X7J/6FUYGV5NI78FK8mkfTrf6uP/cFMq1df8sv+uY/rVWuHFfxZHDif4sgooornOcKKKKACsTX9f0/w5p7ahqDcdEQfekb+6v9T0A5NGv6/p/hzT21DUG46Ig+9I391f6noBya8a0fSNX+JOrnXddJi06JtqquQCAc+XH7f3m659/u/UZNk0K0Hjsc+WhHd9ZPsjenTv70tg0jR9X+JOrnXdcJi06JtqquQCAf9XH7f3m659/u+6qttYWyQQIsUUShURRgKB0AFCrbWFskECLFFEoVEUYCgdABXJahqEt3J5MPSsM3zeeYTUILlpR0jFbJf5jlJzfkJqGoSXkvkw9K8i8c2ZtvE+lB+rQMf/HxXuel6WIlEkgyTXkfxSGPF2kgf8+7f+hivPwkl7VRR0YWS9qoo9t0AY0SP8K0qg0f/kX4vqKnqMf/ABSMd/FCiiiuE4gooooAKhnnhtYHubl1iiiUs7scKoHUk0s88NrC9zcuscUSlndjgKo6kmvBNY1jV/iRq40LQg0WnRNuZmyAQD/rJPb+6vXPv933smyaePm5zfLSjrKT2S/zNadPm1ewaxrGr/EnVhoWghotOibczMCAQDjzJPb+6vXPv932TQtC07w1py2FguFHLufvO395v6DoBwKNB0HTvDWnLYWC4A5dz96Rv7zf0HQDgVS1XVduYYeTXXnGcRrxWAwK5aEdl1k+7/r/AIGkpc3uQ2DVdV25hhOTXmPj+yk/4RSW6l7zwj83FeiaZpjzv589YfxWRY/BkiqOPtEH/oYrwaLSqRS7lUmlOKXctfC9caXx/d/pXolcT8Lf+QQf9w/yrtu1dOY/FE6Mw+KItFFFeWeYFFFFABRRRQAUUUUAFVrz/j0m/wCubf8AoJqzVa8/49Jv+ubf+gmmtxrc+fPhD/rY/ov8hX2Gn3B9K+RPg3/rE/3V/kK+p0+6K+rPqR/etPijjFZnOaAE5o5rV4o4oA//0fpVfvD61pN90/Shvun6Vmr1H1oABnIrmm+8frXbt90/SuHPWvJzH7PzPKzH7PzCiiivJPKCiiigDi/HV/fW2hvYaTG8t5fnyEWPllVh8zdRjjgH1IrzPQPhBcS7brxFN5C9fJiIZ8ehblV/Dd9av+LAD8U9IJHP+i/+hvXsV/crBCSTzX6BUx+IybL6FHBNJ1VzN219F009Drb5IpR6nA3dppmhwGw0eBbdD94r95v95jy34muewT0rcltri/uCwHGa3rHw8Bhpa+Qq4ic5OpWk3J9Xqyuey1ZylrZ3MrDYDXZ6dplwhDSE1vwWUEAwoFXQAMYrjlVvsYSqX2PmnwAMeJrof9PMv/oxq+oL3/X/APAV/lXzN8Pv+RmvP+vmb/0Y1fSk33h9B/KvVx38FHp43+EiKiiivFPGCiiuY8U+KbDwtYfabn95PJkQwg/M7D+SjufwGSRXRhcLVxNWNChG8nshxi27IPFPimw8LWH2q6/eTSZEMIOGdv6KO5/AZOBXlnhjwxqPjbUT4q8VEtbsfkToJAOiqO0Y/X8yTwx4Y1HxtqJ8VeKiWtmPyJ0EgHRVHaMfr+ZPuMssVrFgAKqjAA4AA6AD0r7bE4mlkdJ4PBvmry+Of8v92P8AX42S6W1TXLHcJZYrWLAAVVGABwAB0AFcZeXk1/N5UXSi8vJr+byoulb+maYtuodx81fEbe9LczS5dXuGmaYsCB3HzVuAYoxjgUtYt3Mm7nzr45/5KTH/ANe8H83r6Ltf+QPbf57V87+N/wDkpKf9e0P83r3/AE7/AJBUH+e1e1L/AHX5I9iX+6/JFiiiivEPGCiiqd/qFnpdnLqGoSiGCEZd27fTuSegA5Jq6dOVSShBXb2QJX0QX9/Z6XZy6hqEohghG53Pb8O5PQAck14BcXGufFTXBa2wa10y2O4bhlYx/ffHDSN/CvYe2SVuLjW/iprYtrYNbaXbNnB5EYP8b9mkYfdHb6ZJ910rStO0DTk0/T08uGPnnlmY9WY9yf8A9XFffRjS4epc0rSxUlot1BP9f62360lSV3uGlaVp+gacmn6enlxR888szHqzHuTWNqmqFj5MPWjVNULnyYTzRpels7efP1r4ipUnUm61Z3k9dTO32pBpell28+brXVooRdq8UIoQbRT655SuZSlc8c+M3/IG03/r9/8AaT133w+/5F9v+udcF8Zv+QPpv/X7/wC0nrsfh9/yBD/uV7OG/wB3fzPYw3+7v5nY0UUV4h4oUUUUAFeFeNfGl5rl3/wifhMNN5reXJJEeZT3RD2QfxNnB+mcnjTxrda9df8ACJ+E8zicmKR4+sp7oh7IOdzdCO+OT3vgvwXaeFLQyy7Zr+ZcSyjoB/cTPRR69WPJ7Afe4LBUcmoxzDMI3qv4If8At0v6/HbrjFUlzS3DwX4LtPCloZZCs1/MuJZR0A/uJ6KPXqx5PGANvU9TW3Qoh+ajU9TS3Qoh+Y1gWdnNfzebL0zXyWLxdbGVpYnEyvJ/1ZeRnrJ80gs7Oa/m82XpXaW8CQIFUUW8CQIFUVYrilK5nKVzmPGv/In6z/15T/8AoBrzz4OdBXofjX/kT9Z/68p//QDXmfwg6r9RXrZd8LPVy/4We6yf6xvqabUk/wDrpP8AeP8AOo68ifxM8mXxMKKKKkkK898c+OYPDMBs7MrJqEi5VTyIgejMPX+6vfqeKPHPjmDwzAbOzKyahIuVB5EQPRm9/wC6vfqeK5/wN4GnaceKPFAaS6kPmRRSclSefMkz/F6Dt1POAPssqyqjh6KzTNF7n2Y9Zv8Ay/rbfohBRXPMTwN4GnaceKPFAMl1IfMiik5IJ58yTP8AF6Dt1POAPVby8S2Qsx5ovbxLZCzHmuNd59UnwM7c142Z5nXzGu69d6dF0S7ITbm7sHefU58DO3NdbYWEdqg45osLCO1jHHNaVeVKV9ERKXRCivmrQf8AkoOq/wDX5J/6FX0r3r5l0X/koOq/9fsn/oVd+XfFI7sv+KR9Ov8Acj/3BTKtXX/LL/rmP61VrkxX8WRy4n+LIKKKK5znCsTX9f0/w5p7ahqDcdEQfekb+6v9T0A5NGv6/p/hzT21DUG46Ig+9I391f6noBya8a0fR9X+JOrnXddLRadEdqquQCAf9XH7f3m659/u/UZNk0K0Hjsc+WhHd9ZPsv6/4G9Onf3pbBo+kav8SdXOu66TFp0TbVVcgEA/6uP2/vN1z7/d91VbawtkggRYoolCoijAUDoAKFW2sLZIIEWKKJQqIowFUdABXI6hqEt5L5MPSsM3zeeYTUILlpR0jFbJf5jlJzfkLqGoS3cnkw9K1dL0sRKJJBlqXS9LESiSQfMa6EAAYFeHKVtERKVtEAAAwK8E+KP/ACOGk/8AXu3/AKGK98rwH4p/8jdpP/Xu3/oYrfBfxUb4L+Kj2zQf+QJH+FaVQaP/AMi/F9RU9Vj/AOKPHfxQooorhOIKhnnhtYXubl1jiiUs7scBQOpJonnhtYHubl1jiiUs7scBVHUk14LrGsav8SdXGhaEDFp0TbmZsgEA48yT2/ur1z7/AHfeybJp4+bnN8tKOspPZL/M1p0+bV7BrGsat8SdXGhaEGi06JtzM2QCAf8AWSe391euff7vsmhaFp3hrTlsLBcAcu5+87f3m/oOgHAo0LQtO8NacthYLgDl3P3pG/vN/QdAOBVLVdVxmGE5JrrzjOI14rA4FctCOy6yfd/1/wAC5S5vdjsGq6rt/cw9TVXTNMed/Pno0zTXnfz566+ONY1CrXzcmoqyJbUVZBHGsa7VFecfFn/kTpP+viD/ANGCvS680+LP/InSf9fEH/owU6H8SPqFD+JH1LHww/5Bn/Af6V6FXE/C3/kEH/cP8q7btXdmPxRO3MPiiLRRRXlnmBRRXjnjnxzO058L+Fi0l1IfLlli5IJ48uPH8Xq3boOckerlWVVsxrKjRXq+iXdlwg5OyPTbTXtFvr2bTbS8iluYCVeNWG4EdcDvjvjODxWtXzF4O0m80P4jWml3xXzYWcMFO5QTAzcHjsRX0sbiIHaTzXo8R5RRy6vTp4eblGUVK/rft00uXVpqL0J6KQEEZFLXzJiFVrz/AI9Jv+ubf+gmrNVrz/j0m/65t/6Caa3Gtz58+EP+tj+i/wAhX2Gn3B9K+RPg3/rE/wB1f5CvqdPuivqz6kf3rT4o4xWZzmgBOaOa1eKOKAP/0vpVfvD61pN90/Shvun6Vmr1H1oABnIrmm+8frXbt90/SuHPWvJzH7PzPKzH7PzCiiivJPKCiiigDw7xZ/yVLSPra/8AoT16Fr7vvC9q898Wf8lS0j62v/oT16Br/wDrBX2uf/7tgP8Ar3/kdsto/wBdjY0mGMW4bHNbFZulf8eq/StOvi5bnJLcKB1ooHWkSfNXgL/kZ7v/AK+Zf/RjV9P3v+v/AOAr/Kvmb4ff8jNef9fM3/oxq+lJvvD6D+Ve1jv4KPZxv8JEVFFcx4p8U2Hhaw+03P7yeTIhhB+Z2H8lHc/gOa83C4WriasaFCN5PZHjxi27IPFPimw8LWH2m5/eTyZEMIOGdh/JR3P4DkgV5Z4Y8Maj421E+KvFRLW7H5E6CQDoqjtGP1/Mk8MeGNR8a6ifFXiolrdj+7ToJAOiqO0Y/X16k+4yyxWsWBhVUYAHAAHQAelfbYnE0sjpPB4N81eXxz/l/ux/r8bJdLaprljuEssVrFgAKqjAA4AA6ACuMvLya/m8qLpReXk1/N5UXSt/TNMWBA7jmvh9veluZ/Dq9w0zTFgUO4y1bmMcUClrJu5k3cKKKKQj518c/wDJSY/+veD+b19F2v8AyB7b/Pavnfxv/wAlJT/r2h/m9e/6d/yCoP8APavbl/uvyR7Mv91+SLFFFU7+/s9Ls5dQ1CUQwQjc7t29B7k9AByTXjU6cqklCCu3sjxkr6INQ1Cz0qzl1DUJRDBCNzu3b047kngAck14BcXGt/FTXBa2wa10y2O4BuQgPG98cNI38IzwPbJK3E+t/FTW1t7cNbaXbNnnkID/ABv2aRh0HQfTJPuulaVp+gadHp+np5cUfryzN3Zj3Y9zX38Y0uHqXNK0sVJaLdQT/X+tt+tJUld7hpeladoGnpYafGI4o+f9pm7sx7k9z/SsbVNULEwQ9aNU1QufJh5Jo0vSy586frXxFSpOpN1qzvJ66mf96QaXpbO3nzda6tFCLtFCoEXatPrnlK5lKVwoooqSTxz4zf8AIG03/r9/9pPXffD7/kX2/wCudcF8Zv8AkD6b/wBfv/tJ67H4ff8AIEP+5Xt4b/d38z2sN/u7+Z2NFFFeIeKFeE+NfGl3rt2PCXhPdL5reXJJEeZj3RD2QfxNxnH93OTxp40utfuh4T8J5nWc+XJJH1mPdEPZB/E3f/dznvvBfgu08KWhkkKzX8ygTSjoB/cT0Ufmx5PYD73BYKjktGOYZhG9V/BDt/el/X47dcYqkuaW4eC/Bdp4UtDJIVmv5lxLKBwB/cT0Ud+7Hk9gNvU9TW3Uoh+ajU9TS3Qoh+asCzs5r+bzZelfJYvF1sZWlicTK8n/AFZeRnrJ80gs7Oa/m82XpXaW8CQIFUUW9ukCBVFWK4pSuZylcKKKKgg5jxr/AMifrP8A15T/APoBrzz4OdBXofjX/kT9Z/68p/8A0A15n8IOq/UV7OXfCz2Mv+Fnusn+sb6mm1JP/rpP94/zqOvIn8TPJl8TCvPfHPjmDwzAbOzKyahIuQDyIgejMPX+6vfqeKTxz45g8MwGzsismoyLkA8iIH+Jvf8Aur36niuf8DeBp2nHijxQGkupD5kUUvJUnnzJM/xeg7dTzgD7DKsqo4egs0zRe59mPWb/AMv6232hBRXPMPA3gadpx4o8UBpLqQ+ZFFLyVJ58yTP8XoO3U84A9VvbxLZCzHmi8vUtkLMea413uNUnwM7c142Z5nXzGu69d6dF0S7ITbm7sHafU58DO2utsLCO1jHHNFhYJaoOOa0q8qUuiIlLogpaKKzMw7181aD/AMlB1X/r8k/9Cr6V718y6L/yUHVf+v2T/wBCr08u+KR6WX/FI+nX+5H/ALgplWrr/ll/1zH9aq1yYr+LI5cT/FkFYmv6/p/hzT21DUG46Ig+9I391f6noByaNf1/T/DmntqGoNx0RB96Rv7q/wBT0A5NeM6Po+r/ABJ1c67rpaLTojtVVyAQD/q489v7zdc+/wB36DJsmhWg8djny0I7vrJ9kKnTv70tg0fR9W+JOrnXddJi06JtqquQCAf9XH7f3m659/u+7KttYWyQQIsUUShURRgKB0AFCrbWFskECLFFEoVEUYCgdABXI6hqEl5L5MHSsM3zeeYTUILlpR0jFbJf5jlJzfkGoahLdy+TD0rW0vS1iAklGTS6XpaxKJJR81dCBjgV4cpW0REpW0QAADApaKKyMgrwP4o/8jhpP/Xu3/oYr3yvAfin/wAjdpP/AF7t/wChiuzBfxUdmC/io9s0H/kCR/hWlUGj/wDIvxfUVPVY/wDijx38UKinngtYHubl1jiiUs7scBQOpJpJ54bWB7m5dYoolLO7HAUDqSa8F1jV9X+JOrjQtCBi06JtzM2QCAceZJ7f3V6/j930MmyaePm5zfLSjrKT2S/zOenT5tXsGsaxq3xJ1caFoQaLTojuZmyAQD/rJPb+6vXPv932TQtC07w1py2FguFHLufvSN/eb+g6AcCjQtC07w1py2FguFHLufvO395v6DoBwKparqu3MMPJNdecZxGvFYHArloR2XWT7v8Ar/gaSlze7HYNV1Xb+5hOTVXTNMed/Pno0zTXnfz566+ONY1CqOlfNtqKsiG1FWQRxrGoVRjFSUUVkYhXmnxZ/wCROk/6+IP/AEYK9LrzT4s/8idJ/wBfEH/owVtQ/iR9Tah/Ej6lj4Yf8gz/AID/AEr0KuJ+Fv8AyCD/ALh/lXbdq7sx+KJ25h8URaKK8c8c+OLh5z4W8LFpLqRvKlli5IJ48uPH8X949ug5yQ8qyqtmFZUaK9X0S7s8+EHJ2QeOfHM7Tnwt4XJkupG8qWWPkgnjy48fxep7dBzkjofA/ge38MW4u7sLJqEi4ZhyIwf4V9/7x79BxR4H8D2/hi3F3dhZNQkXDMORGD/Cvv6nv0HFdVqWopbRkA8172aZpRoUf7Kyr4PtS6zf+X9bb7Slb3IHi1zN5PxellH8LOf/ACWFdl9vuJboMSQM1wkSm6+K+G/5aE5/G2FekX9slvOirW/FFk8Iv+nUf1Np20R29mxaBSfSrdUrD/j3X6Vdr4V7nC9wqtef8ek3/XNv/QTVmq15/wAek3/XNv8A0E01uC3Pnz4Q/wCtj+i/yFfYafcH0r5E+Df+sT/dX+Qr6nT7or6s+pH960+KOMVmc5oATmjmtXijigD/0/pVfvD61pN90/Shvun6Vmr1H1oABnIrmm+8frXbt90/SuHPWvJzH7PzPKzH7PzCiiivJPKCiiigDw7xZ/yVLSPra/8AoT16Br/+sFef+LP+SpaR9bX/ANCevQNf/wBYK+1z/wD3bAf9eztltH+uxvaV/wAeq/StOszSv+PVfpWnXxctzkluFA60UDrSJPmrwF/yM93/ANfMv/oxq+n73/X/APAV/lXzN8Pv+RmvP+vmb/0Y1e2+L/FNh4Wshc3P7yeRcQwg/M7Y/RR3P4DJxX0dTC1cSoUKEbybVke3i4uVJJEXinxTYeFrD7Tc/vJ5MiGEH5nb+ijufwGScV5Z4Y8Maj411E+KvFRLW7H93H0EgHRVHaIfr+ZJ4Y8Maj411E+KvFRLW7H93H0EgHRVHaMfr+ZPuMssVrFgAKqjAA4AA6ACvbxOJpZHSeDwb5q8vjn/AC/3Y/1+O3nNqmuWO4SyxWsQHCqowAOAAOgA9K4y8vJr+byoulF5eTX83lRdK39M0xIEDuPmr4fb3pbmfw6vcNM0xbdQ7jmtwDHFHTilrJu5k3cKKKKQgooooA+dfHP/ACUmP/r3g/m9fRdr/wAge2/z2r538b/8lJT/AK9of5vXuY1Cz0vw8uoahKIYIRl3btxwB6k9AByTXvKnKeHUIK7drI9qSvhrLsixf6hZ6XZy6hqEohghGWY9vQD1JPAA5JrwGe41v4qa2Le2BttMtW3ANyEB43vjhpGHQdB9MkrPca38VNbFvbhrbS7ZtwzyEB/jfs0jDovQfTJPumlaVp+gadHp9gnlwxjqfvMe7Me7HvX0cY0uHqXNK0sVJaLdQT/X+tt+BJUld7hpWladoGnpYafGI4o+T/eZu7Me7HuaxtU1QufJh60apqhdvJh60aXpZdvOnr4ipUnUm61Z3k+5n/ekGl6Wzt583NdWiBF2ilRQi7R0p1c8pXMpSuFFFFSSFFFFAHjnxm/5A2m/9fv/ALSeu++H3/Ivt/1zrgvjN/yB9N/6/f8A2k9dj8Pv+QIf9yvbwv8Au7+Z7WG/3d/M7GvCfGnjW7168HhPwnulErGOSSPrMe6IeyD+Ju/+7yTxp41u9eu/+ET8JBphM3lvJEeZT3RD2QfxN0PP8PJ77wX4MtPCloZJCs1/MoE0o6Af3E9FHr1Y8nsB9HgsFRyWjHMMwjeq/gh2/vS/rT124IxVJc0tw8F+C7TwpaGSUrNfzLiWUDgD+4noo/NjyewG3qeprbqUQ80anqaQIUQ5Y1gWdnNfzebL0r5HF4utjK0sTiZXk/6svIz1k+aQWdnNfzebL0rtILdIECqKLeBIECqKsVxSlczlK4UUUVBAUUUUAcx41/5E/Wf+vKf/ANANeefBzoK9D8a/8ifrP/XlP/6Aa8z+EH8P1Fezl3ws9jL/AIWe6yf6xvqa868c+OYPDMBsrMrJqEi5APIiB6Mw9f7q9+p4qXx/45g8MiWysismoSE4B5EQJ4Zh6/3V79TxXN+BvA07TjxR4pBkupG8yKKXkqTz5kmf4vQHp1POAPby3KqOHpf2pmi9z7Mes3/l/W2/CoKLc5h4G8DTmceKPFAaS6kbzIopeSpPPmSZ/i9AenU84A9UvLyO2Qsx5ovL1LZCzHmuNZ59UuMDO3NeJmeZ18xruvXenRdEuyIbc3dgzz6nPgZ25rrbCwjtUHHNFhYR2sY45rSrypS6Iic+iCloorMzCiiigA7181aD/wAlB1X/AK/JP/Qq+le9fMui/wDJQdV/6/ZP/Qq9PLvikell/wAUj6df7kf+4Kwdf1/T/DmntqGoNx0RB96Rv7q/1PQDk1b8U6/p/hzT01DUG48sBEGN0jc/Kv8AU9AOTXh2j6Pq3xJ1Y67rpaLTojtVVyAQD/q4/YfxN1z7/d93L8mhWlPHY58tCL1fWT7IirTvUlKWwaPo+r/EnVzruukxadE21VXIBAP+rj9h/E3XPv8Ad92AtrC2SCBFiiiUKiKMBQOgAoUW1hbJBAixRRKFRFGAoHQAVyOoahLeS+TD0rgzfN55hNQguWlHSMVsl/mYSk5vTYNQ1CW8k8mHpWvpelrEBJIMsaNL0tYlEkgy1dCAAMCvDlLoiJStogAAGBS0UVkZBRRRQAV4H8Uf+Rw0n/r3b/0MV75XgPxT/wCRu0n/AK92/wDQxXZgv4qOzBfxUe2aD/yBI/wq5PPDawPc3LrFFEpZ3Y4CgdSTUGnTwWvhlbm5dYoowGd2OAoA5JNeGavq+r/EnVxoWhhotOibczNkAgH/AFkn/sq+vvnb9Dhcmnj8Q5zfLSiryk9kv8zfFU+ard7BrGsav8SdXGhaEGi06I7mZsgEA/6yTH/jq+vvnb7JoWhad4a05bCwXCjl3P3pG/vN/QdAOBRoWhad4a05bCwXCjl3P3nb+839B0A4FUtV1XbmGE5NZ5xnEa8VgcCuWhHZdZPu/wCv+Byylze7HYNV1XbmGE81V03THnfz5/1o0zTHnfz566+ONY12qMV822oqyIk1FWQRxrGoVR0qSiisjEKKKKACvNPiz/yJ0n/XxB/6MFel15p8Wf8AkTpP+viD/wBGCtqH8SPqbUP4kfUsfDD/AJBn/Af6V6EK4n4W/wDIIP8AuH+Vcn448cXDznwt4WLSXUh8uWWPkgnjy48fxf3m7dBzkj6OnlVbMMRGjRXq+iXdnoY2DlKKQeOfHE7znwt4WLSXUjeVLLFyVJ48uPH8X949ug5yR0XgfwPb+GLcXd2Fk1CRcMw5EYP8K+/q3foOKPA/ge38MW4u7wLJqEi4ZhyIwf4V9/U9+g4rqdR1FLZCAea6s0zSjQo/2VlXwfal1m/8v6234pSt7kA1HUUtkIB5rmILefUpt7/dot7efUp97525rtLa2S3jCqK+Suoqy3IbUVoeHW8Yi+MYjHRZCPyta9E1j/j7WuAX/ks//bVv/SWu/wBY/wCPta+y4o+LCf8AXqP6m8t0dXYf8e6/SrtUrD/j3X6Vdr4h7nG9wqtef8ek3/XNv/QTVmq15/x6Tf8AXNv/AEE0LcFufPnwh/1sf0X+Qr7DT7g+lfInwc/1if7q/wAhX1On3RX1Z9SP71p8UcYrM5zQAnNHNavFHFAH/9T6VX7w+taTfdP0ob7p+lZq9R9aABc5Fed+Mr3VNFiaTSo0kbn/AFgJ/kRXqzfdNchdGzuuJkJ/Kuev7LT2pz1vZae1Pm5viP8AEEMQLO0xn/nm/wD8XS/8LF+In/Pnaf8Aft//AIuvoQ6doZz+4PPsKqjSNGz/AKk/kK5r4XyOe+F8jwMfEj4hf8+dp/37f/4unf8ACxfiH/z52n/ft/8A4uvoM6boRBAgP5Cqw0jRs/6k/kKL4XyC+F8j5yvdW1PUfFOiatfRol40ULlFBChlaXAwSTjj1qC+8deOLja1xaWynAPCOOf++q7DxXFbR/FHSIoF2xf6MMexaTNdtrumaUkq7IiOfQV9Vnbo/V8HzfyaDj7G/vfI8ntPiH4+iiCxWlqV943/APi6uf8ACxfiJ/z52n/ft/8A4uvcdL0/RGtRugOcegqyNI0YH/Un9K+WbwvWwN4XrY8DHxI+IX/Pnaf9+3/+Lp3/AAsX4h/8+dp/37f/AOLr6EOm6EQf3B/IVxvirUvDPhWw+1Tw+ZcSZEEPALsPX0Udz+A5rfC4aliasaNCN5PZAvqz0VjxHw/dSeGfO8Qasn7yaR2ihHBlkY7iB3Cgn5m7dOTXR6R4d1vxhJN428Sgywn/AFUbZCy46Ko7RL7demepN/wT4LvPHGpnxR4qOLP/AJZx/dEgHRUH8MY/X35J97vrmytIhbumERQAqgAADoAK+xxOJo5RSeHoSvVekpdv7q/V/rtq5L4p6I+c774heObKUwW9naCNOF/dvwB0AAYcVz9z8QPHV6dr29t9FRx/7PXst/8A2fqNwUhhOD7CtfTfDWkQqHliJP0FfEt4ZO7sZt4Za6HhFp4z8b23zRWVqT6sjn/2atb/AIWL8Qx0s7T/AL9v/wDF19B/2boWMC3P5Cqw0jRgf9SfyFS5YV72E5YV72PAv+FkfEL/AJ87T/v2/wD8XT/+Fi/ET/nztP8Av2//AMXX0IdN0Ij/AFB/IVVGj6N/zxP5ClfCeQr4XyPAv+FkfEL/AJ87T/v2/wD8XT/+Fi/EP/nztP8Av2//AMXX0IdN0Ij/AFB/IVVGkaN/zxP5Ci+E8gvhfI8C/wCFkfEP/nztP+/b/wDxdP8A+Fi/EP8A587T/v2//wAXX0IdN0Ij/UH8hWTf2/hrSrOTUNQAhghG52IH5AdyegA5Jq6cMPOShBXb2Q19WeisfOBuNa1zXj4j8QLFarBGokdQVRUQnBwSSSScADknAFb+7X/ilqqWFqGg0mw5Gfuov99+zSsPur2Htkloi1T4o699k06P7BpVu27kfKg/vvjhpWH3V7D2yT9G6XpmkeF9Ki07T4tsC8k/xO3dmPcmvubUcjo80rOu16qC/wA/6230bTXaKPBb3X/EPhCMaT4dsbdbaMnHmKzMxPVmIYZY9zXO3XxI8eTfu2t7Uf7sb/8Axde4a5eaXdyGOKElj3wKpaX4Z01yJriInv0FfE1atGpN1aru3u2S3h93Y8Rt/F/jVX80Wdux90f/AOKrcX4h/EJBhbK04/6Zv/8AF19CDS9BVcC3P5Cq/wDZGjZ/1J/IVk5YV72JcsM97HgX/CyPiH/z52n/AH7f/wCLp/8AwsX4h/8APnaf9+3/APi6+hDpuhY/1B/IVV/sfRv+eJ/IUr4XyFfC+R4F/wALI+If/Pnaf9+3/wDi6f8A8LF+If8Az52n/ft//i6+hDpuhY/1B/IVV/sjRv8AnifyFF8L5BfC+R4F/wALI+If/Pnaf9+3/wDi6f8A8LF+If8Az52n/ft//i6+hDpuhY/1B/IVVGj6Nn/Un8hRfC+QXwvkfM2t614x8YrbafqVrCqxTCRfJRgxbBXHLHjBrX1DxBqdxaQ+BfDW6aS4PlzmLrI3eNW7IOd7dD64znV8Y+KU1jUP+EX8D25cSHy3mjxulPdUI+7GP4nzz7LyfVvAfgjT/Btg13KVuNRlX99KvRV6+XHnoo7nqx5PGAPucJhKOVUVjMVH33rGP6v+vx220tyw0R5Ymm6p8O7bdpkEFzfyqBNM6sQO+yPBGEH5seT2AxLj4l+PgCrW1ov/AGzf/wCLr6C1/VNKlUq0RLH6VxVloNlfTebLEdufQV8ljMZTxdV4jESvJ/19xDeHerPG18Y+NbiTzWtbdj/uPj/0KtyHx94/gXbHZWgH/XN//i6+g4dH0GJNotz+Qpg0jRv+eJ/IVyOWFe9iXLDPex4F/wALI+IX/Pnaf9+3/wDi6f8A8LF+If8Az52n/ft//i6+hDpuhf8APufyFVf7H0bP+pP5ClfC+Qr4XyPAv+FkfEL/AJ87T/v2/wD8XT/+Fi/EP/nztP8Av2//AMXX0IdN0L/n3P5Cqv8AY+jZ/wBSfyFF8L5BfC+R4F/wsj4hf8+dp/37f/4un/8ACxfiH/z52n/ft/8A4uvoQ6doX/PufyFVf7I0bOfJP5Ci+F8gvhfI+ddS8cePNW0650u5tLZYrqJonKo4YK4wcEsRmpdK1ufwHpGAB/aM6/u0PPlqf+Wjj/0Ed+p4r0nx74p0Dwxbm002BZNScZAYArEp6Mw7k/wr36niqfw68APJcr4q8VgyXTsJIYJOSpPIkkB/i/ur26nnAH1+WZbh6FFY/Fq0Psx6yf8Al/XrtHl+GitzlNK8KaxpsA8X6zF59/K3mwwzgttJ58yQcEueqj+HqecAV7v4keP4XZRa2gHqY3P/ALPX0lrWq6cEeOeMkgkdu1eVtp9nqVz8sRC59BXiZlmUcfV9rXe2y6JdkR+4e55DL468b3z5e3tz7BHH/s1alr428d2q4isbX8Uc/wDs1fQFloOg28YDQEn6Cp/7I0b/AJ4n8hXmc2F20JcsNtoeBD4kfEL/AJ87T/v2/wD8XT/+Fi/EP/nztP8Av2//AMXX0IdO0LH+oP5Cqv8AY+j/APPE/kKV8L5CvhfI8C/4WR8Qv+fO0/79v/8AF0//AIWL8Q/+fO0/79v/APF19Cf2boX/AD7n8hVX+x9H/wCeJ/IUXwvkF8L5HgX/AAsj4hf8+dp/37f/AOLp/wDwsX4h/wDPnaf9+3/+Lr6E/s3Qv+fc/kKq/wBj6P8A88T+QovhfIL4XyPA/wDhZHxC/wCfO0/79v8A/F1laE9xpl/d+K9fURCWVpCq8b5G52ID+pPAHJr3/wAQ33hPw5pr6hfQnuI4xt3SPj7o/qegHNeP+G/D2ofEbVxq+sn7NpcLYVE+UEA/6uP/ANmfrn3+79Nk+V0akHjK3u0lu+/kjWDpr+CtWQWOla58Q72TxJrQZNPt/ljQZAbb0jj9gfvt1z7/AHbWoeN/GekMLHTrK0S3hGxF8tsKo6AAMK+k7mTS9HtI9OihEcESAIiABVXoABXk+pCwvp9kMR5PoK5s2zWnjJqm1aEdo9F/wRP2Pwzd2ePXPxE8d3Z2Pb23/AY3H/s9S2ni/wAb253pZWxPqyP/APFV71pnh3RY18yaAkn2Fao0fRh/yxP5CvD5sLtoRzYbbQ8DHxH+IQ4+x2n/AH7f/wCLp/8AwsX4h/8APnaf9+3/APi6+hDpuhf88D+Qqr/ZGj/88f0FK+F8hXwvkeBf8LI+If8Az52n/ft//i6f/wALF+If/Pnaf9+3/wDi6+hDpuhf88D+Qqr/AGPo/wDzxP5Ci+F8gvhfI8C/4WR8Q/8AnztP+/b/APxdP/4WL8Q/+fO0/wC/b/8AxdfQh07Qv+fc/kKq/wBkaP8A88T+QovhfIL4XyPAv+FkfEP/AJ87T/v2/wD8XWPdXPiTxXrVvqWtRQ24tI2BZAURUzuLMWJxivpq4tfDdrBJc3MYiijUs7tgBQOpJr5/1C6u/iDrP9heGovs2mowLu3GQD/rJfb+6nr7/d93J8rp4uTqR92Efil2/wCCXB0V71JajZr3WfH93F4Y0HcmnW+GdyCAcdZJPbP3F6/j93avr7WvAsP9leGrSBolOWeVWLyN03MQR+A6AcCvd9A0DRvBWiLZWCbgcebJgb5Gx94/0HQDgVxmu3OnTuUWMlj9K6c2zWjVisFQXLSj07+bKfs72qvU8RufiZ49kHltb2gz6Rv/APF1Ug8WeNS/m/Y7dj7o/wD8VXuGmeH9LnbzriFufYV0qaLoqAAQn8hXzfNhlpoRzYZaaHgafET4gRgKtlaAf9c3/wDi6l/4WL8Q/wDnztP+/b//ABdfQh07Qv8An3P5Cqv9j6P/AM8T+Qqb4XyJvhfI8C/4WR8Qv+fO0/79v/8AF0//AIWL8Q/+fO0/79v/APF19Cf2doX/AD7n8hVX+x9G/wCeJ/IUXwvkF8L5HgX/AAsj4hf8+dp/37f/AOLp/wDwsX4h/wDPnaf9+3/+Lr6E/s3Qv+fc/kKq/wBj6N/zxP5Ci+F8gvhfI8C/4WR8Qv8AnztP+/b/APxdZet+JPG3iix/sjULWBYnkR8xI4bKHIAyx7+1fTf9m6EeBbn8hXifjbxLard/8I14PjL3jt5ck0Yyyk8eXHj+L1bt0HOSPUyvLoY6t7PDpaat9Eu7Kj9X3gtTm38Q6jpdgvhLQNz38+I5ni5ZCePKQj+M/wARH3egOckdHb+HtU+H1kt5bQRT6nIvzs4LLGD/AAJgjn+8e/QcV6X8N/h7ZeE7P+1L/bNqTockciId1U+v95u/QcVpa5f6c6ESIST9K9vM8yw9Cl/Z2DfufafWT/y/r1uTje9V7ngE/wATfHygqbW0X/tm/wD8XWSfGXje7k8x7a3b/gD4/wDQq9ottK0/UZ97wkL9BXVW+gaLCgUQn8hXyV8NHsRfDLseBwePvHtuu2KytAP+ub//ABVWj8RfiJtJFnadP+eb/wDxdfQv9naF/wA8D+QqodH0b/nifyFK+F8ib4XyPmz+1tUHjqXWFjT7akJmVMHZ5n2YDGM5xz60y88ceNppQ81rbBvZH/8Aiq6wRWp+NBj2HyfNYbf9n7L0rttX0zS1ulCxcZ9BX1fEXsb4Xm/59R/UcXR+0eYwfEX4gJGFSztCP+ub/wDxdWf+Fi/EP/nztP8Av2//AMXXvFjp2hm3UmA5x6Cnf2Po3/PE/kK+TvhfIV8L5HgX/CyPiF/z52n/AH7f/wCLok+IXxCljaJrO0w4KnEb9xj+/X0P/Zuhf88D+Qqr/Y+jZ/1P8qE8L5BfC+R4t8LdHvLKVfOUjGB+VfVqfcH0rFsLHTbc/wCjbfwqxXonoC960+KOMVmc5oATmjmtXijigD//1fpVfvD61pN90/Shvun6Vmr1H1oABnIrmm+8frXbt90/SuHPWvJzH7PzPKzH7PzCiiivJPKCiiigDw7xZ/yVLSPra/8AoT16Br/+sFef+LP+SpaR9bX/ANCevQNf/wBYK+1z/wD3bAf9eztltH+uxvaV/wAeq/StOszSv+PVfpWX4p8U2Hhaw+03P7yeTIhhBwzn+ijufwHNfKYfC1cTWVChG8nsjl5XKVkHinxTYeFrD7Tc/vJ5MiGEH5nYfyUdz+Aya8t8L+GNR8a6ifFXiolrdjmOPoJAOiqO0Q/X8yTwx4Y1HxrqJ8V+KiWt2P7uPoJAOiqO0Y/X8yfcJZYrWIDAVVAAA4AA6ACvs8TiaWR0ng8G+avL45/y/wB2P9fjtu2qa5Y7njPhPxfdzavcQTt8sU0iADgBVcqAB7AV32sX02pXpSLoQK8C8JtJP4gukj/iuJT+btX0rY6YluA7jLECvn8ZL90mz0sW7Uk2R6Zpi26h3HNbmMUAY4FLXht3PEbuFFFFIQUUUUAFFFU9Q1Cz0uzl1DUJRDBCMs57egA6kk8ADkmrp05VJKEFdvZAlfRBf6hZ6XZy6hqEohghGWc9vQAdST0AHJNeBTz638VNbEEAa20u2bPPIQH+N+zSMOg7D2ySTz638VNb+z2+bXTLU5APIQHje/ZpGHQdAPbJPuml6Xp+g6elhp8Yjhj592buzHux7mvvYxpcPUuaVpYqS0W6gn+v9bb9SSpK73PH9R1EeEvE0HhrTAY7SKCJwM8s7ltzMe7HHJr0/VNce6sII4zlif6V4X49ufN+IAaP/n3hH5F69n8P6WXsIZ5uc/4V4FatOpRdWq7t6tnpSf8As92S6XpZc+dPXVooRdooVQi7RT68CUrniylcKKKKkkKKKKACiiigArwjxp40u/EF3/wifhMGZZiY5JI+sx7oh7Rj+Ju/+71PGnjW78QXf/CJ+Ew0yzMY5JI+sx7oh7Rj+Ju/+7yfQPBngy08KWhkkKzX8y4llA4A/uJ6KPzY8nsB99gsFRyWjHMMwjeq/gh2/vS/rT127IxVJc0tzznVdHHw40OzuYWEl/eXAinlHQLsZvLT0QED3Y8njAHqGkeJnuNCcucuyV5/8ZrpG0vT4lPK3ef/ACG4q74CsZL2x3v90LXkTxtbFxliMRK8nf8Ar0PRoSboty8zpLOzmv5vNlziu0ggSBAqiiCBIECqKsV83KVzxZSuFFFFQQFFFFABRRRQAV55458cweGYDZWZEmoSLkA8iIHoze/91e/U8UnjnxzB4ZgNlZFZNQkXIB5EQPRmHr/dX8TxWB4G8CzmceKPFAaS7kbzYopOSpPPmSZ/j7gHp1POAPssqyqhhqCzTNF7n2Y9Zv8Ay/rbfphBRXPMxtJ8JXen6Nf+OPEYZ76OCW5gik5ZWClhJJn+PuoPTqecAdd4C8Yz3sBkuWyfet7x1cpH4S1ZCeWtJh+aGvFvhtFLdypCvTIrOpmlfMKkq9f5Lol2R6WCm5Jtnrczz6pdMBnbuNdXYWCWsY45qS2sI7VmAHO4/wA6vV8tUldtI8qpPVpBS0UVkYhRRRQAUUUUAFYev+INP8N6e2oag3HREH3pG/ur/U9AKNf1/T/DmntqGoNx0RB96Rv7q/1PQCvGtG0fVviTq517XiY9OiO1VXIBAP8Aq4/QD+Juuff7v1GTZNCtB47HPloR3fWT7L+v+BvTp396WwujaNq/xJ1c67rxMWnRttVVyAQD/q489B/ebrn3+7raL4slg8S3mkR4jgtJmhjRRhVVDgADsAK9fUW1hbpDAixRRKFRFGAoHQAV8r2srzeONT8v+O8kP/j1dOIzmePq8sVy04q0YrZL/M9DBz5pPsfQGqalNfyJFF3ArR0vS1iUSSD5qs2elLCsUkg+YoDWwABwK+ZxUv3kkjjxMv3kkgAAGBS0UVyHIFFFFABRRRQAVDcTwWsD3Ny6xRRKWd2OAoHUk0TzwWsD3Ny6xRRKWd2OAoHUk14Lq+r6v8SdXGhaGGh06IhmZsgEA/6yTH/jq+vvkr72TZNPHzc5vlpR1lJ7Jf5mtOnzavYNX1fV/iTq40LQgYtOibczNkAgH/WSf+yr1z75K39Zni8B6lpug6TlYZYWkkY/edwwG5se3QdAOBXquhaFp3hrTlsLBcKOXc/edv7zf0HQDgV4b8VbpZfFWm+WfuwMP/HxXrYzOYVpxwWBXLQjsusn3Z3Yapeqox2PXn1159LRVOWOKZpmmPO/nz1H4a0tp9JjuJvUV2ccaxqFUV85jpWqWRONladkEcaxqFWpKKK8484KKKKACiiigAoo+leOeOPHFxJcHwt4WLS3UjeXLLHyQTx5ceP4v7zdug5yR6uVZVWzCt7Gj830S7suEHJ2QeOPHE73B8LeFi0l1I3lyyxckE8eXHj+L+83boOckZdx4db4feFG1nIbU5JYUdhyI0dwGRD7j7x79uK7bwP4Ht/DFuLu7CyahIuGYciMH+FP6nv0HFZXxbuk/wCETeEHkzwn8nFfR43NaOHisryv4L+9LrN/5f1tv2U5pTjCHc1fDHieS40svK2WK/0p1vbz6lNvf7tcv8OLOS/tOfuhT/KvXLW2jt4wqivnsfKzRvjpWaC2tUt0CqKt0UV5B5LYUlLSUAeEr/yWf/tq3/pLXf6x/wAfa1wC/wDJZ/8Atq3/AKS13+sf8fa19vxR8WE/69R/U7Jbo6uw/wCPdfpV2qVh/wAe6/SrtfEvc5HuFQXLFLeVx1VGP5A1PVa8/wCPSb/rm3/oJpLcFueTfDXxRe6qYxctkkAn6kV9MqcqD7V8ifBv/WJ/ur/IV9Tp90V9YfUj+9afFHGKzOc0AJzRzWrxRxQB/9b6VX7w+taTfdP0ob7p+lZq9R9aAAZyK5pvvH6127fdP0rhz1rycx+z8zysx+z8woooryTygooooA8O8Wf8lS0j62v/AKE9ega//rBXn/iz/kqWkfW1/wDQnrrPG2s2WiRC5u/ndsiKIHDSMP5KO7dug5xX32bYariaeX0aMbycEdzV+X+uxb1TxTYeFtGW6uf3k0gIhhB5dh/JR3P4DJrgPDHhjUfGmonxV4qJa3c5jjPAkA6Ko7Rj9fzJZ4U8K33jC+/4SbxRk2xx5cXQSAdFUdox/wCPfmT7nNLFaxdlVRgAcAAdABRisTSyOlLB4J81eXxz/l/ux/r8dolJQ0juE00VrFxhVUYAHAAHQAVxl3eTX83lRdM0Xl5NfzeVF0roNL0xbdQ7j5q+H296W5l8Or3Pnz4ewD/hJLjd1FxIPyc19U3gAmwP7q/yr5m+H3/Iy3n/AF8zf+jGr6Um+8PoP5V6mO/go9PG/wAJEVFFFeKeMFFFFABRRVPUNQs9Ls5dQ1CUQwQjLMf0AHUk9AByTV06cqklCCu3sgSvog1DULPSrOXUNQlEMEIyznt6ADuT0AHJNeBTz638VNbEEAa20u2bPPIQH+J+zSMOg6D6ZJJ59b+KmtiC3BttMtWzg9EB43t2aRh0HQfTJPuul6Xp+g6emn6enlwx888lierMe5PevvYxpcPUuaVpYqS9VBP9f62360lSWu4ml6Xp+g6fHp9gnlwxjv1Y92Y92Pc1japqhc+TDRqmqM7eTDRpellz5045r4mpUnUk61Z3k9TP+9I8I8R27L48iWXqYIj+ZavqSzULo1sF/wA8V87+NVCfEeNV6C2h/m9fQOnf8gqD/PavRm74W/kj06jvhr+RYooorxDxQooooAKKKKACvCPGnjS68Q3f/CJeEwZlmby5JIzzMe6Ie0Y/ibuP9nqeNPGl34hux4T8J7plmYxySR9Zj3RD2jH8TdCP9nr6B4M8GWnhS08yTbNfzLiWUdAP7iZ6KPzY8nsB99gsFRyWjHMMwjeq/gh2/vS/rT127IxVJc0tw8GeDLTwpaGSQrNfzKBLKOgH9xPRR+bHk9gNrU9TS3Qoh+Y0anqaW6lEPzVgWdnNfzebL0zXyOLxdbGVpYnEyvJ/1p5GWsnzSPLfiWk0um2NxL0a7wP++Gr2T4dxqnh5sf8APOuA+L0CQaHpiKP+Xz/2k9dx8Pv+QIf9yu2g70G/U9Sg70G/U7GiiivCPECiiigAoopKACvPPHPjmDwzAbKyKyahIuQDyIgejMPX+6vfqeKPHXjmDw1AbKyKyahIuQDyIgejMPX+6vfqeKwfA3gaczjxR4oDSXch82KKXkqTz5kmf4/QHp1POAPssqyqhhqCzTNF7n2Y9Zv/AC/rbfphBRXPMTwN4GnM48UeKAZLqRvNiik5Kk8+ZJn+PuB26nnAHqt5ex2yFmPNF5epbIWY81xrNPqc+BnbmvFzLM6+Y13XrvTouiXZEtubuzB8WTT3+gao/wDAtrKfyU1m/BqJQQx613HiaxjtfBmsYHP2Kf8A9ANcJ8IP4fqK0wLTi7HqYJ3i7Husn32+pptST/66T/eP86jrxZ/EzxpfEwoooqSQooooAKw/EHiDT/DentqGoNx0SMfekb+6v9T0A5NLr/iDT/DentqGoNx0jQfekb+6v9T0A5rxrRtH1f4k6ude14tFp0TbVVcgEA58uPuAP4m659/u/UZNk0K0Hjsc+WhHd9ZPsv6/4G9Onf3pbCaPo2r/ABJ1c69rxaLToztVVyAQD/q4/YfxN1z7/d92AtrC2SGFFiiiUKiKMKoHQAUAW1hbJBAixRRKFRFGAoHQAVyN/fy3kvkw9KwzfN55hNQiuWlHSMVsl/mOUnN+Qt/fy3kvkw9M9q8U8MW4HjnUEfqt04/WvoHStLWICSQZY14Pov8AyUHVP+v2T/0KuXAtczSO7BNczSPp1hiOMD+4KZVq6/5Zf9cx/WqtcGK/iyOHE/xZBRRRXOc4UUUUAFQ3E8FrA9zcusUUSlndjgKB1JNFxPBawPc3LrFFEpZ3Y4CgdSTXgur6vq/xJ1caHoQaLTojuZmyAQD/AKyT/wBlXrn3yV97Jsmnj5uc3y0o6yk9kv8AM1p0+bV7Bq+r6v8AErVxoehhotOhbczNkAgHHmSf+yr1/HO32TQtC07w1py2FguFHLufvO395v6DoBwKNC0LTvDenLYWC4Ucu5+87f3m/oOgHAqlquq4zDD1NdecZxGvFYHArloR2XWXmy5S5vdjsGq6rjMMJ5NeFeNreT/hJ9MaXq8LH/x8V7XpmmPO/nz15j8T0WPxZpCrwPs7f+hivHwjSqqKOnCtKooo9s8PIE0OID2rVqDR/wDkX4vqKnqMf/FM8d/FCiiiuE4gooooAKPajrxXjvjjxxcSXB8LeFi0t1IfKlli5IJ48uMj+L+83boOckerlWVVswrexo/N9Eu7LhBydkJ448cXElwfC3hYtJdSt5cssXJBPHlxkfxf3m7dBzkjovBHgi38MW4u7sLJqEi4ZhyIweqr/U9+g4o8D+CLfwxbi7uwsmoSLhmHIjB/gT+p79BxXU6jqKWyEA817uaZpRoUf7Kyr4PtS6zf+X9bb7Slb3IBqOopbIQDzXjXxDE9z4bluXztE0I/NxXfW9vPqU+9/u1k/FC2S38FSKo/5eIP/QxXzNG0ZxXmXRtGcUXfhbEqaZkD+H+lej1xPwt/5BB/3D/Ku27V0Zj8UTfMPiiLRRRXlnmBSUtJQB4Sv/JZ/wDtq3/pLXf6x/x9rXAL/wAln/7at/6S13+sf8fa19vxR8WE/wCvUf1OyW6OrsP+PdfpV2qVh/x7r9Ku18S9zke4VWvP+PSb/rm3/oJqzVa8/wCPSb/rm3/oJoW4Lc+fPhD/AK2P6L/IV9hp9wfSvkT4N/6xP91f5CvqdPuivqz6kf3rT4o4xWZzmgBOaOa1eKOKAP/X+lV+8PrWk33T9KG+6fpWavUfWgAGciuab7x+tdu33T9K4c9a8nMfs/M8rMfs/MKKKK8k8oKKKKAPnr4j6i2k+O7LUkQStbx28gQkgEq0nGRzVbS9I1DxLdnxV4o/eJKf3UZ4DgdAB2jX/wAe/Mn2zV/Cmga7cxXep2wkliwAwZl3KDna2Dhh7Gs3xBtj2hQFC8ADgADoAK/QZcUwhgaWHwkbVVHlcn0S/l9f66HbGqrJI2rK4SGzDOQMD6fkK528vJr+byoulUIrie7VYE6V12maYlugdx81fDPRuT3MnaOrDTNMS3UO4+at0DGKQDHApR1rBu5g3c+avAX/ACM93/18y/8Aoxq+n73/AF//AAFf5V8zfD7/AJGa8/6+Zv8A0Y1fSk33h9B/KvZx38FHsY3+EiKiiivFPGCiiqeoahZ6VZy6hqEohghGWY/oAOpJ6ADkmrp05VJKEFdvZAlfRBqGoWel2cuoahKIYIRlmP6ADuT0AHJNeBTza38VNbEEAa10u2ORnkID/E3ZpGHQdh7ZJJ5tc+KmtiCANbaXbNnnkID/ABN2aRh0HQD2yT7rpml6foOnpp+np5cMfPPJYnqzHuT3NfexjS4epc0rSxUl6qCf6/1tv1JKkrvcNM0zT9B09LDT08uGMfix7sx7k9zWLqmqF28iHkmjVNULt5MPejS9LLsJ5utfEVKkqknWrO7eupCX2pBpels586fqa6tECDApVRUGFp1YSlcylK586+Of+Skx/wDXvB/N6+i7X/kD23+e1fO/jf8A5KSn/XtD/N69/wBO/wCQVB/ntXsy/wB1+SPXl/uvyRYooorxDxgoopKAFrwjxn40u/EN3/wifhMNMkzeXJJGeZj3RD2jH8TdCP8AZ6p408Z3fiG7/wCET8J7pkmJjkkj6zHuiHtGP4m6H/d6+g+DPBlp4Us/Mk2zX8y4llA4A67Ez0Ufmx5PYD77BYKjktGOYZhG9V/BDt/el/Wnrt2RiqS5pbh4M8GWnhS0LyFZr6ZcSyjoB/cT0Ufmx5PYDa1PU1t1KIcsaNT1NLdCiH5qwLOzmv5vNl6V8ji8XWxdaWJxMryf9fcZayfNILOzmv5vNl6V2kECQIFUUQQJAgVRViuGUrmcpXPHPjN/yBtN/wCv3/2k9d98Pv8AkX2/651wXxm/5A+m/wDX7/7Seux+H3/IEP8AuV7OG/3d/M9fDf7u/mdjRRRXiHihRRSUAFeeeOfHUHhqA2ViVk1CQcA8iIHozD1/ur36nijx145g8NQGysismoSLkA8iIHozD1/ur36nisHwL4Gn88eKPFAMl3I3mRRS8lSefMkz/H6A/d6nnAH2eVZVQw1BZpmi9z7Mes3/AJf1tv0wgornmJ4F8CzecPFHihTJdyHzYopOSpPPmSZ/j7gdup5wB6peXiW0ZZjzRe3sdshZjzXHM1xqc+B93NeLmeZ18xruvXenRdEuyJbc3dgzT6nPgZ25rrrCwS1Qcc0lhYR20YGOa0q8mUuiIlLojmfGn/In6z/15T/+gGvPPg50Feh+Nf8AkT9Z/wCvKf8A9ANeZ/CDqv1Fetl3ws9TL/hZ7rJ/rG+pptST/wCuk/3j/Oo68ifxM8mXxMKKKKkkKw/EHiDT/DentqGoNx0jjH3pG/ur/U9AOaPEHiDT/DentqGoN7Rxj70jf3V/qegFeNaNo2r/ABI1c69rxaPTojtVVyAwB/1cfcAfxN1z7/d+oybJoVoPHY58tCO76yfZf1/wN6dO/vS2DRtG1b4k6sde14tFp0bbVVcgMAf9XH6AfxN1z7/d92AtrC2SGFFiiiUKiKMBQOgAoAtrC2SCFViiiUKiKMBQOgArkb+/lvJfJh6Vhm+bzzCajFctKOkYrZL/ADHKTm/IL+/lvJfJh6Vr6XpaxASSDmjS9LWJRJIMsa6EDAwK8OUraIiUraIAMYAr5r0H/koOq/8AX5J/6FX0r3r5l0X/AJKDqv8A1+yf+hV3Zd8Ujty/4pH06/3I/wDcFMq1df8ALL/rmP61VrkxX8WRy4n+LIKKKK5znCobi4gtYHubmRYoolLO7HAUDqSaLi4gtYHubl1iiiUs7scBVHUk14Lq+r6v8StXGh6GGi06FtzM2QCAf9ZJ/wCyr1/HJX3smyaePm5zfLSjrKT2S/zNadPm1ewavq+r/ErVxoehhotOhbczNkAgH/WSf+yr1/HJX2TQtC07w1py2FguFHLufvO395v6DoBwKNC0LTvDenLYWC4Ucu5+87f3m/oOgHAqlquq4/cw8k115xnEcRFYHArloR2XWT7suUub3Y7Bquq4zDCcmqumaY8z+fPRpmmPO/nz116RrGu1Rivm5SUVZEtqKsgjRY12r2rwf4o/8jhpP/Xu/wD6GK98rwH4p/8AI3aT/wBe7f8AoYrfBfxkbYP+Kj2zQf8AkCR/hWlUGj/8i/F9RU9Vj/4o8d/FCiiiuE4go+lFeOeOPHFxJcHwt4WJlupT5cssfJBPHlx4/i/vN26DnJHq5VlVbMK3saPzfRLuy4QcnZC+OPHFxJcHwt4WLSXUp8uWWLkgngxx4/i/vN26DnJHReCPBFv4Ytxd3QWTUJFwzDkRg/wJ/U9+g4o8D+CLfwxbi7uwsmoSLhm6iMH+BP6nv0HFdRqOopbIQDzXu5pmlGhR/srK/g+1LrN/5f1tvtKVvcgGo6ilshUHmuZt7efUp97520lvbz6lPvk+7mu1trVLdAqivk21FWRDtFaBbWqW6BVFeffFn/kTpP8Ar4g/9GCvS680+LP/ACJ0n/XxB/6MFFD+LH1Ci/3kfUsfDD/kGf8AAf6V6FXE/C3/AJBB/wBw/wAq7btXdmPxRO3MPiiLRRRXlnmBSUtcN418a2nhW1EUW2bUJlzFEeij++/oo7Dqx9skdmBwVbGVo4fDxvJ/1d+RUYuTsjgV/wCSz/8AbVv/AElrv9Y/4+1rkfh94W1OfUD4z8Qu7XEu54Q/DMXGDIw7Dbwox09Biuu1n/j7X619PxRWpPE0sPTlzOnBRbW11e51TtzWOrsP+PdfpV2qVh/x7r9Ku18a9zke4VWvP+PSb/rm3/oJqzVa8/49Jv8Arm3/AKCaFuC3Pnz4Q/62P6L/ACFfYafcH0r5E+Df+sT/AHV/kK+p0+6K+rPqR/etPijjFZnOaAE5o5rV4o4oA//Q+lV+8PrWk33T9KG+6fpWavUfWgAGciuab7x+tdu33T9K4c9a8nMfs/M8rMfs/MKKKK8k8oKKKKACsTU9N+2CtuimnbUadtUYmnaVHajJHNbXSloobvuDd9woHWigdaQj5q8Bf8jPd/8AXzL/AOjGr6fvf9f/AMBX+VfM3w+/5Ga8/wCvmb/0Y1fSk33h9B/Kvax38FHs43+EiKiiqeoahZ6VZS6hqEohghGWY/oAO5PQAck15FOnKpJQgrt7I8ZK+iE1DULLSrOXUNQlEMEIyzH9AB1JPQAck14JPNrfxU1sQQBrXS7Y5GeQgP8AE2OGkYdB0A9skk02t/FTWxBAGttLtmzzyEB/ibs0jDoOgHtkn3TTNM0/QdPTT7BPLhjHfqx7sx7se5r72MaXD1LmlaWKkvVQT/X+tt+pJUlfqGmaXp+g6elhp8Yihj/Nj3Zj3Y9zWLqmqM7eRCeTRqmqM58mDqaNL0ssfPnGTXxM6kqknWrO7fchfzSDS9LLHzp+TXWKioNq9KFUINq06ueUrmUpXCiiipJPnXxz/wAlJj/694P5vX0Xa/8AIHtv89q+d/G//JSU/wCvaH+b17/p3/IKg/z2r25f7r8kezL/AHX5IsUUUV4h4wV4R408Z3fiG7/4RPwmGmWVvLkkjPMx7oh7Rj+Juh/3eqeNPGd34iux4T8J5mSY+XJJH1mPdEPaMfxN3/3evoPgzwZZ+FLQu+2a/mXEsw6Af3E9FH5seT2A++wWCo5LRjmGYRvVfwQ7f3pf1p67dkYqkuaW4eDPBln4UtDI5Wa+mXEsoHAH9xPRR+bHk9gNrU9TWBSiH5qNT1NYFKIfmrAs7Oa/m82XpXyOLxdbF1pYnEyvJ/1p5GWsnzSCzs5r+bzZeldpBAkCBVFEECQIFUVYrhlK5nKVwoooqSDxz4zf8gbTf+v3/wBpPXffD7/kX2/651wXxm/5A+m/9fv/ALSeux+H3/IEP+5Xt4b/AHd/M9rDf7u/mdjRRSV4h4oV55458cweGoDZWJWTUJF4B5EQPRmHr/dX8Tx1Tx145g8NQGysSr6hIuQDyIgf4mHr/dX8Tx1wfAvgWbzx4o8UBpLqRvMiil5Kk8+ZJn+PuAenU84A+zyrKqGGoLNM0XufZj1m/wDL+tt+mEFFc8w8C+BZ/OHifxQGkupD5kUUvJUnnzJM/wAfcA9Op5wB6re3qW0ZZjzSXt6lshLHmuOZp9TuMDO2vEzPM6+Y13XrvTouiXZEtubuwZp9UnwM7c111hYR2qDjmiwsY7WMcc1o15UpX0REp9EFLRRUGZzHjX/kT9Z/68p//QDXnnwc6CvQ/Gv/ACJ+s/8AXlP/AOgGvM/hB1X6ivZy74Wexl/ws91k/wBY31NNqSf/AF0n+8f51HXkT+Jnky+JhWH4g8Qaf4b09tQ1BuOkcY+9I390f1PQCjxB4g0/w3p7ahqDcdI4x96Rv7q/1PQCvGtG0bVviRqx17Xi0WnRnaqrkBgD/q4/QD+Juuff7v02TZNCtB47HPloR3fWT7L+v+BrTp396WwaNo2rfEjVjr2vEx6dGdqquQGAP+rj9AP4m659/u+7AW1hbJDCixRRKFRFGAoHQAUAW1hbJBCixRRKFRFGFVR0AHpXI39/JeS+TD0rDN83nmE1GK5aUdIxWyX+Y5Sc35Bf38t5L5MPStfS9LWFRJIMmjS9LWECSQc10IAAwK8OUraIiUraIAABgUtFFZGQd6+atB/5KDqv/X5J/wChV9K96+ZdF/5KDqv/AF+yf+hV6eXfFI9LL/ikfTr/AHI/9wUyrV1/yy/65j+tVa5MV/FkcuJ/iyCobi4gtYHubqRYoolLO7HAUDqSaLi4gtYHubl1iiiUs7scBQOpJrwXVtX1f4lauND0MGLToW3MzAgEA48yT/2Vf65K+vk2TTx83Ob5aUdZSeyX+ZFOnzavYNW1fV/iVq40PQw0WmxEMzNkAgH/AFkn/sq9fxyV9l0LQ9O8N6cthYLhRy7nG6Rv7zf0HQDgUaHoeneG9OXT7BcKOXc/edv7zf0HQDgVR1XVcZhhOTXVnGcRxEVgcCuWhHZdZPuy5S5vdjsGq6pjMMJyaq6Zpjzv589GmaY87+fPXXxxrGu1e1fNuSjoiZSUVZAkaxrtXtUlFFZGIV4H8Uf+Rw0n/r3b/wBDFe+V4D8U/wDkbtJ/692/9DFdmC/io7MF/FR7ZoP/ACBI/wAK0qg0f/kX4vqKnqsf/FHjv4oUewo9q8c8ceOLiS4PhbwsWlupW8uWWLkgnjy4yP4v7zdug7kb5VlVbMK3saO3V9Eu7OWEHJ2QeOPHFxJcHwt4WLS3UreXLLHyQTx5cZH8X95u3QdyOj8EeCLfwxbi7uwsmoSLhmHIjB/gT+p79uKPBHgi38MW4u7sLJqEi4ZhyIwf4E/qe/0rqNR1FLZCFPNe7mmaUaFH+ysq+D7Uus3/AJf1tvtKVvcgGo6ilshCn5q5m3t59Rn8x87aLe3n1KfzJPu5rtLa2S3jCqK+TbUVZbkO0VoFtapboFUVaoorExbuFeafFn/kTpP+viD/ANGCvS680+LP/InSf9fEH/owVtQ/iR9Tah/Ej6lj4Yf8gz/gP9K9Crifhb/yCD/uH+Vdt2ruzH4onbmHxRFoorhvGvjW18K2oii2zahMuYoj0Uf339FHYfxH2yRz4HA1sZWjh8PG8n/V35HnRi5OyDxr41tfCtr5UW2bUJlzFETwo/vv6KOw6t9MkcT4L8FXWrXX/CV+LN0zzN5kcco5kPZ3HZR/CuOmO2BR4L8FXWrXX/CWeLN0zzN5kccnWQ9ncdlH8K/pjAr2S6ukt0LMa+wxuNo5PRll2XSvUfxz/wDbY/1+O3S2qa5Y7hdXSW6FmPNcS7SaheBlHGadPPPqU+xM7a6jTtOS2QEjmvifhWu5n8K1L9tH5cKqasUlLWJgFVrz/j0m/wCubf8AoJqzVa8/49Jv+ubf+gmmtxrc+fPhD/rY/ov8hX2Gn3B9K+RPg3/rE/3V/kK+p0+6K+rPqR/etPijjFZnOaAE5o5rV4o4oA//0fpVfvD61pN90/Shvun6Vmr1H1oABnIrmm+8frXbt90/SuHPWvJzH7PzPKzH7PzCiiivJPKCiiigAooooAKKKKACgdaKB1oA+avAX/Iz3f8A18y/+jGr6fvf9f8A8BX+VfM3w+/5Ga8/6+Zv/RjV9D6rqFnpdrJqGoSiGCFAWY/oAO5PQAck17uKpyqU4wgrttWR7WMV6SSI9Q1Cz0uzl1DUJRDBCMsx/QAdyTwAOSa8Dmm1v4qa2IIM22l2pzg8hAeNzdmkYdB0A9skk02tfFTWxBCGttLtmyM8hAf4m7NIw6DoB7ZJ900zTNP0HT49PsE8uGMfix7sx7se5r6OKpcPUuaVpYqS9VBP9f62389WpLXcNM0zT9B09LDT4xHDHz7se7Me7HuaxdU1RnPkQdaNU1Qu3kw9TRpellj58/WviZzlUk61Z3b7kL+aQaXpZY+dN1rq1VUG0UKoQbRT655SuZSlcKKKKkkKKKKAPnXxz/yUmP8A694P5vX0Xa/8ge2/z2r538b/APJSU/69of5vXv8Ap/8AyCoP89q9uX+6/JHsy/3X5IsV4P4z8Z3fiK7HhPwnulSZjHJJH1mPdEPaMfxN3H+z1PGfjO78RXf/AAifhMNMkzeXJJGeZj3RD2jH8TdCP9nr6D4M8GWnhS0LuVmvplAmlHQD+4noo/NjyewH0eCwVHJaMcwzCN6r+CHb+9L+tPXbijFUlzy3DwZ4MtPClmXcrNfTLiWUDgD+4noo/NjyewG1qeprApRD81Gp6mkClEPzVgWdnNfzebL0r5HF4uti60sTiZXk/wCrLyMtZPmkFnZzX83my9M12kECQIFUUQQJAgVRViuKUrmcpXCiiioICiiigDxz4zf8gbTf+v3/ANpPXffD7/kX2/651wXxm/5A+m/9fv8A7Seux+H3/IEP+5Xt4b/d38z2sN/u7+Z2NedeOvHUPhqA2NiVk1CRcgdRED0Zh6/3V/E8dTx146g8NQmxsSsmouOAeRED0Zh6/wB1fxPFYXgXwLN5w8UeKA0l3I3mRRS8lSefMkz1c9QD93qecAexlWVUMNQWaZovc+zHrN/5f1tv50IKK55ieBfAs/njxR4oDSXch8yKKXkqTz5kmer9wD06nnAHql7epbIWY80Xt7HbRlmPNcczT6nPgZ25rxczzOvmNd16706Lol2RLbm7sGafVJ8DO3NddYWMdrGMDmixsY7VBgc1o15UpX0REpdEFLRRWZmFFFFAHMeNf+RP1n/ryn/9ANeefBzoK9D8a/8AIn6z/wBeU/8A6Aa8z+EHVfqK9nLvhZ7GX/Cz3WT/AFjfU1g+IPEGn+G9PbUNQbjpHGPvSN6L/U9AKl8T+INP8N2s2oX7fxMI4wRukb0X+p6AV4ro2jat8SdWOva8Wj06M7VVcgMAf9XH6AfxN1z7/d9HKMmhWUsdjny0I7vrJ9l/X/A4I07tylsGjaNq3xI1c69rxMenRttVVyAwB/1cfoB/E3XPv933YC2sLZYYUWKKJQqIowFA6ACgC2sLZIYUWKKJQqIowFA6ACuRv7+W8l8mHpXNm+bzzCajFctKOkYrZL/MUpOb8gv7+W8l8mHpWvpeliFRJIMsaNL0tYVEkgy1dCAAMCvDlK2iIlK2iAADgUtFFZGQUUUUAHevmrQf+Sg6r/1+Sf8AoVfSvevmXRf+Sg6r/wBfsn/oVenl3xSPSy/4pH06/wByP/cFVri4gtYHubl1iiiUs7scBQOpJq3qVxBaQLc3LrFFFFud2OFUDOSTXzzq+rax8StXGh6GDFp0LbmZsgEA/wCsk/8AZV/rkr6mX5NPH4ic5vlpR1lJ7Jf5mVWnzVZN7C6tq2r/ABK1caHoYaHTojuZmyAQD/rJMf8Ajq/1yV9l0PQtO8N6cthp64Ucu5+87f3m/oOgHAo0PQ9O8N6cthp64Ucu5xudv7zf0HQDgVR1XVcZhh5NVnGcRxEVgcCuWhHZfzebMpS5vdjsGq6rj9zCeaq6ZpjzP589GmaY8z+fPXXpGsa7VGMV822oqyJk1FWQRxrGu1akoorIxCiiigArwP4o/wDI4aT/ANe7f+hivfK8B+Kf/I3aT/17t/6GK7MF/FR2YL+Kj2zQf+QJH+FaXtUGjf8AIAix6ivI/HHje4luD4W8LFpbqVvLllj5IJ4McZH8X95u3QdyPXo5VWzDF+xo7W1fRLuzXFwcq1kHjjxxcS3B8LeFi0t1K3lyyx8kE8GOMj+L+83boO5HR+CPBFv4YtxdXW2TUJFwzDkRg/wJ/U9+nSjwR4It/DFuLu6CyahIuGYciMH+BP6nv06V1Go6ilshAPNd+aZpRoUf7Lyr4PtS6zf+X9bb88pW9yAajqKWyEA81zFvbz6lP5j/AHaW3t59Sn3vnbmu0trZLdAqivk21FWRDaitAtbZLdAqirVFFYmIUUUUAFeafFn/AJE6T/r4g/8ARgr0uvNPiz/yJ0n/AF8Qf+jBW1D+JH1NqH8SPqWPhh/yDP8AgP8ASvQq4n4W/wDIIP8AuH+VN8aeNbXwraCKLbNqEy5iiPRR/ff0Udh/EfbJHtVMDWxmIp4fDxvJ/wBXfkd+Oi5SikHjXxra+FbXyots2oTLmKI9FH99/RR2H8X0yRxPgrwVdatdf8JZ4rzM0x82OOTrIezuOyj+Ffp2wKPBXgq61a6/4SzxZumeZvMjjk6yHs7jso/hX6dsCvZLq6S3Qsx5r3MbjaOT0ZZdl0r1H8c//bY/1+O3LJqmuWO4Xd0luhZjzXFzzz6lPsTO3NE88+pT7EztrqNO05LZASOa+J0irvcz0irvcNP05LZASPmrWopaxbuYt3CiiigQVWvP+PSb/rm3/oJqzVa8/wCPSb/rm3/oJprca3Pnz4Q/62P6L/IV9hp9wfSvkT4N/wCsT/dX+Qr6nT7or6s+pH960+KOMVmc5oATmjmtXijigD//0vpVfvD61pN90/Shvun6Vmr1H1oABnIrg/EOs2vhxDLfK7j/AKZjd/hXpzfdNcLrGj2WrrsmZT9TXPXpU6lvaM561KnO3OeTn4yeFwcG3vP+/X/16P8Ahcnhf/n3vP8Av1/9euuf4b6GSTuj/MVSHw30fI5T8xXN9Uod/wATn+q0O/4nPf8AC5fC/wDz73n/AH6H+NH/AAuTwv8A8+95/wB+v/r11p+G2hYPzR/mKpj4b6Pkcp+Yo+qUO/4h9Vod/wATnv8Ahcvhf/n3vP8Av0P8aP8Ahcnhf/n3vP8Av1/9eutPw20LBw0f5iqY+G+j5HKfmKPqlDv+IfVaHf8AE57/AIXL4X/597z/AL9D/Gj/AIXJ4X/597z/AL9f/XrrT8NtCwcNH+YqmPhvo+Ryn6UfVKHf8Q+q0O/4nPf8Ll8L/wDPvef9+h/jS/8AC5PC/wDz73n/AH6/+vXWH4baFg/NH+YrG1HwR4a0myl1HUZY4reEbnY8/gAOST0AHJNXDA0pyUIath9Uod/xPJ/A93Bb6lea3dkwWqySTM7/AMKs5I49TnAA5J4Faeqanq/xO1Z5sNa6RZYbGM7F6BmHRpWHQdB9Mk1NL0fUPiLrH9naREbLSrdt5JGQo6b3xw0jD7q9APbJP0hB4e0XR9ITRrNVihjGTk/MzHqzHuT6191alk1NOVnXf3QX+f8AW2+7tPfY8gsviP4M8NWq6RZWl3HHF6R5LE9WY55J7mqWofF/Q5xsghugPeMf410Gs+F9GlnYQlGY+4qHTfhpp8uJJioz9K+Hq0adSbq1JXb3bZk8NRvzN/icvY/Enw1G/mXEN2x9o8/1rpE+MXhZFwLe8H/bL/69dd/wrXQgMBo/zFVB8N9HyOU/MVm8NQe7/ETw1F7v8Tnv+Fy+F/8An3vP+/Q/xo/4XJ4X/wCfe8/79f8A1660/DbQscNH+YqmPhvo+eqfmKX1Sh3/ABF9Vod/xOe/4XL4X/597z/v0P8AGj/hcnhf/n3vP+/X/wBeutPw20LHDR/mKpj4b6Pnqn5ij6pQ7/iH1Wh3/E57/hcvhf8A597z/v0P8aP+FyeF/wDn3vP+/X/1660/DbQscNH+YqmPhvo+eqfmKPqlDv8AiH1Sh3/E8W1LWoPFnjiLU9LilEZjiiAkXaxZS2ePxrqfFnjS/wBeMHgjwuC6MfLlkTrM38SKe0agfM3fn+Hrh65eW1zqZ8NeBYTcPK3lNPH96U/xLGe0Y/ifPI/2eT7l4K8Baf4P08vcskuoXC4lmxgKv/POP0Ud+7Hk9gPucJhKOVUY4rGK8/sxfTzf9fjttZW5I7I8p0PV/Cvw7RobyKe51CQbZZ448rj+5Hk5CD82PJ7AaV38ZPDzIVhguwfeMD+tdj4n8P6JPIzlkZj7iuPsPh5Z3sm99oXNfJYxrF1pYjETvJ+f9aESw9KT5m/xOdj+JOgyzebcxXRHoI8/1rp4Pi74UgQKtvef9+v/AK9dgnwz0JExujz9RVcfDfR89U/MVyvDUHu/xE8PRfX8Tnv+Fy+F/wDn3vP+/Q/xo/4XJ4X/AOfe8/79f/XrrT8NtCxw0f5iqY+G+j56p+YqfqlDv+JP1Wh3/E57/hcvhf8A597z/v0P8aP+FyeF/wDn3vP+/X/1660/DbQv70f5iqY+G+j56p+Yo+qUO/4h9Vod/wATnv8Ahcvhf/n3vP8Av0P8aP8Ahcnhf/n3vP8Av1/9eutPw20Ls0f5iqf/AArfR/VPzFH1Sh3/ABD6rQ7/AInkXj3xxpXi+zsrHS4bhXhuPNYyptG3Yy9cnua6yXxv/wAIf4YWwtgDqNzHwG5ESH+Nh6n+Fe/U8VB41HhnwawtrJY7nUSNwXgpED0Z/U/3V79TxW98O/h5MJl8W+LgWuXPmwwy9VJ5Ekmf4v7q/wAPU84A+wyzLKGFoLG41e59mPWT/wAv69dVFRXs6Zwmi2tl4buF8T+Nop57uQ+bFDt3lCefMkyRlz1A/h6nnAHXy/Gbw0FOy3vM+8Y/xr03xVpOj3ytJPIjH6ivJI/BFlfT7YwoXNeJmmJ/tCt7evL0V9EuyJlh6UtW/wATGuPijo15Ll4rnb/1z/8Ar1t2XxU8KWiAC3vCf+uX/wBeuztvhhokcfzNGT9RSD4b6P6p+leY8NRel/xE8PRatf8AE57/AIXJ4X/597z/AL9D/Gj/AIXJ4X/597z/AL9f/XrrT8NtC7NH+Yqn/wAK30fPVPzFT9Uod/xJ+q0O/wCJz3/C5fC//Pvef9+h/jR/wuTwv/z73n/fr/69dafhtoWPvR/mKpj4b6Pnqn5ij6pQ7/iH1Wh3/E57/hcvhf8A597z/v0P8aP+FyeF/wDn3vP+/X/1660/DbQsfej/ADFUx8N9Hz1T8xR9Uod/xD6rQ7/icL4h+Kvh7VtB1DS7aC6Et1byRIWjwNzqQMnPSqXgHWLbwro0msakCEX5UQfekfGQq/1PQDrXaeJPDXhHwtpzalqDK3O2ONMb5G9B6e56AVxXhHwlf/EDUF1TU1NtpFudqImVDAH/AFcf/sz9c+/3fp8nyilyPFV3akt33fZGsIxprlpdTLAvfGF8/irxV5i6bGxVUiBy2Dny4xxhQfvN1z/tfd7dfi34TsoltLe0uo44QEVFiAVQOgAz0r2XVtK0U6ethH5UMMK7EjXACgcYArxC88JabcXBjtwpyetcub42OPko/DTj8MU9F/wSZUKcl7zMu/8Ai1o12dscNyF/3B/jUun/ABM8LW3zywXbN7Rf/Xrs7D4X6Rs3zMmT7irY+G+jjun6V4n1aja1/wARfV6NrX/E50fGTwsBgW95/wB+h/jS/wDC5PC//Pvef9+v/r11p+G2hf3o/wAxVP8A4Vvo+eqfmKn6pQ7/AIk/VaHf8Tnv+Fy+F/8An3vP+/Q/xo/4XJ4X/wCfe8/79f8A1660/DbQsfej/MVT/wCFb6Pnqn5ij6pQ7/iH1Wh3/E57/hcvhf8A597z/v0P8aP+FyeF/wDn3vP+/X/1660/DbQv70f5iqf/AArfR/VPzFH1Sh3/ABD6rQ7/AInPf8Ll8L/8+95/36H+NeeeFbmO88V6hrYBitZZpLjdJ8u2POct6Yr2m6+H/huztpLu6lijiiUs7sRgAdSa8citLnxpqv8Awj3hSIw2CsGkkYYyAfvyY6Afwp6++SvvZPk0a8pVE7QXxS6L/gmkKdOlrT1bNPXde1X4h6j/AGRpAaHS7UBnYg8hf+WkmPf7q+vvkruad458GeDrUaPa2t38vLuIwWkbpuYg/kOgHAr2vSfCmheGNEGjWhVcjdJI+A8jYxub+g6AcCvJtc8M6TJOfL2sxNb5vj6WIgsHh/dpR6d33YSowlpN6mNf/GLQplKW8F0M+sY/xrLtPiR4cWTzbmG7Y+0ef612Gm/DTTbj97MyAfUVsL8NtHUYyn5ivnFhqKVr/iSsPRStf8TnU+MPhWNdq294Mf8ATL/69P8A+FyeF/8An3vP+/X/ANeutPw20L+9H+Yqn/wrfR89U/MVP1Sh3/En6rQ7/ic9/wALl8L/APPvef8Afof40f8AC5PC/wDz73n/AH6/+vXWn4baF/ej/MVT/wCFb6P6p+Yo+qUO/wCIfVaHf8Tnv+Fy+F/+fe8/79D/ABo/4XJ4X/597z/v1/8AXrrT8NtC/vR/mKp/8K30f1T8xR9Uod/xD6rQ7/ic9/wuXwv/AM+95/36H+NeeeJvElp4x8Tafd6TDMEgjMbCRNpLMwIwOc17h/wrXQjwGj/MV5B4kmsNP1H/AIR/wgnn37t5TzRjJVjwUix/F2LduQO5Hq5Vk/1mso0Om76Jd2VCjSpvnizZ8QeNL1LSPwd4b3PdyYjmkj5ZWPHloR/F/ePboD1Ih0W58O/DjLatFNcai4w7xIGWMHqiHI/Fu/bivVvh98ObLwhZf2hqmx9SlXBY4KxA/wACH19W79BxWX4m0HSbhzI7KWPuK9nM8bQhSeXYJ2h9p9ZP/It04z/iM5K5+MvhwoRDBd594wP61zf/AAsvQ7ibzLiK6I9o8/1rqLT4f6ffybiUC/UV0UXw00dFAJTP4V8msNQXX8SFhqK6/iczbfFvwnbIFW3vP+/X/wBerX/C5PC//Pvef9+v/r11p+G2hf3o/wAxVP8A4Vvo/qn5ip+qUO/4k/VaHf8AE57/AIXL4X/597z/AL9D/Gj/AIXJ4X/597z/AL9f/Xrrf+FbaF/ej/MVT/4Vvo/qn5ij6pQ7/iH1Wh3/ABOe/wCFy+F/+fe8/wC/Q/xo/wCFyeF/+fe8/wC/X/1663/hW2hf3o/zFU/+Fb6P6p+Yo+qUO/4h9Vod/wATnv8Ahcvhf/n3vP8Av0P8a5Lxt8Q9G8T6E2kadBciZ5onBkj2rhGBPOa9a/4VtoX96P8AMV554xs/DXg6JVVEur+UbooP4QP78mOi+38XTpk12YLK1iK0aWHV5ev9aDjh6MXzJ7FfTfFyeDfDaFUEl/cofIiboB08x/8AZHb+8enGSMjSbCKylHjHxys1y8582OPbuZz2dwcYX+6v6YwK7H4c/DmfWJx4v8XgujnzIopBgyEdHcdkGPlXpj2wK9I8S6Xpt/GWndT+Ir6zGYqjl1J4LCS996Sn+kf6/HbVxU3eeh5xJ8ZvDIB2295n3iH+Nczd/FPR7yTmK5Cf9c//AK9b7eCtNvZ9kOwLn1Fb1p8MdKRAZCmfqK+JWFoLr+JmsNRXX8TlrD4peE7Rebe7Lf8AXL/69av/AAuTwv8A8+95/wB+v/r11v8AwrbQv70f5iqf/Ct9H9U/MUnhaD3f4kvDUHu/xOe/4XL4X/597z/v0P8AGj/hcnhf/n3vP+/X/wBeut/4VtoX96P8xVP/AIVvo/qn5il9Uod/xD6rQ7/ic9/wuXwv/wA+95/36H+NH/C5PC//AD73n/fr/wCvXW/8K20L+9H+Yqn/AMK30f1T8xR9Uod/xD6rQ7/ic9/wuXwv/wA+95/36H+NRXHxg8MywSRrb3mWVlH7ruRj1rsv+FbaF/ej/MVTHw30fP8AB+lH1Sh3/EPqtDv+J5j8JIJUlTepGAB+VfXyfcH0ri9D8I2ejnMIArohxxXonoC960+KOMVmc5oATmjmtXijigD/0/pVfvD61pN90/Shvun6Vmr1H1oABnIrmm+8frXbt90/SuHPWvJzH7PzPKzH7PzCiiivJPKCiiigAooooAKKKp6hqFnpVnLqGoSiGCEZZj+gA7kngAck1dOnKpJQgrt7IEr6INQ1Cz0qzl1DUJRDBCMsx/QAdST0AHJNeCSy638VNbEMIa20q2bPPIQH+JuzSMOg6Ae2SUmm1v4qa35EGbXS7U555CA/xN2aRh0HQD2yT7ppmmafoVglhp8Yihj/ADY92Y9ye5r71Klw9S5pWlipL1UE/wBf6236rKkvM4LwT4nsLaRtF06IQQW8rpjqSVYqWY92OOTXX+I9WM100cBzkDp9K+d/Ctw669eLH1a4m/8ARjV9AafpbM4mn5JAPNfP4+o5w9pUd22eli7eyTZHpellj50/WusVQg2ihVCDatOrwZSueLKVwoooqSQooooAKKKKACvBvGfjO78R3f8AwifhPM0cxMckkfWY90U9ox/E3Q/7vU8Z+NLvxHef8In4TDSpKxjkkj6zHuiHtGP4m7/7vX0Pwb4Ns/CloWYrNfSjEswHAH9xPRR+ZPJ7AffYLBUcloxzDMI3qv4Idv70v609duuMVTXNPc4TRGs/AGspo5VJL+SGN5pwOzk/ImeiDb/wLqewr2PWtdR9PhZDliT/ACr568f3AX4hh0PS2hH6vXqWjWU19axSy/dz/SvIxuLq4qnLEYh3k9z0ZO+Huyazs5r+bzZeldnBAkCBVFEECQIFUVYr5qUrnjSlcKKKKkgKKKKACiikoAK868deOoPDUJsbEh9RdcgHkRA9Gb3/ALq/ieOp468dQ+GoTY2BWTUJFzg8iIHozDuf7q/ieOuF4F8CzCYeKPFCtJdyN5sUUnJUnnzJM9XPUD+HqecAfZ5VlVDDUFmmar3Psx6zf+X9bb9MIKK55nJ2Wky+GYrXxh4pQy3d3cfuYpeSjFS/myZ6uccA/d6nnAH0HZeJ0vdFknc8lDXkvxnlA0jThnkXmf8AyG9J4NWe/sBGM7QtRi8zrZgpV63nZdEuyPUoS5qLb8zp2a41S4wM7c111hYR2sY45osbCO1Qcc1o18lKV9EeNOXRBS0UVBmFFFFABRRRQAVh+IPEGn+G9Pa/v29RHGPvSN6D+p6AUeIPEGn+G9PbUNQb2jjH3pG9B/U9AK8a0XRtW+JGrHX9fJj06NtqquQGAP8Aq4/QD+Juuff7v1GTZNCtB47HPloR3fWT7L+v+BvTp396Wxnx2eq+NXu/GHiElNNso3cICVDCMZ8uPuF4+Zuuff7vtPgnxfbXtokMCrFDEoVEQYVQOgA7CoPGCW9n4J1S2t0WKNLGZERRgKAhAAHpXivw8lmk2wRZ5IruxGcSx8rRjy046Riui/zPVwc+ZNnsep38t7cNDD03H+daml6WIVEkg5qSw0tYXaSQZbcf51ugAcCvj6ktWkeVUlq0gAwMCloorEwCiiigAooooAKhuLiC0ge6upFiiiUs7scBQOpJouLiC1ge5uXWKKJSzuxwFA6kmvBdW1bV/iVq40PRAYdOhIZmbIGAf9ZJj/x1fX3yV9/Jsmljpuc3y0o6yk+i/wAzWnT5tXsGratrHxK1gaJoYaHToWDMzZAwDjzJP/ZV/rkr1/g7XdM0C9n8N6agRbeUo7n70jLwWY+voOgHArttC0PTvDenJYaeuFHLufvO395j/IdAOBXzZbXDJ441Ux/xXkmP++q9rE5xCv8A7Fgo8tGGy6t92enhJpyajsj6N13WN5VITklazdM0x5n8+f61ZtNLeZo55+6g106RrGu1e1fJYmVqkkjjxMrTkkCIsa7VFPoorjOMKKKKACiiigAo68CivHfG/je4luD4W8LFpbqVvLlli5IJ4McZH8X95u3QdyPVyrKq2YVvY0dur6Jd2XCDk7ITxv43uJbg+FvCxMt1K3lyyx8kE8GOMj+L+83boO5GfpFva/DnULOC6VZNRu4i7SdRGMgFE/qe/biu08EeCLfwxbi6utsmoSLhnHIjB6on9T3+leb/ABXnA8V6WVP3bdv/AEMV9Ric0oUUsryz+Gvil1m/8v6239DDSiqihE9xudeSTS1kB+Y4rl7e3n1KfzJPu1FodrNqGmxu/wB0EV3NtbJboFUV8pjZWqCxkrVAtrZLdAqirVFFeaea2FFFFABRRRQAUUVw3jXxpa+FbXyots1/MuYoj0Uf339FHYfxfTJHZgcDWxlaOHw8byf9XfkVGLk7IPGnjW18K2vlRbZr+ZcxRHoo/vv/ALI7D+L6ZI8pstHubGzbx94tU3DyzRmOOXq5dgBI4/ujjavTHbGBXQ+CvBVzq1z/AMJZ4s3TPM3mRxy9XPZ3H90fwr06dsCt/wCLcijwhIueTcQf+hivta+MoZRH+zcvd6j+Of8A7bH+vx27abUJqCOx0PxQuoae07nqp/lXPTTz6lNsT7tcl4D8+9sRCnTaf5V6rp2nJbRgkfNXy2PaTTOjHNJpi6dpyWyAkfNWrRS147dzyW7hRRRQIKKKKACiiigAqOWTyonlH8ClvyGakqtef8ek3/XNv/QTQtxrc47wX43bX9jHPzAHH1r3JTlQfavkP4Of6xP91f5CvqdPuivrD6kf3rT4o4xWZzmgBOaOa1eKOKAP/9T6VX7w+taTfdP0ob7p+lZq9R9aAAZyK5pvvH6127fdP0rhz1rycx+z8zysx+z8woooryTygooooAKKKpahqFnpVnLqGoSCGCEZZj+gA7k9AByTV06cqklCCu3shpX0QahqFnpVnLqGoSiGCEZZj+gA7k9AByTXgssut/FTWxDCGttKtmzzyEB/ibs0jDoOgHtkkll1r4qa2IYQbbS7Vs88hAf4m7NIw6DoB7ZJ9z0zTNP0LT0sNPTy4Y/xJJ6sx7k9zX3qVLh6lzStLFSXqoJ/r/W2/SrU15hpmmafoWnx6fYJ5cMQ/Fj3Zj3J7msXU9UZ28iHrSapqjO3kwdadpWllmE03WviJzlUk61Z3b1I/vSPBvAFv53iScv2nk/9DNfV10ipKFXptX+VfM/w9AHiW7A/5+Jv/RjV9KzfeH0H8q9LHfwUeljf4SIqKKK8Q8YKKKKACiiigArwfxn4zu/El3/wifhLM0cx8uSSM8zHuiHtGP4m7/7vU8ZeNLvxHeDwn4T3SpKxjkkj6zHuqHtGP4m7j/Z6+heDfBtn4Us977Zb6VcTTAcAddiZ6KPzY8nsB99g8FRyWjHMMwjeq/gh2/vS/rT1264RVNc8tw8G+DLPwpaF2xLfTKBNKOgH9xPRQfxY8nsBsanqaQKUQ5ajU9TWBSiH5qwbKymv5vNl6Zr5HF4uti60sTiZXk/6+4z1k+eR4l4mWS48dxmTq0MR/Vq+pNPhSHRbYKP84r538YQrD8RY416C2h/m9fQunf8AIKg/z2rsqO+F+R6dR3w1/IsUUUV4Z4oUUUUAFFFFACV51468dweGoWsbErJqDr0PIiB6Mw7n+6v4njqeO/HUPhqE2FiQ+oSLn1EIPRmHdj/Cv4njrheBPAs4mXxP4nDSXcjeZFFLyVJ58yTPVz1AP3ep5wB9nlWVUMNQWaZqvc+zHrN/5f1tv0wgornmHgXwJMJl8T+J1Ml3I3mxRSclSefMkz1c9QD93qecAeqXt6ltGSx5ovb1LZCxPNcczT6pcYGdua8TM8zr5jXdeu9Oi6JdkS25u7PM/ilcy3ljZO33ftWB/wB8NXrfw4tUj0B3xzsrz74rWSWmhaaAOTeDP/fp69B+H3/IEP8AuVrQd6Dt5nq0Heg7eZ2NFFFeEeGFFFFABRRRQAVh+IPEGn+G9Pa/1BvURxj70jeg/qegFJ4g8Qaf4b09r+/b2jjH3pG9B/U9AK8b0XRdW+JGrHX9fJj06NtqquQGAP8Aq4/QD+Juuff7v1GTZNCtB47HPloR3fWT7L+v+BvTp/alsGjaLq3xI1Y6/rxMenRkqqrkBgD/AKuP0A/ibrn3+77sBbWFssMKLFFEoVEUYCgdAB6UAW1hbJDCqxRRKFRFGAqjoAPSuRv7+W8l8mHpWGb5vPMJqMVy0o6Ritkv8xyk5vyMLxtqL3WganHH90W0uf8Avk1z3wbtVdxI4zXYa/pgg8H6xK/3vsU5/wDHDXJ/CDqv1FZYFrlaR6eCa5Wke6uAHYD1NNqSf/XSf7x/nUdeLP4meNL4mFFFFSSFFFFABUNxcQWkD3V1IsUUSlndjgKB3JouLiC0ge6unWKKJSzuxwFA6kmvBdW1bV/iVq40TRA0OnQnczNkDAP+skx/46vr75K+/k2TTx0nOb5aUdZSeyX+ZrTp82r2E1bVtX+JerjQ9EBh06FtzM2QMA48yT/2Vf65K+zaHoeneG9OXT9PXCjl3P3nb+839B0A4FGh6Hp3hvTl0/T1wo5dz952/vN/QdAOBVDVdVx+5h6murOM4jiIrA4FctCOy7+bLlLm92Owuqarj9zCea+fvDdv53ji/EnUXT5/OveNM0xpnE89eLaIAvxA1RR0F5IP/Hq83A2Umkd2CspNI+mxGI4olUY+QUVauv8All/1zH9aq1wYr+LI4cT/ABZBRRRXOc4UUUUAFHsKPYV45438b3EtwfC3hYtLdSny5ZY+SCeDHGR3/vN26DuR6uVZVWzCt7Gjt1fRLuy4QcnZB438b3EtwfC3hYtLdSt5cssfJBPBjjI/i/vN26A9SOk8EeCLfwxb/arrbJqEi4dxyIwf4E/qe/0o8EeCLfwxbi6ugsmoSLhnHIjB/gT+p7/Sun1HUUtkKqfmr3c0zSjRo/2XlX8P7Uus3/l/W2+0pW9yAajqKWyFQea+dvHRkuvFGnNJ/FE2P++xXsdvbz6lP5kn3a82+JVulv4p0iNP+fdv/QxXz2EsqiR0YSyqJHtvhq3WHQ48D0raqDR/+Rfi+oqeox/8Uzx38UKKKK4TiCiiigAoorhvGvjW18K2vlRbZr+ZcxRHoo/vv6L6D+L6ZI7MDga2MrRw+HjeT/q78ioxcnZB408a2vhW18qLbNfzLmKI9FH99/RR2H8X0yRxfgrwVdardf8ACV+K900kzeZHHJ1c9ncdlH8K/pjAo8FeCrrVbn/hLPFm6Z5m82OOTq57O47L02r+mMCvYru7S3Qsx5r7DG42jlFGWXZdK9R/HP8A9tj/AF+O3Q2oLljuF1dpboWY814l8S7yW88PyEfcE0X/AKGK7meafUp9ifdzXPfEiwS18FSH+Izwf+hivj6CUZxvvcqilGcbmj8K7VF07zCOdv8ASvThXE/C3/kEH/cP8q7btXRmPxRN8w3iLRRRXlnmBRRRQAUUUUAFFFFABVa8/wCPSb/rm3/oJqzVa8/49Jv+ubf+gmmtxrc+fPhD/rY/ov8AIV9hp9wfSvkT4N/6xP8AdX+Qr6nT7or6s+pH960+KOMVmc5oATmjmtXijigD/9X6VX7w+taTfdP0ob7p+lZq9R9aAAZyK5pvvH6127fdP0rhz1rycx+z8zysx+z8woooryTygooooApahqFnpVnLqGoSiGCEZZj+gA7k9AByTXgk0ut/FTWhDCGtdLtjkZ5CA/xN2aRh0HQD2yTpfEYXWseMdN8NvMUtpBDgDoGlZgz47kAYGf6mvY9N0zT9C09NPsE8uGL8SSerMe5Pc197h5UskwdPFpc1eqrx7RXf1/rbfqSVOKl1YmmaZp+hafHp9gnlwxD8WPdmPcnuaxNU1QuTDBRqmqM7eTBTtL0ssfOnHJr4uc5Tk61Z3b1IS+1INL0ssfPn6murRVQBRQqhBtWnDrWEpXMpSufNXgL/AJGe7/6+Zf8A0Y1fT97/AK//AICv8q+Zvh9/yM15/wBfM3/oxq+lJvvD6D+Vexjv4KPXxv8ACRFRRRXinjBRRRQAV4P4y8Z3niS7/wCET8JBpo5W8uSSM8zHuqntGP4m6Ef7PU8ZeM7vxJeDwn4T3SxzN5ckkfWY91U9ox/E3cf7PX0Lwb4Ns/ClnvfbLfSriaYDgDrsTPRR+bHk9gPvsHg6OS0Y5hmEb1X8EO396X9aeu3XCKprnluHg3wbZ+FLMsxE17MB5so6Af3E9FH5seT2A2NT1NYFKIeaNT1NYFKIfmrBsrKa/m82XpXyOKxdbF1pYnEyvJ/19xnrJ80hbOylv5fNl6V2kECQIFUUkECQIFUVYrhlK5nKVz518c/8lJj/AOveD+b19F2v/IHtv89q+d/G/wDyUlP+vaH+b17/AKd/yCoP89q9mX+6/JHrS/3X5IsUUUV4h4wUUUlABXnXjrx3B4ahawsGV9Rde/IhB6Mw/vH+FfxPHVPHfjuHw1C1hYEPqLrnnkQg9GYd2P8ACv4njrh+BPAkwmXxP4oDPdyN5sUUvJUnnzJM9XPUA/d6nnAH2eVZVQw1BZrmq9z7Mes3/l/W2/TCCiueYeBPAkwmXxP4nVnu5D5sUUnJUnnzJM9XPUA/d6nnAHql7ex2yFieaL29jtoyWPNcczT6pPgfdzXiZnmdfMa7r13p0XRLsiW3N3kDNcapPgZ25rrrGxjtYxxzRY2MdrGOOa0a8uUr6IiUuiPHfjN/yBtN/wCv3/2k9d98Pv8AkX2/651wXxm/5A+m/wDX7/7Seux+H3/IEP8AuV6+G/3d/M9bDf7u/mdjRRRXiHihRRRQAVheIPEOn+G9Pa/v268Rxj70jeg/qegFHiHxDp/hvT2v79s9RHGPvSN6D+p6AV43oui6t8SNWOv6+Wj06M7VVcgMAf8AVx+ij+Juuff7v1GTZNCtB4/HvloR3fWT7L+v+BvTp/alsGi6Lq3xI1Y6/r5aPTo22qq5AYA/6uP0UfxN1z7/AHfdgLawtlhhVYoolCoijAUDoAPSgC2sLZIYVWKKJQqIowFUdAB6VyN/fy3kvkw9KwzfN55hNRiuWlHSMVsl/mOUnN+QX9/LeS+TD0rX0vS1hUSSD5jRpelrCokkHzGuhAAGBXhylbRESlbRHM+NAB4O1gD/AJ8p/wD0A1558HOgr0Pxr/yJ+s/9eU//AKAa8z+EHVfqK9TLvhZ6eX/Cz3WT/WN9TTakn/10n+8f51HXkT+Jnky+JhRRRUkhUNxcQWkD3V1IsUUSlndjgKB3JouLiC0gkurqRYoolLO7HAUDqTXgmratq/xK1caJogaHToW3MzZAwOPMk/8AZV/rkr7+TZNLHSc5vlpR1lJ7Jf5mtOnzavYXVtW1f4l6uNE0QNDp0J3MzZAwD/rJP/ZV9ffJX2XQ9D07w3py6fp64Ucu5+87d2b+g6AcCjQ9D07w3py2GnrhRy7n7zt3Zj/IdAOBVDVdVxmGE5NdWcZxHERWBwK5aEdl382XKXN7sdg1XVcZhhPNVtM0x5n8+f8AWjTNMeZ/Pn7118aLGoVRXzcpKKsiZSUVZCxosYCqOlfNug/8lB1X/r8k/wDQq+le9fMui/8AJQdV/wCv2T/0Ku7LvikdmX/FI+nX+5H/ALgplWrr/ll/1zH9aq1yYr+LI5cT/FkFFFFc5zhR7Cj6V45438b3E1wfC3hYmW5lPlyyx8kE8GOMjv8A3m7cgdyPVyrKq2YVvY0dur6Jd2XCDk7IPG/je4muD4W8LFpbqVvLllj5IJ4McZHf+83boO5HSeCPBFv4Yt/tV1tk1CRcM45EYP8AAn9T3+lHgnwRbeGLcXV0Fk1CRcO45EYP8Cf1Pf6V02o6klshUHmvdzTNKNGj/ZeV/wAP7Uus3/l/W2+0pJe5ANR1JLZCoPNc1b28+oz+Y+duaLe3n1KfzJPu12ltbJboFUV8m2oqyIbUVZBbWyW6BVFeG/FH/kcNJ/692/8AQxXvleA/FP8A5G7Sf+vdv/QxW2C/jI2wf8VHtmg/8gSP8K0qg0f/AJF+L6ip6rH/AMUeO/ihRRRXCcQUUVw3jXxra+FbXyots1/MuYoj0Uf339FHYfxfTJHZgcDWxlaOHw8byf8AV35FRi5OyDxr41tfCtr5UW2a/mXMUR6KP77+ijsP4vpkji/BXgq61S6/4SzxXumkmbzI45By57O47KP4V+nbAo8FeCrnVbr/AISzxXumkmbzY45Orns7j+6ONq+mO2BXsV3dpboWY819hjcbRyijLLsuleo/jn/7bH+vx26G1Bcsdwu7tLdCzHmuLnmn1KfYmduaJp59Sn2Jnbmup07TktkBI5r4n4Vd7mekdXuGnaclsgJHzVxXxZ/5E6T/AK+IP/Rgr0qvNfiz/wAidJ/18Qf+jBTou9WL8x0XepH1LHww/wCQZ/wH+lehVxPwt/5BB/3D/Ku27V25j8UTszD4oi0UUV5Z5gUUVka3ren+HtPfUtSfbGvAA5Z2PRVHcn9Op4rWjRnWmqVJXk9EkNJt2Rr0V4r4S+JWq694mTSru3iWC5Z9gUENGFUsBuz83A5yBzyPSvaa9HNcoxGW1VRxNrtX0dypwcNGLRRRXkkBVa8/49Jv+ubf+gmrNVrz/j0m/wCubf8AoJprca3Pnz4Q/wCtj+i/yFfYafcH0r5E+Df+sT/dX+Qr6nT7or6s+pH960+KOMVmc5oATmjmtXijigD/1vpVfvD61pN90/Shvun6Vmr1H1oABnIrmm+8frXbt90/SuHPWvJzH7PzPKzH7PzCiiivJPKCiiigDw7xZ/yVLSPra/8AoT16brl48S7E715l4s/5KlpH1tf/AEJ69A1//WrX2ufr/ZsB/wBe/wDI7J7R/rsLpOneafPl5rrlUINq1m6V/wAeq1qV8ZN3ZzTd2FA60UDrUkHzV4C/5Ge7/wCvmX/0Y1fT97/r/wDgK/yr5m+H3/IzXn/XzN/6MavpSb7w+g/lXtY7+Cj2cb/CRFRRRXinjBXg/jPxleeJLv8A4RPwkGmSVvLkkj6zHuqntGP4m6H/AHeqeM/GV34lu/8AhEvCYM0cxMckkZ5mPdEPaMfxN3/3evofg3wbZ+FLPe22W+mUCaXsB/cT0UH8WPJ7AffYPB0cloxzDMI3qv4Idv70v609duuMVTXNPcXwb4Ns/ClmWYrNeyjEs2OAP7idwo/U8nsBr6nqawKUQ/NRqeprApRDlqwbKzmv5vNl6V8jisVWxdaWJxMryf8AX3GesnzSCzspr+XzZeldrBAkCBVFEECQIFUVPXDKVzOUrhRRRUkHzr45/wCSkx/9e8H83r6Ltf8AkD23+e1fO/jf/kpKf9e0P83r3/Tv+QVB/ntXty/3X5I9mX+6/JFiiiivEPGCvOPHXjuDw1C1hYMsmoOv1EIPRmH94/wr+J46njvx3D4agNhYMr6i6555EIP8TD+8f4V/E8dcPwJ4EmWZfE/idWe7dvNiil5Kk8+ZJnq56gH7vU84A+0yrKqGGoLNc1XufZj1m/8AL+tt+mEFFc8w8CeBJlmXxP4nVpLtz5kMUvJUnnzJM9XPUA/d6nnAHql7epbIWY80Xt7HbRliea45mn1S4wM7a8PM8zr5jXdeu9Oi6JdkS25vmkDNPqk+BnbmuusbGO1Qcc0WNjHaoABzWjXlylfRESl0QUtFFZmZ458Zv+QNpv8A1+/+0nrvvh9/yL7f9c64L4zf8gfTf+v3/wBpPXY/D7/kCH/cr28N/u7+Z7WG/wB3fzOxooorxDxQrC8Q+IdP8N6e1/ft14jjH3pG9B/U9AKPEPiHT/Dentf37e0cY+9I3oP6noBXjWi6Lq3xI1Y6/r5MenRnaqrkBgD/AKuP0UH7zdc+/wB36nJsmhVg8fj3y0I7vrJ9l/X/AAN6dP7Utg0XRdW+JGrHX9fJj06NsKq5AYA/6uP0UfxN1z7/AHfdwLawtlhhRYoolCoijCqB0AHpQBbWFssMKrFFEoVEUYVQOgA7CuRv7+W8l8mHpXPm+bzzCajFctKOkYrZL/McpOb8gv7+W8l8mHpWvpelrCokkGWo0vS1hUSSD5q6EAAYFeHKVtERKVtEAGBgUtFFZGRzHjX/AJE/Wf8Aryn/APQDXnnwc6CvQ/Gv/In6z/15T/8AoBrzP4QdV+or2cu+FnsZf8LPdZP9Y31NNqSf/XSf7x/nUdeRP4meTL4mFQ3FxBaQSXV1IsUUSlndjgKB1JNFxcQWkD3V1IsUUSlndjgKB3JrwTVtW1f4lauNE0QGHToW3MzAgYBx5kn/ALKv9clfdybJpY6TnN8tKOspPZf8EunT5tXsGq6trHxL1gaJogaHToSGZmyBgH/WSY/8dX+uSvs2h6Hp3hvTl0/T1wo5dz9527sxH6DoBwKND0PTvDenLp+nrhF5dz9527s39B0A4FUNV1XH7mE5NdWcZxHERWBwK5aEdl382XKXN7sdg1XVcZhh5NVtM0x5n8+ejTNMaZ/PnrsERY12qMYr5uUlFWRMpKOiBEWNQqin0UVkYh3r5q0H/koOq/8AX5J/6FX0r3r5l0X/AJKDqv8A1+yf+hV6eXfFI9LL/ikfTr/cj/3BTKtXX/LL/rmP61VrkxX8WRy4n+LIKPYUewrxzxv43uJrg+FvCxaW5lPlyyxckE8GOMjv/ebt0B6kduVZVWzCt7Gjt1fRLuzKEHJ2QeN/G9xNcHwt4VLS3UreXLLHyQTwY4yO/wDebtyB3I6TwR4Jt/C9v9qugsmoSLh3HIjB/gT+p7/SjwR4JtvDFv8AarrbJqEi4dxyIwf4E/qe/wBK6fUtRS2QqDzXu5pmlGjR/svK/wCH9qXWb/y/rbfaUre5ATUdRS2Qqp5rmre3n1GfzJM7aLe2n1GfzJPu5rtLa2S3QKor5NtRVkQ2oqyC2to7dAqirVFFYmIV4H8Uf+Rw0n/r3b/0MV75XgPxT/5G7Sf+vdv/AEMV2YL+KjswX8VHtmg/8gSP8K0qg0f/AJF+L6ip6rH/AMUeO/ihRRXDeNfGtr4VtfKi2zahMuYoj0Uf339FHYfxfTJE4HA1sZWjh8PG8n/V35HJGLk7IPGvjW18K2vlRbZtQmXMUR6KP77+ijsP4vpkji/BXgq61S6/4SvxZmaSY+ZHHKOXPZ3HZR/Cv07YFHgrwVdapdf8JX4s3TSTN5kccnVz2dx2Ufwr+mMCvYrq7S3Qsx5r6/G42jlFGWXZdK9R/HP/ANtj/X47dDaguWO4Xd2luhZjzXFzTT6lPsTO2iaafUp9iZ211On6clsgJHzV8V8Ku9zPSKu9w07T0tkBI+atWilrFu5k3cK80+LP/InSf9fEH/owV6XXmnxZ/wCROk/6+IP/AEYK2ofxI+prQ/iR9Sx8MP8AkGf8B/pXoVcT8Lf+QQf9w/yrtu1d2Y/FE7cw+KItFFZGt65p3h7T31LUn2RrwqjlnY9FUdyf06niuCjRnWmqVJXk9EjzUm3ZBret6f4e059S1J9sacKo5Z2PRVHcn9Op4rwqysNc+KOttqGoFrbTrc7Rt5WNf+eceeDIf4m7d+wosbHXPilrZ1HUSbfTrclfl5EY4Plx56yMPvNjj8hXvttbWWk2MdnZxrDBCu1EXoB/UnqSeSa+9nOlw9S9nTalipLV7qCfRef9bb9elJabnhVlZ2Wl/FxbWyiWGCF2CovQD7Nn+ZJr199djE/lLXjl05l+LErx9WLkf+AwrtDayQzqz9TWHFd5yws5u7dKP6lVIp2bPT4ZBKgcd6lqlY/8e6/SrtfCM4nuFVrz/j0m/wCubf8AoJqzVa8/49Jv+ubf+gmmtwW58+fCH/Wx/Rf5CvsNPuD6V8ifBv8A1if7q/yFfU6fdFfVn1I/vWnxRxisznNACc0c1q8UcUAf/9f6VX7w+taTfdP0ob7p+lZq9R9aAAZyK5pvvH6127fdP0rhz1rycx+z8zysx+z8woooryTygooooA8O8Wf8lS0j62v/AKE9ega//rBXn/iz/kqWkfW1/wDQnr0DX/8AWCvtc/8A92wH/Xs7ZbR/rsb2lf8AHqv0rTrM0r/j1X6Vp18XLc5JbhQOtFA60iT5q8Bf8jPd/wDXzL/6Mavp+9/1/wDwFf5V8zfD7/kZrz/r5m/9GNX0nN97n0H8q9rG/wAFHs43+EiOvB/GXjO78SXg8JeE90screXJJH1mPdVPaMfxN3H+z1Txl4yvPEt3/wAIn4SDTRyny5JI+sx7qp7Rj+Juh/3evong3wbZ+FLMsxEt7Mo86XsP9hPRQfxPU9gPpMHg6OS0Y5hmEb1X8EO396X9aeu3DGKprnluJ4N8G2nhSz3PtmvpR+9mA4A/uJ3CD8yeT2A2NT1NYFKIfmo1PU0gUohy1YVlZTX03my9K+RxWKrYutLE4mV5P+vuM9ZPnkFnZTX83my9K7SCBIECqKIIEgQKoqeuGUrmcpXCiiipICiiigD518c/8lJj/wCveD+b19F2v/IHtv8APavnfxv/AMlJT/r2h/m9e/6d/wAgqD/Pavbl/uvyR7Mv91+SLFeceO/HcPhqFrCwKvqEi59RCD0Zh3Y/wr+J46njvx3D4ahNhp7K+ouM88rCp6Mw7sf4V/E8dcLwH4DmWZfE/idS93I3mwwyclSefMkz1c9QD93qecAezlWVUMNQWa5qvc+zHrN/5f1tv58IKK55i+BPAkyzL4n8Tqz3bnzIopeSpPPmSZ6ueoB+71POAPVL29jtkJJ5ovb2O2jLE81xzNPqlxgZ25rw8zzOvmNd16706Lol2RLbm+aQM0+qT4H3c111jYx2qDjmixsY7VAMc1o15UpX0REpdEFLRRUGYUUUUAeOfGb/AJA2m/8AX7/7Seu++H3/ACL7f9c64L4zf8gfTf8Ar9/9pPXY/D7/AJAh/wByvbw3+7v5ntYb/d38zsawvEPiHT/Dentf37dciOMfekb0H9T0Ao8Q+IdP8N6e1/ftntHGD80jeg/qegFeNaLomrfEjVm1/XyY9OjO1VXIDAH/AFcfoo/ibrn3+73ZNk0KsHj8e+WhHd9ZPsv6/wCB5lOn9qWwaLourfEjVjr+vkx6dG21VXIDAH/Vx+ij+Juuff7vu4FtYWywwosUUShURRhVA6AD0oH2ext1hhVYoolCoijCqo6AD0rkb+/lvJfJh6Vz5vm88wmoxXLSjpGK2S/zHKTm/IL+/lvZfJh6Vr6XpawqJJBljS6XpawqJJBljXQAADArw5StoiJStogAAHFLRRWRkFFFFAHMeNf+RP1n/ryn/wDQDXnnwc6CvQ/Gv/In6z/15T/+gGvM/hB1X6ivZy74Wexl/wALPdZP9Y31NV7i4gtIHurqRYoolLO7HAUDqSakv7iC0E91dSLFFEWZ3Y4CgHqTXgGrarq/xL1caJogaHToW3MzAgYBx5kn/sq/1yV6MoyaWOqSnN8tKOspPZf8E86NPmk29g1XVtX+JesDRNEDQ6dCQzM2QMA/6yTH/jq/1yV9m0PQ9O8N6cun6eu1By7n7zt3Zj/IdAOBRoeh6d4b05dP09cIvLufvO3dm9/QdAOBVDVdVxmGHkmujOM4jiIrA4FctCOy7+bHKXN7sdg1XVcfuYTyar6ZpjTP58/ek0zTHmfz567BEWNdq1825KOiJk1FWQJGsa7Vp9FFZGIUUUUAHevmrQf+Sg6r/wBfkn/oVfSvevmXRf8AkoOq/wDX7J/6FXp5d8Uj0sv+KR9Ov9yP/cFM68Crd1/yyx/cFeI+N/G9xNcHwt4WLS3Mp8uWWLkgngxxkd/7zdug7kdeDyqtmOLlRo7dX0S7swrQcq0kg8b+N7ia4PhbwsWluZW8uWWPkgngxxkd/wC83bkDuR0ngjwTbeF7f7VdbZNQkXDuORGD/An9T3+lL4J8E2/he2+1XW2XUJFw7jkRg/wJ/U9/pXS6lqKWyEA816maZpRo0f7Lyv8Ah/al1m/8v623mUre5ANR1FLZCFPzVzVvbz6lP5kn3aLa3n1KfzJM7c12ltbR26BVFfJtqKsiG1FWQW1slugVRVqiisTFsKKKKACvA/ij/wAjhpP/AF7t/wChivfK8B+Kf/I3aT/17t/6GK7MF/FR2YL+Kj2zQf8AkCR/hWlUGj/8i/F9RXG+NfGtr4WtfKi2zahMuYoj0Uf339F9B/F9MkdzwNbGYtYfDxvJ/wBXfkXjIuVayDxr41tfCtr5UW2bUJlzFEeij++/oo7D+L6ZI4zwV4KutUuv+Er8WZmkmPmRxydXJ6O4/u/3V+nGMCjwV4KutTuv+Es8V7ppJm8yOOTq57O47L/dX6dsCvYbu6S3Qsx5r6HG42jlFGWXZdK9R/HP/wBtj/X47ZNqC5Y7hd3SW6FmPNcXNNPqU+xM7c0TTT6lPsTO3NdTp2npbICRzXxXwq73I0itdw07T0tkBI+atWilrFu5i3cKKKKBBXmnxZ/5E6T/AK+IP/Rgr0uvNPiz/wAidJ/18Qf+jBW1D+JH1NqH8SPqWPhh/wAgz/gP9K9Crifhb/yCD/uH+VdBreuad4e059S1J9sa8Ko5Z2PRVHcn9Op4r08XRnWqwpUleT0SO7HpuUUg1zW9P8Pac+pak+2NOFUcs7HoqjuT+nU8V4XY2OufFHXDqOok2+nW52/KeIx18uPPWQ/xN2/IUljYa38UdcOo6iTb6dbnb8p4jHXy48jDSHjc3b8hXv1tbWWlWUdnZxrDBCu1EHQAfzPqTyTX1M50uHqXs6dpYqS1e6gn0Xn/AFtvz6UlZbhbW1lpNlHZ2cawwQrhEXoB/iepPUmuY1LUnuHMEFGpak9w/kw1e0vStg82UcmvhZSbbqVHdsy296R5FZRY+Lccb/3iD/4C16Xq4C3SgVwCDHxnwP8Anq3/AKS16BrH/H2tfYcUP3sJ/wBeo/qbTeqOrsP+PdfpV2qVh/x7r9Ku18Q9zje4VWvP+PSb/rm3/oJqzVa8/wCPSb/rm3/oJoW4Lc+fPhD/AK2P6L/IV9hp9wfSvkT4N/6xP91f5CvqdPuivqz6kf3rT4o4xWZzmgBOaOa1eKOKAP/Q+lV+8PrWk33T9KG+6fpWavUfWgAGciuTurm2syTdypCM/wAZC/zrvm6GvLPF/hn+3YjGRnNcuIw6rWu7WOavh1Vtd7En9v6F/wBBC2/7+p/jR/b+hf8AQQtv+/qf415E/wAGEySI1/IVUHwdXP8Aqx+Vcv8AZy/mOX+z1/Me0f2/oX/QQtv+/qf40f2/oP8A0ELb/v6n+NeQH4LpjPlj8hVYfB1c/wCrH5Uf2cv5g/s9fzE/ie6tp/iXpF1BKkkR+zHerArgNJk5HHFdprmt6NJIpS9gYe0in+teX6joB0jxfo2gn+CKGP8A77aX/GoL/wCFos2VNg7DpX1ed4VSw+DV9oFrDKWl9j3LTNd0RbZQ1/bg+8q/41pf2/oX/QQtv+/qf414rZ/B5Z4fM2Dp6Uo+Dq/88x+VfKPLk/tEPL0/tHtP9v6F/wBBC2/7+p/jR/b+hZ/5CFt/39T/ABryA/BdMZ8sfkKqj4Or/cH5Cj+zl/MH9nr+Yyfh+yyeJbl4zuVrmUgjoR5jHP5V0njzxvceKL8+F/CRMkD/ALuWZDjzsD5lU9oh/E3f/d68NIgac+FPBytcvcN5UksX/LX1RD2jH8T9D/u9feNB+HFr4e0R7ckTXtyoE8oHGOyJ6KP1PJ7AffYfCUsspRxeMjepvCL6f3n+n+e3VJc9orZGP4O0vwv4StP3l/ayX8q4ml8xeB12Jk8KPzY8nsBt6l4s0aJCsV7Ax9pF/wAa8t134a2y3DybFLE+grGsvhTLdsCIwB9K+NxlOpi60sRiJ3k/6+4wlglJ8zkel2l/pV5N5txfQAe8i/412UGseH4ECrf23/f1P8a8lHwWULyg/Kq4+Dq5x5Y/KuWWAT+0KWBT+0e0/wBv6F/0ELb/AL+p/jR/b+hf9BC2/wC/qf415AfgumM+WPyFVR8HV/55j8qn+zl/MT/Z6/mPaf7f0L/oIW3/AH9T/Gj+39C/6CFt/wB/U/xryA/BdMZ8sfkKqj4Or/zzH5Uf2cv5g/s9fzHtP9v6F/0ELb/v6n+NH9v6F/0ELb/v6n+NeQH4LpjPlj8hVUfB1f7g/Kj+zl/MH9nr+YzvGF3a3nxFSa0lSZPs8I3IwYZBbPIr0jxl4+g8N6NDpWnkPqTJuOeVhVhwzDux/hX8Tx18v1bS9J8ATlItkuo4ysePliz0dx3P91e/U8V6F4A+HFyzDxV4pVmu5D5kEMnJQnnzZM/x/wB0fw9TzgD7TLsro4fDrGZgrw+zHrJ/5f1tv08vuqitTC8FeG9PtbkeI/F91EL1m8yKCeRdyMefMlBP3z1AP3ep5wB6jd+KNChQkX1ux9pFP9a4Xxj8PLe8uXupVBJJPIya85h+GTXcu2GMYz6V4Ga1KuYV3Xry9F0S7IynglJ3cj1GTW9O1GfDXsAXPeRf8a6qx1Hw9axgfb7bP/XVP8a8sj+C3y5ZBn6VEPg6v/PMflXmvAJ6cwngU9OY9p/t/Qf+ghbf9/U/xo/t/Qv+ghbf9/U/xryA/Bdcf6sfkKqj4Or/AM8x+VR/Zy/mI/s9fzHtP9v6F/0ELb/v6n+NH9v6F/0ELb/v6n+NeQH4LoB/qx+Qqr/wp1c/6sflR/Zy/mD+z1/Me0/2/oX/AEELb/v6n+NH9v6F/wBBC2/7+p/jXkB+C6Af6sfkKq/8KdXP+rH5Uf2cv5g/s9fzGh8XdT0290nTo7O5inZbzJEbqxA8txnANdXofiTTfC/g9r/UTy67Iox96R8dB7DuegrzvVfh/o/hKAanqzBFzhEXAeRv7q/1PQVY8JeEtQ+IOoLqmrAwaRbnYiLkBgp/1cft/fbrn3+79VlGTw9k6+LdqS3fV+SOiMFTh7KOpT020uPHmrHX/FVylrpynCKzhA4U/wCriyQQoP3m659/u+2rrvhuyt0gt7y1jjiUKiJIgCgdAAD0rM8aeBbTUIFhjjRIYlCogA2qq9AB6CvDpPhwjy+VBGDz6VxZxiJY+UYp8tOOkYrZL/Mzng+beR6zqHifTruTyoryHb/10X/GtPS7vQYVEkt/bbv+uqf415rbfBh3TdIg/KnD4Or/AM8x+VeK8CrWUhPBK1kz2ga9oI4GoW3/AH9T/Gl/t/Qv+ghbf9/U/wAa8gPwXT/nmPyFVf8AhTq/3B+VR/Zy/mI/s9fzHtP9v6F/0ELb/v6n+NH9v6F/0ELb/v6n+NeQH4Lp/wA8x+Qqr/wp1f8AnmPyo/s5fzB/Z6/mPaf7f0L/AKCFt/39T/Gj+39C/wCghbf9/U/xryA/Bdf+eY/IVV/4U6v/ADzH5Uf2cv5g/s9fzHo3jDW9Gm8J6vDDewO72cwVVkUkkocADPWuJ+Etzb2VrJeXcgihhUu7twFUdSaqXHwhtbKB7y7KQwwjc8j4CqB3JrnNO0+98W3ieGPDKtHYRsGllcEZwceZJjoB/AnX8clfoclyZ1XJylaC1lJ9P+Cb0qaoKyd2za17XtR+ImrnS9Mb7LpULbnkkO1cZ/1kh9f7q/1yV9T0NvCPhvTl07T723VV5djIm527s3PX0HQDgVpXXw90zTvDy6Lp6/Io3O7AbpHxyzf0HQDgV4Jf/Di3jmKxopJPYCtM3xMcRCODwnuUY7Lu+7JlhOZWvY9f1TxbpJHlQXkJz6SL/jVLTbvRpH865vrcfWVf8a87svg9LcDe0YA+lXB8HV6bB+VfO/UUlZSJ+pJKyZ7NHrmgRqFW/tv+/qf40/8At/Qv+ghbf9/U/wAa8g/4Uuv/ADzH5Cqv/CnV/uD8qj+zl/MR/Z6/mPaf7f0L/oIW3/f1P8aP7f0L/oIW3/f1P8a8g/4Uuv8AzzH5Cqv/AAp1f7g/Kj+zl/MH9nr+Y9p/t/Qv+ghbf9/U/wAaP7f0L/oIW3/f1P8AGvIP+FLr/wA8x+Qqr/wp1f7g/Kj+zl/MH9nr+Y9p/t/Qs/8AIQtv+/qf418/+HHSfx9qcsJDo95IVZeQQW4wR1rof+FLr2jH5CuQuIotDuj4f8MZuNQmPlPJFzszwUjx1Y9C3bkDuR7GUZNUrVuSk/VvZLuzalQVC8r3PQ/HPjmeeVfC3hYmS5ceVNLH1B7pGR3/ALzduQO5F/wXovhzwpB9ovb62fUZBh28xMRg/wACc/me/wBK6Xwf8MIPDujvPe4k1K4TDsORGp/gU/8AoR79OleV+IPh1bG5eYqpZj6CvXzTE0o0Xl+Xu0PtS6zf+X9bBLDuabbtc9Xv/FeiQoRHewMfaRf8a5iHU9Mv59819AFz3kX/ABrzq0+E8l42VjAX6Vqr8HAByg/Kvk1gElpIhYFLZnsNtq3h63QKt/bf9/U/xq1/b+hf9BC2/wC/qf415Afguv8AzzH5Cqv/AAp1f+eY/Ko/s5fzEf2ev5j2n+39C/6CFt/39T/Gj+39C/6CFt/39T/GvID8F1/55j8hVX/hTq/88x+VH9nL+YP7PX8x7T/b+hf9BC2/7+p/jR/b+hf9BC2/7+p/jXkH/Cl1/wCeY/IVV/4U6v8AzzH5Uf2cv5g/s9fzHtP9v6F/0ELb/v6n+NeIfEe9s77xbpT2U0c6rAwJjYMAd464rQPwXX/nmPyFcxq/h/SfAsiyShZb1xuit+g/35MdEHp1bp0ya7svympVrxhR1bNKeFjRlztnqOseNrXwp4cht4gJdQnXdFEeir/ff0X0H8X0yRyPhLw9bXF6fE/ja6j8+VhLHFO6hmPUO6nGAONq/pjAre+Hnw5u9Xm/4TDxbukMh8yGKQcyHs7jso/hX6dsCl8Z+BItRuWuZgCSc5IzX1eNrU8BSlg8DL949JzX5L+vx20dJ1Ly2O7uPE+hRIW+325PtIv+Ncdca/p+oT7ftkIXPeRf8a8zT4YfaZdkEYx9K14fg4SoLoM/SviI4BLqYxwKXU9Z0+/8PWqAm/tt3/XVP8a1v7f0H/oIW3/f1P8AGvIP+FLp/wA8x+Qqr/wp1f8AnmPypPL0/tCeAT+0e0/2/oX/AEELb/v6n+NH9v6F/wBBC2/7+p/jXkH/AApdP+eY/IVV/wCFOr/cH5Uv7OX8wv7PX8x7T/b+hf8AQQtv+/qf40f2/oX/AEELb/v6n+NeQf8ACl0/55j8hVX/AIU6v9wflR/Zy/mD+z1/Me0/2/oX/QQtv+/qf41538UdW0q78JSQ2t3DLIZ4CFSRWPDjPANYn/Cl1/55j8hWLqfw60rw3anVNWcQwocDAG927Kg7sfyHU8Vth8scqkVTu3fRFQwShJT5tjtPB2u6d4b8MvquqOViQbVUcs7kcIo7k/oOTxXEQJqPxE1n+1ddnWx0yBto3MFVF6mOPONzn+Ju35CpfC3hbVPiPqiM6tZ6TZfLkchB1KIT96Rv4m7d+wr1fxT4IsrmxjsLWJY7eBdiIBwAPr69z3NfdVPZ5RBxp2eIa1e/In0Xn/W2+7j7R8xqWuq+FtLs47Kyu7WGCFdqIsi4A/PknuepNc5qXinTLh/JhvIcevmL/jXlVx8NIvN8qCME+wFXbX4PySKGdBz7V8G8FzSc5ybbMFgVe7keo6XdaFH+9mv7fd7yp/jXSjXtBUYF/bf9/U/xryH/AIUun/PMfkKqH4Org/IPyqHl6b1kKWAT+0OW6tf+Fvm781PJDs5k3Dbt+yjnPTHvXa6trOjvdKVvYCPaRf8AGvLj4fz8QpPDZGfMiNt+VsD/AEpl78MRbzCPYOfavrOI8KpvCtvalH9RrDKTvfY98sde0NbdQb+3Bx/z1X/Grf8Ab+hf9BC2/wC/qf414zb/AAbWWIPsHPsKZ/wp1f8AnmPyr5L+zl/MS8vX8x7T/b+hf9BC2/7+p/jVe717QjazAX9uSY2/5ar6H3ryj/hS6/8APMfkKq/8KdXP3B+VH9nL+YP7PX8xT+EP+tT6L/IV9hp9wfSvIPBngb+wXDEdK9NHAAr1D0xe9afFHGKzOc0AJzRzWrxRxQB//9H6VX7w+taTfdP0ob7p+lZq9R9aAAdRWA1zcZI8xvzNdi33T9K4c9a8vMJNctn3PMzCTXLZ9x/my/3z+dP+0XH/AD0b86horyfaS7nl88u4/wA2X++fzp/2i4/56N+dQ0Ue0l3Dnl3PEPFrMfinpDE85tef+BPXofiCeYyjLsfxrzrxZ/yVLSPra/8AoT16Br/+sFfa5/J/VsDr/wAuzrlJ+7qdDpMsgtVwx/Otb7Rcf89G/OsbSv8Aj1X6Vp18Y5yvucspyvuP82X++fzrwjxn441LxTdjwh4Vd5oZm8uSRD/rj3VT2jH8Td/93rF4y8ZXniW8/wCET8Jbpo5WMckkZ5mPdVPaMfxN3/3evovg7wdZeFLTJKzXso/ezY7f3E9FH6nk9gPvMHhqeS0Vj8wV6r+CD6f3pf1p67dMb01zTZlfDi30DQC8NsVnvmPlzT4/unlEB6KD+fU9q77xHrjwTNHDIRkDgH2r5s8JahJb65egMf8Aj4mx/wB/Gr2e3s5r+4E03TArxs0xVTEfv60rts78TZU1YSztrm/m86Vjj6120BkgQIjsPxqKCBIECqKnr52VWT6nkSqyfUf5sv8AfP50/wC0XH/PRvzqGio9pLuTzy7j/Nl/vn86f9ouP+ejfnUNFHPLuHPLuP8ANl/vn86f9ouP+ejfnUNFHPLuHPLuP82X++fzrznx58RG8Nwtp2nzF9Rdc8nKwqejN6sf4V/E8dYvHfjyHw3CdP09lfUXX6iEHozDux/hX8Tx1xPAngSZZl8T+J1Z7t282GGTkqTz5kmernqAfu9TzwPtcqy2lhaCzXNfg+zHrN/5f1tv007xXPNmL4M0e007WY9W8Wgy6jJieKCXkoXORLLnrIcZAP3ep5wB9EazrKxWUc0TlSxPQ47V81+O7p4PiIGVsD7NDn83r0O0a41O2hHO0H+lc+Z5lVx8XiKrt2XRLsj0W06HMiy013qk/wB5tufWuwsLd7WMAMc/WorGxjtYwAOa0a+WlVk9EzyJVZbJknmy/wB8/nT/ALTcf89G/OoaKz55dyOeXcf5sv8AfP50/wC03H/PRvzqGijnl3Dnl3H+bL/fP50/7Tcf89G/OoaKOeXcOeXcf5sv98/nWL4h8VW/hvT2v7+ZjnIjjDfNI3oP6noBUPiHxDp/hrT2v79s54jjH3pG9B/U9AK8a0TRNW+JGrHX9fJj06NtqquQGAP+rj9FH8Tdc+/3fqsmylVYPH4+TjQj98n2X9f8DampfFJ6GZGt54x1FfE/i2Ro9O8zyo1UkbyOfLjz0UY+Zuuff7v0/Y6nYLom3T1WCGGPbGqDAUAcAYrw/wCLqx2WhaVBaKIo4rsKioMBVETgAD0qTwxe3F1pgt0JPy812Y/N5Y+N4rlhG6jHsv8AM9Si1Kk5ep1uoapdXsvkwuxH1rY0uxkhUSSMdx96j0vS1hUSSDJNdAABwK+OlVeyZ5Mqr2TJBJIOAx/On/aLj/no351DRWXPLuZ88u4/zZf75/On/aLj/no351DRRzy7hzy7j/Nl/vn86f8AaLj/AJ6N+dQ0Uc8u4c8u4/zZf75/OmXGo/ZIJLq6uPKiiUs7s2AoHUmobi4gtIJLq6kWKKJSzuxwFA6k14Jquq6x8S9XGi6KGh06FgzM2QMA/wCskx3/ALq/1yV+gybKauOk5zly0o6yk+n/AATWmpS1b0I/EHiDVviFfvp2ms0GlWYMsjtnAVesknv/AHV/rkr7b4Al8PaXpa6foq4Tq7tjfI2PvMf5DoBwK5jVtE0/w14A1Ww0xdoWzmLOfvO+w/Mx9fTsBwK8w+HupTJGI1YkmvcxWbwxEfquDXLRhsur82erhJKV2j2vWdal8xoYXOcnvVTTLK4mfz53bn3pLHTHmnaef+8f511iIsa7V7V8VUqNNpM8ypUabSY+MvGoVWIx71N9puP+ejfnUNFYe0l3MOeXcf5sv98/nT/tNx/z0b86hoo9pLuHPLuP82X++fzp/wBpuP8Ano351DRR7SXcOeXcf5sv98/nT/tFx08xvzNQ9a8c8b+N7ie4PhXwqWluZW8uWWPkgngxxkd/7zduQD1I9bKstxOYVvY0Xp1fRLuy4c8nZMf448d3lxOfCnhZ3luZT5UssZycngxxkd/7zdugPUjR+G+naH4ZunWYrPqgykj9ovVE/kW79uK0fBHgm28L24ubnbLqEow7jkRg/wACf1Pf6V43Z38sHjjVfmOBeSYH/Aq+qr5nQpweWZb8C+KXWb/y/rY9PCyTk4rofS+t6x9nA8tyCV6A1yFut7qU/mSuxX6mpPs8+pTRySfd2iustrZLdAqivjMRUcakrM5cRUcZysx9tGbZAqEj8au/abj/AJ6N+dQ0Vx+0l3OP2ku4/wA2X++fzp/2m4/56N+dQ0UvaS7hzy7j/Nl/vn86f9puP+ejfnUNFHtJdw55dx/my/3z+dP+0XH/AD0b86hrhvGvjW18K2vlQ7ZtQmXMUR6KP77/AOz6Dv8ATJHbgcLiMZWjh8Pdyf8AV35Di5ydkx/jTx1F4VtfKhbztQmXMURPCj++/oo7D+L6ZI818L6RCdXi8ReOGae5uz58UUvV+eHkHp/dX+mBWp4K8FXWp3P/AAlnizdNJM3mRxy9XPZ3Hp/dXHp2wKzPipcND4s0plbH+jvn/vsV9vUxlHK4/wBm4GXNUfxz/wDbY/1+O3o0GlNQep9A3Wrp9gFwjY6dOK4Oe+vtUn2LIxXPqaq2U1xqWmxxrnbkV12naelqgJHNfG4yfLU3Fi58s9x+nWZtUByc1s/aLj/no351BS15zqS7nnOpLuP82X++fzp/2i4/56N+dQ0UvaS7hzy7j/Nl/vn86f8AaLj/AJ6N+dQ0Ue0l3Dnl3H+bL/fP50/7Rcf89G/OoayNc1zTvD2nPqepPtjXhVHLOx6Ko7k/p1PFbUYVq1RUqV3J6JIalNuyY/XPENn4e059S1OYrGvCqOWdj0VR3J/TqeK+fJJ9T8fam2v+I5Wt9LtXEYwSQgY8RRk9Xb+Ju35CrthYa38UdbbUtSY2+nW52gL0QdfLjz1c/wATdvyFdr8TLW10zwILKwjWCGGe3CIvAA8wH8+5Pc1+gRqUshgqMXzYmW73UE+i8/6237abUJKMnds9J8P32lw6QlrpUawW8KYRF6D/ABJ6k9Sa5zUtau7p/IhkYj6muK8F6hPNpn2dCSSp/lXe6VpQQCWUcmvksfUfMpyepvjJcrTH6VpzpiaUnNdQs86jAkYfjUQAUYFLXkOrJ9Ty3Uk+o/zZf75/OnG4uMf6xvzqKkpc8u5PPLueFKzf8Lp3ZOfNY5/7da9D1meY3a5dvzrztf8Aks//AG1b/wBJa7/WP+Pta+24nk1LCWf/AC6j+p2Sk7rU6+wll+zr8x6etX/tFx/z0b86zLD/AI91+lXa+Jc5X3OVzlfcf5sv98/nSteTxqZGkbCjPX05qOq15/x6Tf8AXNv/AEE0Kcr7iU5X3INC8W2mskGBgQ3Ix716QCCua+R/g7LIzxqTkBV/kK+pE+6K+pPpx3etPijjFZnOaAE5o5rV4o4oA//S+lV+8PrWk33T9KG+6fpWavUfWgAGciuab7x+tdu33T9K4c9a8nMfs/M8rMfs/MKKKK8k8oKKKKAPDvFn/JUtI+tr/wChPXoGv/6wV5/4s/5KlpH1tf8A0J69C11WaZVUZJPAr7bP/wDdsB/17R2y2j/XY3NK/wCPVfpXjPjHxjeeJrz/AIRLwnmWOU7JJIzgzEdVU9ox/E3f/d60/Efiq+16RPB/hbMiSny5ZI+sx7qp7Rj+Ju/+719R8HeDrPwpZ5O2W9lUCabtjrsTPRR+Z6nsB04TB0clpLMMfG9Z/BDt/el/WnrslFU/fluHg7wdZ+FLLJxLeyqPOlHT/cT0Ufmep7Aa2p6msC7EPzUanqawKUQ81hWVlLfzCWXpmvkMViquLqyxOJleT/r7jLWT55Hhvge3N34jn3dPPkP/AI+a+r5IEgcIg/hX+VfNfw8QL4kux6XEo/8AIjV9LzfeH0H8q68d/BR6WN/hIiooorxDxgooooAKKKKACvNvHnjyHw3C2nacyvqLjPPKwqf4mHdj/Cv4njqeO/HkPhuI6dp5V9Qdc5PKwg9GYd2P8K/ieOuJ4D8BypMvifxMrPdu3mxRS8lSefMkz1c9QD93qeen2mVZVQwtBZrmq9z7Mes3/l/W2/VCCiueYeA/Acscq+JvEyl7t282KGTkqx58yTPWQ9QD93qeenqt7ex2yEk80Xt6lshYnmuOZp9UnwPu5rxMzzOvmVd4jEP0XRLsiG3N80jxfxfK9948Vj/FDEP1avpnSbGO30a2IHJP9K+evFVqtt8QYoh2toT+r19Gad/yCoP89qup/uunY9Sp/u2nYnpaKK8M8QKKKKACiiigArC8Q+IdP8Nae1/ftknIjjB+aRvQf1PQCk8Q+ItP8Nae1/ftkniOMfekb0H9T0ArxrRNE1b4kasfEHiAmPT422qq5AcA/wCrj9FB+83XPv8Ad+pybJoVYPH498tCP3yfZf1/wN6dP7UthdE0TVviPqx1/wAQM0enxnaqrkBgD/q4/RR/E3XPv933f/R7G2WGFViiiUKiKMBVHQAelA+z2FusMKrFFEoVFUYCqOgA9BXI39/Ley+TD0rnzfN55jUUYrlpR0jFbJf5jlJzfkebfFu/N3Y2SL91br/2Rq9F+G+noNEeZxzsrz34naf9l0TTpG+815g/9+3r074fcaIf9ys6FvYO3mepRt7B28zsAMcCloorwjwwooooAKKKKACoLi4gtLeS6upFiiiUs7scBQO5ouLm3tLeS6upFiiiUs7scBQO5rwXVdV1j4l6wNF0UNDp0J3MzZAwD/rJMd/7q/1yV9/JsmljpOpUfLSjrKT2S/zNadPm1ewarqusfEvWBomigw6dC25mYEDAOPMk9/7q/wBclfZ9D0TTfDenLp+nrtReWc/edu7MfX0HQDgUmh6Hp3hvTV0/T12ovLufvO3dmPr6DoBwKoarqv8AyxhPNdWcZxHERWBwK5aEdl383/X4lylze7HYwvHmphvDep28Zzm2lB/75NcJ8IbEXMwd+grrNe0538K6vdTdRZzEf98GsH4PjG36iuLA2UWkengrKLSPc/LWMlVGME0tST/66T/eP86jrxZ/Ezxp/EwoooqSQooooAKKPYV45438b3E9wfCvhUtLcyny5ZY+Tk8GOMjv/ebtyAepHq5VlVbMK3saO3V9Eu7LhBydkHjfxvcT3B8K+FSZbmU+XLLHycngxxkd/wC83bkDuR0vgnwTbeF7b7Tc7ZNQlXDuORGD/An9T3+mKPBPgm28L2/2m52y6hIuHcciMH+BP6nv9OK6XUtSS2Qqp+avdzTNKNGj/ZeV/wAP7Uus3/l/W2+0pfYgGo6ilshVT81fNOhxNeeN78t/FdSE/ia9xtrafUp/Mk+7mvH9BjEfj7U0H8N3IPyavEwCSk0duBSUmj6Ygtkt4YlUfwCpqtXf/LL/AK5j+tVa4MV/FkcOJ/iyCiiiuc5wooooAKKK4bxr41tfCtr5MW2W/mXMUR6KP77/AOz6Dv8ATJHZgcDWxlaOHw8byf8AV35FRi5OyDxr41tfCtr5UW2a/mXMUR6KP77/AOz6Dv8ATJHG+CvBV1qV1/wlnivdNLM3mRxy9XPZ3Hp/dX9MYFHgrwVc6nc/8JX4rzNLM3mxxydWPZ3Hp02r+mMCvX7u7S3Qsx5r6/G42jlFGWXZdK9R/HP/ANtj/X47dDaguWO4t3dpboWY8182/ES5e+8U6ee3lMB/32K9emmn1OfYmdua8v8AiFZraeJ9JTuYGJ/77FfK4NJVFfc2wkbVEe1+FbFINFjcjk4ro6g0b/kX4vqP5VYqMf8AxSMd/FCiiiuE4gooooAKKKx9c1zTvD2nPqepPtjXhVHLOx6Ko7k/p1PFa0aNStUVKkryeiSGk27IXXNc07w9pz6lqb7Y14VRyzseiqO5P6dTxXhmn2Gt/FHWzqepk2+nW5KgKeIx18uPPVzxubt+Qo0+w1v4o62dT1Mm3063O0BeiDr5ceern+Ju35CvfLe3s9Kso7OzjWGCFdqIvQD/AD1PU195OdLh6k6VJqWKktXuoJ9F5/1tv1aUlbqFvb2elWUdnZxrDBCu1EXoB/nqe9eQfFTUftPh54U+6Jov/Q67jUtSkuZPIgrhviDpxg8HSTv94zwfq4r4uk3Kqp1Hdtjor305dzT+Flgr2XnOM/Ka9ZUBRgVxPwsAGkH/AHD/ACrt+1b5jvE3zDeItFFFeWeYFJS0lAHhK/8AJZ/+2rf+ktd/rH/H2tcAv/JZ/wDtq3/pLXf6x/x9rX2/FHxYT/r1H9Tslujq7D/j3X6VdqlYf8e6/SrtfEvc5HuFVrz/AI9Jv+ubf+gmrNVrz/j0m/65t/6CaFuC3Pnz4Q/62P6L/IV9hp9wfSvkT4N/6xP91f5CvqdPuivqz6kf3rT4o4xWZzmgBOaOa1eKOKAP/9P6VX7w+taTfdP0ob7p+lZq9R9aAAZyK5pvvH6127fdP0rhz1rycx+z8zysx+z8woooryTygooooA8O8WkD4o6SScAfZv8A0J6z/GPiqfxJqJ8O+F8yxsSkkynHmY+8qntGP4m7/TrofErwhr+t67De6ZbGeJo4osqV+VlLZ3AnIHzDnBFaun+FrbwrYrbqRJcygefKO/faueij9Tya/V5Y7L8PgsJjZtTqxglGPRPq36f1rqvRTSSZ0XgjwtYeHLEvHiW6lAEs3t/dT0Ufmep9tzU9TWBSiHk1mLqa29mEQ/NiqtlZTX03my9K/OMXiquKrSxGJldv+vuOZ6vmkFlZTX8vmy5xXaW8CQKFUUQQJAgVRU461wylcylK581eAv8AkZ7v/r5l/wDRjV9P3v8Ar/8AgK/yr5m+H3/IzXn/AF8zf+jGr6Um+8PoP5V7GO/go9bG/wAJEVFFFeKeMFFFFABXm3jvx5D4cibTtOZX1FxznkQg9GYd2P8ACv4njqnjzx5F4bibTtOKvqLrkk8rCp6Mw7sf4V/E8YzjeA/Acscy+JvEys92582KGTkqTz5kmesh6gH7vU89PtMqyqhhaCzXNV7n2Y9Zv/L+tt+qFNRXPMTwH4CljlXxN4mUvdu3mxQyclWPPmSZ6yHqAfu9Tz09Vvb2O2Qknmi9vY7ZCWPNccTPqk+B93NeJmeZ18yruviH6Lol2RDbm+aQE3GqXGOdua66xsY7WMADmixsY7WMADmtGvKlK+iIlLoj528c/wDJSY/+veD+b19F2v8AyB7b/Pavnfxv/wAlJT/r2h/m9e/6d/yCoP8APavXl/uvyR6sv91+SLFFFFeIeMFFFFABWD4h8Raf4a09r++bJORHGD80jeg/qegFHiLxFp/hrT2v79sk5EcYPzSN6D29T0ArxvRNE1b4j6sfEHiAtHp6HaqrkBwD/q4+4UfxN1z7/d+pybJoVYPH498tCP3yfZf1/wADenT+1LYNE0TVviRqx1/xAzJpyHaqrkBwD/q4/RR/E3XPv933f/R7G3WGFViiiUKiKMKqjoAOwo/0ewtlhhVYoolCoijCqo6AD0Fcjf38t7L5MPSufN83nmE1GK5aUdIxWyX+YSk5vyC/v5byXyYelbGl6WsKiSQfNRpelrCokkHzGugAAGBXhSl0RMpdEeO/GUAaNpoH/P7/AO0nrvvh9/yL7f8AXOuC+M3/ACB9N/6/f/aT12Pw+/5Ah/3K9fDf7u/merhv93fzOxooorxDxQooooAKguLi3tLeS6upFiiiUs7scBQO5NFzc29nbyXV1IsUUSlndjgKB3NeC6rqusfEvWBouihodOhbczNwMDjzJPf+6v8AXJX38myaWOk6lR8tKOspPp5LzNadPm1ewarqusfEvWBouigw6bC25mbIGAceZJ7/AN1f65K+zaJomneG9OXT9PXai8u5+87d2Y+vt0A4FGh6Hp3hvTl0/T12ovLufvO3dmPr6DoBwKoarqvWGE811ZxnEcRFYHArloR2Xfzf9fiXKXN7sdg1XVcZhh6mq+maY8z+fPRpmmPM/nz116IsahVr5uUlFWRMpKKsjmPGKLH4N1hV/wCfKf8A9ANef/BzoK9D8a/8ifrP/XlP/wCgGvM/hB1X6ivUy74Well/ws91k/1jfU02pJ/9dJ/vH+dR15E/iZ5MviYUUUVJIUUewrxzxt43uLi4PhXwqWluZT5cssfJyeDHGR3/ALzduQD1I9XKsqrZhW9jR26vol3ZpCDk7IPG/ja4nuP+EV8Kky3Mp8uWWPk5PBjjI7/3m7cgHqR0vgnwTbeF7b7Tc7ZdQlXDuORGD/An9T3+mBR4J8E23he3+03O2XUJVw7jkID/AAJ/U9/pgV0upaklshVTzXuZpmlGjR/svK/4f2pdZv8Ay/rbfWUvsQDUtSS2Qqp5rmra2n1GfzJM7aLa2n1GfzJPu5rtLa2S3QKor5RtRVkQ2oqyFtbZLdAqivnPQf8AkoOq/wDX5J/6FX0r3r5l0X/koOq/9fsn/oVduXfHI7cv+KR9Ov8Acj/3BTKtXX/LL/rmP61VrkxX8WRyYn+LIKKKK5znCiiuG8a+NbXwra+TDtmv5lzFEeij++/+z6D+L6ZNdmBwNbGVo4fDxvJ/1d+RUYuTsg8a+NbXwta+TDtm1CZcxRHoo/vv/s+g7/TJHG+CvBV1qV1/wlfizdNLM3mRxy9WPZ3Hp/dX6cYwKPBXgq61K6/4SzxXumlmbzY45OrHs7j0/ur9OMYFev3d2luhZjzX1+NxtHKKLy7LpXqP45/+2x/r8duhtQXLHcLu7S3Qsx5rjJpp9Sn2JnbRNNPqc+xPu5rqdP05LVASPmr4r4VfqRpFa7hp2npbICR81eM/FH/kcNJ/692/9DFe914F8U/+Ru0n/r3b/wBDFb4J3rI2wbvWR7ZoP/IEj/CtKoNH/wCRfi+oqenj/wCKGO/ihRRRXCcQUUVj65rmneHtOfU9SfbGvCqOWdj0VR3J/TqeK1o0alaoqVJXk9EkNJt2Qa5rmneHtOfU9TfbGvCqOWdj0VR3J/TqeK8O0/T9b+KGtnU9ULW+nQEqAvRB/wA8489XP8TdvyFGn6frfxQ1o6pqZNvp1u20BeiL18uP1c/xN2/IV73b29npVlHZ2cawwQrtRF6Af56nqTX3k50uHqTpUmpYqS1e6gn0Xn/W2/VpSXmFvb2elWcdnaRrDBCu1EHQAf55PU1zGpak9w/kQUalqUlzJ5EFXtK0rZiWUZJr4aUm26lR3bM1p70g0rSggEso5Nc18WAF8GyAf8/EH/owV6WAFGBXmvxZ/wCROk/6+IP/AEYKVGV6sfUKUr1I+pY+GH/IM/4D/SvQq4n4W/8AIIP+4f5V23au3MfiidmYfFEWiiivLPMCkpajlljhieaZgiICzMxwABySSegFNJt2QJHhi/8AJZ/+2rf+ktd/rH/H2tea6HeRa/8AFc6rpgaS3DPJuIx8iw+XuweQC2MfWvStY/4+1r7jiuLhUwtOWjVKKa7PU7Zq0kdXYf8AHuv0q7VKw/491+lXa+He5xvcKrXn/HpN/wBc2/8AQTVmq15/x6Tf9c2/9BNC3Bbnz58If9bH9F/kK+w0+4PpXyJ8G/8AWJ/ur/IV9Tp90V9WfUj+9afFHGKzOc0AJzRzWrxRxQB//9T6VX7w+taTfdP0ob7p+lZq9R9aAAZyK5pvvH6127fdP0rhz1rycx+z8zysx+z8woooryTygooooASuP8QxSNygzXY1DLBHLw4zVRlZ3KjKzucHpemSzsGl6V3cECQIFUU6OFIhhBipacp8w5TuFA60UDrUEHzV4C/5Ge7/AOvmX/0Y1fT97/r/APgK/wAq+Zvh9/yM15/18zf+jGr6Um+8PoP5V7WO/go9nG/wkRUUUV4p4wV5r488eQ+HIm07TmV9RdeT1WEHozDux/hX8Tx1Tx548i8ORNpumsr6i65JPKwqejMO7H+FfxPGAcfwH4ClilXxN4mVnu3bzIoZOSrHnzJM9ZD1AP3ep56faZVlVDC0Fmuar3Psx6zf+X9bb9VOmornmJ4D8BSxyr4l8TKz3bnzIYpeWQnnzJM9ZD1AP3ep56eq3t6lshJPNF7epbISTzXHEz6pPx92vDzPM6+ZV3iMQ/RdEuyIbc3zSAm41O4wM7c111jYx2qAAc0WNilrGMDmtGvKlK+iIlLogpaKKgzPnXxz/wAlJj/694P5vX0Xa/8AIHtv89q+d/G//JSU/wCvaH+b17/p3/IKg/z2r25f7r8kezL/AHX5IsUUUV4h4wVg+IfEOn+GtPa/v2yTxHGPvSN6D+p6AUeIvEWn+GtPN9ftkniOMfekb0Ht6noBXjWiaHq3xH1ZvEHiAsmnodqquQHCn/Vx9woP3m659/u/U5NksKsHj8e+WhH75Psv6/4G9OmvilsGiaJq3xH1Y6/4gYppyHaqrkBwD/q4/RR/E3XPv933gfZ7G2WGFViiiUKiKMKoHQAelH+j2NusMKrFFEoVEUYVVHQAdgK5G/v5b2XyYelc+b5vUzGajFctKOkYrZL/ADHKTm/IS/v5b2XyYelbOl6WsKiSQfMaNL0tYVEkgy1dAABwK8OUuiIlK2iADAwKWiisjI8c+M3/ACBtN/6/f/aT133w+/5F9v8ArnXBfGb/AJA+m/8AX7/7Seux+H3/ACBD/uV7eG/3d/M9rDf7u/mdjRRRXiHihUFxcW9pBJdXUixRRKWd2OAoHc0XNzb2dvJdXUixQxKWd2OAoHc14Lquqax8S9YGi6KDDpsDbmZgQMA48yT3/ur/AFyV9/JsmljpOpUfLSjrKT6enma06fNq9g1XVdY+JesDRdFDQ6bCQzM2QMA/6yTHf+6v9clfZ9D0TTvDenLp+nrtReXc/edu7MfX0HQDgUaJomm+G9OXT9PXai8u5+87d2Y+v6AcCs/VdV/5Yw8k11ZxnEcRFYHArloR2Xfzf9fiXKXN7sdg1XVf+WMJyTVfTNMaZvPno0zTHmfz5/rXXoixrtXpXzcpKOiJlJRVkCIsa7V4p9FFZGJzHjX/AJE/Wf8Aryn/APQDXnnwc6CvQ/Gv/In6z/15T/8AoBrzP4QdV+or2cu+FnsZf8LPdZP9Y31NNqSf/XSf7x/nUdeRP4meTL4mFHXij2rxzxt43uLi4PhXwqWluZW8uWWPk5PBjjI7/wB5u3IB6kenlWVVswrexo7dX0S7sqnBydkHjbxvcXFwfCvhUtLcyt5cssfJyeDHGR3/ALzduQD1I6XwT4JtvC9t9pudsuoSrh3HIQH+BP6nv9MCl8E+CbbwvbfabnbLqEq4dxyEB/gT+p7/AEwK6TUdSS2QqD81e7mmaUaNH+y8r/h/al1m/wDL+tjWUvsQDUdSS2Qqp+auatrafUZvMkztotrabUZvMk+7mu0trZLdAqivk21FWRDairILa2S3QKoq1RRWJjcO9fNWg/8AJQdV/wCvyT/0KvpXvXzLov8AyUHVf+v2T/0KvTy74pHpZf8AFI+nX+5H/uCmVauv+WX/AFzH9aq1yYr+LI5cT/FkFFFcN418a2vha18mHbNqEq5iiPRR/ff/AGfQd/pkjTA4GtjK0cPh43k/6u/IxjFydkHjXxra+FrXyYds2oTLmKI9FH99/wDZ9B3+mSON8FeCrrUrr/hK/Fm6aWY+ZHHL1Y9ncHt/dXHpxjApfBXgq61G6/4SvxZumlmbzI45OrHqHcen91fpxjAr167u0t0LMea+vxuNo5RRll2XSvUfxz/9tj/X47dDaguWO4Xd2luhZjzXGTTT6nPsTO3NE00+pz7EztzXU6fp6WqAkc18VpFeZnpFeYafp6WyAkfNWrRS1i3cybuFeB/FH/kcNJ/692/9DFe+V4D8U/8AkbtJ/wCvdv8A0MV2YL+KjrwX8VHtmg/8gSP8K0qg0f8A5F+L6ip6rH/xR47+KFFFY+ua5p3h7Tn1LUn2xrwqjlnY9FUdyf06niuajRqVqipUleT0SRxpNuyDXNc07w9pz6lqT7Y14VR952PRVHcn9Op4rw7T9P1v4oa2dU1Qtb6dbnaAv3UH/POPPVz/ABN2/IUafp+t/FDWjqmqE2+nW5KgKeEHXy489XP8TdvyA98t7ez0qzjtLSNYYIV2oi9AP89T3r7yc6XD1J0qTUsVJavdQT6Lz/rbfq0pLTcS3t7PSrOO0tI1hghXaiL0A/z1Pc1y+o6lJcyeRBS6lqMlzJ5EFX9L0rYBLKOa+GlJtupUd2zO1vekJpelhMSyjJNdMAFGBQAFGBS1hKVzKUrhXmnxZ/5E6T/r4g/9GCvS680+LP8AyJ0n/XxB/wCjBWtD+JH1NKH8SPqWPhh/yDP+A/0r0KuJ+Fv/ACCD/uH+Vdt2ruzH4onbmHxRFooqOWSOGNppmCRoCzMxwABySSegFeYk27I8xK4SyxwxtNMwREBZmY4AA5JJPQCvn/xH4j1Tx/qi+GfDKn7GTkk5USBTzJIf4Y17DqT2zgA8R+JNU+IGqL4a8MqfsecknKiQKeZJP7sa9h1J7ZwB694Y8Maf4V0/7La/PK+GmmYYaRh/JR/Cvb65Nff4fD0cgorF4tc2Il8Mf5fN+f8Awy6tdiSpLmluHhjwxp/hXTvstr88r4M0xGGkYfyUfwr2+uTWVq0iyXgC881rapqgjBiiPzGs7TdPkuZfPmr42viKtepLEYiV5PqZpv45HVWIIt1z6VcpiKEUKO1PrhZzsKrXn/HpN/1zb/0E1Zqtef8AHpN/1zb/ANBNNbjW58+fCH/Wx/Rf5CvsNPuD6V8ifBv/AFif7q/yFfU6fdFfVn1I/vWnxRxisznNACc0c1q8UcUAf//V+lV+8PrWk33T9KG+6fpWavUfWgAGciuab7x+tdu33T9K4c9a8nMfs/M8rMfs/MKKKK8k8oKKKKACiiigAooooAKB1ooHWgD5q8Bf8jPd/wDXzL/6Mavp+9/1/wDwFf5V8zfD7/kZrz/r5m/9GNX0pN94fQfyr2sd/BR7ON/hIirzXx548i8ORNpumsr6i68nqIFPRmHdj/Cv4njAKePPHkXhyJtN0xlfUXXk9VgU9GYd2P8ACv4njAOP4D8BSwyr4l8SqXu3bzYopOSjHnzJM9ZD1AP3ep56e3lWVUMLQWa5qvc+zHrN/wCX9bb8FOmornmHgLwFLFKviXxMrPdu3mRRS8spPPmSZ6yHqAfu9Tz09Uvb2O2QljzRe3qW0ZJPNccTcanPxnbmvCzPM6+ZV3iMQ/RdEuyIbc3zSAm41OfvtzXXWNjHaxgAc0WNilrGABzWjXlSlfRESlfRBS0UVBmFFFFAHzr45/5KTH/17wfzevou1/5A9t/ntXzv43/5KSn/AF7Q/wA3r3/Tv+QVB/ntXty/3X5I9mX+6/JFisHxF4i0/wANaeb6/bJORHGPvSN6D+p6AUeIvEWn+GtPa+vjknIjjB+aRvQe3qegFeNaJoeq/EfVm8QeICyaeh2qq5AcA/6uP0UfxN1z7/d7smyaFWDx+PfLQj98n2X9f8DzadNfFLYND0TVviPqx8QeIGKaeh2qq5UOAf8AVx+ig/ebrn3+77x/o1jbrDCqxRRKFRFGFUDoAOwo/wBHsbdYYlWKKJQqIowqqOgA7AVyF9fy3svkw9K583zepmM1GK5aUdIxWyX+Y5Sc35C39/Ley+TD0rY0vS1hUSSDLGjS9LWFRJIMtXQAAcCvDlK2iIlLogAAHFLRRWRkFFFFAHjnxm/5A2m/9fv/ALSeu++H3/Ivt/1zrgvjN/yB9N/6/f8A2k9dj8Pv+QIf9yvbw3+7v5ntYb/d38zsaguLmC0t5Lq6kWKKJSzuxwFA7mi5ubezt5Lu7kWKGJSzuxwFA7mvBNV1TWPiZrA0bRQYdNgO5mbIGAceZJ7/AN1f65K6ZNk0sdJ1Kj5aUdZSfTyXmeVTp82r2DVdV1j4mawNF0UNDp0JDMzZAwD/AKyTHf8Aur/XJX2jRNE07w3pq6fp67UXl3P3nbuzH1/QDgUaJomneG9OXT9PXai8sx+87d2Y+v6AcCs/VdV6ww8murOM4jiIrA4FctCOy7+b/r8S5S5vdjsGq6r1hhOSar6ZpjTP589GmaY8z+fPXXoiooVegr5uUlFWRMpKKsgRFRQqjGKfRRWRiFFFFAHMeNf+RP1n/ryn/wDQDXnnwc6CvQ/Gv/In6z/15T/+gGvM/hB1X6ivZy74Wexl/wALPdZP9Y31NN69Klm/17gf3j/OvFvG3ja4uLg+FfCpaW5lby5ZY+Tk8GOMjv8A3m7cgdyFlmVVswxHsaO27fRLuzzFByk0g8beN7i4uD4V8K7pbmVvLllj5OTwY4yO/wDebtyB3I6bwT4JtvC9t9pudsuoSrh3HIQH+BP6nv8ATApfBPgm28L232m52y6hKuHcchAf4E/qe/0wK6TUtSS2Qqp+avZzTNKNGj/ZeV/w/tS6zf8Al/W2+kpfYgGpaklshVT81c1bW0+oz+ZJnbRbW0+oz+ZJnbmu0trZLdAqivlG1FWRDairILa2S3QKoq1RRWJi2FFFFAB3r5q0H/koOq/9fkn/AKFX0r3r5l0X/koOq/8AX7J/6FXp5d8Uj0sv+KR9Ov8Acj/3BTKtXX/LL/rmP6155418a2vha18mHbNqEy5jiPRR/ff29B3+mTTp4GtjMX9Xw8byb/pvyOevFyrSSDxr41tfCtr5MO2bUJlzFEeij++/+z6Dv9Mkcd4K8FXOo3P/AAlfivM0sx8yOOTksT0dx6f3V+nAGBR4K8FXWo3X/CV+K900szebHHJ1Y9ncen91fpxjAr167u0t0LOea+nxuNo5RReXZdK9R/HP/wBtj/X47DaguWO4Xd2luhZjzXGTTT6lPtT7uaJpp9Tn2pnbmup0/T0tkBI5r4r4V5mekV5hp+npbICR81atFLWLdzJu4UUUUCCvA/ij/wAjhpP/AF7t/wChivfK8B+Kf/I3aT/17t/6GK7MF/FR2YL+Kj2zQf8AkCR/hWlUGj/8i/F9R/Ks7XNc07w7pz6lqT7Y14VRyzt2VR3J/TqeK3xFGpWxKpUleTskisam6tkGua5p3h3Tn1PU32xrwqjlnY9FUdyf06nivDtP0/W/ihrZ1TVCbfTrclQFPCDr5ceernjc3b8hRp+n638UNbOq6oTb6dbkqAp4QdfLjz1c/wATdvyA98t4LPS7OO0tEWGCFdqIvQAf55PevrpzpcPUnSpNSxUlq91BPovP+tt40pLTcLe3s9Ls47S0jWGCFdqIvAA/z1PeuX1HUZLmTyIKNS1J7mTyIKv6VpWzEsoya+GlJtupUd2zO1vekGlaWEAllGSa6UAKMCkAAGBTqwlK5lKVwooopEhXmnxZ/wCROk/6+IP/AEYK9LrzT4s/8idJ/wBfEH/owVtQ/iR9Tah/Ej6lj4Yf8gz/AID/AEr0KuJ+Fv8AyCD/ALh/lXZySxwRNPMwSONSzMxwAAMkknoBXfmCblFI7cwV5RsEssUETTTOEjQFmZjgKBySSegFfP3iPxHqnxA1RfDXhlT9jzkk5USBTzJIf4Y17DqT74APEfiPVPiBqi+GvDSn7HnJJyokCnmST+7GvYdSccZwB6/4Y8M6f4V0/wCyWnzyvhppmGGkYfyUfwr2+uTX1eHw9HIKKxeLXNiJfDH+Xzfn/wAMtbtYKKpLmluL4Y8Maf4V0/7JafPK+GmmYYaRh/JR/Cvb65NGq6oIwYojzRqmqiMGKI5NZunadJdSedN0r4yvXqYipLEYiV5My3fNMNO06S6k86fpXZRRLEoVRiiKJYlCqKlrklK5lKVwoooqSQqtef8AHpN/1zb/ANBNWarXn/HpN/1zb/0E01uNbnz58If9bH9F/kK+w0+4PpXyJ8G/9Yn+6v8AIV9Tp90V9WfUj+9afFHGKzOc0AJzRzWrxRxQB//W+lV+8PrWk33T9KG+6fpWavUfWgAGciuab7x+tdu33T9K8e8a2usNCRpE8lux7xnFcWKw7rWs9jjxOHdW1nsdTRXzg+n/ABIDHGq3eP8AeH+FQC0+JH/QVuv++h/hXF/Z0+6OL+z59z6Wor5uNh8Sf+grd/8AfQ/wqL7L8SP+grd/99D/AAo/s6fdB/Z8+59LUV83Gw+JP/QVu/8Avof4VELT4kf9BW6/76H+FH9nT7oP7Pn3Ppaivm42HxJ/6Ct3/wB9D/CohafEj/oK3X/fQ/wo/s6fdB/Z8+59LUDrXzcbD4k/9BW7/wC+h/hUX2X4kf8AQVu/++h/hR/Z0+6D+z59xfAX/Iz3f/XzL/6MavVPiR49h8PM+maW6vqLIuT1WAEfeYd3P8K/ieMA+PRTS+BEleSQSapNlgG58vdyZH/2ieVX8TxXbeFvh5qUNo3ifWw32+YmSCOTlkLc+bJn/loeoB+71PPA+6wWWUKVFY7MV7q+GP8AM/8AL+tt++pFTtDsWfAfgKWGVfEviVWe7dvMiik5ZCefMkz1kPUA/d6nnp6pe3sdtGSx5rwHV4fH1vcOY9VulTJwNw/wrm/J8e3r4OoXL/U//Wr5vNKuJzCu6+IkvJdEuyOWeDnJ3kz3EmfVJ+M7c119jYx20YAHNfO8OkfEOFf3Wo3K/Qj/AAp/2T4kf9BW6/76H+FeZLAzeiaFLBTeiZ9LUV83fYPiT/0Fbv8A76H+FRfZPiR/0Fbr/vof4VH9nT7oz/s+fc+lqK+bvsHxJ/6Ct3/30P8ACovsnxI/6Ct1/wB9D/Cj+zp90H9nz7n0tRXzd9g+JP8A0Fbv/vof4VF9k+JH/QVu/wDvof4Uf2dPug/s+fcueOf+Skx/9e8H83r23WPEeneGvDNve3zZY5EcQPzSMB0Ht6noK+fm0rUdNu/+Ei8WXUkxUBF3kGSQrkhF6epyegFbvh7wzq/xG1Bte1rdHpkPyIoJAcL0ij9FH8TdSff7v2GV5PCpQ9tjXalHf+8+y/r/AIHa4Wpqjuxuh6Jq3xI1Y+IPEDFNPQ7VVcgOAf8AVx9wo/ibqT7/AHfeP9HsbdYYVWKKJQqIowFA6AD0FeN+KNP8X2k/l6RfTWlvGNqRxEKiqOgAxwBXn8jePZ28o6ndP/wL/wCtXnZzia2Pmoq0acdIxWyX+ZhPBzk99D3W/v5b2XyYelbOl6WsKiSQZY14Bb6L4/Qb01C4U+xH+FWhafEj/oK3X/fQ/wAK8R4GdrJkvBTtZM+lQMcClr5u+wfEn/oK3f8A30P8Ki+y/Ej/AKCt3/30P8Kz/s6fdGf9nz7n0tRXzd9g+JP/AEFbv/vof4VF9l+JH/QVuv8Avof4Uf2dPug/s+fc+lqK+bvsHxJ/6Ct3/wB9D/CovsvxI/6Ct1/30P8ACj+zp90H9nz7nZ/Gb/kDab/1+/8AtJ67fwRdW1l4Xmu7yRYoo4izOxwAK8Pu/Dvi7UVQ6/fyy21ufNJnYbEwMFicDsTVi1j1bxxdQ+FtA3Jp9uQ0kjAgcceZIP8A0Bev45K/T5Nk8q8WqkrQXxS7L/M7YQ9nT9m9WaWq6rrHxL1kaLooMOmwtuZm4AA/5aSY7/3V/rkr7Romh6d4b05NP09NqLy7H7zt3Zj6+3QDgVwWveFdU8O6emm+F7iW1SMZZ0wGkbuzHHJP5AcCvLLibx+p8s6rdN7bh/hRnGJeIhHBYP3KEdl1b7swnhJtWT0PoDVdV/5Yw9ar6ZpjTN589eFQaN49lPmi+uAfXP8A9ar62fxHUbV1S6A/3h/hXzn1GaVkyfqUkrJn0qkaxrtUU+vm77B8Sf8AoK3f/fQ/wqL7J8SP+grd/wDfQ/wrP+zp90Z/2fPufS1FfN32D4k/9BW7/wC+h/hUX2T4kf8AQVu/++h/hR/Z0+6D+z59z6Wor5u+wfEn/oK3f/fQ/wAKi+yfEj/oK3X/AH0P8KP7On3Qf2fPue3+Nf8AkT9Z/wCvKf8A9ANee/BvoK5G40b4hXsElndajcyxTKUdCchlbggjHeqkV3eaNF/wi/h8mbULg+VK8XJXPHloR1Y/xMOnQHqR72TZTWrzdKHq30S7s7KFN0IvmZ6D468b3Fzdt4W8KkzXErGOSWLk5J5SMjv/AHm7cgHqR0ngnwTbeF7b7TchZdQlXDuOQgP8Cf1Pf6YFZVl8Or3wrohnhkxqsy/vJE/5Zj+4h/8AQj3+gxXmV43xAt3YHVrrGf7w/wAK9HM68KdD+zcsdqf2pdZv/L+tjKWFm42jofQ2paklshVTzXNW1tPqM3mSfdzXiMenePbxtxv7lvcn/wCtWjFp/wARIhiPU7lR7Ef4V8osDJLRkLBSS0Z9I21slugVRVqvm77B8Sf+grd/99D/AAqL7J8SP+grdf8AfQ/wrP8As+fdGf1Cfc+lqK+bvsHxJ/6Ct3/30P8ACovsnxI/6Ct1/wB9D/Cj+zp90H9nz7n0tRXzd9g+JP8A0Fbv/vof4VF9k+JH/QVuv++h/hR/Z0+6D+z59z6W7181aD/yUHVf+vyT/wBCqT7B8Sf+grd/99D/AArJjWfwfNJqepP9o1K5Jkjjc8sx6yyeig/99H0GTXqZXllapW9lSV2zpw9B0W5SZ7j438a2vhayjhh2zahLGPLiPRR/ff0HoO/0yRxfgrwVdajc/wDCV+LMzSzHzI45OrHqHcenTav6YwKf4Q8AanqccnjLxMWknm/eQpIPmZu0jg9AP4V+hxgAVzetR+PIbp2h1W6RM8AMMfyr6bG1IZdSlg8ul+8l8c/0j5f1vsSoSleUdLnv93dpboWY81xk00+pT7EztzXiLQ+Prxtp1G5f6t/9arsGl/EGIZj1G5X6Ef4V8RHAyXUyjgpLqfRWn6elqgJHNa1fN32D4k/9BW7/AO+h/hUX2X4kf9BW7/76H+FS8vm+qIeAm+p9LUV83fYPiT/0Fbv/AL6H+FRfZfiR/wBBW7/76H+FL+zp90L+z59z6Wor5u+wfEn/AKCt3/30P8Ki+y/Ej/oK3f8A30P8KP7On3Qf2fPufS1eB/FH/kb9J/693/8AQxWV9g+JP/QVu/8Avof4VlXOlaxFOmt+Lb2WSK2G1WkOXOediDjLHH0HU8CuvB5fV9tFQ1b6I3oYSVKfPJnvi67p3h3woupam+2NcBVHLO2OFQdyf06nivINO0/WvihrZ1XVCYNOt22gKeEHXy4/Vz/E3b8gHaBoGufE/Vhe32630uy+UY+6i/8APOP1dv4m7fkK2fE+neJ7B1t9Bu5rK2iG1IoiAqgduh/PvX29aMMng1Qs8TJavdQXZef9bb6Spuo3OJ7Db29npdnHaWkawwQrtRF6Af56nvXL6lqL3L+TBXhUx8fSN5R1S6f/AIEP8Kfb6T4+Hzpf3Cn6j/Cvgng6kpOc5XbMFgZXu2fQOlaUEAllGTXSgBRgV83DT/iSOBqt1/30P8Kj+yfEj/oK3X/fQ/wrN4Cb6omWBm+p9LUV83fYPiT/ANBW7/76H+FRfZPiR/0Fbr/vof4Uv7On3RP9nz7n0tRXzd9g+JP/AEFbv/vof4VF9k+JH/QVuv8Avof4Uf2dPug/s+fc+lq80+LP/InSf9fEH/owV5z9g+JP/QVu/wDvof4VRutE8b6pF9l1W/nmt8h2WVgEGznJOBgDrmtKWAnGady6eClGSk3sesfDWWKDR2nncRxxoWZmOFUAckk9AK4HxF4j1T4g6ovhrw0p+xZyScqJAp/1kn92New6k474AxxLqniaSDwR4VBlhJzI/KrJt6u5/hiXsD1PYnAr0DUfCGoeGNKWx8O3MkUpwZp0wryv6nrhR/CvYe/Nffww1LKoLF14p12vdi9o+b8/67tdc4+0lePQ7fwz4Y07wrp/2W0+eV8NNMww0jD+Sj+Fe31yaXVNVEYMUR5rwG5PxAiJRtWuj7bh/hVWHTfHlw3mfbrjPrn/AOtXw2IoV8RVlXxE7ye7OX6lNvmkz3bTtOkupPOmrsooliUKor5xXTfiOg2rql0B7Ef4Uz7J8SP+grdf99D/AArnlgZvqhSwM31Ppaivm77B8Sf+grd/99D/AAqL7J8SP+grdf8AfQ/wqf7On3RH9nz7n0tRXzd9g+JP/QVu/wDvof4VF9l+JH/QVuv++h/hR/Z0+6D+z59z6Wqtef8AHpN/1zb/ANBNfO/2D4k/9BW7/wC+h/hUDWfxGdSjapdEEYI3DofwoWXz7oawE+5c+EP+tj+i/wAhX2Gn3B9K+dfhr4Su9HcGZSMete7rkACvaPYHd60+KOMVmc5oATmjmtXijigD/9f6VX7w+taTfdP0ob7p+lZq9R9aABc5FZcupSSZV40PbvXTN90/SuHPWvNx1WcOXkdjzsbVlDl5XYeGiznylqY3CEY8lPyqtRXm/Wqv8x531qr/ADDwYh/yyWpjcIRjyU/Kq1FH1qr/ADB9Zq/zDwYh/wAslqb7Qh/5Yp+VVqKPrVX+YPrVX+YeDEP+WS1N9oTGPJT8qrUUfWqv8wfWav8AMPBiHPlJXnPj/wCIkPh+B9K0tIzqUi8tjIgU9GIPBc/wr+J4wDX8e+PYvDkTaZpjK+ouvJ6rAp6Mw7sf4V/E8YByPAXgKSGVfEviVWe7dvMiik5ZCefMkz1kPUA/d6nnp9rleEjhaCzTNX7n2Y9Zv/L/AIfbfqhVqRXPUkO+G/guBb5fEPig+delvMigkO4ox58yXPWTuB/D1PPT27W9cFkzRYVhgdfevmzwf4guk1m8SaQkLcTAZ9PMavSZmuNVus87eK4s4zKti5e3m7dl0S7I663uU04OwjPJqlxnyxtzXa2MMFrGB5CZ+lVrGxjtYwAOa0K+ali6nSR5ssVU6MkBiH/LJam+0JjHkp+VVqKj61V/mI+tVf5h4MQ/5ZLU32hMY8lPyqtRR9aq/wAwfWav8w8GIf8ALJamNwn/ADxT8qrUUfWqv8wfWav8w8GIf8slrI8ReK9M8Nae19fxISciOMfekb0HoPU9AKq+IvEWn+GtPN/fHJPyxxj70jeg9vU9AK8a0PQ9W+I+rN4g8QMU09G2qq5AcKf9XH6KP4m6k+/3fqsmwEqsHj8fNxoR++T7L+v+BvTrVLc0paEeh6ZefEPXBrfiWTydPVsKi/LvAP8Aq4h1CA/ebqT79Pp+5urTR9PhhsY0jgRdiIBhVUDgACvmvxXqMuk+Oo7C0xFbpawBY14VQC4wAOgrvpNRn1C0hhjJP/6q2zbNp42ClBcsF8K7L/M72/3LnHdlnUdSa/m8qJAa3dLsooV3yQoWNVtL0tYVEkgy1dAABwK+TliqmykebLFVNlIePJXpElWPtCf88U/I1VorP61V/mM/rVX+YeDF/wA8lqf7Qn/PFPyNVaKPrVX+YPrVX+YfmIf8slqf7Qn/ADxT8jVWij61V/mD61V/mH5iH/LJaLnUbSzt5Lq6SKKGJSzu3AUDuaq3Nzb2dvJdXUixRRKWd2OAoHc14Jqmqax8TNYGjaMGh06EhmZsgAA/6yTHf+6v9clfoMmwGIx0nUqT5aUdZSfTyXma06tWWrloR61rWo/EXVxpOkgWmmQsCzNwMZx5knqT/Cn9clfovw1pOi+FtANpoyghV3PI33pGx95iP0HQDgV4Z47sbfwb4a0yy0UFFN3iRj96Q+W2WYjvx9AOBxW/oGuTy6R5eSWZa9jMM3jiKXsMGuWlHbu/Nno0pc0HUW51msa55h8lEUmoNMsvObz54lOfWq+maY0z+fPXXoixrtUYxXxksVUWikedLE1FopD41gjACxLxVr7Qn/PGP8jVWisvrVX+Yy+s1f5h+Yh/yyWp/tKf88Y/yNVaKPrVX+YPrVX+YfmIf8slqf7Sn/PGP8jVWij61V/mD61V/mH5i/55LU/2hDwIU59jVXrxXjfjbxtcXFx/wivhUmW5lby5ZY+Tk8GOMjv/AHm7cgdyPWyrCYzMa3saMtOr6Jd2aQrVpOykL458byXE58LeFVD3Eh8uWaLrnoUQ+v8AebtyAepHc/DLwbpPhu3+2zOlxqUi4ZxysYP8Cf1Pf6YFcZbeEIfB3g3VdQkxJqRspi0g6JhCdif1Pf2GBWN8P/ENwYcysSa+pxOZ0Y0ngMvfuL4pdZv/AC/rY9LDyU7tu9j2rV9cWANHtUkEiuVt1k1KfzJIl21HHbT6ldvLJnbuP867C2tkt0CqK+HniakdOY8+eInHTmH21vb26BVhXitH7Qn/ADxj/KqtFYfWqv8AMY/Wqv8AMPzF/wA8lqf7Qn/PGP8AI1Voo+tVf5g+s1f5h+Yv+eS1P9oT/njH+RqrRR9aq/zB9Zq/zD8xf88lqf7Qn/PGP8jVWuF8a+NbXwta+TDtl1CVcxxnoo/vv7eg7/TJrtwNPF4ytHD4e7k/6u/IqNetJ2Uh/jXxrYeFrXyYIo5dQmXMUZ5CD++/sOw7/TJrkfh94NTVNSPifxk/nTyMJI4ZPvMeoeQdgP4V/MYwKj8E+CrrUboeK/FeZpZm8yOOTksezuPT+6v04wABzun6/dR+NdThdzsju5AOewavt6mNpZfCWXYOXNP7c/8A21eX9b7ejQlzy5ZO9j6T1PVFs1xgEEZ5rgbi+m1W42rGu3NLqFxcarcRqv3dorf0/T0tkBI5r4evXnCbSZz1684TaTH6dYW9qgJiUmtz7QnTyY/yNVaWuP61V/mOT61V/mH5i/55LU/2lP8AnjH+RqrRR9aq/wAwfWqv8w/MX/PJan+0p/zxj/KqtFH1qr/MH1qr/MPzF/zyWp/tKf8APGP8qq1j65rmneHtOfUtSfbGvCqPvOx6Ko7k/oOTxW1Gpia1RUqV3J6JDWIrN2Uh+ua7pPh3T31LUlVY14VR9527Ko7k/p1PFeGWNrqfxO8QDVNbkFnpsTFVVeiL1McXq5/ift+QBp2na18UNaOqaqTb6dbkqAvRB/zzjz1c/wATdvyAv+Prj+wfEGkafpiiC2S2YCNOAMOP8n1r9AjVhksfq6lzYmS1fSC7Lz/rbfvpSbkoTdz6BtxYaNpUVtpsSxW8ICog6Af1Pqe9cdquuyXsnkxxqc8cVROrT3ulRwockkVo6XpYTEsvWvi8ZiKiqOTkLE1ZQnox2laXEmJZolJ966wTxqMCCP8AKqwAUYFLXnPFVf5jheKq/wAw/MX/ADyWp/tKf88Y/wAjVWil9aq/zC+tVf5h+Yv+eS1P9pT/AJ4x/kaq0UfWqv8AMH1qr/MPzF/zyWp/tKf88Y/yqrUcssUETzTuI40BZmY4CgckknoBTWJrN2TGsTVenMPlmtYI2nmSOOOMFmZuAoHJJJ6AV8/eKfFepeP9SXw94bQRWCnLMfkEgB5klJ5EY7L1PoTgBniPxFqnxB1VfDXhpT9izkk5USBTzJJ/djXsOpPvgDd8U6BaeDPAbxaaSZ2uLczTnhpG3jr6KOy9vrk1+hYWEclpxr4181eXwx/lXd+f/Dd2u2E5K0aktz1LwV4e0bwtpJh04+dM43T3DDDSMP5KP4V7e5JNLrPiVmXygiEmuG8I+IJ5NIKs2WZT/KtfTtOkun86bpXy2ZYurOp7WctXuaYmbp25XZD9O0/7TJ588YxXcxSQxIFWCPj2qrFEsShVHSpa8d4ur0kec8VV6SH5i/55LU/2lP8AnjH+VVaKn61V/mF9aq/zD8xf88lqf7Sn/PGP8qq0UfWqv8wfWqv8w/MX/PJan+0p/wA8Y/yNVaKPrVX+YPrVX+YfmL/nktT/AGmMctCmB147VVqvdki1mI7Rt/I01iqt/iGsTVv8RpWF/p1w3+jY/CuvGMV8r/CXV7y7MazuW+VeT9K+k1J2ivoz6Ed3rT4o4xWZzmgBOaOa1eKOKAP/0PpVfvD61pN90/Shvun6Vmr1H1oABnIrmm+8frXbt90/SuHPWvJzH7PzPKzH7PzCiiivJPKCiiigAooooAK8z8eePY/DsTaZpjK+ouOT1WBT0Zh3Y/wr+J4wCePfHkXh2JtM0xlfUXXk9VgU9GYd2P8ACv4njAOT4C8BSQSL4l8SqXu3PmRRSclGPPmSZ6yHqAfu9Tz0+1yrKqGFoLNc1XufYj1m/wDL+tt+qnTUVzzDwF4DkhkXxL4lVnu3PmRRSclGPPmSZ6yHqAfu9Tz09Tvb1LZCSeaL29jtkJJ5rjsz6pcd9ua8LMsyr5jXeIxD9F0S7Ilt1HzSPDvCEb3fiK4VejXEh/NzX1SlhHasABztX+VfOPw5iC+I7oHtPKPyc19NTfeH0H8qvHfwUeljf4SIqWiivEPFCiiigAooooAKwPEXiLT/AA1p5vr45JyI4gfmkb0HsO56AUeIvEen+GtPN9fnJPEca/ekb0HsO56AV43oehat8R9VbxB4hYpp6NtVVyocA/6uP0QH7zdSff7v1OTZNCrB4/HvloR++T7L+v8Agb06atzS2DQ9D1b4j6q3iDxCzJp6HaqrlQ4B/wBXH6KP4m6k+/3feP8AR7G3WKFViiiUKiKMKqjoAOwFH+j2NusMSrFFEoVEUYVVHQAdgK5C/v5b2XyYelc+b5vUzGooxXLTjpGK2S/zHKTm/I8X8c3Ju/HysneGIfkWr6E0TS0i0m3mcfMT/SvAPEdoYPH0Ub9fs8J/MtX0ppwxpUA/z0rKf+66dj05/wC7adiwBgYFLRRXhniBRRRQAUUUUAFQXNzb2dvJd3cixRRKWd2OAoHc0XNzb2dvJd3UixQxKWd2OAoHc14Jqmqax8TNYGjaMGg06EhmZsgAA/6yTHf+6v8AXJX38myWWOk6lR8tKOspPp5LzNadPm1ewapqmsfEzWBo2jAw6dA25mYEAAHHmSe/91f65K+0aJomneG9OXT9PXai8sx+87d2Y+v6AcCjRNE07w3pqafp6bUXlmP3nbuzH1/QDgcVnarqv/LGE8murOM4jiIrBYJctCOy7+b/AK/EuUub3Y7Hmnxjvlm06whT+G6z/wCQ2FdV8O9N+0aS88vQJXA/Em0kTSLC4l6vd4/8hsa9Y+HqhdEIH9yuOgrUHbzPUoK1B28zr0RY12qKfRRXhHhhRRRQAUUUUAFFH0rxvxt42ubm4PhXwruluZW8uWWPk5PBjjI7/wB5u3IB6ketlWVVswrexo7dX0S7s0hBydkHjbxtcXNwfCvhXMtzK3lyyx8nJ4McZHf+83bkA9SOn8E+CbbwvbfaLnbLqEq4dxyEB/gT+p7/AEwKPBPgm28L232i42y6hKuHcchAf4E/qe/0wK6TUtSS2Qqp5r280zSjRo/2Xlf8P7Uus3/l/WxrKX2IGB48vo4/Cuqwg8vayj80NeV/Cuza9mVT90V1viSKe88Oarcv91bSY/khrI+D6AFT7ivKwKSi0elgVaLR7fDbJb5RR0JqepJ/9dJ/vH+dR14s/iZ40/iYUUUVJIUUUUAFFFcL418a2vha18mHbLfzLmOM9FH99/b0Hf6ZNdmBwNbGVo4fDxvJ/wBXfkVGLk7IPGvjW18LWvkw7ZdQlXMcZ6KP77+3oO/0ya5DwV4KudQuv+Er8V7pppm8yOOXqx7O4Pb+6v0OMYFHgrwVc6hc/wDCV+K8zSzHzY45OSxPR3Hp/dX6cYwK9du7tLdCzHmvr8bjaOU0ZZdlzvUfxz/9tj/X47dDaguSO4t3dpboWY818s6Zvu/G+o7f47uQ/m1e5SzT6lcbUztzXjfh6ER+O9RjP8F24/WvmsBG0mdmBjaTPpGx05LWGIkfMVFaNW7r/llj/nmKq1w4r+LI4cT/ABZBRRRXOc4UUUUAFFFY+ua5p3h7Tn1LUn2xrwqj7zt2VR3J/IDk8VrRo1K1RUqSvJ6JDSbdkGua5p3h3Tn1LUn2xrwqjlnbsqjuT+Q6nivD9O07WvifrZ1XVSYNOtyVAU8IOvlx56uf4m7fkAunadrXxP1o6rqpNvp1u20BTwg6+XHnq5/ibt+QHvUEFnpdolpaRrDBCu1EXgAf56+tfdznS4epOlSalipLV7qCfRef9bb9WlJWW4QQWel2cdpaRrDBCu1EXoAP88nvXzx8Trz7V4q07Z/DCw/8fFev6jqL3MnkQV4346szb+JdKD9XhY/+PivkcK3Ktzzd27muEX7xN7ns3hPTANJSeUcnFdkAFGBUGjADw/EB6j+VWKzx/wDFJx38UKKKK4ThCiiigAooqOWWKCJppnEccYLMzHAUDkkk9AKaTbsgSuEssUETzzOI44wWZmOAoHJJJ6AV8/eIvEWq/EHVF8NeGlP2LOSTlRIFP+sk/uxr2HUntnAB4i8Rap8QdUXw34aU/Ys5JOVEgU/6yT+7GvYdSe2cAeweGfDOneFdP+y2nzyPhppmGGkYfyUfwr2+uTX3+Hw9HIKKxeLXNiJfDH+Xzfn/AMMurXZGKpLmluHhnwzp/hXTvslp88r4aaZhhpGH8lH8K9vrk1wvxZv0fww9up/5bwn8nFd1quqCMGKI815X4/tZW8Ky3Uv/AD3h/VxXyLr1cRiPrGIleTe4UbuopSNH4Z6e11beZIOAtexxRLEgVRiuL+FaqukHH9w/yruO1VmO8TfMN4i0UUV5Z5gUUUUAFFFFABRRRQAVWvP+PSb/AK5t/wCgmrNVrz/j0m/65t/6Caa3Gtz58+EP+tj+i/yFfYafcH0r5E+Df+sT/dX+Qr6nT7or6s+pH960+KOMVmc5oATmjmtXijigD//R+lV+8PrWk33T9KG+6fpWavUfWgAGciuab7x+tdu33T9K4c9a8nMfs/M8rMfs/MKKKK8k8oKKKKACvM/Hvj2Lw7G2maYyvqLjk9RAp6Mw7sf4V/E8YBl8f+N/+EZt1sNPwb+ddysRlYkJxvI7sSDtHTuemDieA/AUkEq+JfEil7tz5kUUnJRjz5kmesh6gH7vU89PtMpyvD4Wgs1zT4PsR6zf+X9PTfqp01Fe0mHgLwHJDIviXxKrPdufNiik5KE8+ZJnrIeoB+71PPT1O9vY7VCSeaL29jtkJJ5rjiZ9Un/2c14eZ5lXzGu8RiH6Lol2RLbqPmkBM+qXGOdua6+wsUtUAA5osbGO1QADmtEdRXlSlfRGcpX0R81eAv8AkaLv/r5l/wDRjV9P3v8Ar/8AgK/yr5m+H3/IzXn/AF8zf+jGr6Um+8PoP5V6+O/go9XG/wAJEVFFFeKeMFFFFABWB4j8Raf4a08318csciKIH5pG9B7DuegFHiPxHp/hnTzfXxyxyIogfmkb0HoPU9BXjeh6Fq3xH1ZvEPiBmTT0O1VXIDhT/q4/RAfvN1J9+n1OTZNCrB4/HvloR++T7L+v+BvTpq3NLYND0PVviPqreIPEDMmnodqquQHAP+rj9EH8TdSff7vvH+j2NusMKrFFEoVEUYVVHQAdgKP9HsbdYYVWKKJQqIowqqOgA7AVyF9fy3svkw9K583zepmNRRiuWnHSMVsl/mOUnN+QX9/Ley+TD0rZ0vS1hUSSD5jRpelrCokkGWNdAABxXhSl0REpdEfO3jkY+JMf/XvB/N6+i7X/AJA9t/ntXzv43/5KSn/XtD/N69/07/kFQf57V68v91+SPUl/uvyRYooorxDxgooooAKgubm3s7eS7u5FihiUs7scAAdzRc3NvZ28l3dyLFDEpZ3bgKB3NeCapqms/EzWBoujBoNNhbczNkAAf8tJMd/7q/1yV9/JslljpOpUfLSjrKT6eS8zWnT5tXsGqaprHxM1gaNowMGmwtuZmzgDP+sk9/7q/wBclfaNE0TTfDenLp+nptReWY/edu7MfX9AOBxRomiab4b05dP09dqLyzH7zt3Zj6/oBwOKztV1X/ljDyTXVnGcRxEVgsEuWhHZd/N/1+Jcpc3ux2DVdV6wwnJqDTNMaVvPno0zS2lbz5/rXXoiou1RXzcpKKsiZSUVZHjvxjRY9E0xVHH20f8Aop69A+H3/Ivt/wBc64L4zf8AIH03/r9/9pPXY/D7/kCH/cr1sN/u7+Z6mG/3d/M7GiiivEPFCiiigAo68UdeleN+NvG1xc3H/CK+FSZbiVvLllj5OTwY4yO/95u3IB6ketlWVVswrexo7Ld9Eu7NIQcnZB428bXFzcnwr4V3S3MreXLLHycngxxkd/7zduQD1I6fwT4JtvC9t9pudsuoSrh3HIQH+BP6nv8ATAo8FeCbbwvbfaLjbLqEq4dxyEB/gT+p7/TArpNS1JLZCqn5q9vNM0o0aP8AZeV/w/tS6zf+X9bGspfYgGpaklshVT81c1bW0+oz+ZJnbRbW02ozeZJ92u0trZLdAqivlG1FWRDairI5nxXbJb+DNYVR/wAuU/8A6Aa4X4OdBXofjX/kT9Z/68p//QDXmfwg6r9RXp5d8Mj0sv8AhZ7rJ/rG+pptST/66T/eP86jryJ/EzyZfEwoooqSQoorhfGvjW18LWvkw7Zb+Vcxxnoo/vv7eg7/AEya7MDga2MrRw+HjeT/AKu/IqMXJ2QeNfGtr4WtfJh2y6hKuY4z0Uf339vQd/pk1yHgrwVc6hdf8JX4r3TTTN5kccvVj2dwe391fpxjAB4K8FXWoXX/AAlfivdLNMfNjjk6seodx6dNq/TIxgD127u0tkLMea+vxuNo5TRll2XSvUfxz/8AbY/1+O3Q2oLkjuF3dpboWY81xk00+pz7Fztommn1OfYn3c11Wn6elqgJHNfFaR9TPSK8w07T0tUBI5r5/wBB/wCSg6r/ANfkn/oVfSor5l0X/koOq/8AX7J/6FXdl7vOR24B3nI+nX+5H/uCmVauv+WX/XMf1qrXHiv4sjkxP8WQUUUVznOFFFY+ua5p3h7T31LUn2xrwqj7zt2VR3J/IDk8VrRo1K1RUqSvJ7JDSbdkGu65p3h3Tn1LUn2xrwqj7zt2VR3J/QcnivENO07WvifrR1XVSYNOtyVAXog6+XHnq5/ibt+QBp2na18T9aOraqTBp1u20KvRR18uP1Y/xN2/ID3qCCz0uzjtLSNYYIV2oi9AB/nk96+7nOlw9SdKk1LFSWr3UE+i8/6236tKS8wggs9Ls47S0jWGCFdqIvQAf56965bUdRkuZPJg/SjUdRkuZPJgrQ0rSggEso5r4eUm26lR3bM0re9INK0oIBLKOa8o+KAC+L9IA/592/8AQxXvgAUYFeBfFP8A5G7Sf+vdv/QxW2DlesjbCSvWR7ZoP/IEj/CtKoNH/wCRfi+oqejH/wAUMd/FCiiiuE4gooqOWWKCJ553EccYLMzHAUDkkk9AKaTbsgSuEssUETzTuI44wWZmOAoHJJJ6AV8/eIvEWqfELVV8NeG1P2LOSTlRIFP+skP8Ma9h1Jx3wAeIvEWq/ELVF8N+G1P2LOSTlRIFP+sk/uxr2HUn3wB7B4Z8M6f4V077JafPI+GmmYYaRh/JR/Cvb65Nff4fD0cgorFYpKWIl8Mf5fN+f/DLq12RiqS5pbh4Z8M6d4V0/wCyWnzyPgzTMMNIw/ko/hXt9cmjVdUEYMUR5NGq6qIwYouTWdp2nSXUnnzdK+Mr16mIqSxGIleTMtW+eYadp0l1J50/Ssb4qRLF4LkVRj/SLf8A9DFelRRLEoVRXnPxZ/5E6T/r4g/9GCsqUr1Y+o6Ur1I+pY+GH/IM/wCA/wBK9Crifhb/AMgg/wC4f5V23auzMfiideYfFEWiiivLPMCiiigAopMgN5ZOGILAd8DvS1UouNrobTW4UUUVIgqtef8AHpN/1zb/ANBNWarXn/HpN/1zb/0E01uNbnz58If9bH9F/kK+w0+4PpXyJ8G/9Yn+6v8AIV9Tp90V9WfUj+9afFHGKzOc0AJzRzWrxRxQB//S+lV+8PrWk33T9KG+6fpWavUfWgAGciuab7x+tdu33T9K4c9a8nMfs/M8rMfs/MKKKK8k8oKKKKAPDfFyq3xR0gMARm16/wC+9eyX14lrGWJ5rxzxZ/yVLSPra/8AoT16D4gY7wueK+04hV8NgF/07/yOuauo/wBdjPJn1SfjO3NdfY2MdqgAHNVdHt40twwHNbVfHzl0RhOXRBSjrRQOtZmZ81eAv+Rnu/8Ar5l/9GNX0/e/6/8A4Cv8q+Zvh9/yM15/18zf+jGr6Um+8PoP5V7WO/go9nG/wkRUUUV4p4wVgeI/Een+GdPN9fHcxyIogfmkb0HoPU9AKTxH4j0/wzp5vr47mbIiiB+aRvQegHc9AK8b0LQtV+I+rN4h8QsU09TtVVyocKf9XH3CA/ebqT79PqslyWFWDx+PfLQj98n2X9f8DenTVuaWwaFoWrfEfVW8QeIWKaeh2qq5AcA/6uP0QfxN1J9/u+8/6PY26xQqsUUShURRhVA6AAdAKP8AR7G3WKJVijiUKqKMKqjoAOwFchf30t7L5MPSubN83qZjUUYrlpx0jFbJf5jlJ1H5BfX8t7L5MPStnS9LWFRJIMsaNL0tYVEkg+Y10AGOK8KUuiIlLogAAGBS0UVmZHzr45/5KTH/ANe8H83r6Ltf+QPbf57V87+N/wDkpKf9e0P83r3/AE7/AJBUH+e1e3L/AHX5I9mX+6/JFiiiivEPGCoLm5t7O3ku7uRYoYlLO7HAAHc0XNzb2VvJd3cixQxKWd2OAAO5rwTVNU1n4mawNG0YGDTYG3MzZAAHHmSe/wDdX+uSPfybJZY6TqVHy0o6yk+nkvM1p0+bV7CanqmsfE3WBo2jAwadA25mbOAM/wCskx3/ALq/1yR7Tomiab4b05NP09dqLyzH7zt3Zj6/oBwOKNE0TTfDenLp+nrtReWY/edu7MfX9AOBWdquq9YYeTXVnGcRxEVgsEuWhHZd/N/1+Jcpc3ux2DVdV/5YwnJNQaZpjSv589GmaY8r+fPXXoixrtWvm5SUVZEykoqyBEWNQq0+iisjE8c+M3/IG03/AK/f/aT133w+/wCRfb/rnXBfGb/kD6b/ANfv/tJ67H4ff8gQ/wC5Xt4b/d38z2sN/u7+Z2NFFFeIeKFFFeN+NvG1zdXP/CK+Fcy3EreXLLHycngpGR3/ALzduQD1I9bKsqrZjW9jR0S3fRLuzSEHJ2QeNvG1zdXH/CK+Fd0txK3lyyx8nJ4McZHf+83bkA9SOo8E+CbbwvbfaLjbLqEq4dxyEB/gT+p7/TApPBXgm28L232m42y6hKuHcchAf4E9vU9/pgV0epaklshVT81e3mmaUaNH+y8r/h/al1m/8v62NZS+xANS1JLZCqn5q5u2tp9Rn8yTO3NFtbT6jN5kmdua7S2tkt0CqK+UbUVZENqKsgtrZLdAqirVFFYmJzHjX/kT9Z/68p//AEA1558HOgr0Pxr/AMifrP8A15T/APoBrzP4QdV+or2cu+FnsZf8LPdZP9Y31NNqSf8A10n+8f51HXkT+Jnky+JhRRXC+NfGtr4WtfJh2y6hKuY4z0Uf339vQd/pk11YHA1sZWjh8PG8n/V35BGLk7IPGvjW18LWvkw7ZdQlXMcZ6KP77+3oO/0ya5HwV4KudQuf+Er8V7pppm8yOOXqx7O4Pb+6uPQ4AwAeCvBVzf3P/CV+K9000reZHHJ1Y9Q7j0/ur9MjGAPXLu7S3Qsx5r67G42jlNGWXZdK9R/HP/22P9fjt0NqC5Ybhd3aW6FmPNcZNNPqc+1M7c0TTT6nPtXO3NdTp+npaoCRzXxfwq/Uz0ivMNP09LVASOa1aKWsW7mTdw7181aD/wAlB1X/AK/JP/Qq+le9fMui/wDJQdV/6/ZP/Qq9PLvikejl/wAUj6df7kf+4KZVq6/5Zf8AXMf1qrXJiv4sjlxP8WQUUVj65rmneHtOfUtSfbGvCqOWduyqO5P5Acnioo0alaoqVJXk9kjBJt2Qa5rmneHtOfUtSfbGvCqPvOx6Ko7k/kOp4rxDTtO1r4n60dV1Ytb6dAdqheij/nnHnqx/ibt+QBp2na18T9aOrasTb6dASoCnhR18uPPVj/E3/wBYD3qCCz0uzjtbSNYYIV2oi8AD/PU96+7nOlw/SdKk1LFSWr3UE+i8/wCtt+rSktNwggs9Ls47W0jWGCFdqIvAAH+eT3rltR1GS5k8iCjUdRkuZPIgrQ0rSggEsoyTXw7k23UqO7Zmlb3pBpelBAJZRzXSABRgUoAAwKWsJSuZSlcK8D+KP/I4aT/17t/6GK98rwH4p/8AI3aT/wBe7f8AoYrrwX8VHVgv4qPbNB/5Akf4VpVBo/8AyL8X1FT1WP8A4o8d/FCiio5ZYoInnncRxxgszMcBQOSST0AriSbdkcSVwlligieedxHHGCzMxwFA5JJPQCvn3xF4i1X4haqvhvw2p+xZyScqJAp/1kn92Ney9SffAC+IvEWq/ELVF8N+G1P2LOSTlRIFP+sk/uxr2XqT74A9g8M+GdO8K6d9ktPnkfDTTMMNIw9fRR/Cvb65Nff4fD0cgorFYpKWIl8Mf5fN+f8Awy6tdkYqkuaW4eGfDOn+FdP+yWnzyPhppiMNIw7+yj+Fe31yaNV1URgxRHmjVNVEYMURyaztO06S5k8+bpXxlevUxFSWIxEryZlq3zzDTtOkupPPn6V2MUSxKFUdKIoliUKoxipa5JSuZSlcK80+LP8AyJ0n/XxB/wCjBXpdeafFn/kTpP8Ar4g/9GCtKH8SPqaUP4kfUsfDD/kGf8B/pXoVcT8Lf+QQf9w/yrtu1d2Y/FE7cw+KItFct4h8Y6D4Z/d6lP8AvyMiBPmkPpnsv1YivDvEXxU17U1eHSx9gtzxmM5kI6cydv8AgIH1r1Mp4Wx+YWnCPLB9Xp93V/l5nFGjJ7nu2veLNB8OITqdwBLjIhT5pW/4COnTq2BXiHiH4t6tfh7bRU+wxHI3ghpSP97ov4A/WvIpJpJWZ5GJLHJJ6knuT3Pua6fwZoa69rkNrPxbpmSY5x+7XG4dQfmyF/Gv1LBcJ5bldJ4rE++4q7b207Lb77nVCnGJ2/heW6PxJs0neQ5VSwdmOT9l6nJ5Pua+jTLGpwSM18/zXIj+LMlynRSzDHp9mAFdcdUu57tTk4zXwXGL9tWw9VK16cX97ZNaDk7nqwIIyKWqlkxa3UnrirdfBM4WFVrz/j0m/wCubf8AoJqzVa8/49Jv+ubf+gmmtxrc+fPhD/rY/ov8hX2Gn3B9K+RPg3/rE/3V/kK+p0+6K+rPqR/etPijjFZnOaAE5o5rV4o4oA//0/pVfvD61pN90/Shvun6Vmr1H1oABnIrmm+8frXbt90/SuHPWvJzH7PzPKzH7PzCiiivJPKCiiigDw7xZ/yVLSPra/8AoT16Br/+sFef+LP+SpaR9bX/ANCevQNf/wBYK+1z/wD3bAf9eztltH+uxvaV/wAeq/StOszSv+PVfpWnXxctzkluFA60UDrSJPmrwF/yM93/ANfMv/oxq+n73/X/APAV/lXzN8Pv+RmvP+vmb/0Y1fSk33h9B/Kvax38FHs43+EiKsDxH4j0/wAM6eb6+O5m+WKJT80jeg9AO57Ck8R+I9P8M6eb6+O5myIogfmkb0HoB3PYV43oWhar8R9WbxD4gYpp6naqjIDhT/q4/RB/E3Un36ehkuSwqwePx75aEfvk+y/r/gebTp6c0tg0LQtW+I+qt4h8QsV09DtULld4U/6uPuEH8TdSffp7z/o9jbrFCqxRRKFRFGFVR0AHYCj/AEext1iiVYo41CoijCqo6AAdAK5C+v5b2XyYelc2b5vUzGooxXLTjpGK2S/zHKTqPyC+v5b2XyYelbOl6WsKiSQZY0aXpawqJJBzXQAY4rwpS6IiUuiAADgUtFFZmQUUUUAfOvjn/kpMf/XvB/N6+i7X/kD23+e1fO/jf/kpKf8AXtD/ADevf9O/5BUH+e1e3L/dfkj2Zf7r8kWKgubm3s7eS7u5FihiUs7scBQO5ourm3sreS7u5FihiUs7scBQO5rwPVNT1j4m6wNG0YNBp0B3MzA4AzjzJPf+6v8AXJGmS5LLHSdSo+WlH4pPp5LzPLp0+bV7Bqeqax8TNYGjaMDBp0BDMzZwAD/rJMd/7q/1yR7Tomiad4b01NO05NqLyzH7zt3Zj6/oBwKNE0TTvDemrp2nptReWY/edu7MfX9AOBxWdqmq9YYTzXVnGcRxMVgsEuWhHZd/N/1+Jcpc3ux2DVdVP+ph61BpmmNM/nz0aZpjyv589deiKi7Vr5uUlHREykoqyBEWNdqin0UVkYhRRRQB458Zv+QNpv8A1+/+0nrvvh9/yL7f9c64L4zf8gfTf+v3/wBpPXY/D7/kCH/cr28N/u7+Z7WG/wB3fzOxo60d68b8beNrm6uf+EV8K7pbiVvLllj5OTwUQj/x5u3IB6kZZVlVbMK3sqWiW7eyXdnkwg5PQPG3ja5urn/hFfCu6W4lbypZY+Tk8FEI/wDHm7cgHqR1HgnwTbeF7b7RcbZb+VcPIOQgP8Ce3qe/0wKPBXgq28LW32i42y6hKuHkHRAf4E9vU9/pgV0WpaklshVT81e3mmaUaVH+y8r/AIf2pdZv/L+tjWUvsQDUtSS2Qqp5rm7a2m1GbzJPu0W1tNqM3mSfdrtLa2S3QKor5RtRVkQ2oqyC2tkt0CqKtUUViYhRRRQBzHjX/kT9Z/68p/8A0A1558HOgr0Pxr/yJ+s/9eU//oBrzP4QdV+or2cu+FnsZf8ACz3WT/WN9TTakn/10n+8f51wPjXxra+FrbyYdst/KuY4z0Uf339vQd/pk1yYTA1sZiFh8PG8n/V35Hl8rlJpB418a23ha18mHbLqEq5jjPRR/ff29B3+gJrkfBXgq51C5/4SvxXummmPmRxy8liejuD2/urj0OMYAPBXgq5v7n/hK/Fe6WaVvMjjk5LE8h3B7f3V+hIxgD1y7u0t0LMea+sxuNo5TReXZdK9R/HP/wBtj/X47bSaguSG4Xd2luhZjzXGTTT6nPtXO3NE0s+pz7F+7muq0/T0tUBI5r4vSK8yNIrzDT9PS1QEjmtSilrFu5i3cKKKKBB3r5q0H/koOq/9fkn/AKFX0r3r5l0X/koOq/8AX7J/6FXp5d8Uj0sv+KR9Ov8Acj/3BTKtXX/LL/rmP61zuua5p3h7Tn1LUn2xrwqj7zt2VR3J/IDk8VjOjUrYl0qSvJvRHNiE3VkkGua5p/h7Tn1LUn2xrwqj7zt2VR3J/QcnivEdO07WvifrJ1XVi1vp1udqheijr5ceerH+Jv8A6wCadputfE7Wjq2rE2+nQEqoU8KOvlx56sf4m/8ArAe9Qw2mmWkdraosMMK7URegAr7Oc6XD9J0qTUsVJavdQT6Lz/rbd6UlZbhBDZ6ZaJa2sawwwrtRF4AFctqOoyXMnkwUajqMlzJ5EHTpWhpWlBAJZRk18O223UqO7ZCVvekGlaWEAllHNdKAFGBQAAMClrCUrmMpXCiiikIK8D+KP/I4aT/17t/6GK98rwH4p/8AI3aT/wBe7f8AoYrswX8VHZgv4qPbNB/5Akf4VpVBo/8AyL8X1FPlligieedxHHGpZmY4CqOSST0Aq8am61luVjdaoSyxQRPPO4jjjBZmY4CgckknoBXz74i8Rar8QtUXw34bU/Ys5JOVEgU/6yT+7GvZepPbOADxF4i1X4haqvhvw2p+xZyScqJAp/1kn92New6k++APYfDPhrTvCun/AGS0+eR8NNMww0jDufQD+Fe31ya+xw+Ho5BRWKxSUsRL4Y/y+b8/+GXVqYxVJc0tw8M+GdO8K6f9ktPnkfDTTMMNIw7n0A/hXt9cmjVNVEYMURyaNV1QRgxRHJNZ2nadJdSefNXxlevUxFSWIxEryZlq3zzDTtOkupPOm6V2MUSxKFUURRLEoVR0qWuSUrmUpXCiiipJCvNPiz/yJ0n/AF8Qf+jBXpdeafFn/kTpP+viD/0YK2ofxI+ptQ/iR9Sx8MP+QZ/wH+lehVxPwt/5BB/3D/Ku27V3ZjvE7cw+KIkiJKuyVQ6njDAEfka8C+I974ZSRtC0bToJNQkcLJLFGNyMTwi7ernofT610njzx41g7eH/AA+TJfSHy3kj+YxluNiY6yH/AMd+tTeC/h8NGh/tPVcNqMoOB1ECt1APdz/E34DuT9blFD+yaCzPHyav8EE2nLzfl/XZPCC5FzTZ87axo17ot79gvlCy7VYhTuHzjOM9OOh969U8JWZ0nRRJ0mvgJG9oxnyx1PXlj9R6VoeM/DBvfFmnRdbd4CZiOyQsd35hgo9zWjcB3dpGGM9uw9B+A4r2eI+IXicuoUov3qiUpW8un3r8DdtW9TkEBk+IzL3aM/8ApMK9H+yiB0JHNcDp0fmfFGJD3GP/ACVFeqaogS4RR2rwOKX72EX/AE6j+pFR6pHXWH/Huv0q7VKw/wCPdfpV2vhXucD3Cq15/wAek3/XNv8A0E1Zqtef8ek3/XNv/QTQtwW58+fCH/Wx/Rf5CvsNPuD6V8ifBv8A1if7q/yFfU6fdFfVn1I/vWnxRxisznNACc0c1q8UcUAf/9T6VX7w+taTfdP0ob7p+lZq9R9aAAZyK5pvvH6127D5T9K8i8V6xqGhRmSxt1uD6OSP5A15+MoTqcvIjgxlGdS3IdLRXgzfFPxSpIOjw8f9NH/+Jpv/AAtbxP8A9AeH/v4//wATXn/Uq3Y8/wCp1ex73RXgv/C1PFH/AEB4f+/j/wDxNJ/wtbxP/wBAeH/v4/8A8TR9Srdg+p1exa8Wf8lS0j62v/oT16Br/wDrBXjWoa1ean4u0XWbmBYZ2jhk8oEkAo0uBk884puofEnxBdlXk0uJD1xvf/CvsM9oTlh8CktqZ0OhN2SWx9C6V/x6r9K06+e7P4n+JoIQiaRCwHfzH/8Aias/8LW8T/8AQHh/7+P/APE18g8FVvsYvB1W9j3ugda8F/4Wp4o/6A8P/fx//iaT/ha/if8A6A8P/fx//iaX1Kt2J+p1exi+Av8AkZ7v/r5l/wDRjV9AeL/Een+GbY318csygRRA/NI2Og9AO56AV88+FrpvD5ufEWrpsWSR2SMdZJGJbYufTPJ7Crlnpet+PbqXxXroZrCM7UQEqJNp4ij7hB/Ew5J9+n2+AyenXp/Wca+WlHfvJ9l/X/A9StBTSgW9C0LVviPqreIfELFNPRtoC5UOFP8Aq4+4QH7zdSffp7z/AKPY26wxKsccShVRRgKo6ADsBXic/wASfEOmH7HBo1ukMI2IFdwAo4AAC8CsC8+J/iO9Oz+zYh7B3/wrx85xmIzCooqPLTjpGK2S/wAzhnhqsntoeuX19Ley+TD0rZ0vS1hUSSDLV4dZePvENr8w0eJj6l3/APia1h8VvE44Gjw/9/H/APia8SWEq2skKWFq7JHvYGOBS14L/wALU8Uf9AeH/v4//wATSf8AC1vE/wD0B4f+/j//ABNZ/Uq3Yy+p1ex73RXgv/C1PFH/AEB4f+/j/wDxNJ/wtbxP/wBAeH/v4/8A8TR9Srdg+p1ex73RXgv/AAtTxR/0B4f+/j//ABNJ/wALW8T/APQHh/7+P/8AE0fUq3YPqdXsUPHP/JSY/wDr3g/m9fQn2m3s/D8V3dyLFDECzuxwFAHU18ytdar4m8T/ANv6jbpZpFEqudxKKkeTuLED1/wrYu77W/iNfx6Bo26LTbTDM7A4AHHmSD1P8C/1yR9bleTyxlPlqvlhH4pdv+Cek4fuVTluS6pqmsfEzWRo2jBoNNgO5mbgAD/lpJjuf4V/rkj2nRNE03w3pyafp6bUXlmP3nbuzH1/QDgcV5PJ4h1DwLH/AGNomlRSQIcmR3YO7dCzYXGT+Q6DisS7+K/iSZfL/syFc+jv/wDE1lnOMnXjHBYKPLQjsu/m/wCvxOSphqr91LQ9i1XVf+WMJ5NQaZpjSt589eLW3jnxCr+a2lRufd3/AMK3U+KfiVBtXRoR/wBtH/8Aia+ceEqpWiiXhaqVoo97RFRdqjpT68F/4Wp4o/6A8P8A38f/AOJpP+FreJ/+gPD/AN/H/wDiay+pVuxn9Tq9j3uivBf+FqeKP+gPD/38f/4mk/4Wt4n/AOgPD/38f/4mj6lW7C+p1ex73RXgv/C1PFH/AEB4f+/j/wDxNJ/wtbxP/wBAeH/v4/8A8TR9Srdg+p1exsfGb/kDab/1+/8AtJ6774ff8i+wH/POvBfEviTxD40jtdPuNOS3EMwlBjZmJO0rjBA9a17rxJqVrYx+DfDu6S9uP3czxckE8eUhHf8AvN25APBI+kyjKq2KX1eOm930S7s9GlB06PJPc6Txt42ubq5PhXwruluJW8uWWPk5PBRCP/Hm7cgHqR1HgrwVbeF7b7RcbZdQlXEkg5CA/wACe3qe/wBMCuIg0+++G1uJreyivdQlXEsjsQEB/gTAPHqe/wBMCs6f4teJNpU6VCv/AG0f/wCJrszTEqlQ/szK1an9qXWb/wAv62OaWHqW5YLQ9r1LUktkKqfmrmra2m1GfzJPu148fHviK5l819Mjb23t/hW5b/E7xHbqFTRof+/j/wDxNfKLCVUtER9VqJaI95trZLdAqirVeC/8LU8Uf9AeH/v4/wD8TSf8LW8T/wDQHh/7+P8A/E1l9SrdjP6nV7HvdFeC/wDC1PFH/QHh/wC/j/8AxNJ/wtbxP/0B4f8Av4//AMTR9SrdhfU6vY97orwX/hanij/oDw/9/H/+JpP+FreJ/wDoDw/9/H/+Jo+pVuwfU6vY9U8a/wDIn6z/ANeU/wD6Aa88+DnQVz+r/EPxNq+lXelSaTFGt3C8JYO5KhxjIBXtVPQtbk8EaT5zqGvp1zBE3Yf89HH90dh/F9MmvbynL69WfsIRvJnoYWnKlF856/458a2vhaFoYdsuoS5McZ6KP77+3oO/0ya47wV4KudQuf8AhK/Fe6aaZvNjjk6sTyHcenTav0yMYAx9K8NatBCfG/iGA3l1O3mxQz5G49RJJx/3yuPQ4xgB83xY8TRsVbSYB7+Y/wD8TXvYypHLKEsDlus5fHP9I+X9b7YOhUS/drc9xu7tLdCzHmuMmln1Ofamdua8jufiN4kvn502PHoHf/Cr1n8RfEFouE0eEn1Mj/8AxNfFLCVEr2M1hKiWx7xp+npaxgkc1qV4N/wtTxR/0B4f+/j/APxNJ/wtbxP/ANAeH/v4/wD8TWbwdZ9DN4Ss+h73RXgv/C1PFH/QHh/7+P8A/E0n/C1vE/8A0B4f+/j/APxNH1Kt2F9Tq9j3uivBf+FqeKP+gPD/AN/H/wDiaT/ha3if/oDw/wDfx/8A4mj6lW7B9Tq9j3vvXzVoP/JQdV/6/JP/AEKtz/hanin/AKA8P/fx/wD4muS0O4ktNVvfFesp9nikmaVlXnLsciNM4yx/QcnAr0suwdb2nIo3b0R24SjOk25n0lr+uaf4e0salqT7UVQFUfeducKo7k/kByeK8N07Tta+J+tHVtWJg06A7QqnhR18uP1Y/wATdvyAbbWXiD4malJr2rBotOtMqqqflUDpFGe7H+Nu35AaE3xD1vQwum2WjW6W8A2RqruAAP8AgP8A+uvr60Y5LCSw9pYmW76QXZef9bbqVKTbnBbntcEFpplolraxrDDCu1EXgACuW1HUZLmTyYa8jvPih4ku/k/s2Jfo7n+lRWfj7X7dt/8AZMTn3d//AImvhHhq0m5z1b8zBYSpu1qe46VpYQCWUcmulAAGBXgw+KficDA0aH/v4/8A8TSf8LW8T/8AQHh/7+P/APE1lLB1n0IlhKz6HvdFeC/8LU8Uf9AeH/v4/wD8TTf+FreJ/wDoDw/9/H/+JpfUq3Yn6nV7HvlFeC/8LU8Uf9AeH/v4/wD8TTf+FreJ/wDoDw/9/H/+Jo+pVuwfU6vY98rwP4o/8jhpP/Xu/wD6GKd/wtTxR/0B4f8Av4//AMTXK6lqeteMtetL67tEtBaxlTtYldudxZiwGAMcmunCYWrGom0dOGw1SFRSktD6P0aWODQFnncRxxjczMcKoAySSegFeHeIvEWq/ELVV8N+G1P2LOSTlRIFP+sk/uxr/CvUn3wBFqes6z47urfwb4cBNlH8zHBAk29ZZD2jX+Edz6kgDU/tW7+HyHTtF02O53EGWeRmV5GHcgA4A7L0H1Jr7uOFp5RH65WjzV2vdi9o+b8/67tbzhzydSCuepeGfDOneFdP+yWnzyPhppmGGkYdz6Afwr2+uTRquqiMGKI5NeOXXxX8SupT+y4Vz6O//wATWRD478QNJ5raXG/1d/8ACvhq9PE4irKviHeT3OT6rVb5pI9p07TpLmTzp+ldjFEsShVFeDx/FDxNEu1NGhAH/TR//iaX/ha3if8A6A8P/fx//ia5pYSs+hMsLWfQ98orwX/hanij/oDw/wDfx/8A4mm/8LW8T/8AQHh/7+P/APE1P1Kt2I+p1ex75RXgv/C1PFH/AEB4f+/j/wDxNN/4Wt4n/wCgPD/38f8A+Jo+pVuwfU6vY98rzT4s/wDInSf9fEH/AKMFch/wtTxR/wBAeH/v4/8A8TXP+JPGfiHxVpn9jz6bHAjyRvvRmY/I2QMEDrWlLCVYzUmjWlhKsZqTR6v8MP8AkGf8B/pWP488eNYsfD/h5jJfOfLkeMbjGTxsTHWQ9P8AZ+tcnL4qvfDWjr4c0gsdSuQEcx8tHu4CKBn943/jv1qew0XUPAUKazcWaXmqSDO2RjtgDdQpAOXP8TfgO5P3mHy2jhYRzLHxu/sQ/mfd+X9dk+2tD2krxV7HZeA/AaaAg1bV1D6k44GciAHqAe7n+JvwHcnudQ1CO1jODzXik3xY8SqpU6TCv/bR/wD4mufk+IPiK7k3tpsbe29/8K+RzCpi8fXeIxOrf3Jdl5HE8LVk7yR7HEkupyfMg6/f77Tg7fpkA/WjVtNWJAqCvOLb4k+I7ZNqaND/AN/H/wDiabcfE3xHPy+jw8f9NH/+JrkdCu2rrYr6vWvsO01NnxbiQ9mx/wCStemax/x9rXjCaxep48k1oW6/aY4TMIcnbv8AswG3OM459KkvviN4guJg76XEp9A7/wCFfWcTUJzlhWl/y6j+pToTk7pH0dYf8e6/SrtfP9v8UfE8cQRdIhIH/TR//iak/wCFr+J/+gPD/wB/H/8Aia+MeCq9jneDq9j3yq15/wAek3/XNv8A0E14d/wtTxR/0B4f+/j/APxNRS/FPxPLE8R0iEb1K/6x+4x/doWCq9gWDq9il8If9bH9F/kK+w0+4PpXyv8ACXSru0kXzlIwAOnpX0qudor6A94d3rT4o4xWZzmgBOaOa1eKOKAP/9X6VX7w+taTfdP0ob7p+lZq9R9aABeorNv20y+UpMpP4V0jfdP0rhz1rgxleVK3L1OHF15UrcpmDw/omcmP9KsnQ/D2DiM/981aorg+v1fI4fr1Uyx4e0PIzH+lWjofh4jiM/8AfNWqKPr9XyD69V8jwnxNa21v8TdHtoRiIfZhj2LSZrvtf0fREkAjT9K4bxZ/yVLSPra/+hPXoGv/AOsFfYZ7iJxw+Ca6wN/rE42a6lzS9A0VrdWZP0rbOh+Hsf6s/wDfNVtK/wCPVfpWnXyDx1VPoYvHVEzLHh7RMj93+lZPia48IeGNNa+u498jZEMQADSN6D0A7ntVrxH4k0/wzp5vb47mbKxRL96RvQegHc9BXjWg6DqvxH1ZvEPiFiunq20BcqHCn/Vx+iD+JupPvkj6nJsJKrTePx75aEfvk+y/r9bbQxVRrmlsSeE/C2ofEXVRrWufuNKiO1UT5Q4B/wBXF3Cg/ebqT79Ppa8k0jTrQacsYiihQKiIoCqoHAArwrwf4ymk1CaxIEcVvI8SIowqqjFVAA4AAFdZquoTX9x5cPQgUZ1m9TE8rguWC0jHol/mdNRunDmjuZd/aadfXGyFOp9K6HTfCmhRpvmQlj7VPpelrCokkHzGt8ADgV8xLH1Ohwyx1ToZg8PaGMfu/wBKtHQ/DxH+rP8A3zVqio+v1fIn69V8jLHh7Qwf9X+lWjofh4j/AFZ/75q1RR9fq+QfXqvkZY8PaID/AKv9KtHQ/DxH+rP/AHzVqij6/V8g+vVfIyx4e0QH/V/pT7rTPC1lbSXd2BFDEpZ3YYCgdzVq5ubezt5Lu7kWKGJSzuxwAB3NeB6nqes/E3WRo+jBoNOgIZmbOAP+ekmO/wDdX+uSPoMlwlfHSdSo1GlHWUn08l5mtPFVZavYrTNe/ELWv7D8NxfZdOjYM7sMYA48yT3/ALqf1yR9LaLoeh+DNGTTLJTsbl5CMtI+OWY/yHQDgV4NLqMXgrxBH4W0sbLdYY5Cx+87vuDMx7nj6AcDivRL7XGuLGJEOWP+Felm2bqrRVHBrlpR2XfzZ1ttU3VW5W1waVcSbUXcx9qZpnhbSJj51wh59qm0zTGlbz5665EWNQqjpXyEsdUWiOKWNmtEZieHNCQACPp7VcOh+Hsf6s/981aoqPr9XyI+vVfIyx4e0TP+r/SrX9h+Hsf6s/8AfNWqKPr9XyD69V8jLHh7RM/6v9Ktf2H4e/55n/vmrVFH1+r5B9eq+Rljw9omR+7/AEq3/Yfh88CM5/3as+wrxrxt42ubq5/4RXwruluJW8uWWPk5PBRCP/HmzxyAepHrZTQxeYVvZUrJLdvZLuzSni6smZ/jDXrU3w8NeDYvNupD5bzRjLZPBSPHf+83bkAjkj1f4feAbHwbYHUr7bNqMifO45Ean+BP6nv9MCvI7zSh8NtGs74ESaheTiKWQdEXYzbE9uBk9/pgV6Po/iVrjRy7nLMtfSY/M6UKDweXP3FvLrJr9Dtg+aLqdTZ16bSpFPmDc30rlbTQNM1Cbe6EL9KmtrafUZ/MkztzXaW1slugVRXxMsbURxSxs0Z1v4Y0KFQPL/StE6H4ex/qz/3zVqis/r9XyM/r1XyMseHtEz/q/wBKtHQ/D3/PM/8AfNWqKPr9XyD69V8jLHh7RP8Ann+lWv7D8Pf88z/3zVqij6/V8g+vVfIyx4e0T/nn+lWv7D8Pf88z/wB81arhfGvjW18LWvkw7ZdQlXMcZ6KP77+3oO/0ya7cC8XjK0cPh43k/wCrvyKjjKsnZWMrxtqvhzwpbCK2iWfUJRmOJh8qD++/t6Dv9Mmq/wAOfh3Nqd1/wlvi/MkkhEkUMnVj1DuOwH8K/pjAHL6V4XvY9Lv/AB54n3S3KQyXMMcnJLKu4SOD9PlX6HjAA67wP4xnv4/MuHJPvX21bG0sDSlgcHK89pzX5Ly/rc76T9o7yex6jrFzp7RstxzjjpXnMunaZqVwVjjIXPpVu7mn1O9dUzt3H+ddNp+npbIMjmvgpYypHc5JYycTPsfCeiQIC6ZP0rb/ALD8PY/1Z/75qzS1j9fq+Rj9eqmWPD2if88/0q3/AGH4e/55n/vmrNFH1+r5B9eq+Rljw9on/PP9Kt/2H4e/55n/AL5qzRR9fq+QfXqvkZf/AAj2if8APP8ASrf9h+Hv+eZ/75qzWPrmuad4d059S1J9qLwqj7zt2VR3J/IDk8VtQxGJrVFSpK8nsrDWNqt2Rl67H4T8O6c+p6kMIvCqANzt2VR6n9Op4rybw94d1X4m63/aF8PselW7EAJwqDqY4/Vz/E/b8gDTdN1r4na0dW1YtBp0B2qq9FGf9XHnqx/ibt+QGzo3iprXxFdaJABFb2UzQxovCqqnAA/zzX38a0Mog6EWpYhrVraCfRef9bb91KTqPlmz3QwaVpFhHptvGIbeFQERRwB/j6nvXnurJpN7OUgTJPfFaOvarJezJHD3UU/S9KCASyjJNfC18ZUU5OTMauJnCTRR0zwhpKgSTpk/SuqGheHgMCM/981ZACjApa5Pr9XyOb69UMseHtE/55/pVv8AsPw9/wA8z/3zVmij6/V8g+vVfIyx4e0T/nn+lW/7D8Pf88z/AN81Zoo+v1fIPr1XyMv/AIR7RP8Ann+lW/7D8Pf88z/3zVmo5ZYoInnndY44wWZmOFUDkkk9AKccdWbstwWOqsy5dD8P28TTzgRxxgszNgBQOSST0ArwvWNSuvHWs/8ACOeDbfZZMeWPymRQeZJT/DGOoXqfckAT+IfEOq/EPVV8N+HFIsQcknKiQKf9ZJ6Rr/CvUn3wBf1F4/h9f6doenEt9oiMs8pGGkcMBk+gGflHYep5r9CwsY5RTjWxlniJaxj/ACru/P8Aru12wnKdoTe57R4X8L6T4M0n7NbfvJJcGecj5pG/oo/hXt9cmsvxBPo1wxVV3MfanXXiAz6OgU5ZiKydO06S5k86fp1r4/HY6tKtKpUd2xV68qcuWOxR03wrp1y/nTpx9K7ePQPDsa7RGf8AvmrEUSxKFUVLXmvH1TjeOqGWPD2if88/0q3/AGH4e/55n/vmrNFL6/V8g+vVfIyx4e0T/nn+lW/7D8Pf88z/AN81Zoo+v1fIPr1XyMseHtE/55/pVv8AsPw9/wA8z/3zVmij6/V8g+vVfIy/+Ee0T/nn+leW+PPE+k6VMND8Kx+bqDHY8irkxseAkYGcyH/x361a8e+PHsXbw94fYvfORHJJGMlC3GxMdZD7dPr05o+G5vAnhs+Jr3Daq8sSAdRAkjYYA93IPzN+A7k/c5bh44OjHMM0XxfBDq/N+X9dk+qFebspu1z0X4c/D2Lw8g17WwJdTcEqv3hAD1APdz/E3boO5Pba9faPLGRKCT7iuY8NeKnu9JaSU5Yof5VmQxT6nPubO2vDzbM69et7ao9X+HkjSvUdKyhsUINAsdRn3FMLn0ru7bw34dgQKYzn/dqxaWiW0YVRzVyvDePqdDieOqdDL/4R7Q/+ef6VaOh+Hsf6s/8AfNWqSl9fq+Qvr1XyPAxa2x+MZtcfuTIykf7P2UV32r6RoqXShE4+lcOv/JZ/+2rf+ktd/rH/AB9rX2XEuJnF4VLrSj+pt9YnF2XU2bLw/opgUsn6Vrf2H4e/55n/AL5qOw/491+lXa+OePq+Ri8dVMv/AIR7RP8Ann+lWxofh4nHln/vmrNQXLFLeVx1VGP5A0LH1fIFjqpe0/StPtG/0fH4V2Qxivnf4beMLvWtn2g8lQT+Ir3NSSoNe6e4O71p8UcYrM5zQAnNHNavFHFAH//W+lV+8PrWk33T9KG+6fpWavUfWgAGciuab7x+tdu33T9K4c9a8nMfs/M8rMfs/MKKKK8k8oKKKKAPDvFn/JUtI+tr/wChPXoGv/6wV5/4s/5KlpH1tf8A0J69A1//AFgr7XP/APdsB/17O2W0f67G9pX/AB6r9KpeJPEen+GdPN9fHczZEUQPzSN6D0A7nsKzL7xHp/hnRRfXx3M3yxRL96Rh2HoB3PavLdB0HVfiNqzeIfELFdPVtoC5UOFP+rj7hAfvN1J98kc2T5LCrCWYZg+WhH75Psv6/VrONNfHLYNC0HVfiPqzeIfELFNPU7QFyocKf9XH3CA/ebqT75I97zb2NukUSrHHEoVEUYVVHQAdgKT/AEext1iiVY441CoijCqBwAB2ArkL6+lvZvJh6ZrkzfN6mY1EkuWnHSMVsl/mKUnUfkeD+F3eXxBcpF/FcS/rIa+mrXSlgcPIMsVB/Svnz4dQA+IrneORPIP/AB819PyjDAD0H8qxxrtRR6WNdqSIgABgUtFFeIeKFFFFABRRRQAVBdXVvZW8l3dyLFDEpZ3Y4AA7mi5ubeyt5Lu7kWKGJSzuxwAB3NeB6nqes/E3WRo+jhoNOgIZmboAP+WkmP4j/Cv9ckfQZLkssdJ1Kj5aUdZSfTyXma06fNq9g1PU9Z+JusjR9HBg06BtzMwOAM48yT3/ALq/1yR7Tomiab4b01NO05dsa8sx+87d2Y+v6AcDijRNE03w3pqadpybY15Zj9527sx7k/kBwOKztV1Q/wCphPJrpzjOI4mMcFgo8tCOy7+b/r8S5S5vdjseIfEC5D/EAPHz+4hH6tXtei6W0unwXE3OT/SvCvEMDnx5GJepgiP5lq+mdMUJpMAH+eK4p6YbTsenPTDadiwiKi7Vp9FFeGeIFFFFABRRRQAUUda8a8beNrm7uf8AhFfCm6W4lby5ZY+Tk8FEI/8AHm7cgHqR62U5VWzCt7Klolq29ku7NIU3J2Dxt42ubu5/4RXwruluJW8uSWLk5PBRCP8Ax5u3IB6kdV4K8FW3ha1+0XG2XUJVxJIOQgP8Ce3qe/0wKPBXgq28LW32ifbLqEq4kkHIQf3E9vU9/pgV0OpaklshVT81e3mmaUaVH+y8r0p/al1m/wDL+tjWUvsQPLfjPcIdJ0+NTyLvP/kN60/AlnLf6aWb7qpXFfEzzp9Osp5OjXWB/wB8NXrHw6iWPRDgfwV5eHVqD+Z6dBWoP5nW21slugVRVmiivCZ4dwooooAKKKKACiiuF8a+NbXwta+RDtl1CVcxxnogP8b+3oO/0ya7MDga2MrRw+HjeT/q78ioxcnZB418a23ha18mHbLfyrmOM9FH99/b0Hf6ZNcj4K8FXN9c/wDCV+K90s8reZHHJ1JPIdx/6Cv0JGMAL4K8FXN9c/8ACV+K8zTTHzI45OSSeQ7j8tq/QkDAA9bu7tLdCzHmvrsbjaOU0ZZdl0r1H8c//bY/1+O3RKSguSG5zvjm4SPwlq6seWtJh+aGvG/hokt0ywJ0rtfF9zNfaBqjDOxbWU/kprC+D0K71cjnIrwMBG0WejgY2iz2ey09LUHI5ya0qlm/1z/7x/nUdeNN3kzxpu8mFFFFSSFFFFABRRWPruuaf4e059S1J9qLwqj7zt2VR3J/IDk8VrQoVK1RUqSvJ7IaTbsg1zXNO8O6c+pak+2NeFUfeduyqO5P5AcnivEdN07WfidrR1bViYNOgJUKp4UdfLjz1Y/xN/8AWANN03WvidrR1bViYNOgYqFU8KOvlx+rH+Jv/rAe9Qw2mmWiWtrGsMMK7UReABX3dSpS4fpOlSaliZLV7qCfRef9bb9OlJWW4QQ2mmWkdraosMMKhUReAAK+XbKVpPHGqeV/Hdyf+hV7xqOoyXMnkQeteGeHbf8A4ri/V+q3T/zr5fBOUpynN3bOzAp8zbPofTdKEcccso5Kg10IAUYFWrlQoiA/55iq1efin+9kcOJf72QUUUVznOFFFFABRRUcssUETzzusccalmZjgKBySSegFNJt2W4WuEssUETzzuI441LMzHAUDkkk9AK+fvEPiHVfiHqq+HPDikWIOSTlRIFP+sk/uxj+FepPvgA8Q+INV+Imqr4c8NqRYg5JbKiQKf8AWSekYP3V6k++APYfDXhrTvC2n/ZLP5pHw00zDDSMO59AOy9vrk19/h6FHIKKxWKXNiJL3Y/y+b8/+GXVrsjFUlzS3Dw14a0/wtp32S0+eR8NNMww0jDufQD+Edvrk14x8VLlX8V6aUP3YGH/AI+K9m1XVRGDFEea8E8cQyN4m0xpf44mP/j4r5anXq4jEvEV5Xk+prhbuqpSPXfC+mvc6ck83Tiu+iiWJQq1Docax+Hogo7irdc2Pf72xGOf7ywUUUVwnCFFFFABRRRQAV5H498ePYsfD/h5jJeyHy5JI/mMZPGxMdZD/wCO/XoePfHr2Lt4e8PMXvnISSSMZKE8bEx1kP6fXpe8B+Ak0BF1bVlD6k44GciAHqAe7n+JvwHcn7jLstoZdQWaZort/BDrJ935f12T6oQUFzzDwH4DTQEXV9WUPqTj5V6iAHqAe7n+JvwHcmH4t3CDwm8QPJngP5OK7/UNQjtYzzzXi/xFae68OSzv90TQ/q4rwMTj6+PxX1nEu7b+SXZeRVK8qiky18PbWW/tgv8ACBXs1paJbRhVFcf8KYUTSScc7D/Ku87VlmL1idGYPWItFFFeWeWFJS0lAHhK/wDJZ/8Atq3/AKS13+sf8fa1wC/8ln/7at/6S13+sf8AH2tfb8UfFhP+vUf1OyW6OrsP+PdfpV2qVh/x7r9Ku18S9zke4VWvP+PSb/rm3/oJqzVa8/49Jv8Arm3/AKCaFuC3Pnz4Q/62P6L/ACFfYafcH0r5E+Df+sT/AHV/kK+p0+6K+rPqR/etPijjFZnOaAE5o5rV4o4oA//X+lV+8PrWk33T9KG+6fpWavUfWgAGciuab7x+tdu33T9K4c9a8nMfs/M8rMfs/MKKKK8k8oKKKKAPDvFn/JUtI+tr/wChPXZeMdTstIh+2XrcdEQH5pG/ur/U9AK86+I2o/2R48stT8vzfs0dvJszjdtaQ4zg4z9KzLOx1Lxvft4j8Qkiy3FUQEqHwf8AVx+ka/xN1J465I/WauV0a+EweMxsuWlCmr92+iXr/XdeiopqLfQv+HfD2pfELUjrmukx6bGdqquQHCn/AFcfog/ibqT79Pff9HsbdYolWOONQqoowqqOgAHQCs/TpIrawQKFREUKqqMAAdAAOgFYF9fS3svkw9K+HzjN6mYVFFLlpx0jFbJf5nPNubt0C+vpb2XyYelbWlaWsIEkgy1Gl6WsKiSQfNXQAYwBXhSl0RnKXRHzV4C/5Ge6/wCvmX/0Y1fT97/r/wDgK/yr5m+H3/IzXn/XzN/6MavpSb7w+g/lXrY7+Cj1Mb/CRFRRRXinjBRRRQAVXurq3sreS7u5FihiXc7scAAUXVzb2VvJd3cixQxKWd2OAAO9eCanqes/E3WRo+jhoNNgIZmYcAD/AJaSY6sf4V/rkj6DJclljpOpUfLSjrKT6eS8zWnT5tXsJqep6z8TdYGj6ODBp0B3MzZwBn/WSY6sf4V/rkj2rRNE03w3pyadpybY15Zj9527sx9T+QHA4o0TRNN8N6amn6cm2NeWY/edu7MfU/kBwOKztV1TnyYTkmunOM4jiYrBYKPLQjsu/m/6/EuUub3Y7Bqmqn/Uw8k1DpmmNK3nz0aZpjSt589dciKi7VGK+blJJWRMpKKsj528bIqfEeNV6C2g/m9fRtr/AMge2/z2r538b/8AJSU/69of5vXv+nf8gqD/AD2r1p/7r8kenL/dfkixRRRXiHjBRRRQAUdeKPavGvG3ja5u7n/hFfCuZbiVvLllj5JJ4KIR/wCPN25APUj1spymtmNb2VLRLVt7Jd2aQg5MPG3ja5u7n/hFPCu6a4lby5ZI+SSeCiEf+PN25APUjqvBXgq18LW3n3G2XUJVxJIOQgP8Ce3qe/0wKPBXgq18LWvn3G2XUJVxJIOiD+4nt6nv9MCuh1LUktkKqea9vNM0o0qP9l5XpT+1LrN/5f1sayl9iAalqSWyFVPzVzdtaz6jN5kmduaLa2m1GbzJPu12ttbJboFUV8o2oqyIbUVZHjvxdt0t9C0xFGP9MH/op69G+H3/ACL7f9c64L4zf8gfTf8Ar9/9pPXY/D7/AJAh/wByvVw3+7v5nqYf/d38zsaKKK8Q8UKKKKACiiuF8a+Nbbwta+TBtl1CVcxxnogP8b+3oO/0ya7cDga2NrRw+HjeT/q78ioxcnZB418a2vha28mHbLqEq5jjPIQf339vQd/pk1yXgrwVc31z/wAJX4r3Szyt5kccnJJ7O4P/AI6v0JGMAHgrwVc31z/wlfivMs8x82KOTqSeQ7j8tq/mBwB63d3aW6FmPNfW43G0cpovLsud6j+Of/tsf6/E6JSUFyQ3C7u0t0LMea4yWWfU59q525pJZZ9Tn2rnbmur0/T47VASOa+L0ivMz0gvM5nxJp6WvgzWDj5vsU//AKAa5D4N9BXofjT/AJE/Wf8Aryn/APQDXmfwg6r9RXqZe7xkengHeLPdZP8AWN9TTakn/wBdJ/vH+dR148/iZ5EviYUUUVJIUUVj65rmneHtOfUtSfai8Ko+87dlUdyfyA5PFa0KFStUVKkryeyGk27INc13TvD2nvqWpPtReFUfeduyqO5P5AcnivEtN03WfidrR1bVy0GnQEqqr0Uf88489WP8Tf8A1gDTdN1n4na0dX1YmDToG2qq5wo6+XH6sf4m/wDrAe8Qw2mmWiWtqiwwwrtRF4AAr7upUpcP0nRpNSxMlq91BPovP+tt+nSmrLcIYbTTLSO1tUWGGFdqIvAAFctqOoyXUnkQdPajUdRkuZPIh6VoaXpQQCWUc18O223UqO7ZCVvekLpWlBMSyjk14foH/JQdV/6/JP519KKAuAK+ZtF/5KDqv/X7J/6FXZl7vOR24B3nI+nX+5H/ALgplWrr/ll/1zH9aq1x4r+LI48T/FkFFFFc5zhRRUcssUETzzusccalmZjgKBySSegFOMXJ2W4JXCWWKCJ553WOONSzMxwFUckk9gK+fvEHiDVfiJqq+HPDikWIOSTlRIFP+sk9Ix/CvUn3wAeIPEGq/ETVV8OeHFIsAcknKiQKf9ZJ6Rj+FepPvgD2Lw34b07wtp/2Sz+Z2w00zDDSMO59AOw7fXJr7+hQo5BSWKxSUsRJe7H+Xzfn/wAMurXZGKpLmluJ4a8Naf4W077HafNI2DNMww0jDufQDsO31yabquqBAYojkmjVdVCAxRHms/TtOkuZPOnr4uvXqYipLEYiV5Pcy1b55hp2nSXMnnz15r8TI1i8W6QijAFu3/oYr3uKJYlCqMV4N8U/+Ru0n/r3b/0MVeElesjfCSvWR7ZoP/IEj/CtKoNH/wCRfi+oqelj/wCKLHfxQooorhOIKKKKACvIvHvjxrJ28PeHmL3sh8uSSPkoTxsTGcyHp/s/XoePPHr2Tnw94dYveufLkkj+YoTxsTHWQ5x/s/Xpf8B+Ak8PourasofUnHA6iAHqAe7n+JvwHcn7jLsuoZdQWaZort/BDrJ935f12T6oQUFzzDwH4DXQEXV9XAk1JxwOogDdQD3c/wATfgO5Pc6hqEdrGeeaNQ1BLWMjPNcrFFPqc+5s7c183j8fXx9d4nEvV/cl2XkRrN80hIop9Tn3Nnbmsj4nWsdt4KkVRz9ot/8A0MV6XaWkdsgVRXAfFn/kTpP+viD/ANGCuSlK9SKXcqlK9SKXcsfDD/kGf8B/pXoVcT8Lf+QQf9w/yrtu1deY/FE6sw+KItFFFeWeYFJS0lAHhK/8ln/7at/6S13+sf8AH2tcAv8AyWc/9dW/9Ja7/WP+Pta+34o+LCf9eo/qdkt0dXYf8e6/SrtUrD/j3X6Vdr4l7nI9wqtef8ek3/XNv/QTVmq15/x6Tf8AXNv/AEE0LcFufPnwh/1sf0X+Qr7DT7g+lfInwb/1if7q/wAhX1On3RX1Z9SP71p8UcYrM5zQAnNHNavFHFAH/9D6VX7w+taTfdP0ob7p+lZq9R9aAAZyK5pvvH6127fdP0rhz1rycx+z8zysx+z8woooryTygooooA5LX/BOgeJLmO81KN/NQKpZHK7kUk7WHTByRkYPPWquuRxWqRwwIsccQCoqjCqo4AAHQCu3rB1XTTeDiu6WOr1YQo1ZtxjsuiNYzeibOTS7mukWCPOK6rS9LWBRJIMtS6bpCWoyw5reAA4Fc059EE59EAGOBSjrRQOtZGR81eAv+Rnu/wDr5l/9GNX0/e/6/wD4Cv8AKvmb4ff8jNef9fM3/oxq+lJvvD6D+Ve1jv4KPZxv8JEVFFFeKeMFV7q5t7K3ku7uRYoYlLO7HAAHc0XV1bWVtJd3kixQxLud24AArwPU9T1n4m6yNH0cGDToG3MzDgDp5knqx/hX+uSPoMlyWWOk6lR8tKOspPp5LzNadPm1ewalqes/E3WRo+kBoNOgO5mbOAM/6yTHVj/Cv9cke1aJomneG9NTTtOTai8sx+87d2Y9z+gHA4o0TRNN8N6amn6cm2NeWY/edu7Me5/QDgcVnarqpz5MJ5rpzjOI4mMcFgo8tCOy7+b/AK/EuUub3Y7Bqmq/8sYeTUOmaY0refPRpmmNK3nziuuRFRdqivm5S5VZEykoqyBEVFCrxT6KKyMT518c/wDJSY/+veD+b19F2v8AyB7b/Pavnfxv/wAlJT/r2h/m9e/6d/yCoP8APavbl/uvyR7Mv91+SLFFFFeIeMFHtR16V41428a3N3c/8Ir4U3TXEreXJLHySTwUQj/x5vqAepHrZTlNbMK3sqWiWrb2S7s0p03J2Dxt42ubu5/4RTwpuluJW8uSSPkkngohH/jzduQD1I6rwV4KtvC1t58+2XUJVxJIOiA/wJ7ep7/TAo8FeCrXwtbefPtl1CVcSSDogP8AAnt6nv8ATArodS1JLZCqn5q9vNM0o0qP9l5XpT+1LrN/5f1sayl9iAalqSW6FVPzVzdrbTajN5kmdtFrazajP5kn3c12ttbJboFUV8o2oqyIbUVZCW1slugVRVqiisTE8c+M3/IG03/r9/8AaT133w+/5F9v+udcF8Zv+QPpv/X7/wC0nrsfh9/yBD/uV7eG/wB3fzPaw3+7v5nY0UUV4h4oUUVwvjXxra+FrbyINsuoSrmOM8hB/ff29B3+mTXbgcDWxtaOHw8byf8AV35FRi5OyDxr41tvC1r5MO2W/lXMcZ6IP77+3oO/0ya5LwV4Kub65/4SvxXmaeZvMjjl5JPZ3B/8dXHocdADwV4Kub25/wCEr8V7pZ5W8yKOTkknkO4/9BX6EjoB63d3aW6FmPNfW43G0cpoyy7LZXqP45/+2x8v63OhyUFyQ3C7u0t0LMea4yWWfU59q525olln1Ofaudua6rT9PjtUHHNfF6RXmZ6RXmGn6elsgyOa1KKWsW7mTdzmPGv/ACJ+s/8AXlP/AOgGvPPg50Feh+Nf+RP1n/ryn/8AQDXmfwg6r9RXs5d8LPXy/wCFnusn+sb6mm1JP/rpP94/zqOvIn8TPJl8TCiisfXdc07w7pz6lqT7UXhVH3nbsqjuT+QHJ4q6FCpWqKlSV5PZCSbdkGua7p/h3T31LUn2ovCqPvO3ZVHcn8gOTxXiWm6brPxO1k6tq5aDToDtVV6KP+eceerH+Jv64ANM03WfibrR1fVyYNOgbaqqeFHXy4/Vj/E39cAe8ww2mmWkdraosMMK7UReAAK+7qVKXD9J0aLUsTJavdQT6Lz/AK236dKastwhhtNMtEtbVFhhhXaiLwABXK6jqMlzJ5ENGo6jJcyeRB0rQ0rSwgEsoyTXw7bbdSo7tkJW96QaXpYQCWUZNdKAAMCgAAYFLWEpXMpSuHevmrQf+Sg6r/1+Sf8AoVfSvevmXRf+Sg6r/wBfsn/oVell3xSPQy/4pH06/wByP/cFMq1df8sv+uY/rVWuTFfxZHLif4sgooqOWWK3ieed1jjjUszMcKqjkkk9AKwjFydluc6Vwlligieed1jjjUszMcBVHJJJ6AV8/eIPEGq/ETVV8OeHFIsAcknKiQKf9ZJ6Rj+FepPvgA8QeINV+Imqr4d8OKwsAcknKiQKf9ZJ6Rj+FepPvgD2Lw34b07wtp4s7P5nbBlmYfNI3qfQDsO31ya+/oUKWQUlisUlLESXux/l835/8MurXXFKkuaW4eG/Den+FtO+yWg3SNgzTEYaRh3PoB2Xt9cmm6rqgQeVEeTSapqgQGKI81n6dp0lzJ581fF169TEVJYjESvJmerfPMNO057qTzp+ldjFEsShVoiiWJQqjFS1yylcylK4V4H8Uf8AkcNJ/wCvdv8A0MV75XgPxT/5G7Sf+vdv/QxXVgv4qOrBfxUe2aD/AMgSP8K0qg0f/kX4vqKnqsf/ABR47+KFFFFcJxBXkXjzx69k7eHfDzF71yI5JI+Shb+BMdZD7fd+vRPHvj17N28PeHWMl658uSSP5ihPGyPHWQ+33fr00PAXgNPD6Lq2rKH1JxwOogB6gHu5/ib8B3J+4y7LqGXUFmmaK7fwQ6yfd+X9dk+qEFBc8w8B+A10BRq+rgSalIMgdRAD1APdz/E34DuT3OoaglqhGeaNQ1BLVCAea5WKKfU59zZ25r5vH4+vj67xOJd2/uS7LyI1m+aQkUU+pz7m+7mu0tLSO2QKo5otLSO2jCqOauV50pX0RnKV9EFeafFn/kTpP+viD/0YK9LrzT4s/wDInSf9fEH/AKMFXQ/iR9S6H8SPqWPhh/yDP+A/0r0KuJ+Fv/IIP+4f5V23au7MfiiduYfFEWiiivLPMCuS8W+LbLwtZebJiW6lB8mHPX/ab0Ufr0FHi3xbZeFrLzJMS3UoPkw+v+03ooP59BXm3hLwle+K74+LfFmZIpDvjjbjzcdCR2jHYd/pkt9bk+T0lS/tLMtKK2XWb7Ly/ru10U6aS557FvwBoGq6pq58da4xDSbmhBGC5ddu/HZAvC+v0GT2esf8fa/WuuuLiO3jJbAwOlcRNI9/eAoOM152Z5pUzDEe3mrJKyS2SWyHzuT5jtLD/j3X6VdqtaoY4VU+lWa8N7nO9wqtef8AHpN/1zb/ANBNWarXn/HpN/1zb/0E01uC3Pnz4Q/62P6L/IV9hp9wfSvkT4N/6xP91f5CvqdPuivqz6kf3rT4o4xWZzmgBOaOa1eKOKAP/9H6VX7w+taTfdP0ob7p+lZq9R9aAAZyK5pvvH6127fdP0rhz1rycx+z8zysx+z8woooryTygooooAKSlooASloooAKB1ooHWgD5q8Bf8jPd/wDXzL/6Mavp+9/1/wDwFf5V8zfD7/kZrz/r5m/9GNX0pN94fQfyr2sd/BR7ON/hIiqvdXVtZW8l3dyLFDEpZ3bgADvRdXVtZW8l3eSLFDEu53Y4AFeB6nqes/E3WRo+kAwadAdzMw4AzjzJPVj/AAr/AFyRtkuSyx0nUqPlpR1lJ9PJeZ5dOnzavYNS1PWfibrI0fSA0GnQEMzN0A/56SY6sf4V/rkj2rRNE03w3pqadpybY15Zj9527sx7k/kBwOKNE0TTvDempp2nJtjXlmP3nbuzH1P5AcDis7VdV/5Yw8munOM4jiYrBYKPLQjsu/m/6/EuUub3Y7BqmqnJhhPNQ6ZpbSt589GmaW0refPXXIiou1elfNylyqyJlJRVkCIqLtUU+iisjEKKKKAPnXxz/wAlJj/694P5vX0Xa/8AIHtv89q+d/G//JSU/wCvaH+b17/p3/IKg/z2r25f7r8kezL/AHX5IsUfSjrxXjPjbxtc3lz/AMIp4U3S3Ep8uSSPkkngohH/AI831APUjLKcprZjW9lS0S3b2S7s8qnByYvjXxrc3lz/AMIp4U3S3EreXJJHySTwUQj/AMeb6gHqR1XgrwVa+Frbz59suoSriSQdEB/gT29T3+mBR4K8FW3ha18+fbLfyriSQdEH9xPb1Pf6YFdDqWpJboVU/NXt5rmtGlR/svK9Kf2pdZv/AC/rY1lL7EA1LUkt0Kqfmrm7a2m1GbzJPu0WtrNqM3mSfdrtba2S3QKor5RtRVkQ2oqyC2tkt0CqKs0UViYhRRRQB458Zv8AkDab/wBfv/tJ6774ff8AIvt/1zrgvjN/yB9N/wCv3/2k9dj8Pv8AkCH/AHK9vDf7u/me1hv93fzOxoorhfGvjW18LW3kQbZdQlXMcZ6IP77+3oO/0ya4cDga2NrRw+HjeT/q78jx4xcnZB418a23ha18iDbLqEq5jjPRB/ff29B3+gJrkvBXgq5vrn/hK/Fe6aeY+ZHHJyST0dwf/HVx6EjoAeCvBVze3P8AwlfivdLPK3mRxyckk8h3B/8AHV+hI6Aet3d2luhZjzX1uNxtHKaLy7LZXqP45/8AtsfL+tzolJQXJDcLu7S2Qsx5rjJZZ9Tn2rnbmiWWfU59q/dzXVafp6WqDjmvi9IrzM9IrzDT9PS1QEjmtWkpaxbuZN3CiiigRzHjX/kT9Z/68p//AEA1558HOgr0Pxr/AMifrP8A15T/APoBrzP4QdV+or2cu+FnsZf8LPdZP9Y31NNqSf8A10n+8f51h67runeHdOfUtSfai8Ko+87dlUdyfyA5PFebToVK1VUqUbyb0R5TTcmkGu67p/h3Tn1LUn2ovCqPvO3ZVHcn8gOTxXiWm6brPxO1k6vq5MGnQHaqqeFGc+XHnqx/ib+uADTdM1n4naydX1cmDToCVVV6KOvlx56sf4m/rgD3mGG00y0jtbVFhhhXaiLwABX3NSpS4fpOjRaliZLV7qC7Lz/rbffSmrLcIYbTTLRLW1RYYYV2oi8AAVyuo6jJcyeTBRqOoyXUnkQ1oaVpQjAllGTXw7bbdSo7tkJW96QaVpQQCWUZJrpQABgUAADApawk7mUpXCiiikSHevmrQf8AkoOq/wDX5J/6FX0r3r5l0X/koOq/9fsn/oVenl3xSPSy/wCKR9Ov9yP/AHBTKtXX/LL/AK5j+tUZZYreJ553WOONSzMxwFA5JJPQCuXERcq0kt7nLif4sglligieed1jjjUszMcKoHJJJ6AV8/a/4g1X4i6qvhzw6pWwB3EtlRIFP+sk9EH8K9SffABr+v6r8RdVXw74dVlsAdxLZUSBT/rJPRB/CvUn3wB7H4b8N6d4X04WdmNztgyysMNI3qfQDsO31ya+3oUKOQUlisUlLES+GP8AL5vz/pdWrilSXNLcTw34b07wtpws7P5nbDSysPmkYdz6Adh2+uTTNV1QIDFEeTRquqBMxRdaz9O06S5k86avi69epXqSxGIleT6merfPMNO06S5k86fpXYxxLEoVRiiKNYlCrUtcspXMpSuFFFFSSFeB/FH/AJHDSf8Ar3b/ANDFe+V4D8U/+Ru0n/r3b/0MV2YL+KjswX8VHtmg/wDIEj/CtKoNH/5F+L6ip6rH/wAUeO/ihXkXjzx69k7eHvDzF71yI5JIxkoTxsTHWQ/p9eh488evZu3h3w8TJeyHy5JI+SjE48tMdZD0/wBn69L/AID8Bp4fRdW1YB9SccDqIAeoB7uf4m/Adyfqsuy6hl1BZpmiu38EOsn3fl/XZOIQUFzzF8B+A00BF1fV1EmpOOB1EAPUA93P8TfgO5PcahqCWsZweaNQ1BLVCAea5WKKfU59zZ25r5vH4+vj67xOJd2/uS7LyIu5vmkEUU+pz7mztzXZ2lpHbRhVFFpaJbRhVHNXK86Ur6IzlK+iCiiioICvNPiz/wAidJ/18Qf+jBXpdeafFn/kTpP+viD/ANGCtqH8SPqbUP4kfUsfDD/kGf8AAf6V6FXE/C3/AJBB/wBw/wAq7btXdmPxRO3MPiiLXJeLfFtl4VsvMkxLdSg+TDnr/tN6KP16Ck8W+LrHwtZeZJiW6lH7mHPX/ab0Ufr0Feb+EvCV74rvj4t8WZkhlO+OJxjzcdCR2jHYd/pkt7OT5PSVL+0sy0orZdZvsvL+u7XJTppLnnsHhLwlfeK73/hLPFpMkUhDRRtx5uOhI7RjsP4vpkt7ZcXEdvHubAx0ouLiO3j3NgYFcXdXM2ozeXHnbXn5rmtXMqvPPSC0jFbJf11/QTbqO72C5up9Rm8uP7tdJpumpbIGYc0abpqWyBmHzVs140pdETKXRBS0UVmZBVa8/wCPSb/rm3/oJqzVa8/49Jv+ubf+gmmtxrc+fPhD/rY/ov8AIV9hp9wfSvkT4N/6xP8AdX+Qr6nT7or6s+pH960+KOMVmc5oATmjmtXijigD/9L6VX7w+taTfdP0ob7p+lZq9R9aAAZyK5pvvH6127fdP0ry7XNe0/w+hk1IuB/sIz/otebj6cp8vKrnnY6nKfLyq5s0V5t/wtfwaODNP/4Dyf4Uf8LY8Gf89p//AAHk/wAK8v2FT+Vnmewqfys9Jorzb/hbHg3/AJ7T/wDgPJ/hR/wtjwZ/z2n/APAeT/Cj2FT+Vh7Cp/Kz0mivNv8AhbHg3/ntP/4Dyf4Uf8LY8Gf89p//AAHk/wAKPYVP5WHsKn8rPSaK82/4Wx4N/wCe0/8A4Dyf4Uf8LY8Gf89p/wDwHk/wo9hU/lYewqfys9JoHWvNv+FseDf+e0//AIDyf4UD4seDM/66f/wHk/wo9hU/lYewqfys8z8Bf8jPd/8AXzL/AOjGr6Y1a6trJZLy7kWKGKMM7twAAK+Z/h/cQpq15qkzeXbCSWZpH4CoXJBOenB6dc8Vb8Qa9qnxE1M2On7rbSrXDOxBICjjzHA6sf4EH88kfZ4LJ5Y9XqPlpx1lLsuy8z18RDngok2panrPxN1kaRo4MGnQEMzN0Uf89JMdWP8ACv8AXJHtWiaJpvhvTU0/Tk2xryzH7zt3Zj3J/IDgcV55pHjbwB4Xsl0myadFQ5djBJud+7Mcck/kBwOKi1H4r+GZVKW8s3PrC4/pXJnOZSxCWCwcHChHZd/N/wBfiefOnUl7qjodvquqEnyYTyah0zTGlbz5688sfH3hISebdTTZ/wCuEh/pXUJ8VfBaKFWaf/wHk/wr5x0qiVoxZLpTSsos9JRFRdqin15t/wALY8G/89p//AeT/Cj/AIWx4M/57T/+A8n+FZewqfysy9hU/lZ6TRXm3/C2PBv/AD2n/wDAeT/Cj/hbHgz/AJ7T/wDgPJ/hR7Cp/Kw9hU/lZ6TRXm3/AAtjwb/z2n/8B5P8KP8AhbHgz/ntP/4Dyf4UewqfysPYVP5WefeOf+Skx/8AXvB/N6+jLXnSLbHr/SvmHWNYs/E3juPUdI3yQmKKMFkZCWUtkYPPcV13inxpeTxReDvDAaS5f93LJHycngxoR/483bkZ6kfVZdldbHQWHp6aat7Jd2es4/uFBlnxr42uby5/4RTwpuluJm8uSSPkkngohH/jzfUA9SOq8FeCrXwta+fPtlv5VxJIOQg/uJ7ep7/TAriPDt94Q8ABk1SSSTU3GJJEhdlQf3EIGMep7+wwK3bv4teE9hEEsxPvC4/pW+a46NGj/ZeVxap/al1m/wDL+tjhnTmvchFnd6lqSWyFVPNc3a2s2ozeZJnbmuCT4g+GbmfzLmaYDP8Azxc/0rqbb4n+CbdAqyz/APgPJ/hXyfsZxWkWT7KcVpFnpNtbJboFUVZrzb/hbHg3/ntP/wCA8n+FH/C2PBn/AD2n/wDAeT/CsvYVP5WY+xqfys9Jorzb/hbHg3/ntP8A+A8n+FH/AAtjwZ/z2n/8B5P8KPYVP5WHsKn8rPSaK82/4Wx4N/57T/8AgPJ/hR/wtjwZ/wA9p/8AwHk/wo9hU/lYewqfysxfjN/yBtN/6/f/AGk9d98Pv+Rfb/rnXjPxE8ZaH4osbGz0dpZJIrnzGDxOg27GXqwHciuii8ZR+EPDKRIokv7lP3UbdFU/8tHHp6Dv9MmvocswNbERWHpR953/AK9D1aEXGg1LTc67xr41tfC9t5EG2XUJVzHGeQg/vv7eg7/TJrlPBXgq5vbn/hK/FeZp5m82KOTkknkO4/Lav0JHQDm9GtdP0q6XxV4+aWSec+bFEY2kOT0eQAcf7K49CewHey/FrweFJWacn/rhJ/hXsY2vHKqDy/LdZv45/pHy/rc43TnBcsIs9Bu7tLdCzHmuMlln1Ofav3c1w918SfD15L80swT/AK4v/hW1YfEfwTaIMzT7v+veT/Cvi1QnFX5WQqM4r4T0jT9PS1QEjmtSvN/+Fr+Df+e0/wD4Dyf4Uf8AC2PBn/Paf/wHk/wrJ0ar+yzJ0aj+yz0mivNv+FseDf8AntP/AOA8n+FH/C2PBn/Paf8A8B5P8KPYVP5WL2FT+VnpNFebf8LY8G/89p//AAHk/wAKP+FseDP+e0//AIDyf4UewqfysPYVP5WdF41/5E/Wf+vKf/0A1578HOgqXxL8SvCupeHdR060lmaa5tpYkBgkALMpAySMDmud+H+r2nhvSpNY1MlYouAB9536hFHcn9ByeK9nLMPUk/Zxi7t6I9TBRcIvnVj3DxBrmn+HbKXUtSfaikhVH3nbsqjuf0A5PFeIabpus/E7WTq+rkwadA21VXOFHXy4/Vj/ABN/XAFGR77xxqMnibxKz22lwMQFjUtgZyY4wOS395scfXAHoVv8TfAun2yWdo00UUK7URbeQAAdulfT1FHIaTp0FzYmW73UF2Xn/W2/K6coq8Vds9FhhtNMtEtbVFhhhXaiLwABXK6jqMlzJ5MNcTqPxS8O3J2RSzBf+uL/AOFLp3xA8GwHfPNMW/64SH+lfDOlVbc5ptsyVGfxNM9G0rSggEsoya6QAKMCvNh8VvBgGBNP/wCA8n+FL/wtjwZ/z2n/APAeT/CsZUar+yzOVKq/ss9Jorzb/hbHg3/ntP8A+A8n+FH/AAtjwZ/z2n/8B5P8KXsKn8rF7Cp/Kz0mivNv+FseDf8AntP/AOA8n+FH/C2PBn/Paf8A8B5P8KPYVP5WHsKn8rPSe9fNWg/8lB1X/r8k/wDQq9M/4Wx4N/57T/8AgPJ/hXk/hq4ivfGOoarCSLaW4kmDuNoEec7mz0AHXNejl9Kam7o78DTlGTclY+oLiWK3t1nuHWOOOPczMcBVHJJJ6AV896/r+q/EXVV8O+HVK2CnJLZUSBT/AKyT0Qfwr1J98AP8UeJ9S+IupLoWgqY9MhGWY5HmBDzLJ6ID91epPXnAG7oPizwF4Ps/7MhknM2czSm3kDSOO/TgDsOg+vNfZxw1PJIvGVo82Il8MekfN+f9d2lOnaUqkVc9D8OeG9O8L6d9jsxudsNLKw+aRvU+gHYdB9cmo9V1UIPKiOTXD3/xY8MOhS3lm/GFx/Ssa08feFGl826mm/78uf6V8NWeIxFSVfEXcnuc6o1G+aSZ6Dp2nSXMnnz12MUSxKFUV5vH8U/BUShVlnH/AG7yf4VJ/wALY8Gf89p//AeT/CuaVKq/sszlSqP7LPSaK82/4Wx4N/57T/8AgPJ/hR/wtjwZ/wA9p/8AwHk/wqfYVP5WT7Cp/Kz0mivNv+FseDf+e0//AIDyf4Uf8LY8Gf8APaf/AMB5P8KPYVP5WHsKn8rPSa8D+KP/ACOGk/8AXu3/AKGK7P8A4Wx4N/57T/8AgPJ/hXl3jHxFpvinxPp1zoxkkSGIoxeNk+YuCAAw5rqwdKcaqckdWEpTjUTaPojQf+QJH+FeZePPHrWjt4d8OMZL128uSSP5ihPHlpjrIeh/u/XpX8VePJtN0uPwpoO5r+TCyyR8tGW4EaAZzIe/93tz0xvDLeGfAs/2vxK8jaqw4CxPIkAPUKwBBc/xN+A7k/b4fLaOCj/amYR5n9iHd935f12T6K0Lzc0r2Oy8BeAk8PourasofUnHyjqIAeoB7uf4m/Adye51DUEtUIB5rgrn4teEhGRDLOT/ANcJB/SuWPxD8N3U++4mmC5/54uf6V8jj8TisfXeJxN239yXZeRxulUm+aSO8iin1Ofc2dua7O0tEtowqivNrX4meCbZAqyz5/695P8ACrn/AAtjwZ/z2n/8B5P8K8+VKo9FFkSp1Hoos9Jorzb/AIWx4N/57T/+A8n+FH/C2PBn/Paf/wAB5P8ACo9hU/lZHsKn8rPSaK82/wCFseDf+e0//gPJ/hR/wtjwZ/z2n/8AAeT/AAo9hU/lYewqfys9JrzT4s/8idJ/18Qf+jBTv+FseDf+e0//AIDyf4Vxfj7x54d8ReHm0vS3led5omAaJ0GFYE8kY6VrRo1FUi3F7mtGjNVItxO5+GH/ACDP+A/0rW8W+LrLwrY+ZJiW6lB8mHPX/ab0Ufr0FcRoniy28GeFhcTIJLqdSsEJON3Ys3cKP1PArjtNt7e5u18X+P3leGY74ohGzmXHQsq52xD+EfxfTJb7bC5RSnFZhj9KUdl1m+y8u/8Aw7XoYmnzyXWx0HhLwlfeK73/AISzxaTLFIQ0Ub8ebjoSO0Y7Dv8ATJb2y4uI7aMsSBivPX+LHg5V+WWfjoPIkH9K5a++Jnh68kx5swX/AK5P/hXgZtj8TmNbnnHlgtIxWyX9df0OCVOpN6xdjt7m6m1Gfy4/u10mm6alugZhzXnGn/ETwVarlppy3/XvJ/hWv/wtjwZ/z2n/APAeT/CvHlSqbKLJlTqbKLPSaWvNv+FseDf+e0//AIDyf4Uf8LY8Gf8APaf/AMB5P8Kz9hU/lZn7Cp/Kz0mivNv+FseDf+e0/wD4Dyf4Uf8AC2PBn/Paf/wHk/wo9hU/lYewqfys9Jqtef8AHpN/1zb/ANBNef8A/C2PBv8Az2n/APAeT/Cobj4q+DpLeWNZp8sjAfuJOpH0oVCpf4WCoVL/AAs4L4Q/62P6L/IV9hp9wfSvkj4PRSJIm5cYAH5CvqNPuivpj6Qf3rT4o4xWZzmgBOaOa1eKOKAP/9P6VX7w+taTfdP0ob7p+lZq9R9aABeorD8Q6FZ6zGUkZT17iuub7p+lcOQM1x4nEujayvc5MTiHStZbnnZ+F+ms2Tt5+lWz8K9KweU/MV3FHFcf9ov+U4/7Qf8AKedj4Xabkfd/Srh+FelYPKfmK7ijij+0X/KH9oP+U87Hwu03I+7+lXD8K9JweU/MV3FHFH9ov+UP7Qf8p52PhdpuR939KuH4V6Tg8p+YruKOKP7Rf8of2g/5TzsfC7Tcj7v6U+9+G/h/TrSW+vZY4oIVLO7EYAH+eld1dXVtZW8l3eSLFDEpZ3bgACvAtS1LWfidrQ0jRwYNOgIZmYcKP+ekmOrH+Ff/AK5H0GTYapjpSqVPcpR+KT6eS8zWGMlLXl0Mqy0+78baoPD3heI2+nxsHkkYY4HHmSY7/wBxP65I+m7Lwfovh/QF0ayUKmMu7Y3SPjlmPr7dAOBxXnPgDX9H02N9D0mPy44XdXY/fd1JUs57k4+gHA4rqfEOr+YiRQ8k135vmynTVDCxtSjsu/m/M6ZXhF1HqzzfWPB+mvcERBSxNWdP+FdncDzZSo/EV1Wl6W0refOOvrXXJGqLtUV8lLMGvsnJLHtbI88X4W6YMD5f0q6fhXpOOqfmK7ijip/tF/ykf2g/5TzsfC7TMj7v6VcPwr0nHVPzFdxRxR/aL/lD+0H/ACnnY+F2mZH3f0q4fhXpOOqfmK7ijij+0X/KH9oP+U87Hwu03P8AD+lXP+FV6V22fmK7nGeBXjPjbxrc3lz/AMIp4UzNPM3lySR8kk8FEI/8eb6gHqR62U06+Y1vZUo2S1beyXdmkMbKT+E5LWWs7HUf+Ee8Hobi9lbymmj5IJ4KR+/95u3IBHJHuvgT4dWPhHTzc35STUp0w754jB/gT+p7/TArzzT7Cz+GNja3tztl1C9cxPIOQg2ltie3HJ7+wwK7xvEqXmnJKDkn/CvczLNaVPDvCZd8C3fWT/y7G/P7jrbnOeJfCumTymRtpY1z9l8NbW+fd8oX6iuqtbWbUZ/Mk+7mu0traO3QKor5CWPa+yc8sc10OAi+FemqADt/StA/CvScdU/MV3FHFR/aL/lI/tB/ynnY+F2mf7P6VcPwr0nH8H5iu4o4o/tF/wAof2g/5TzsfC7TM/w/pVz/AIVXpOP4PzFdxRxR/aL/AJQ/tB/ynnY+F2mZ/h/Srh+Fek4/g/MV3FcL418a2vha28iDbLqEq5jjPRAf439vQd/YZNduBnXxtaOHw9O8n/V35FRx0pOyicB4r07w74NCqFS5v3G6OHqqjs8nt6D+L2GTXTfDr4cz30w8YeMAXeQ+ZDDJ/EezuOwHG1fpkdAOIsNLfSBB4y8YKZ57yb9zFLydxBYSOD7D5Vx6EjgAe8WPiOO90t52PJWvsMXjaWX0ZYTBO8/tS/ReR1p8yc30M7xToGn6hmSdlJ+tebDwBZ3s2yEKF/Cutlln1Ofav3c11en6fHaxg45r4aWPaWsTmeOaWqOEtfhVp6qC+3P4Vr/8Kr0nHVPzFdxgUcVn/aL/AJTP+0H/ACnnY+F2m/7P6VcPwr0n1T8xXcUcUf2i/wCUP7Qf8p52Phdpv+z+lXP+FV6T6p+YruKOKP7Rf8of2g/5TzsfC7TP9n9KuH4V6Tj+D8xXcVj67rmneHtPfUtSfai8KoxuduyqO5P5AcnitqGLq1qipUoXk9kNY+TdlE8613wb4a8N6e2p6o4WNThVXBd27Ko9T+QHJ4rlfCXhLUviLqYvLpTZ6RaHaAvRR1KJ6uf437fkBWEOreO7m58T65uh0uwR3CqcAKgyY4yf4jj5m/rgD2LwZ4os7m0jtrONYIIgAiJwqj2r732sMppulBp4hrV7qF+i8/69eyDdX4jo9T0DSv7Oj06BEhghXYiLwAB/nn1ryS/8E6bNOY7cKST6iu11jUXurqSGDoXP86uaVpQjAllGSa+Cnj5XcpLU53jXHdHFWHwrs2UPNt5+ldF/wqvSQP4PzFduFAGAKXisf7Rf8pl/aD/lPOx8LtN/2f0q5/wqvSf9j8xXcUcUf2i/5Q/tB/ynnY+F2mf7P6Vc/wCFV6Tj+D8xXcUcUf2i/wCUP7Qf8p52Phdpn+z+lXP+FV6Tjqn5iu4qOaWG3ie4ndY441LM7EBVUckknoBTjmEpOyjqP+0JfynnU3w10a2he4uXjjijUs7sQFVRyST2AryvyZvFmqDwz4MgItXbLyMCpkVT/rJP7sY7L1J688DZ17XtV+I2rL4d8OqV09WyS2VEgU/6yT0Qfwr1J98Add4O1XSvD17P4f09fnilKTSn78jLxk+g9B0Ar9Aw0IZVTVbFJOu1dR/lXd+f9enXCcquj0PRND8GaT4a0b+zLYhpJMNNM2A0jep9AOw7fWuB1/wfpLzsU2sx9xXd+JdYVpFWLklBXP6dpr3MnnTDivi8VmNSdWU6ur7mU8V7NuNtEcZp3wwtroiSTAFdcvwp0lVxlPzFdtFEkShVFScVxf2i/wCUx/tB/wAp52Phdpv+z+lXP+FV6T/sfmK7ijij+0X/ACi/tB/ynnY+F2mf7NXP+FV6T6p+YruKOKP7Rf8AKH9oP+U87Hwu0z/Zq5/wqvSfVPzFdxRj2o/tF/yh/aD/AJTzsfC7Tf8AZrzrxRNo/hy+OkeGl+0alu8tpIxu8tzxsjx96Q5xx93611fj3x41o7+HPDpZ71yI5JIxkoW/gjx1kPTI+79enP6FYW/gHUrOTV0V9UuozIvcQLnBVT3c5+ZvwHcn7nLcPTwtGOPzKOr+CHV+b8v67J9UKsqlotWueifD34cJ4eiGta6A2pyg7VJyIA3UA93P8TfgO5NvxX4X0m6dpZCpY+4rq9R12OXSFlB5JFcJDDNqc+9vu5r53Ms2rV67q1tX+XkhVK/snyJaHF2vw7t7+X5QAtdrD8J9KROSmfqK7O0tI7aMKoq3XkvMX/Kc7zB/ynnf/CrtM/2f0q5/wqvSf9j8xXcUcUv7Rf8AKL+0H/Ked/8ACrtN/wBn9Kuf8Kr0n/Y/MV3FHFH9ov8AlD+0H/Ked/8ACrtN/wBn9Kuf8Kr0n/Y/MV3FHFH9ov8AlD+0H/Ked/8ACrtN/wBn9K53xZofhfwZbpNchZ7qQEwwKfvY/iYjooP4noK7nxd4usfCtl5kgEt1KD5MOev+03oo/XoK8Xt9NurmBvH3jAGaF5YxFE/Hml22qxHaJey/xfTJb63KMLGdL6/mC5aS2XWb7Ly8/wDgtdFPEyn0tc6rwJ4EuvFN0virxUubQ4MMJGBKB047RDsP4vpkt7F4p0PTdRh/fMmAMAAjtS6L4oh1DTGm4A2HAHHauJubmbUZvLj+7XDnGcVcRVTkrRWy6JFVKnsbJK5xD+BrO7n8uADGa66z+E2mhA0hXP1FddpumpbIGYfNWzgeleC8xfSJzvMH0iedf8Ku0z/Z/Srv/Cq9J9U/MV3FHFL+0X/KT/aD/lPO/wDhV2mf7P6Vc/4VXpPqn5iu4o4o/tF/yh/aD/lPO/8AhV2m/wCzVz/hVek/7H5iu4o4o/tF/wAof2g/5Tzv/hV2m/7NXP8AhVelf7H5iu4pkr+VE8v9xS35DNNZi/5RrMH/ACmdoHhC30ZgYxjFemjAUCvJfB3jpfEO0g/eAP516ODkA1656wvetPijjFZnOaAE5o5rV4o4oA//1PpVfvD61pN90/Shvun6Vmr1H1oABnIrmm+8frXbt90/SuHPWvJzH7PzPKzH7PzCiiivJPKCiiigAooooAKr3V1bWNtJeXkixQxDc7scACi6uraytpLy8kWKGJdzuxwABXgWpalrPxO1oaRpAaDToCGZmHCj/npJjqx/hX/65H0GS5LLHSdSo+WlHWUn08l5mtOnzavYNT1LWfidrI0jSAYNOgbczMOFHTzJPVj/AAr/AFyR7Zomi6b4b05NO05Nsa8sx+87d2Y9yfyA4HFJomiab4b01NO05Nsa8sx+87d2Y9yfyA4HFZ2qaqSfJhOSa6c4ziOJjHBYJctCOy7+b/r8S5S5vdjsfP3hi5ePX7sR9WuZf/RjV9Hw6U8kUNxPyTmvnn4fWwn8R3BfnE8n/oZr6umRUtoVWubE6UGevidKLKKIqKFWn0UV8+eAFFFFABRRRQAUfSj2FeM+NfGtze3P/CKeFN008zeXJJH1J6FEI/8AHm+oB6ketlOU1sxreypaJatvZLuzSnByYeNfGtze3P8AwinhTdLPK3lySR8kk8FEI/8AHm+oB6kdX4K8FWvha18+fbLfyriSQdEH9xPb1Pf6ACjwV4KtfC1r58+2W/lXEkg6IP7ie3qe/wBMCuh1LUkt0Kqfmr281zWjSo/2XlelNfFLrN/5f1sayl9iB5Z8ZblDYaainlbon/yG1aPg+zlv9OjZ/ug/0rjPiV509nYTSdGuSB/3w1es+BIlj0NMD0/lXjR93Cv+up3L3cM7f1qdbbWyW6BVFWaKK8c8gKKKKACiiigAoorhPGvjW28L23kQbZdQlXMcZ5CA/wAb+3oO/wBMmu3A4Gtja0cPh43k/wCrvyKjFydkHjXxrbeF7byINsuoSrmOM8hB/ff29B3+mTXKeCvBNzeXP/CVeK90s8reZHHJ1JPIdwf/AB1foSOgB4K8E3N5c/8ACV+K8zTzHzIopOSSeQ7g/wDjq/QkdAPWry7S2Qsx5r63G46jlVGWXZbK838c/wD22Pl/W50SkoLkhueTfGeQDR9OGeReZ/8AIb1Y8IGe/wBLMS52hK5L4p3cl5Y2TH7v2rj/AL4avTPhxaJHoxcjkpXhYdWoP5npYdWoP5nU6fp6WyAkc1qUtFeE3c8Ru4UUUUCCiiigAoorH13XdO8O6c+pak+1F4VR9527Ko7k/kByeK1oUKlapGlSV5PZDSbdkGu67p/h7T31LUn2ovCqPvO3ZVHcn8gOTxXiemaZrPxN1k6vq5MGnQHaqr0A6+XHnqx/ib+uADTNM1n4m6ydX1cmDTYCVVVJwBnPlx56sf4m/rgD3iKK0020S2tkWGGFdqIvAAHpX3dSpS4fpOjRaliZLV7qCfRef9bb9OlNWW5zfiyC1sPA+qWdqixQx2MyIi8ADYeBXj/w5uJWQQRdTXe+ONSa48P6nFH937NLn/vk1yHwhtFklWRvUV85gnJqUpu7bPQwKfK2z1/TdKEbGWUc5NdEAAMCpJQFmcDpuP8AOmV4tR3kzyKjvJhRRRUEBRRRQAUUVHNNFbxPPcOsccalmZjhVUckknoBTjFydluATTRW8T3E7rHHGpZmY4VVHJJJ6AV8/a9r2q/EbVV8O+HVK6ep3EtlRIFP+sk9EH8K9SffABr2var8RtVXw74dUrp6ncS2VEgU/wCsk7hAfur1J98Aex+HPDmneF9OFnZjczYaWUj5pG9T6Adh2r7+hQpZBSWJxSUsTJe7H+Xzfn/S6tdaSpLmluL4c8Oad4X08WdmNzNhpZWHzSN6n0A7DsPevnizumj8c6sUPW8lx/31X0FqmqhP3URya+dtAgM/je+8zr9qfP5183h69WvWnXryvJ7s68FdylKR75YadJclJ5/7o6110USxKFWrcsSxJEqjH7sVDXmYp/vZHFin+8kgooormOYKKKKACiiigAryDx748e1c+HfDjGS8kPlyyR8shPHlx46yHuf4fr0Tx749ktJG8O+HGL3rsI5ZIxkoTx5ceOsh6Ej7v16afgLwFH4ejXVNVVX1Fx8o6iBT1APdz/E34DuT9zl2XUMtoLNM0V2/gh1b7vy/rsn1wgqa55ieAvAUfh6NdV1VQ+pOvC9VgU9QD3c/xN+A7k8T8VZgvizS2U/dt2/9DFe36hqCWqEA8185ePnku/E+nM/8UTY/77FeLUzCvj8W8TiHdv7kuy8jbCtyqqTPVtCgn1GxQtnaMV6BaWkdtGFUVD4etUg8PRbRySK0q8/Hv95YnHP95YKKKK4DgCiiigAqG4uILS3kurlgkUKl3Y9AqjJNTV4/8XPES2Olx6FA3727+eUDtEp4B5/iYfiAa9XJ8ulj8ZTwser18l1/ruXTjzSsd54U1x/EeiR6rKuxpJJV2/3QshCg+4XGaq+LvFtl4WsfMfEt3KD5MPr/ALTeij9egryHwX48svDXhS6gmzNdCctBEeh3oMlj2UMDnuc4FXvCfhq58U6l/wAJN4sYypKQ8cT/APLX0LDtGP4V7/TJb7TEcO0MLjK+Mx/u0IvRdZdUl5dP6bXS6aUnOWxY8JeEr3xVfHxb4szJFKd8cTcebjoSO0Y7Dv8ATJbqPi06r4PdRwfPgwPo4r0S4uI7ePc3GK8S+Jt9JeeH5MfdE0X/AKHXzGPzatmOJjOekY6Ritkv63/yCnJzqJ9LjvA7z3dmII84xXrem6alsgZh81cn8KLNF0wysMnYf5V6KOlcWYvWKOjMHrFBS0UV5R5YUUUUAFFFFABRRRQAVWvP+PSb/rm3/oJqzVa8/wCPSb/rm3/oJprca3Pnz4Qk+bH9F/kK+w0+4PpXyJ8G/wDWJ/ur/IV9Tp90V9WfUj+9afFHGKzOc0AJzRzWrxRxQB//1fpVfvD61pN90/Shvun6Vmr1H1oABnIrmm+8frXbt90/SuHPWvJzH7PzPKzH7PzCiiivJPKCiiigAqvdXVtY20l5eSLFDEu53Y4AFF1dW1jbSXl5IsUMSlndugArwLUtT1n4na1/ZGkZg02BgzM3RR/z0kx1Y/wr/XJH0GS5LLHSdSo+WlHWUn08l5mtOnzavYNS1LWfidrI0jSAYNOt23MzdFHTzJPVj/Cv/wBcj2vRdF03w3pqadpybY15Zj9527sx7k/kBwOKNF0XTfDenJp2nLtjXlmP3nbuzHuT+QHA4rN1XVcnyYTzXTnGcLExjgsFHloR2Xfzf9fiXKXN7sdg1XVTkww8k1FpemNK4nn+tGmaY0refPz3rro0VAFWvm5PlVkTKSirI+bPAI2+JroDtcy/+jGr6v1L/j3g/Gvlb4fEf8JNeD/p5m/9GNX09dH/AEeKvbxX8B/I9jE/wGUaKSivnzwRaKSigBaPYUdeBXjPjXxtc3tz/wAIp4U3TTzN5ckkfJJPBRCP/Hm+oB6ketlOU1sxreypaJatvZLuzSnTcmHjXxtc3tz/AMIp4U3TTzHy5JI+SSeCiEf+PN9QD1I6vwV4KtfC1r58+2XUJVxJIOiD+4nt6nv9MCjwV4KtfC1r58+2W/lXEkg6IP7ie3qe/wBMCuh1LUkt0Kqfmr281zWjSo/2XlelNfFLrN/5f1sayl9iAalqSWyFVPzVzdrazajN5kmdtFrazajN5kn3c12ttbJboFUV8o2oqyIbUVZHjfxct0t9J0pFH/L2f/RbV6H4N/5AMX1/pXC/GT/kG6X/ANfZ/wDRbV2ngj/kCJ+H8q74/wC6P+up3R/3V/11OwoooryjywooooAKKK4Txr42tfC9t5EG2XUJVzHGeQgP8b+3oO/0ya7cDga2NrRw+HjeT/q78ioxcnZB418a23he28iDbLqEq5jjPIQf339vQd/pk1yngnwVc3lz/wAJX4q3Szyt5sUUnJJPIdwf/HV+hI6AHgnwVcXlz/wlfirMs8p82KOTkknkO4/9BX6EjoB6zd3iW6FmPNfW47G0cqoyy3LXeb+Of/tsfL+tzolJQXJDcW7u0tkLMea4uWWfU59q525olmn1Ofav3c11en2Edqg45r4v4F5mekF5nj/xVsVtNC03HU3g/wDRb16h8Pv+Rfb/AK51wPxmwNG03P8Az+/+0nrsfh8f+JIf9yvWw7bw7fqeph3eg36nZUUmaK8M8UWikooAWikrI1zXdO8Pae+pak+1F4VR9527Ko9f0A5PFa0KFStUVKlG8nshpNuyDXdd0/w7pz6lqL7UXhVH3nbsqjuf0A5PFeJ6Zpms/E3WTrGsEwadAdqqvQDr5ceerf3m/rgA0zTNZ+JusnWNYJg06BtqqucAZz5cfqx/ib+uAPeIorTTbRLa2RYYYV2oi8AAelfdVKlLh+k6NFqWJktXuoJ9F5/1tv06U1ZbhFFaabaJbWyLFDCoVEXgADtXK6jqMl1J5MH6UajqMl1J5EHStHStLEYEso5r4httuc3dszSt70jmtf0zyvB+rzSD5vsUx/8AHDXP/BvoK9C8ZgDwdrAH/PlP/wCgGvNPhB1X6ivSy93jI9PAO8We6yf6xvqabUk/+uk/3j/Oo68efxM8iXxMKKKKkkKKKjmmit4nnndY441LO7HCqo5JJPQCnGLk7LcAmmit4nnndY441LMzHCqo5JJPQCvn7Xte1X4jaqvh7w6pXT1bcWbKiQKf9ZJ6IP4V6k++ADXtf1X4jaqvh3w6pXT1O4lsr5gU/wCsk9EH8K9SffAHsfhzw7p3hfThZ2Y3M2GllP3pG9T6Adh2r7+hQpZBSWJxKUsTJe7H+Xzfn/S6tdaiqa5pbh4c8Oad4X04WVmNzNhpZSPmkb1PoB2Hao9V1TYDFEeaNV1UIDFEeaz9O057mTz56+Lr1qlepLEYiV5Mz39+Qum6dJcyCabpmvHfD6hfiBqijoLyQfrX0nFGkQCrXzRopH/CwtV5/wCX2T/0KurASbnI7cDK85H08/3I/wDcFMq1dY/df9cxVSuHFfxZHHif4shaKSiuc5xaKSigBa8f8e+PHtXbw54dZnvJD5cksXLISceXHjOZD0OPu9ueh498eyWsh8O+G3L3jt5cssfJRjx5ceOsh6Ej7vTr00/AXgKPw9Guq6qqvqTj5R1WBT1UHu5/ib8B3J+5y7LqGW0FmmaK7fwQ6t935f12T64QVNc89w8BeA4/D0a6rqih9RdeF6iAHqoPdz/E34DuT3GoaglqhAPNGoaglqhAPNcrFDPqc+987c181j8fXx9d4nEu7f3Jdl5Gbbm+aQkUM+pz72ztrzn4jWyW3irSI1/592/9DFe9WlpHbRhVFeG/FP8A5G7Sf+vdv/QxWWEleskdGFleqke2aD/yBI/wrSqDR/8AkX4vqKnpY/8Aik47+KFFFFcJxBRRRQBHLLHDE80zBEjUszHoABkn8q+MfFWuy+ItbuNUfIWVvkU/wxjhB1PQdfcmvfPix4hGmaKujwtia/zu9ol6/wDfRwPpmvnnStD1XXbgwaZA9w/VtvQZzyzHhenciv2bgTLY4bDTzKvpzaJvpFdfm/yO2jG0b9zLikMUiyKA20g4YAg455B4Neu6H4+8V3d2Ft7GK9k/jCoyH6lg21R9QBTbTwDZ6Zh9ZkFxL/zyiJCDr95+GP8AwED6munjZYYhbwKsMK9I4wFX8h1Pucmr4g4lyyqvZRpKq11ey+e/3febXVjqxd32pxhbuNYpyR8kTmRAO+WKjn6ZHvXP/EbT1tfBcjEfMZ4P/QxWtpmox25HGTWb8S777T4Nk4wPPg/9DFflDnzVlKMUlfZbfjcyjf2kbLqbnww/5Bn/AAH+legPJHDH5kzqiggZYgDJOB19TxXFfC0g6Qf9w/yrsp4ILqB7a5QSRSqUdG5DKRgg1rjeX2kOfbrY2x9uaNyaivmbXLnxT8ONVNjp17KbJ/ngD/Ohjz02tkAr0O3HY966bRvjLE+2PXLTB7yW59+pRj/Jj9K+gr8GYt0licDJVYPVW0dvR/5nHKg94s9zorntI8VeHtc+XTbyN5P+eTfJJ/3w2D+VdD0ODXx+Iw1bDy9nXg4vs1YwcWt0FFFFYCCiiigAqtef8ek3/XNv/QTVmq15/wAek3/XNv8A0E01uNbnz58If9bH9F/kK+w0+4PpXyJ8G/8AWJ/ur/IV9Tp90V9WfUj+9afFHGKzOc0AJzRzWrxRxQB//9b6VX7w+taTfdP0ob7p+lZq9R9aAAZyK5pvvH6127fdP0rhz1rycx+z8zysx+z8woooryTygooooA8x+Jmga/rtlax6LulVHbzIQyrkkZV/mIBxgj2zkVwGk6P8VdBszZ6ZC8EO4uQptuSe5LEn9a+jKx9XeVID5Qr6/AcU1sNhY4F0YSiv5lfrfvY6IVXZRPEpL34tZ8uSRvoWtf8ACkjtPizIfMSNifUfZa7GP7Qsxkdc1tpq1yi7VXpXW+KGtsJS/wDAf+CbOTWxwKr8ZlGFEo/G1p3/ABef/pr+drXf/wBs3f8Adpf7Zu/7tT/rO/8AoDpf+A/8EnmfY8P0v/hOPtjf2Q0Bn3neIfs24Pn5s8dc5z713M//AAvDavn+fjtk2tcF4LvJYteupFHJnlP/AI+a9/n1q7MMY2mvSrcQ2puX1Wn/AOA/8E9KtC1Nyueaf8Xn/wCmv52tH/F5/wDpr+drXf8A9s3f92j+2bv+7Xm/6zy/6A6X/gP/AATzeZ9jgP8Ai8//AE1/O1o/4vP/ANNfzta7/wDtm7/u0f2zd/3aP9Z5f9AdL/wH/ghzPsedzW3xju4mtZvNCSjY3z268Hg/MuGH4c16F4L8FWvha18+bbLfyriSQdFH9xPb1Pf2GBTv7Zu/7tI2sXZGNprjx3EOJxNB4anTjTi9+RWv6ik5NWN/UtSS3Qqp+aubtbWbUZvMk+7S2tncX83mTZxXaW9ulugVRXzLairIybUVZBb26W6BVFWaKKxMTxr4y/8AIN0r/r7P/otq7vwb/wAgGL6/0rhfjJ/yDdL/AOvs/wDotq7TwR/yBE/D+VerH/dH/XU9SP8Aur/rqdhRRRXlHlhRRRQADrXzLqPgXx5/bsuoxQPcyJOXSdniO/a2VfDN3ABwRgdMYGK+mqa3QkV9BkmfVsrc3Rinzb3X+TRrTqOOx4JLP8YohulaRfqbWqJk+K92cEmQ/W1Nel62108pUA4qrZ3M1qOE5r2lxRpf6pS/8B/4J0qWlziobb4wRcxRuv0+y1Y/4vP/ANNfzta7/wDti7/u0f2zd/3an/WeX/QHS/8AAf8Agk80ux5D4g/4WN5EP/CRMix+Z+7NybXG/B+7gdcZ/DNamlH4um0P9lljBj/lkbXbio/ilqE9zpdgsi4Aus/+Q2rp/BeqXMOklUXjbXfS4icqTl9Vpf8AgP8AwTvpRbpN3Mf/AIvP/wBNfztaP+Lz/wDTX87Wu/8A7Yu/7tH9s3f92uD/AFnf/QHS/wDAf+CcHM+xwH/F5/8Apr+drR/xef8A6a/na13/APbN3/do/tm7/u0f6zy/6A6X/gP/AAQ5n2OA/wCLz/8ATX87Wm2ngrxj4o1WK58ayPHbwDHLRliM5KosfC57t/M4x6D/AGzd/wB2l/tm7/u0PiqvFP6vh6cJPS8Y2a9NQ5pdEdXFFaabaJbWyLFDCu1EXgADsK5TUdRkupPIh6VWmvry7/dgHmtvS9KEYEsoya+Pk3dzm7tmVrayDS9LEYEso5NdIAAMCgAAYFLWDdzGUrnMeNf+RP1n/ryn/wDQDXnnwc6CvQ/Gv/In6z/15T/+gGvM/hB1X6ivYy74Wevl/wALPdZP9Y31NNqSf/XSf7x/nUdeRP4meTL4mFFFFSSFef8AxH0PWNe0OO10fc7LKGkhDBRIuDjOSAdrYOCcfiBXoFJXdl+NngsRDFU0m4667FQlyu5836NoPxS8PwyQ6XA8CysGfDW5yQMcliTVyW9+LanZJIw9i1r/AIV7lqbyJAfL6154RcGcyOpPNfXy4unWk6lXC0m+7jd/mdcKnNqzjY7X4sTHzEjZvcfZavqnxlQYUSgexta72PVLiNQqrUn9s3f92s3xRL/oEpf+A/8ABByl2OA/4vP/ANNfzta5C3Pjn+1JfsjwG98w+YE+zeYHzzu465617f8A2zd/3a8D0u7kXxrqMwHzNdOT+ddOF4jc5O+EpL/t3/gnThk5N30O+b/hdWF3ed04ybXpTf8Ai8//AE1/O1r0i41q7Ij+X+AVW/tm7/u1jV4mam19Upf+A/8ABMaram0cB/xef/pr+drR/wAXn/6a/na13/8AbN3/AHaP7Zu/7tZ/6zy/6A6X/gP/AATPmfY4D/i8/wD01/O1pkkfxmljaJvOAcFThrYHnjgjBH1Fehf2zd/3aP7Zu/7tNcUSWqwlL/wH/ghzS7Gb4G8BR+HB/aeqFZtRYEDB3LCp6hT3Y/xN+A7k9rqGoJaxkZ5rnDrN2R92oIbe51GbdLnFfN5hja+OrvE4qV2/uS7LyIknJ80ghhn1Ofe/3c12dpax2yBVFFpaJbRhVFXK82Ur7GMpX0QV4H8Uf+Rw0n/r3b/0MV75XgPxT/5G7Sf+vdv/AEMV04L+KjpwX8VHtmg/8gSP8K0qg0f/AJF+L6ip6rH/AMUeO/ihRRRXCcQUDrRRQB4h410LxvqPiGa50yzSW32RqjYgbhR0BchupPXuTjishI/izptsttGpgiXoo+yqv5V9C15/4jlunl8uMcV9xQ4tq+yhh5Yem4xSWsW9vmdkazk7Hk7P8SZWyxRj7m1P9Kmjs/ifJ9yIN9Ba13FpHJHhnTJrdi1GaIYRK0fFL6YSl/4D/wAE0lN9DzVNM+LC8pAw+gtap61F8SotPI1sKlrvXJn+y7N2fl6d89PevXP7Yu/7tcH8SNSuLjwu8brgedCfycUU+J5Skk8JS/8AAf8AghTlJySZj6L/AMLU8kjRTmLHWA2uMflWr/xef/pr+drWn8PdTuLfTSqLn5T/ACrqzrU6IZJcRogLMzcBVHJJ9gK6MRxFJSjGOEpNv+5/wTfExcWktTxHxp/wn/8AZ8P/AAle/wAjzf3e7yfv7TnHl89M57fpXmVeqa9B4k8d6j9ugtpI7NBshMp8tAmc5+bGS3U7Qew7VZs/h9ZWqiTU52mYYOyEbV+hdhk/gor9Eo51hMuwsY4yUYT6xgtvKyv/AMOZ7bnk8YlOFXnPQe/t7/SvZfCUnxNj2izdlt89L4/u+nYP+8/754rWs7az00Y02BLf1ZRlzn1dst+oq/Hdzo24MSfU818fm/GdPEQdKjQTX9/X8P8Agib00PXLRrhrdPthjM2Pn8rOzPtu5qzXnFlq92CBya7SxuZJ1BcYr8tqpuTla3ocU4tO5p0UlLWJkFVrz/j0m/65t/6Cas1WvP8Aj0m/65t/6Caa3Gtz58+EP+tj+i/yFfYafcH0r5E+Df8ArE/3V/kK+p0+6K+rPqR/etPijjFZnOaAE5o5rV4o4oA//9f6VX7w+taTfdP0ob7p+lZq9R9aAAZyK5pvvH6127fdP0rhz1rycx+z8zysx+z8woooryTygooooAKjeNZBhhmpKKAKX2G3/uij7Bbf3RV2indjuyl9gtv7opRYW2fuirlA60XYXZ8yeBYI38TXSkZAuZf/AEY1fU2o6fbC3gwo718y/D7/AJGa8/6+Zv8A0Y1fTt1/qIq9/E/wH8j3sT/AZifYLb+6KPsFt/dFXaK8C7PBuyl9gtv7oo+wW390Vdoouwuyl9gtv7oo+w2/90VdoouwuyKOJI+EGKloopCCiiigDxr4y/8AIN0r/r7P/otq7vwb/wAgGL6/0rhfjJ/yDdL/AOvs/wDotq7TwR/yBE/D+VerH/dH/XU9SP8Aur/rqdhRRRXlHlhRRRQAUlLRQBWktYZDllzUf2C2/uirtFF2O7KX2C2/uij7Bbf3RV2indhdninxitootH04oMZvMf8AkN67vwDZwPoDMygny6434zf8gfTf+v3/ANpPXY/D7/kCH/cr2sN/u7+Z7OG/3d/M6T7Bbf3RR9gtv7oq7RXi3Z412UvsFt/dFH2C2/uirtFF2F2UvsFt/dFH2C2/uirtFF2F2VFs4EOQoq0AAMClopXFcKKKKAOY8a/8ifrP/XlP/wCgGvPPg50Feh+Nf+RP1n/ryn/9ANeZ/CDqv1Fezl3ws9jL/hZ7rJ/rG+pptST/AOuk/wB4/wA6jryJ/EzyZfEwoooqSQooooAY6K4w3NVjY2552irlFFwuUvsFt/dFH2C2/uirtFO7HdlP7Bbf3RXzjocMbeP9UQjgXkg/WvprvXzLov8AyUHVf+v2T/0KvSy5+9I9LL370j6Rawt9kfyj7oqP7Bbf3RWvdf8ALL/rmP61VrlxLftZHJiW/ayKX2C2/uij7Bbf3RV2iue7MLspfYLb+6KPsFt/dFXaKLsLspfYLf8Auip44I4vuDFTUUrsLsKKKKBBXgfxR/5HDSf+vdv/AEMV75XgPxT/AORu0n/r3b/0MV2YL+KjswX8VHtmg/8AIEj/AArSqDR/+Rfi+oqeqx/8UeO/ihRRRXCcQUUUUAJVeS1hlOXUGrNFAFL7Bbf3RR9gtv7oq7RTux3ZS+wW390V5x8VbSGPwhIyLg/aIP8A0MV6pXmnxZ/5E6T/AK+IP/Rgrag37SPqbUG/aR9RvwztIZNMyy5+X+leg/YbbaVKKQccEA9DkdfeuU+Fv/IIP+4f5V23au/HycZRcWduPbUo2Kb2dv8AfcZPqa4zWWjLeVCtd5Im9StZ66XDv3uMmvNjK2rPPjK2rPO4NJuJjnHWugtfDnQyV2SQxxjCipaqVVvYp1W9jKt9Jtoe1aSRogwoxUlFZNt7mTbYUUUUhBVa8/49Jv8Arm3/AKCas1WvP+PSb/rm3/oJprca3Pnz4Q/62P6L/IV9hp9wfSvkT4N/6xP91f5CvqdPuivqz6kf3rT4o4xWZzmgBOaOa1eKOKAP/9D6VX7w+taTfdP0ob7p+lZq9R9aAAZyK5pvvH6127fdP0rhZJEiP7xgv1IH868rMV8PzPLzBfD8x1FV/tdp/wA9o/8Avof40n2u0/57R/8AfQ/xryLM8qzLNFVvtdp/z2j/AO+h/jR9rtP+e0f/AH0P8aLMLMs0VW+12n/PaP8A76H+NH2u0/57R/8AfQ/xoswsyzRVb7Xaf89o/wDvof40fa7T/ntH/wB9D/GizCzLNA61W+12n/PaP/vof40ou7TP+uj/AO+h/jRZhZnzl4C/5Ge7/wCvmX/0Y1fV2pf8e8H418rfD0g+JbsjkfaJv/RjV9PXWfs8Rr6DE/wH8j3sT/AZRoqBrm2U4aVAfdh/jTftdp/z2j/76H+NfP2Z4NmWaKrfa7T/AJ7R/wDfQ/xo+12n/PaP/vof40WYWZZoqt9rtP8AntH/AN9D/Gj7Xaf89o/++h/jRZhZlmiq32u0/wCe0f8A30P8aPtdp/z2j/76H+NFmFmWaKrfa7T/AJ7R/wDfQ/xo+12n/PaP/vof40WYWZ5H8Zf+QbpX/X2f/RbV3fg3/kAxfX+lcB8YZ4ZdO0sROrEXZ+6Qf+Wbeldz4I/5Aifh/KvViv8AZH/XU9OK/wBlf9dTsKKga5tkOGlQH3Yf4037Xaf89o/++h/jXlWZ5lmWaKrfa7T/AJ7R/wDfQ/xo+12n/PaP/vof40WYWZZoqt9rtP8AntH/AN9D/Gj7Xaf89o/++h/jRZhZlmiq32u0/wCe0f8A30P8aPtdp/z2j/76H+NFmFmWaKrfa7T/AJ7R/wDfQ/xo+12n/PaP/vof40WYWZ5L8Zv+QNpv/X7/AO0nrvvh9/yL7f8AXOvPfjFPDLpGmiORWP2zopB/5Zv6V23w+z/YuP8AYr28N/u7+Z7OG/3d/M7Gio3miiOJHVfqQP51F9rtP+e0f/fQ/wAa8SzPGsyzRVb7Xaf89o/++h/jR9rtP+e0f/fQ/wAaLMLMs0VW+12n/PaP/vof40fa7T/ntH/30P8AGizCzLNFVvtdp/z2j/76H+NH2u0/57R/99D/ABoswsyzRVb7Xaf89o/++h/jR9rtP+e0f/fQ/wAaLMLMwfGv/In6z/15T/8AoBrzz4OdBXeeM7q2bwhrCrKhJs5wAGH9w+9edfCD+H6ivZy74Wevl/ws91k/1jfU02n3TLHM5kIUbj1OO/vVT7Xaf89o/wDvof415E0+ZnlSTuyxRVb7Xaf89o/++h/jR9rtP+e0f/fQ/wAamzJsyzRVb7Xaf89o/wDvof40fa7T/ntH/wB9D/GizCzLNFVvtdp/z2j/AO+h/jR9rtP+e0f/AH0P8aLMLMs0VW+12n/PaP8A76H+NH2u0/57R/8AfQ/xoswsyz3r5q0H/koOq/8AX5J/6FX0aLu0/wCe0f8A30P8a+bNDIb4gaoynIN5Jgjkfer08uXvSPSy9e9I+nn+5H/uCmVau+FiY8DYOazTdWo4MqD/AIEP8a5cSn7WRyYlP2sixRVb7Xaf89o/++h/jR9rtP8AntH/AN9D/GuazMLMs0VW+12n/PaP/vof40fa7T/ntH/30P8AGizCzLNFVvtdp/z2j/76H+NH2u0/57R/99D/ABoswsyzRVb7Xaf89o/++h/jR9rtP+e0f/fQ/wAaLMLMs14H8Uf+Rw0n/r3b/wBDFe5/a7T/AJ7R/wDfQ/xrwb4oSxy+LtJMTq+IG+6Qf4x6V24JfvUdeDX71HuGg/8AIEj/AArSqDRhnQIseo/lStcW6HDyID7sB/Wqxy/elY5fvSaiq32u0/57R/8AfQ/xo+12n/PaP/vof41wWZxWZZoqt9rtP+e0f/fQ/wAaPtdp/wA9o/8Avof40WYWZZoqt9rtP+e0f/fQ/wAaPtdp/wA9o/8Avof40WYWZZoqt9rtP+e0f/fQ/wAaPtdp/wA9o/8Avof40WYWZZrzT4s/8idJ/wBfEH/owV6F9rtP+e0f/fQ/xrzf4r3FvJ4PkWORGP2iDgMD/GK3oL95H1NaCftI+pe+GH/IM/4D/SvQq4n4Wj/iUH/cP8q7N5Yo/wDWOq/UgfzrtzFaxO3MFrEkoqt9rtP+e0f/AH0P8aPtdp/z2j/76H+NeXZnm2ZZoqt9rtP+e0f/AH0P8aPtdp/z2j/76H+NFmFmWaKrfa7T/ntH/wB9D/Gj7Xaf89o/++h/jRZhZlmiq32u0/57R/8AfQ/xo+12n/PaP/vof40WYWZZqtef8ek3/XNv/QTR9rtP+e0f/fQ/xqvd3dqbSbE0f+rb+Ieh96aTuCTueCfCH/Wx/Rf5CvsNPuD6V8ifBv8A1if7o/kK+p0+6K+rPqR/etPijjFZnOaAE5o5rV4o4oA//9H6VX7w+taTfdP0ob7p+lZq9R9aABeorh/HPhf+37doyoYEdCM16U3Q1mAAkZ9aAPk8/CGQtxGP++R/hUx+DkmM7B/3yP8ACvrtkTB4FZqouRx3oA+Tx8IZf7g/75H+FTn4OSYzsH/fI/wr67ZEwflFZoRcjigD5PHwhl/uD/vkf4VP/wAKckx9wf8AfI/wr67ZEwflFZqouRxQB8nj4Qy/3B/3yP8ACpz8HJcfcH/fI/wr67ZEwflFZqouRxQB8nD4Qy5+4P8Avkf4VYPwcl/uD/vkf4V9dsiYPyis0IuRxQB4b4M8BSaLcLIRjBFe8XcHm2RhHdcVdKqAcAVnDqKAPm7xD8MW1K9a4WMZY9dozWKfg5L/AHB/3yP8K+vGRCDkCswIuRxQB8nD4Qy/3B/3yP8ACrB+DkuPuD/vkf4V9dsiYPyis0IuRxQB8nD4Qy/3B/3yP8Ksf8Kclx9wf98j/CvrtkTB+UVmhFyOKAPk4fCGX+4P++R/hVj/AIU5Lj7g/wC+R/hX12UTB+UVmhFyOKAPk4fCGX+4P++R/hVj/hTkn9wf98j/AAr67KJg/KKzQi5HFAHyvafCWWKdX2AYPYYr6H0PQzYaUbU/3cV2hRMHgVmqORQB85eJPhm2p3rXAjBJ74FYX/CnJP7g/wC+R/hX14yIQcgVmBFyOKAPk4fCGX/nmP8Avkf4VY/4U5J/cH/fI/wr67KJg8Cs0IuRxQB8nf8ACoZf+eY/75H+FWf+FOS/3B/3yP8ACvroomDwKzQi5HFAHycPhDL/AHB/3yP8Ks/8Kcl/uD/vkf4V9dFEweBWaEXI4oA+Th8IZf7g/wC+R/hVj/hTkv8AcH/fI/wr67KJg8Cs0IuRxQB8rWvwlljnV9gGD2GK+jfC2jHSbEQHqBiuvKJg8Cs0DBGKAPGfGvgc69JuKBvqM154fg5J/cX/AL5H+FfXjKpByBWWEXI4oA+Th8IZf7g/75H+FWP+FOSf3B/3yP8ACvrwomDwKzAi5HFAHycPhDL/AHB/3yP8Ksf8Kck/uD/vkf4V9eFEweBWYEXPSgD5O/4VDL/cH/fI/wAKsf8ACm5f7g/75H+FfXhRMHgVmBFyOKAPk7/hUMv9wf8AfI/wqz/wpyT+4P8Avkf4V9dlEweBWYEXI4oA+Tx8Ipcj5B/3yP8ACvafA/g9tBXDDFetFEweBWaAAeBQBwvi/wAPnW7UwFdwIxg814nL8HXLkrGoH+6P8K+uSAQcissIuelAHyd/wqGX+4P++R/hVn/hTkn9wf8AfI/wr67KJjoKzAi56UAfJ3/CoZf7g/75H+FWf+FOSf3B/wB8j/CvrsomD8orMCLnpQB8nf8ACoZf7g/75H+FWf8AhTkn9wf98j/CvrsomOgrMCLnpQB8nf8ACoZf+eY/75H+FWf+FOSf3B/3yP8ACvrsomOgrMCLnpQB8nf8Khl/uD/vkf4V3vhH4byaPdCUjGK+hyiY6CswKAeBQBh6jYNdaf8AZvbFeC6r8Izc3bzpGo3Ek/KK+qyBisrauelAHyd/wqGX+4P++R/hVn/hTkn9wf8AfI/wr67KJjoKzNi56UAfJ3/CoZf7g/75H+FWf+FOSf3B/wB8j/CvrsomPuiszYuelAHyd/wqGX+4P++R/hVn/hTkn9wf98j/AAr67KJj7orM2LnpQB8nf8Khl/uD/vkf4VZ/4U5J/cH/AHyP8K+uyiY+6KzNi56UAfJ3/CoZf7g/75H+FbukfCaSzu1m2gYPYYr6nKJj7orM2LnpQBiaZYNa6eLb2xXkvi/4anWbw3ARSfUgE19FYGKytoJ5FAHyd/wqGX+4P++R/hVn/hTkv9wf98j/AAr67KJj7orL2L6UAfJ//CoZf7g/75H+FWP+FOSf3B/3yK+vCiY+6KzNi56UAfJ3/CoZf7g/75H+FWP+FOSf3B/3yK+vCiY6CszYuelAHyd/wqGX+4P++R/hVn/hTcv9wf8AfI/wr67KJjoKy9i56UAfJ/8AwqGX+4P++R/hV2H4PSpIr7AMHsAK+tyiY+6KzNi56UAcP4Q0FtHtxER0rP8AHfg3/hIVIKhvqM165gAcCswgE80AfJ3/AAqGXP8Aqx/3yP8ACp/+FOSf3B/3yP8ACvrzYmOgrL2LnpQB8n/8Khl/uD/vkf4VZ/4U3L/cH/fI/wAK+uyiY+6Ky9i+lAHyf/wqGX+4P++R/hVn/hTcv9wf98j/AAr67KJj7orM2LnpQB8nf8Khl/uD/vkf4VZ/4U5L/cH/AHyP8K+u9iY+6KzNi56UAfJ3/CoZf7g/75H+FWf+FOSf3B/3yP8ACvrvYmOgrL2L6UAeO+CvBUmhuGYV7uowoHtRtUdABWbzmgA71p8UcYrM5zQAnNHNavFHFAH/0vpVfvD61pN90/Shvun6Vmr1H1oAF6itJvun6UN0NZq9R9aABeorSboaG6Gs1eo+tAAvUVpHoaG6Gs1eo+tAAvUVpHoaD0NZq9RQAL1FaR6Gg9DWaM5FAAvUVpHoaD0NZo6j60AC9RWkehoPQ1mjOR9aABeorSPQ0HoazR1H1oAF6itM9DSHoazR1FAAvUVpnoaQ9DWaOooAFzkVpnoaD0NZg6igAXqK0z0NB6GswdRQADORWmehoPQ1mDqKAAZyK0z0NB6GswdRQADORWmehoPQ1mDqKAOH8XfELw94Je3i1gytJcAsqRJuO0HBJyQAM8da5c/tB+Bcf6q9/wC/S/8AxdeieKPA3hrxe0MuuW7SSW4IR0do2AbkglSMjIzzXDj4M+Ac/wDHrP8A+BEv+NAGMPj54JGP3V5/36X/AOKq6f2g/AuP9Ve/9+l/+LrZPwS+H+P+Paf/AMCJf/iqpD4M+Ac/8es//gRL/jQBjD4+eCRj91ef9+l/+Kq6f2g/AuP9Ve/9+l/+LrZPwS+H+P8Aj2n/APAiX/4qqQ+DPgHP/HrP/wCBEv8AjQBjD4+eCRj91ef9+l/+Kq6f2g/AuP8AVXv/AH6X/wCLrZPwT+H+P+Paf/wIl/8AiqpD4M+Ac/8AHrP/AOBEv+NAGMPj54JGP3V5/wB+l/8Aiqun9oPwLj/VXv8A36X/AOLrZPwS+H+P+Paf/wACJf8A4qqQ+DPgHP8Ax6z/APgRL/jQBjD4+eCc/wCqvP8Av0v/AMVV0/tB+Bcf6q9/79L/APF1sn4JfD/H/HtP/wCBEv8A8VVIfBnwDn/j1n/8CJf8aAMYfHzwTx+6vP8Av0v/AMVV3/hoPwL/AM8r3/v0v/xdbJ+CXw/x/wAe0/8A4ES//FVSHwZ8A5/49Z//AAIl/wAaAMYfHzwT/wA8rz/v0v8A8VV3/hoPwL/zyvf+/S//ABdbJ+CXw/x/x7T/APgRL/8AFVSHwZ8A5/49Z/8AwIl/xoAxh8fPBP8AzyvP+/S//FVd/wCGg/AuP9Ve/wDfpf8A4utk/BL4f4/49p//AAIl/wDiqpD4M+Ac/wDHrP8A+BEv+NAGMPj54J/55Xn/AH6X/wCKq7/w0H4Fx/qr3/v0v/xdbJ+CXw/x/wAe0/8A4ES//FVSHwZ8A5/49Z//AAIl/wAaAMYfHzwT/wA8rz/v0v8A8VV3/hoPwLj/AFV7/wB+l/8Ai62T8Evh/j/j2n/8CJf/AIqqQ+DPgHP/AB6z/wDgRL/jQBjD4+eCf+eV5/36X/4qrv8Aw0H4Fx/qr3/v0v8A8XWyfgl8P8f8e0//AIES/wDxVUh8GfAOf+PWf/wIl/xoAxh8fPBP/PK8/wC/S/8AxVXf+Gg/A3/PK9/79L/8XWyfgl8P/wDn2n/8CJf/AIqqX/CmfAP/AD6z/wDgRL/jQBjD4+eCf+eV5/36X/4qrv8Aw0H4F/55Xv8A36X/AOLrZPwS+H+P+Paf/wACJf8A4qqX/CmfAP8Az6z/APgRL/jQBjD4+eCf+eV5/wB+l/8Aiqu/8NB+Bf8Anle/9+l/+LrZPwS+H+P+Paf/AMCJf/iqpf8ACmfAOf8Aj1n/APAiX/GgDGHx88E/88rz/v0v/wAVV3/hoPwL/wA8r3/v0v8A8XWyfgl8P8f8e0//AIES/wDxVUv+FM+Ac/8AHrP/AOBEv+NAGMPj54J/55Xn/fpf/iqu/wDDQfgXH+qvf+/S/wDxdbP/AApL4f8A/PtP/wCBEv8A8VVL/hTPgHP/AB6z/wDgRL/jQBjD4+eCf+eV5/36X/4qrv8Aw0H4F/55Xv8A36X/AOLrZ/4Ul8P/APn2n/8AAiX/AOKql/wpnwDn/j1n/wDAiX/GgDG/4X54J/55Xn/fpf8A4qrv/DQfgX/nle/9+l/+LrZ/4Ul8P/8An2n/APAiX/4qqX/CmfAP/PrP/wCBEv8AjQBjf8L88E/88rz/AL9L/wDFV1/hj4veEfFeqpo2n/aIriUHy/Oj2qxAJIBBPOATz6VWPwS+H/8Az7T/APgRL/8AFVb0L4a+EPDmopqumWri5jBCNJK8m3dwSAxIBxxn0oA7wda0+MUHpWZ3oAB1rT7UHpWZzmgAHWtPjFB6Vmc5oAB1rT4xQelZnegAHWtPjFB6Vmd6AAda0+MUGszvQADrWnQazO9AAM5rToNZnNAB3rTorM5oAK06KzO9AB3rTorM70AHetOiszvQAd60+1BrM70AHNafaiszvQAc5rT7UVmc5oAO9afFHGKzOc0AJzRzWrxRxQB//9P6VX7w+tabfdP0rMX7w+tabfdP0oAzF6itNvun6VmL1FabfdP0oAzF6itNuhrMXqK02+6aAMxeorTb7prMXqK02+6aAMxeorTb7prMXqK02+6aAMxeorTb7prMXqK02+6aAMxeorTb7prMXqK02+6aAMxeorTb7prMXqK02+6aAMxeorTPQ1mL1FaZ6GgDMXqK0z0NZi9RWmehoAzF6itM9DWYvUVpnoaAMxeorTPQ1lr1Fah6GgDMXqK0z0NZa9RWoehoAzF6itM9DWWvUVqHoaAMxeorTPQ1lr1Fah6GgDMXqK0z0NZa9RWoehoAzF6itM9DWWvUVqHoaAMxeorTPQ1lr1Fah6GgDMXqK0z0NZa9RWoehoAyx1Fah6GssdRWoehoAyx1Fah6GssdRWoehoAzB1FaZ6VljqK1T0oAyx1FaZ6VljqK1T0oAyx1FaZ6VljqK1T0oAyx1FaZ6VljqK1T0oAyx1FaZ6VljqK1T0oAyx1FaZ6VljqK1T0oAyh1Fah6VljqK1T0oAyh1Fap6VlDqK1T0oAyh1Fap6VlDqK1T0oAyh1Fap6VlDqK1T0oAyh1Fap6VlDqK1T0oAyh1FanassdRWr2oAyh1FanassdRWr2oAyh1FanassdRWr2oAyh1FavasodRWr2oAyhWr2rKFavagDKFavasoVq9qAMoVq9qyhWr2oAyhWr2rKFavagDK71q9qyu9avagDK71q9qyu9avagDK71q9qyu9avagDK71q1ld61aAMrvWrWV3rVoAyq1ayq1aAMqtWsqtWgDKrV7VlVq9qAMqtXtWVWr2oAyq1e1ZVavagDKrV7VlVq9qAMqtXtWVWr2oAyaKKKAP/Z)"
   ]
  },
  {
   "cell_type": "markdown",
   "metadata": {
    "id": "vk4K8Wl0l4EV"
   },
   "source": [
    "Na prática, consegue-se uma compressão ainda maior, aplicando Codificação de Huffman após o RLE.\n",
    "\n",
    "Mas aqui não vamos tratar de Codificação de Huffman, vamos só até o RLE."
   ]
  },
  {
   "cell_type": "code",
   "execution_count": null,
   "metadata": {
    "id": "lpABvkg5pAnZ"
   },
   "outputs": [],
   "source": [
    "# percorre um bloco 8x8 em zigue-zague e o retorna como um array uni-dimensional de tamanho 64\n",
    "def dctq8x8_to_dctq64(dctq):\n",
    "    dctq64 = np.zeros((64,), 'int16')\n",
    "    i, j = 0, 0\n",
    "    direcao = 1\n",
    "\n",
    "    for k in range(32):\n",
    "        dctq64[k] = dctq[i, j]\n",
    "        if direcao == 1 and i == 0:\n",
    "            j += 1\n",
    "            direcao = -1\n",
    "        elif direcao == -1 and j == 0:\n",
    "            i += 1\n",
    "            direcao = 1\n",
    "        else:\n",
    "            i -= direcao\n",
    "            j += direcao\n",
    "\n",
    "    for k in range(32, 64):\n",
    "        dctq64[k] = dctq[i, j]\n",
    "        if direcao == 1 and j == 7:\n",
    "            i += 1\n",
    "            direcao = -1\n",
    "        elif direcao == -1 and i == 7:\n",
    "            j += 1\n",
    "            direcao = 1\n",
    "        else:\n",
    "            i -= direcao\n",
    "            j += direcao\n",
    "\n",
    "    return dctq64"
   ]
  },
  {
   "cell_type": "markdown",
   "metadata": {
    "id": "vo0vknCay1GH"
   },
   "source": [
    "Testando a função acima:"
   ]
  },
  {
   "cell_type": "code",
   "execution_count": null,
   "metadata": {
    "colab": {
     "base_uri": "https://localhost:8080/"
    },
    "id": "j9Xp0H1Gy4qv",
    "outputId": "5336e37f-5e43-4b3c-8695-e03d4a52e6e0"
   },
   "outputs": [],
   "source": [
    "# teste da função que percorre um bloco 8x8 em zigue-zague\n",
    "dctq = np.array( [[ 1,  2,  6,  7, 15, 16, 28, 29],\n",
    "                  [ 3,  5,  8, 14, 17, 27, 30, 43],\n",
    "                  [ 4,  9, 13, 18, 26, 31, 42, 44],\n",
    "                  [10, 12, 19, 25, 32, 41, 45, 54],\n",
    "                  [11, 20, 24, 33, 40, 46, 53, 55],\n",
    "                  [21, 23, 34, 39, 47, 52, 56, 61],\n",
    "                  [22, 35, 38, 48, 51, 57, 60, 62],\n",
    "                  [36, 37, 49, 50, 58, 59, 63, 64]], 'int16')\n",
    "print('dctq =')\n",
    "print(dctq)\n",
    "print('\\nPercorrendo essa matriz de DCTs quantizados em zigue-zague:')\n",
    "print('\\ndctq8x8_to_dctq64(dctq) =')\n",
    "print(dctq8x8_to_dctq64(dctq))"
   ]
  },
  {
   "cell_type": "code",
   "execution_count": null,
   "metadata": {
    "id": "notV0dj-1eRK"
   },
   "outputs": [],
   "source": [
    "# retorna a posição do último elemento não nulo em um array uni-dimensional\n",
    "# se todos os elementos forem nulos, retorna -1\n",
    "def posicao_ultimo_nao_nulo_array1D(a):\n",
    "    k = len(a) - 1\n",
    "    while k >= 0:\n",
    "        if a[k] != 0:\n",
    "            return k\n",
    "        k -= 1\n",
    "    return -1"
   ]
  },
  {
   "cell_type": "markdown",
   "metadata": {
    "id": "a0k7p87a-b5_"
   },
   "source": [
    "A função a seguir retorna quantos bits, sem contar o bit de sinal, são necessários para armazenar um número inteiro de 16 bits passado como argumento."
   ]
  },
  {
   "cell_type": "code",
   "execution_count": null,
   "metadata": {
    "colab": {
     "base_uri": "https://localhost:8080/"
    },
    "id": "O2G89dp--oJ0",
    "outputId": "6cab89a0-e1be-49e5-aeac-93553fbe81df"
   },
   "outputs": [],
   "source": [
    "# cria um array de potências de 2 negativas de -2^1 a -2^15\n",
    "potencias_2_negativas = np.zeros((15,), 'int16')\n",
    "pot = -2\n",
    "for k in range(15):\n",
    "    potencias_2_negativas[k] = pot\n",
    "    pot *= 2\n",
    "\n",
    "# cria um array de potências de 2 positivas menos um, de (2^1 - 1) a (2^15 - 1)\n",
    "potencias_2_positivas_menos_um = -(potencias_2_negativas + 1)\n",
    "print('potencias_2_negativas =')\n",
    "print(potencias_2_negativas)\n",
    "print('\\npotencias_2_positivas_menos_um =')\n",
    "print(potencias_2_positivas_menos_um)\n",
    "\n",
    "# retorna quantos bits, sem contar o bit de sinal, são necessários para armazenar 'x'\n",
    "# no caso do valor 0, retorna 0\n",
    "def qtde_bits_int16(x):\n",
    "    if x == 0:\n",
    "        return 0\n",
    "    if x < 0:\n",
    "        for k in range(15):\n",
    "            if x >= potencias_2_negativas[k]:\n",
    "                return k + 1\n",
    "    else:\n",
    "        for k in range(15):\n",
    "            if x <= potencias_2_positivas_menos_um[k]:\n",
    "                return k + 1"
   ]
  },
  {
   "cell_type": "markdown",
   "metadata": {
    "id": "tcEQ-buDLzCG"
   },
   "source": [
    "Finalmente, vamos implementar o algoritmo RLE em uma matriz 8x8 de coeficientes DCT quantizados. Essa aqui é apenas uma versão de teste com exibição de mensagens na tela."
   ]
  },
  {
   "cell_type": "code",
   "execution_count": null,
   "metadata": {
    "id": "a-Is_-txMDmA"
   },
   "outputs": [],
   "source": [
    "def RLE8x8(dctq, verbose=False):\n",
    "    if verbose:\n",
    "        print('Aplicação do algoritmo RLE na matriz de DCTs quantizados:')\n",
    "\n",
    "    # transforma a matriz 8x8 de DCTs em um array uni-dimensional de tamanho 64\n",
    "    dctq64 = dctq8x8_to_dctq64(dctq)\n",
    "\n",
    "    # obtém a posição do último elemento não nulo\n",
    "    dctq64_posicao_ultimo_nao_nulo = posicao_ultimo_nao_nulo_array1D(dctq64)\n",
    "    if verbose:\n",
    "        print('\\nPosição do último elemento não nulo, de 0 a 63 ' + \\\n",
    "              '(valor -1 indica que todos são nulos) =', dctq64_posicao_ultimo_nao_nulo)\n",
    "        print()\n",
    "\n",
    "    if dctq64_posicao_ultimo_nao_nulo == -1:\n",
    "        dctq64_posicao_ultimo_nao_nulo = 0\n",
    "\n",
    "    # percorre 'dctq64' até o último elemento não nulo\n",
    "    qtde_zeros = 0\n",
    "    qtde_bits = 0\n",
    "    for k in range(dctq64_posicao_ultimo_nao_nulo + 1):\n",
    "        x = dctq64[k]\n",
    "        if k == 0:  # correspondente à posição dctq[0, 0]\n",
    "            if x == 0:\n",
    "                if verbose:\n",
    "                    print(f'(SIZE) = (0) ===> 4 bits')\n",
    "                qtde_bits += 4\n",
    "            else:\n",
    "                qtde_bits_x = qtde_bits_int16(x)\n",
    "                if verbose:\n",
    "                    print(f'(SIZE) (VALUE) = ({qtde_bits_x}) ({x}) ===> {qtde_bits_x + 5} bits')\n",
    "                qtde_bits += qtde_bits_x + 5\n",
    "            continue\n",
    "        if x == 0:  # dctq64[k] é igual a 0\n",
    "            qtde_zeros += 1\n",
    "            continue\n",
    "        while qtde_zeros > 15:\n",
    "            if verbose:\n",
    "                print('(RUNLENGTH, SIZE) = (15, 0) ===> 8 bits')\n",
    "            qtde_zeros -= 15\n",
    "            qtde_bits += 8\n",
    "        # qtde_zeros é menor ou igual a 15\n",
    "        qtde_bits_x = qtde_bits_int16(x)\n",
    "        if verbose:\n",
    "            print(f'(RUNLENGTH, SIZE) (VALUE) = ({qtde_zeros}, {qtde_bits_x}) ({x}) ' + \\\n",
    "                  f'===> {qtde_bits_x + 9} bits')\n",
    "        qtde_zeros = 0\n",
    "        qtde_bits += qtde_bits_x + 9\n",
    "\n",
    "    if verbose:\n",
    "        print('(RUNLENGTH, SIZE) = EOB = (0, 0) ===> 8 bits')\n",
    "    qtde_bits += 8\n",
    "\n",
    "    # calcula a quantidade de bytes necessários\n",
    "    qtde_bytes = -(-qtde_bits // 8)\n",
    "\n",
    "    if verbose:\n",
    "        print(f'\\nTotal de bits = {qtde_bits} bits.')\n",
    "        print(f'Total de bytes = {qtde_bytes} bytes ({qtde_bytes * 8} bits).')\n",
    "        print('A matriz original 8x8 de pixels monocromáticos sempre ocupa 64 bytes (1 byte/pixel).')\n",
    "        print('Portanto este bloco 8x8 de DCTs codificados com RLE ' + \\\n",
    "              'ocupa {:.1f}% da quantidade de bytes original.'.format(qtde_bytes / 0.64))\n",
    "    return qtde_bytes"
   ]
  },
  {
   "cell_type": "markdown",
   "metadata": {},
   "source": [
    "Testando a função de RLE com uma matriz de DCTs formada apenas por zeros:"
   ]
  },
  {
   "cell_type": "code",
   "execution_count": null,
   "metadata": {},
   "outputs": [],
   "source": [
    "# matriz de DCTs quantizados com todos os elementos iguais a zero\n",
    "dctq = np.zeros((8, 8), 'int16')\n",
    "\n",
    "print('dctq =')\n",
    "print(dctq)\n",
    "print()\n",
    "qtde_bytes = RLE8x8(dctq, verbose=True)"
   ]
  },
  {
   "cell_type": "markdown",
   "metadata": {},
   "source": [
    "Testando a função de RLE com uma matriz de pixels pretos (todos iguais a -128):"
   ]
  },
  {
   "cell_type": "code",
   "execution_count": null,
   "metadata": {},
   "outputs": [],
   "source": [
    "pixels_pretos = -128 * np.ones((8, 8), 'int8')\n",
    "print('pixels_pretos =')\n",
    "print(pixels_pretos)\n",
    "\n",
    "# dct sem quantização (equivalente a quantização com qualidade = 100)\n",
    "qualidade = 100\n",
    "Q = matriz_quantização(qualidade)\n",
    "pixels_pretos_dctq = dct8x8T_quant(pixels_pretos, Q)\n",
    "print('\\npixels_pretos_dctq =')\n",
    "print(pixels_pretos_dctq)\n",
    "print()\n",
    "\n",
    "qtde_bytes = RLE8x8(pixels_pretos_dctq, verbose=True)"
   ]
  },
  {
   "cell_type": "markdown",
   "metadata": {
    "id": "MNEvo9YhS7G1"
   },
   "source": [
    "Testando a função de RLE com um exemplo da Wikipedia:"
   ]
  },
  {
   "cell_type": "code",
   "execution_count": null,
   "metadata": {
    "colab": {
     "base_uri": "https://localhost:8080/"
    },
    "id": "-0UYPBd2TKnz",
    "outputId": "de87987c-d102-4116-92fc-6d4b1502eba0"
   },
   "outputs": [],
   "source": [
    "dctq = np.array( [[-26, -3, -6,  2,  2, -1,  0,  0],\n",
    "                  [  0, -2, -4,  1,  1,  0,  0,  0],\n",
    "                  [ -3,  1,  5, -1, -1,  0,  0,  0],\n",
    "                  [ -3,  1,  2, -1,  0,  0,  0,  0],\n",
    "                  [  1,  0,  0,  0,  0,  0,  0,  0],\n",
    "                  [  0,  0,  0,  0,  0,  0,  0,  0],\n",
    "                  [  0,  0,  0,  0,  0,  0,  0,  0],\n",
    "                  [  0,  0,  0,  0,  0,  0,  0,  0]], 'int16')\n",
    "\n",
    "print('dctq =')\n",
    "print(dctq)\n",
    "print()\n",
    "qtde_bytes = RLE8x8(dctq, verbose=True)"
   ]
  },
  {
   "cell_type": "markdown",
   "metadata": {
    "id": "eokVQM4LW6b0"
   },
   "source": [
    "Testando a função de RLE com algumas matrizes de exemplos anteriores:"
   ]
  },
  {
   "cell_type": "code",
   "execution_count": null,
   "metadata": {
    "colab": {
     "base_uri": "https://localhost:8080/"
    },
    "id": "blrOfyRhXZg5",
    "outputId": "987ae78a-4b2b-47f1-f451-e610fb82a11d"
   },
   "outputs": [],
   "source": [
    "# matriz 8x8 com saltos de -128 a +127 entre pixels vizinhos de uma mesma linha\n",
    "p2 = p2.astype('int8')\n",
    "print('p2 =')\n",
    "print(p2)\n",
    "\n",
    "# dct sem quantização (equivalente a quantização com qualidade = 100)\n",
    "print('\\np2_dct =')\n",
    "print(p2_dct)\n",
    "print()\n",
    "\n",
    "qtde_bytes = RLE8x8(p2_dct, verbose=True)"
   ]
  },
  {
   "cell_type": "code",
   "execution_count": null,
   "metadata": {
    "colab": {
     "base_uri": "https://localhost:8080/"
    },
    "id": "bOSskijJY_Gv",
    "outputId": "7f1b473f-1b54-47b2-a54d-e6abc977cd1e"
   },
   "outputs": [],
   "source": [
    "# matriz 8x8 com saltos de -128 a +127 entre pixels vizinhos de uma mesma coluna\n",
    "# p3 = p2.transpose()\n",
    "p3 = p3.astype('int8')\n",
    "print('p3 =')\n",
    "print(p3)\n",
    "\n",
    "# dct sem quantização (equivalente a quantização com qualidade = 100)\n",
    "print('\\np3_dct =')\n",
    "print(p3_dct)\n",
    "print()\n",
    "\n",
    "qtde_bytes = RLE8x8(p3_dct, verbose=True)"
   ]
  },
  {
   "cell_type": "code",
   "execution_count": null,
   "metadata": {
    "colab": {
     "base_uri": "https://localhost:8080/"
    },
    "id": "jBwudaHXcX8f",
    "outputId": "ad0563de-9981-4051-9b74-7fffbe50b899"
   },
   "outputs": [],
   "source": [
    "print('Ruído aleatório 8x8 no intervalo de -32 a +31, acrescido da constante 50:')\n",
    "print('\\np1_suavizada.dtype =', p1_suavizada.dtype)\n",
    "print('p1_suavizada =')\n",
    "print(p1_suavizada)\n",
    "\n",
    "qualidade = 50\n",
    "Q = matriz_quantização(qualidade)\n",
    "p1_suavizada_dctq = dct8x8T_quant(p1_suavizada, Q)\n",
    "\n",
    "print(f'\\nAplicando DCT e em seguida quantização com qualidade = {qualidade}:')\n",
    "print('\\np1_suavizada_dctq =')\n",
    "print(p1_suavizada_dctq)\n",
    "print()\n",
    "qtde_bytes = RLE8x8(p1_suavizada_dctq, verbose=True)"
   ]
  },
  {
   "cell_type": "markdown",
   "metadata": {
    "id": "6SlmtihdlAbg"
   },
   "source": [
    "Vamos agora implementar duas funções: a primeira recebe uma imagem completa (com valores de 0 a 255) e retorna os seus coeficientes DCT quantizados, a outra função faz a operação inversa. Assim testaremos o algoritmo de DCT com quantização em uma imagem real completa, não apenas em um bloco 8x8 de pixels.\n",
    "\n",
    "Vamos também calcular quantos bytes \"seriam\" usados se armazenássemos os coeficientes DCT quantizados com RLE (note que não estamos de fato armazenando os DCTs usando RLE, isso não foi implementado no código)."
   ]
  },
  {
   "cell_type": "code",
   "execution_count": null,
   "metadata": {
    "id": "V7YNyWIVlCuH"
   },
   "outputs": [],
   "source": [
    "def img_dct8x8T_quant(img, qualidade):\n",
    "    # converte 'img' de uint8 (0 a 255) para int8 (-128 a +127)\n",
    "    img = (img.astype('int16') - 128).astype('int8')\n",
    "    Q = matriz_quantização(qualidade)\n",
    "    qtde_linhas  = int(img.shape[0] / 8)\n",
    "    qtde_colunas = int(img.shape[1] / 8)\n",
    "    qtde_bytes = 0\n",
    "    if img.ndim == 2:\n",
    "        img_dctq = np.zeros((8 * qtde_linhas, 8 * qtde_colunas), 'int16')\n",
    "        for i in range(qtde_linhas):\n",
    "            for j in range(qtde_colunas):\n",
    "                dctq8x8 = dct8x8T_quant(img[8*i:8*(i+1), 8*j:8*(j+1)], Q)\n",
    "                qtde_bytes += RLE8x8(dctq8x8)\n",
    "                img_dctq[8*i:8*(i+1), 8*j:8*(j+1)] = dctq8x8\n",
    "    else:\n",
    "        img_dctq = np.zeros((8 * qtde_linhas, 8 * qtde_colunas, img.shape[2]), 'int16')\n",
    "        for i in range(qtde_linhas):\n",
    "            for j in range(qtde_colunas):\n",
    "                for k in range(img.shape[2]):\n",
    "                    dctq8x8 = dct8x8T_quant(img[8*i:8*(i+1), 8*j:8*(j+1), k], Q)\n",
    "                    qtde_bytes += RLE8x8(dctq8x8)\n",
    "                    img_dctq[8*i:8*(i+1), 8*j:8*(j+1), k] = dctq8x8\n",
    "    return img_dctq, qtde_bytes\n",
    "\n",
    "def img_idct8x8T_quant(img_dctq, qualidade):\n",
    "    Q = matriz_quantização(qualidade)\n",
    "    qtde_linhas  = int(img_dctq.shape[0] / 8)\n",
    "    qtde_colunas = int(img_dctq.shape[1] / 8)\n",
    "    if img_dctq.ndim == 2:\n",
    "        img = np.zeros((8 * qtde_linhas, 8 * qtde_colunas), 'int8')\n",
    "        for i in range(qtde_linhas):\n",
    "            for j in range(qtde_colunas):\n",
    "                img8x8 = idct8x8T_quant(img_dctq[8*i:8*(i+1), 8*j:8*(j+1)], Q)\n",
    "                img[8*i:8*(i+1), 8*j:8*(j+1)] = img8x8\n",
    "    else:\n",
    "        img = np.zeros((8 * qtde_linhas, 8 * qtde_colunas, img_dctq.shape[2]), 'int8')\n",
    "        for i in range(qtde_linhas):\n",
    "            for j in range(qtde_colunas):\n",
    "                for k in range(img_dctq.shape[2]):\n",
    "                    img8x8 = idct8x8T_quant(img_dctq[8*i:8*(i+1), 8*j:8*(j+1), k], Q)\n",
    "                    img[8*i:8*(i+1), 8*j:8*(j+1), k] = img8x8\n",
    "    # converte 'img' de int8 (-128 a +127) para uint8 (0 a 255)\n",
    "    img = (img.astype('int16') + 128).astype('uint8')\n",
    "    return img"
   ]
  },
  {
   "cell_type": "markdown",
   "metadata": {
    "id": "KOQKr-aKtcHF"
   },
   "source": [
    "Vamos testar as funções acima."
   ]
  },
  {
   "cell_type": "code",
   "execution_count": null,
   "metadata": {},
   "outputs": [],
   "source": [
    "# função de teste com uma imagem\n",
    "def teste_img(img):\n",
    "    if img.ndim > 2:\n",
    "        if img.shape[2] > 3:\n",
    "            print('Imagem não permitida: provavelmente ela possui um canal alpha.')\n",
    "            return\n",
    "    qtde_bytes_sem_compressao = 1\n",
    "    for k in range(img.ndim):\n",
    "        qtde_bytes_sem_compressao *= img.shape[k]\n",
    "    qtde_Kbytes_sem_compressao = qtde_bytes_sem_compressao  / 1000.0\n",
    "    qtde_Gbytes_sem_compressao = qtde_Kbytes_sem_compressao / 1000.0\n",
    "\n",
    "    print('Imagem original:')\n",
    "    print('img.shape =', img.shape)\n",
    "    print(f'Quantidade de bytes sem compressão = {qtde_Kbytes_sem_compressao:.1f} KB = ' + \\\n",
    "          f'{qtde_Gbytes_sem_compressao:.3f} GB')\n",
    "    display(Image.fromarray(img))\n",
    "\n",
    "    qualidades = [1, 10, 30, 50, 70, 90, 100]\n",
    "    for qualidade in qualidades:\n",
    "        img_dctq, qtde_bytes = img_dct8x8T_quant(img, qualidade)\n",
    "        img_dctq_idctq = img_idct8x8T_quant(img_dctq, qualidade)\n",
    "        qtde_Kbytes = qtde_bytes  / 1000.0\n",
    "        qtde_Gbytes = qtde_Kbytes / 1000.0\n",
    "        qtde_percentual_bytes = qtde_bytes * 100.0 / qtde_bytes_sem_compressao\n",
    "        print(f'\\n\\nImagem com DCT e quantização com qualidade = {qualidade}:')\n",
    "        print(f'Quantidade de bytes = {qtde_Kbytes:.1f} KB = {qtde_Gbytes:.3f} GB = ' + \\\n",
    "              f'{qtde_percentual_bytes:.1f}% da quantidade original de bytes sem compressão.')\n",
    "        # comparamos o resultado com img\n",
    "        print('Máximo erro absoluto entre os pixels de img e de img_dctq_idctq =', \\\n",
    "              abs(img_dctq_idctq.astype('int16') - img.astype('int16')).max())\n",
    "        display(Image.fromarray(img_dctq_idctq))"
   ]
  },
  {
   "cell_type": "code",
   "execution_count": null,
   "metadata": {
    "colab": {
     "base_uri": "https://localhost:8080/"
    },
    "id": "fEOe7dvhuAG9",
    "outputId": "298d2759-1055-4681-da48-3ba3959ebd7d"
   },
   "outputs": [],
   "source": [
    "# clona o github da disciplina EA979 da professora Paula Costa para acesso a imagens\n",
    "!git clone https://github.com/pdpcosta/teaching-ea979.git"
   ]
  },
  {
   "cell_type": "code",
   "execution_count": null,
   "metadata": {
    "colab": {
     "base_uri": "https://localhost:8080/",
     "height": 1000
    },
    "id": "Nq1_XBMu3hdY",
    "outputId": "e3da2277-c721-4162-d197-e0d452eabaa3"
   },
   "outputs": [],
   "source": [
    "img1 = np.asarray(Image.open('./teaching-ea979/images/flower.pgm'))\n",
    "teste_img(img1)"
   ]
  },
  {
   "cell_type": "code",
   "execution_count": null,
   "metadata": {
    "colab": {
     "base_uri": "https://localhost:8080/",
     "height": 1000
    },
    "id": "zg3z7aNq0la3",
    "outputId": "6801186b-25e0-4ef2-e787-684330495864"
   },
   "outputs": [],
   "source": [
    "img2 = np.asarray(Image.open('./teaching-ea979/images/orquideafeec-calua.jpeg'))\n",
    "teste_img(img2)"
   ]
  },
  {
   "cell_type": "code",
   "execution_count": null,
   "metadata": {},
   "outputs": [],
   "source": [
    "# clona o github deste projeto para acesso a imagens\n",
    "!git clone https://github.com/brfernandobr/DCT-Image-Compression.git"
   ]
  },
  {
   "cell_type": "code",
   "execution_count": null,
   "metadata": {},
   "outputs": [],
   "source": [
    "img3 = np.asarray(Image.open('./DCT-Image-Compression/imagens/Hulk.png'))\n",
    "teste_img(img3)"
   ]
  },
  {
   "cell_type": "code",
   "execution_count": null,
   "metadata": {},
   "outputs": [],
   "source": [
    "img4 = np.asarray(Image.open('./DCT-Image-Compression/imagens/Captain America.png'))\n",
    "teste_img(img4)"
   ]
  }
 ],
 "metadata": {
  "colab": {
   "collapsed_sections": [],
   "name": "EA979_Projeto_Final.ipynb",
   "provenance": []
  },
  "kernelspec": {
   "display_name": "Python 3 (ipykernel)",
   "language": "python",
   "name": "python3"
  },
  "language_info": {
   "codemirror_mode": {
    "name": "ipython",
    "version": 3
   },
   "file_extension": ".py",
   "mimetype": "text/x-python",
   "name": "python",
   "nbconvert_exporter": "python",
   "pygments_lexer": "ipython3",
   "version": "3.9.12"
  }
 },
 "nbformat": 4,
 "nbformat_minor": 1
}
